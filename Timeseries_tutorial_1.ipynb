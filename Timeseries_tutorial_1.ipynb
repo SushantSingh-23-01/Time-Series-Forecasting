{
  "cells": [
    {
      "cell_type": "markdown",
      "metadata": {
        "id": "yUgtHofyMxKo"
      },
      "source": [
        "# 0.0 Importing Essentials"
      ]
    },
    {
      "cell_type": "code",
      "execution_count": 1,
      "metadata": {
        "id": "PJ1WSgeLMxKp"
      },
      "outputs": [],
      "source": [
        "import torch\n",
        "import torch.nn as nn\n",
        "import torch.nn.functional as F\n",
        "from torch.utils.data import Dataset, DataLoader, random_split\n",
        "import numpy as np\n",
        "import pandas as pd\n",
        "import matplotlib.pyplot as plt\n",
        "from tqdm.auto import tqdm\n",
        "import seaborn as sns\n",
        "plt.style.use('ggplot')\n",
        "device = torch.device('cuda' if torch.cuda.is_available() else 'cpu')"
      ]
    },
    {
      "cell_type": "markdown",
      "metadata": {
        "id": "aLuJqlEPMxKq"
      },
      "source": [
        "# 1.0 Exploring Data"
      ]
    },
    {
      "cell_type": "code",
      "execution_count": 2,
      "metadata": {
        "colab": {
          "base_uri": "https://localhost:8080/",
          "height": 310
        },
        "id": "kBexJbgfMxKq",
        "outputId": "6a5e45ca-52f6-4d6e-ba23-7b88baaf6881"
      },
      "outputs": [
        {
          "output_type": "execute_result",
          "data": {
            "text/plain": [
              "             Date Time  p (mbar)  T (degC)  Tpot (K)  Tdew (degC)  rh (%)  \\\n",
              "0  01.01.2009 00:10:00    996.52     -8.02    265.40        -8.90    93.3   \n",
              "1  01.01.2009 00:20:00    996.57     -8.41    265.01        -9.28    93.4   \n",
              "2  01.01.2009 00:30:00    996.53     -8.51    264.91        -9.31    93.9   \n",
              "3  01.01.2009 00:40:00    996.51     -8.31    265.12        -9.07    94.2   \n",
              "4  01.01.2009 00:50:00    996.51     -8.27    265.15        -9.04    94.1   \n",
              "\n",
              "   VPmax (mbar)  VPact (mbar)  VPdef (mbar)  sh (g/kg)  H2OC (mmol/mol)  \\\n",
              "0          3.33          3.11          0.22       1.94             3.12   \n",
              "1          3.23          3.02          0.21       1.89             3.03   \n",
              "2          3.21          3.01          0.20       1.88             3.02   \n",
              "3          3.26          3.07          0.19       1.92             3.08   \n",
              "4          3.27          3.08          0.19       1.92             3.09   \n",
              "\n",
              "   rho (g/m**3)  wv (m/s)  max. wv (m/s)  wd (deg)  \n",
              "0       1307.75      1.03           1.75     152.3  \n",
              "1       1309.80      0.72           1.50     136.1  \n",
              "2       1310.24      0.19           0.63     171.6  \n",
              "3       1309.19      0.34           0.50     198.0  \n",
              "4       1309.00      0.32           0.63     214.3  "
            ],
            "text/html": [
              "\n",
              "  <div id=\"df-bd09b76c-40f6-459c-be35-ac3f5f55238f\" class=\"colab-df-container\">\n",
              "    <div>\n",
              "<style scoped>\n",
              "    .dataframe tbody tr th:only-of-type {\n",
              "        vertical-align: middle;\n",
              "    }\n",
              "\n",
              "    .dataframe tbody tr th {\n",
              "        vertical-align: top;\n",
              "    }\n",
              "\n",
              "    .dataframe thead th {\n",
              "        text-align: right;\n",
              "    }\n",
              "</style>\n",
              "<table border=\"1\" class=\"dataframe\">\n",
              "  <thead>\n",
              "    <tr style=\"text-align: right;\">\n",
              "      <th></th>\n",
              "      <th>Date Time</th>\n",
              "      <th>p (mbar)</th>\n",
              "      <th>T (degC)</th>\n",
              "      <th>Tpot (K)</th>\n",
              "      <th>Tdew (degC)</th>\n",
              "      <th>rh (%)</th>\n",
              "      <th>VPmax (mbar)</th>\n",
              "      <th>VPact (mbar)</th>\n",
              "      <th>VPdef (mbar)</th>\n",
              "      <th>sh (g/kg)</th>\n",
              "      <th>H2OC (mmol/mol)</th>\n",
              "      <th>rho (g/m**3)</th>\n",
              "      <th>wv (m/s)</th>\n",
              "      <th>max. wv (m/s)</th>\n",
              "      <th>wd (deg)</th>\n",
              "    </tr>\n",
              "  </thead>\n",
              "  <tbody>\n",
              "    <tr>\n",
              "      <th>0</th>\n",
              "      <td>01.01.2009 00:10:00</td>\n",
              "      <td>996.52</td>\n",
              "      <td>-8.02</td>\n",
              "      <td>265.40</td>\n",
              "      <td>-8.90</td>\n",
              "      <td>93.3</td>\n",
              "      <td>3.33</td>\n",
              "      <td>3.11</td>\n",
              "      <td>0.22</td>\n",
              "      <td>1.94</td>\n",
              "      <td>3.12</td>\n",
              "      <td>1307.75</td>\n",
              "      <td>1.03</td>\n",
              "      <td>1.75</td>\n",
              "      <td>152.3</td>\n",
              "    </tr>\n",
              "    <tr>\n",
              "      <th>1</th>\n",
              "      <td>01.01.2009 00:20:00</td>\n",
              "      <td>996.57</td>\n",
              "      <td>-8.41</td>\n",
              "      <td>265.01</td>\n",
              "      <td>-9.28</td>\n",
              "      <td>93.4</td>\n",
              "      <td>3.23</td>\n",
              "      <td>3.02</td>\n",
              "      <td>0.21</td>\n",
              "      <td>1.89</td>\n",
              "      <td>3.03</td>\n",
              "      <td>1309.80</td>\n",
              "      <td>0.72</td>\n",
              "      <td>1.50</td>\n",
              "      <td>136.1</td>\n",
              "    </tr>\n",
              "    <tr>\n",
              "      <th>2</th>\n",
              "      <td>01.01.2009 00:30:00</td>\n",
              "      <td>996.53</td>\n",
              "      <td>-8.51</td>\n",
              "      <td>264.91</td>\n",
              "      <td>-9.31</td>\n",
              "      <td>93.9</td>\n",
              "      <td>3.21</td>\n",
              "      <td>3.01</td>\n",
              "      <td>0.20</td>\n",
              "      <td>1.88</td>\n",
              "      <td>3.02</td>\n",
              "      <td>1310.24</td>\n",
              "      <td>0.19</td>\n",
              "      <td>0.63</td>\n",
              "      <td>171.6</td>\n",
              "    </tr>\n",
              "    <tr>\n",
              "      <th>3</th>\n",
              "      <td>01.01.2009 00:40:00</td>\n",
              "      <td>996.51</td>\n",
              "      <td>-8.31</td>\n",
              "      <td>265.12</td>\n",
              "      <td>-9.07</td>\n",
              "      <td>94.2</td>\n",
              "      <td>3.26</td>\n",
              "      <td>3.07</td>\n",
              "      <td>0.19</td>\n",
              "      <td>1.92</td>\n",
              "      <td>3.08</td>\n",
              "      <td>1309.19</td>\n",
              "      <td>0.34</td>\n",
              "      <td>0.50</td>\n",
              "      <td>198.0</td>\n",
              "    </tr>\n",
              "    <tr>\n",
              "      <th>4</th>\n",
              "      <td>01.01.2009 00:50:00</td>\n",
              "      <td>996.51</td>\n",
              "      <td>-8.27</td>\n",
              "      <td>265.15</td>\n",
              "      <td>-9.04</td>\n",
              "      <td>94.1</td>\n",
              "      <td>3.27</td>\n",
              "      <td>3.08</td>\n",
              "      <td>0.19</td>\n",
              "      <td>1.92</td>\n",
              "      <td>3.09</td>\n",
              "      <td>1309.00</td>\n",
              "      <td>0.32</td>\n",
              "      <td>0.63</td>\n",
              "      <td>214.3</td>\n",
              "    </tr>\n",
              "  </tbody>\n",
              "</table>\n",
              "</div>\n",
              "    <div class=\"colab-df-buttons\">\n",
              "\n",
              "  <div class=\"colab-df-container\">\n",
              "    <button class=\"colab-df-convert\" onclick=\"convertToInteractive('df-bd09b76c-40f6-459c-be35-ac3f5f55238f')\"\n",
              "            title=\"Convert this dataframe to an interactive table.\"\n",
              "            style=\"display:none;\">\n",
              "\n",
              "  <svg xmlns=\"http://www.w3.org/2000/svg\" height=\"24px\" viewBox=\"0 -960 960 960\">\n",
              "    <path d=\"M120-120v-720h720v720H120Zm60-500h600v-160H180v160Zm220 220h160v-160H400v160Zm0 220h160v-160H400v160ZM180-400h160v-160H180v160Zm440 0h160v-160H620v160ZM180-180h160v-160H180v160Zm440 0h160v-160H620v160Z\"/>\n",
              "  </svg>\n",
              "    </button>\n",
              "\n",
              "  <style>\n",
              "    .colab-df-container {\n",
              "      display:flex;\n",
              "      gap: 12px;\n",
              "    }\n",
              "\n",
              "    .colab-df-convert {\n",
              "      background-color: #E8F0FE;\n",
              "      border: none;\n",
              "      border-radius: 50%;\n",
              "      cursor: pointer;\n",
              "      display: none;\n",
              "      fill: #1967D2;\n",
              "      height: 32px;\n",
              "      padding: 0 0 0 0;\n",
              "      width: 32px;\n",
              "    }\n",
              "\n",
              "    .colab-df-convert:hover {\n",
              "      background-color: #E2EBFA;\n",
              "      box-shadow: 0px 1px 2px rgba(60, 64, 67, 0.3), 0px 1px 3px 1px rgba(60, 64, 67, 0.15);\n",
              "      fill: #174EA6;\n",
              "    }\n",
              "\n",
              "    .colab-df-buttons div {\n",
              "      margin-bottom: 4px;\n",
              "    }\n",
              "\n",
              "    [theme=dark] .colab-df-convert {\n",
              "      background-color: #3B4455;\n",
              "      fill: #D2E3FC;\n",
              "    }\n",
              "\n",
              "    [theme=dark] .colab-df-convert:hover {\n",
              "      background-color: #434B5C;\n",
              "      box-shadow: 0px 1px 3px 1px rgba(0, 0, 0, 0.15);\n",
              "      filter: drop-shadow(0px 1px 2px rgba(0, 0, 0, 0.3));\n",
              "      fill: #FFFFFF;\n",
              "    }\n",
              "  </style>\n",
              "\n",
              "    <script>\n",
              "      const buttonEl =\n",
              "        document.querySelector('#df-bd09b76c-40f6-459c-be35-ac3f5f55238f button.colab-df-convert');\n",
              "      buttonEl.style.display =\n",
              "        google.colab.kernel.accessAllowed ? 'block' : 'none';\n",
              "\n",
              "      async function convertToInteractive(key) {\n",
              "        const element = document.querySelector('#df-bd09b76c-40f6-459c-be35-ac3f5f55238f');\n",
              "        const dataTable =\n",
              "          await google.colab.kernel.invokeFunction('convertToInteractive',\n",
              "                                                    [key], {});\n",
              "        if (!dataTable) return;\n",
              "\n",
              "        const docLinkHtml = 'Like what you see? Visit the ' +\n",
              "          '<a target=\"_blank\" href=https://colab.research.google.com/notebooks/data_table.ipynb>data table notebook</a>'\n",
              "          + ' to learn more about interactive tables.';\n",
              "        element.innerHTML = '';\n",
              "        dataTable['output_type'] = 'display_data';\n",
              "        await google.colab.output.renderOutput(dataTable, element);\n",
              "        const docLink = document.createElement('div');\n",
              "        docLink.innerHTML = docLinkHtml;\n",
              "        element.appendChild(docLink);\n",
              "      }\n",
              "    </script>\n",
              "  </div>\n",
              "\n",
              "\n",
              "<div id=\"df-8e38704e-3297-4567-8fa2-58c43afc0df3\">\n",
              "  <button class=\"colab-df-quickchart\" onclick=\"quickchart('df-8e38704e-3297-4567-8fa2-58c43afc0df3')\"\n",
              "            title=\"Suggest charts\"\n",
              "            style=\"display:none;\">\n",
              "\n",
              "<svg xmlns=\"http://www.w3.org/2000/svg\" height=\"24px\"viewBox=\"0 0 24 24\"\n",
              "     width=\"24px\">\n",
              "    <g>\n",
              "        <path d=\"M19 3H5c-1.1 0-2 .9-2 2v14c0 1.1.9 2 2 2h14c1.1 0 2-.9 2-2V5c0-1.1-.9-2-2-2zM9 17H7v-7h2v7zm4 0h-2V7h2v10zm4 0h-2v-4h2v4z\"/>\n",
              "    </g>\n",
              "</svg>\n",
              "  </button>\n",
              "\n",
              "<style>\n",
              "  .colab-df-quickchart {\n",
              "      --bg-color: #E8F0FE;\n",
              "      --fill-color: #1967D2;\n",
              "      --hover-bg-color: #E2EBFA;\n",
              "      --hover-fill-color: #174EA6;\n",
              "      --disabled-fill-color: #AAA;\n",
              "      --disabled-bg-color: #DDD;\n",
              "  }\n",
              "\n",
              "  [theme=dark] .colab-df-quickchart {\n",
              "      --bg-color: #3B4455;\n",
              "      --fill-color: #D2E3FC;\n",
              "      --hover-bg-color: #434B5C;\n",
              "      --hover-fill-color: #FFFFFF;\n",
              "      --disabled-bg-color: #3B4455;\n",
              "      --disabled-fill-color: #666;\n",
              "  }\n",
              "\n",
              "  .colab-df-quickchart {\n",
              "    background-color: var(--bg-color);\n",
              "    border: none;\n",
              "    border-radius: 50%;\n",
              "    cursor: pointer;\n",
              "    display: none;\n",
              "    fill: var(--fill-color);\n",
              "    height: 32px;\n",
              "    padding: 0;\n",
              "    width: 32px;\n",
              "  }\n",
              "\n",
              "  .colab-df-quickchart:hover {\n",
              "    background-color: var(--hover-bg-color);\n",
              "    box-shadow: 0 1px 2px rgba(60, 64, 67, 0.3), 0 1px 3px 1px rgba(60, 64, 67, 0.15);\n",
              "    fill: var(--button-hover-fill-color);\n",
              "  }\n",
              "\n",
              "  .colab-df-quickchart-complete:disabled,\n",
              "  .colab-df-quickchart-complete:disabled:hover {\n",
              "    background-color: var(--disabled-bg-color);\n",
              "    fill: var(--disabled-fill-color);\n",
              "    box-shadow: none;\n",
              "  }\n",
              "\n",
              "  .colab-df-spinner {\n",
              "    border: 2px solid var(--fill-color);\n",
              "    border-color: transparent;\n",
              "    border-bottom-color: var(--fill-color);\n",
              "    animation:\n",
              "      spin 1s steps(1) infinite;\n",
              "  }\n",
              "\n",
              "  @keyframes spin {\n",
              "    0% {\n",
              "      border-color: transparent;\n",
              "      border-bottom-color: var(--fill-color);\n",
              "      border-left-color: var(--fill-color);\n",
              "    }\n",
              "    20% {\n",
              "      border-color: transparent;\n",
              "      border-left-color: var(--fill-color);\n",
              "      border-top-color: var(--fill-color);\n",
              "    }\n",
              "    30% {\n",
              "      border-color: transparent;\n",
              "      border-left-color: var(--fill-color);\n",
              "      border-top-color: var(--fill-color);\n",
              "      border-right-color: var(--fill-color);\n",
              "    }\n",
              "    40% {\n",
              "      border-color: transparent;\n",
              "      border-right-color: var(--fill-color);\n",
              "      border-top-color: var(--fill-color);\n",
              "    }\n",
              "    60% {\n",
              "      border-color: transparent;\n",
              "      border-right-color: var(--fill-color);\n",
              "    }\n",
              "    80% {\n",
              "      border-color: transparent;\n",
              "      border-right-color: var(--fill-color);\n",
              "      border-bottom-color: var(--fill-color);\n",
              "    }\n",
              "    90% {\n",
              "      border-color: transparent;\n",
              "      border-bottom-color: var(--fill-color);\n",
              "    }\n",
              "  }\n",
              "</style>\n",
              "\n",
              "  <script>\n",
              "    async function quickchart(key) {\n",
              "      const quickchartButtonEl =\n",
              "        document.querySelector('#' + key + ' button');\n",
              "      quickchartButtonEl.disabled = true;  // To prevent multiple clicks.\n",
              "      quickchartButtonEl.classList.add('colab-df-spinner');\n",
              "      try {\n",
              "        const charts = await google.colab.kernel.invokeFunction(\n",
              "            'suggestCharts', [key], {});\n",
              "      } catch (error) {\n",
              "        console.error('Error during call to suggestCharts:', error);\n",
              "      }\n",
              "      quickchartButtonEl.classList.remove('colab-df-spinner');\n",
              "      quickchartButtonEl.classList.add('colab-df-quickchart-complete');\n",
              "    }\n",
              "    (() => {\n",
              "      let quickchartButtonEl =\n",
              "        document.querySelector('#df-8e38704e-3297-4567-8fa2-58c43afc0df3 button');\n",
              "      quickchartButtonEl.style.display =\n",
              "        google.colab.kernel.accessAllowed ? 'block' : 'none';\n",
              "    })();\n",
              "  </script>\n",
              "</div>\n",
              "\n",
              "    </div>\n",
              "  </div>\n"
            ],
            "application/vnd.google.colaboratory.intrinsic+json": {
              "type": "dataframe",
              "variable_name": "df"
            }
          },
          "metadata": {},
          "execution_count": 2
        }
      ],
      "source": [
        "df = pd.read_csv(r'/content/jena_climate_2009_2016.csv')\n",
        "df.head()"
      ]
    },
    {
      "cell_type": "code",
      "execution_count": 3,
      "metadata": {
        "colab": {
          "base_uri": "https://localhost:8080/",
          "height": 341
        },
        "id": "YJQKuNXiMxKq",
        "outputId": "9ab75a72-e37f-4edd-e91c-480fa199da29"
      },
      "outputs": [
        {
          "output_type": "execute_result",
          "data": {
            "text/plain": [
              "                     p (mbar)  T (degC)  Tpot (K)  Tdew (degC)  rh (%)  \\\n",
              "Date Time                                                                \n",
              "2009-01-01 00:10:00    996.52     -8.02    265.40        -8.90    93.3   \n",
              "2009-01-01 00:20:00    996.57     -8.41    265.01        -9.28    93.4   \n",
              "2009-01-01 00:30:00    996.53     -8.51    264.91        -9.31    93.9   \n",
              "2009-01-01 00:40:00    996.51     -8.31    265.12        -9.07    94.2   \n",
              "2009-01-01 00:50:00    996.51     -8.27    265.15        -9.04    94.1   \n",
              "\n",
              "                     VPmax (mbar)  VPact (mbar)  VPdef (mbar)  sh (g/kg)  \\\n",
              "Date Time                                                                  \n",
              "2009-01-01 00:10:00          3.33          3.11          0.22       1.94   \n",
              "2009-01-01 00:20:00          3.23          3.02          0.21       1.89   \n",
              "2009-01-01 00:30:00          3.21          3.01          0.20       1.88   \n",
              "2009-01-01 00:40:00          3.26          3.07          0.19       1.92   \n",
              "2009-01-01 00:50:00          3.27          3.08          0.19       1.92   \n",
              "\n",
              "                     H2OC (mmol/mol)  rho (g/m**3)  wv (m/s)  max. wv (m/s)  \\\n",
              "Date Time                                                                     \n",
              "2009-01-01 00:10:00             3.12       1307.75      1.03           1.75   \n",
              "2009-01-01 00:20:00             3.03       1309.80      0.72           1.50   \n",
              "2009-01-01 00:30:00             3.02       1310.24      0.19           0.63   \n",
              "2009-01-01 00:40:00             3.08       1309.19      0.34           0.50   \n",
              "2009-01-01 00:50:00             3.09       1309.00      0.32           0.63   \n",
              "\n",
              "                     wd (deg)  \n",
              "Date Time                      \n",
              "2009-01-01 00:10:00     152.3  \n",
              "2009-01-01 00:20:00     136.1  \n",
              "2009-01-01 00:30:00     171.6  \n",
              "2009-01-01 00:40:00     198.0  \n",
              "2009-01-01 00:50:00     214.3  "
            ],
            "text/html": [
              "\n",
              "  <div id=\"df-354ba3c6-59b8-4cae-81ce-86275d37f0cf\" class=\"colab-df-container\">\n",
              "    <div>\n",
              "<style scoped>\n",
              "    .dataframe tbody tr th:only-of-type {\n",
              "        vertical-align: middle;\n",
              "    }\n",
              "\n",
              "    .dataframe tbody tr th {\n",
              "        vertical-align: top;\n",
              "    }\n",
              "\n",
              "    .dataframe thead th {\n",
              "        text-align: right;\n",
              "    }\n",
              "</style>\n",
              "<table border=\"1\" class=\"dataframe\">\n",
              "  <thead>\n",
              "    <tr style=\"text-align: right;\">\n",
              "      <th></th>\n",
              "      <th>p (mbar)</th>\n",
              "      <th>T (degC)</th>\n",
              "      <th>Tpot (K)</th>\n",
              "      <th>Tdew (degC)</th>\n",
              "      <th>rh (%)</th>\n",
              "      <th>VPmax (mbar)</th>\n",
              "      <th>VPact (mbar)</th>\n",
              "      <th>VPdef (mbar)</th>\n",
              "      <th>sh (g/kg)</th>\n",
              "      <th>H2OC (mmol/mol)</th>\n",
              "      <th>rho (g/m**3)</th>\n",
              "      <th>wv (m/s)</th>\n",
              "      <th>max. wv (m/s)</th>\n",
              "      <th>wd (deg)</th>\n",
              "    </tr>\n",
              "    <tr>\n",
              "      <th>Date Time</th>\n",
              "      <th></th>\n",
              "      <th></th>\n",
              "      <th></th>\n",
              "      <th></th>\n",
              "      <th></th>\n",
              "      <th></th>\n",
              "      <th></th>\n",
              "      <th></th>\n",
              "      <th></th>\n",
              "      <th></th>\n",
              "      <th></th>\n",
              "      <th></th>\n",
              "      <th></th>\n",
              "      <th></th>\n",
              "    </tr>\n",
              "  </thead>\n",
              "  <tbody>\n",
              "    <tr>\n",
              "      <th>2009-01-01 00:10:00</th>\n",
              "      <td>996.52</td>\n",
              "      <td>-8.02</td>\n",
              "      <td>265.40</td>\n",
              "      <td>-8.90</td>\n",
              "      <td>93.3</td>\n",
              "      <td>3.33</td>\n",
              "      <td>3.11</td>\n",
              "      <td>0.22</td>\n",
              "      <td>1.94</td>\n",
              "      <td>3.12</td>\n",
              "      <td>1307.75</td>\n",
              "      <td>1.03</td>\n",
              "      <td>1.75</td>\n",
              "      <td>152.3</td>\n",
              "    </tr>\n",
              "    <tr>\n",
              "      <th>2009-01-01 00:20:00</th>\n",
              "      <td>996.57</td>\n",
              "      <td>-8.41</td>\n",
              "      <td>265.01</td>\n",
              "      <td>-9.28</td>\n",
              "      <td>93.4</td>\n",
              "      <td>3.23</td>\n",
              "      <td>3.02</td>\n",
              "      <td>0.21</td>\n",
              "      <td>1.89</td>\n",
              "      <td>3.03</td>\n",
              "      <td>1309.80</td>\n",
              "      <td>0.72</td>\n",
              "      <td>1.50</td>\n",
              "      <td>136.1</td>\n",
              "    </tr>\n",
              "    <tr>\n",
              "      <th>2009-01-01 00:30:00</th>\n",
              "      <td>996.53</td>\n",
              "      <td>-8.51</td>\n",
              "      <td>264.91</td>\n",
              "      <td>-9.31</td>\n",
              "      <td>93.9</td>\n",
              "      <td>3.21</td>\n",
              "      <td>3.01</td>\n",
              "      <td>0.20</td>\n",
              "      <td>1.88</td>\n",
              "      <td>3.02</td>\n",
              "      <td>1310.24</td>\n",
              "      <td>0.19</td>\n",
              "      <td>0.63</td>\n",
              "      <td>171.6</td>\n",
              "    </tr>\n",
              "    <tr>\n",
              "      <th>2009-01-01 00:40:00</th>\n",
              "      <td>996.51</td>\n",
              "      <td>-8.31</td>\n",
              "      <td>265.12</td>\n",
              "      <td>-9.07</td>\n",
              "      <td>94.2</td>\n",
              "      <td>3.26</td>\n",
              "      <td>3.07</td>\n",
              "      <td>0.19</td>\n",
              "      <td>1.92</td>\n",
              "      <td>3.08</td>\n",
              "      <td>1309.19</td>\n",
              "      <td>0.34</td>\n",
              "      <td>0.50</td>\n",
              "      <td>198.0</td>\n",
              "    </tr>\n",
              "    <tr>\n",
              "      <th>2009-01-01 00:50:00</th>\n",
              "      <td>996.51</td>\n",
              "      <td>-8.27</td>\n",
              "      <td>265.15</td>\n",
              "      <td>-9.04</td>\n",
              "      <td>94.1</td>\n",
              "      <td>3.27</td>\n",
              "      <td>3.08</td>\n",
              "      <td>0.19</td>\n",
              "      <td>1.92</td>\n",
              "      <td>3.09</td>\n",
              "      <td>1309.00</td>\n",
              "      <td>0.32</td>\n",
              "      <td>0.63</td>\n",
              "      <td>214.3</td>\n",
              "    </tr>\n",
              "  </tbody>\n",
              "</table>\n",
              "</div>\n",
              "    <div class=\"colab-df-buttons\">\n",
              "\n",
              "  <div class=\"colab-df-container\">\n",
              "    <button class=\"colab-df-convert\" onclick=\"convertToInteractive('df-354ba3c6-59b8-4cae-81ce-86275d37f0cf')\"\n",
              "            title=\"Convert this dataframe to an interactive table.\"\n",
              "            style=\"display:none;\">\n",
              "\n",
              "  <svg xmlns=\"http://www.w3.org/2000/svg\" height=\"24px\" viewBox=\"0 -960 960 960\">\n",
              "    <path d=\"M120-120v-720h720v720H120Zm60-500h600v-160H180v160Zm220 220h160v-160H400v160Zm0 220h160v-160H400v160ZM180-400h160v-160H180v160Zm440 0h160v-160H620v160ZM180-180h160v-160H180v160Zm440 0h160v-160H620v160Z\"/>\n",
              "  </svg>\n",
              "    </button>\n",
              "\n",
              "  <style>\n",
              "    .colab-df-container {\n",
              "      display:flex;\n",
              "      gap: 12px;\n",
              "    }\n",
              "\n",
              "    .colab-df-convert {\n",
              "      background-color: #E8F0FE;\n",
              "      border: none;\n",
              "      border-radius: 50%;\n",
              "      cursor: pointer;\n",
              "      display: none;\n",
              "      fill: #1967D2;\n",
              "      height: 32px;\n",
              "      padding: 0 0 0 0;\n",
              "      width: 32px;\n",
              "    }\n",
              "\n",
              "    .colab-df-convert:hover {\n",
              "      background-color: #E2EBFA;\n",
              "      box-shadow: 0px 1px 2px rgba(60, 64, 67, 0.3), 0px 1px 3px 1px rgba(60, 64, 67, 0.15);\n",
              "      fill: #174EA6;\n",
              "    }\n",
              "\n",
              "    .colab-df-buttons div {\n",
              "      margin-bottom: 4px;\n",
              "    }\n",
              "\n",
              "    [theme=dark] .colab-df-convert {\n",
              "      background-color: #3B4455;\n",
              "      fill: #D2E3FC;\n",
              "    }\n",
              "\n",
              "    [theme=dark] .colab-df-convert:hover {\n",
              "      background-color: #434B5C;\n",
              "      box-shadow: 0px 1px 3px 1px rgba(0, 0, 0, 0.15);\n",
              "      filter: drop-shadow(0px 1px 2px rgba(0, 0, 0, 0.3));\n",
              "      fill: #FFFFFF;\n",
              "    }\n",
              "  </style>\n",
              "\n",
              "    <script>\n",
              "      const buttonEl =\n",
              "        document.querySelector('#df-354ba3c6-59b8-4cae-81ce-86275d37f0cf button.colab-df-convert');\n",
              "      buttonEl.style.display =\n",
              "        google.colab.kernel.accessAllowed ? 'block' : 'none';\n",
              "\n",
              "      async function convertToInteractive(key) {\n",
              "        const element = document.querySelector('#df-354ba3c6-59b8-4cae-81ce-86275d37f0cf');\n",
              "        const dataTable =\n",
              "          await google.colab.kernel.invokeFunction('convertToInteractive',\n",
              "                                                    [key], {});\n",
              "        if (!dataTable) return;\n",
              "\n",
              "        const docLinkHtml = 'Like what you see? Visit the ' +\n",
              "          '<a target=\"_blank\" href=https://colab.research.google.com/notebooks/data_table.ipynb>data table notebook</a>'\n",
              "          + ' to learn more about interactive tables.';\n",
              "        element.innerHTML = '';\n",
              "        dataTable['output_type'] = 'display_data';\n",
              "        await google.colab.output.renderOutput(dataTable, element);\n",
              "        const docLink = document.createElement('div');\n",
              "        docLink.innerHTML = docLinkHtml;\n",
              "        element.appendChild(docLink);\n",
              "      }\n",
              "    </script>\n",
              "  </div>\n",
              "\n",
              "\n",
              "<div id=\"df-b7ec7ef1-20b4-4032-8277-4ba5fae3320a\">\n",
              "  <button class=\"colab-df-quickchart\" onclick=\"quickchart('df-b7ec7ef1-20b4-4032-8277-4ba5fae3320a')\"\n",
              "            title=\"Suggest charts\"\n",
              "            style=\"display:none;\">\n",
              "\n",
              "<svg xmlns=\"http://www.w3.org/2000/svg\" height=\"24px\"viewBox=\"0 0 24 24\"\n",
              "     width=\"24px\">\n",
              "    <g>\n",
              "        <path d=\"M19 3H5c-1.1 0-2 .9-2 2v14c0 1.1.9 2 2 2h14c1.1 0 2-.9 2-2V5c0-1.1-.9-2-2-2zM9 17H7v-7h2v7zm4 0h-2V7h2v10zm4 0h-2v-4h2v4z\"/>\n",
              "    </g>\n",
              "</svg>\n",
              "  </button>\n",
              "\n",
              "<style>\n",
              "  .colab-df-quickchart {\n",
              "      --bg-color: #E8F0FE;\n",
              "      --fill-color: #1967D2;\n",
              "      --hover-bg-color: #E2EBFA;\n",
              "      --hover-fill-color: #174EA6;\n",
              "      --disabled-fill-color: #AAA;\n",
              "      --disabled-bg-color: #DDD;\n",
              "  }\n",
              "\n",
              "  [theme=dark] .colab-df-quickchart {\n",
              "      --bg-color: #3B4455;\n",
              "      --fill-color: #D2E3FC;\n",
              "      --hover-bg-color: #434B5C;\n",
              "      --hover-fill-color: #FFFFFF;\n",
              "      --disabled-bg-color: #3B4455;\n",
              "      --disabled-fill-color: #666;\n",
              "  }\n",
              "\n",
              "  .colab-df-quickchart {\n",
              "    background-color: var(--bg-color);\n",
              "    border: none;\n",
              "    border-radius: 50%;\n",
              "    cursor: pointer;\n",
              "    display: none;\n",
              "    fill: var(--fill-color);\n",
              "    height: 32px;\n",
              "    padding: 0;\n",
              "    width: 32px;\n",
              "  }\n",
              "\n",
              "  .colab-df-quickchart:hover {\n",
              "    background-color: var(--hover-bg-color);\n",
              "    box-shadow: 0 1px 2px rgba(60, 64, 67, 0.3), 0 1px 3px 1px rgba(60, 64, 67, 0.15);\n",
              "    fill: var(--button-hover-fill-color);\n",
              "  }\n",
              "\n",
              "  .colab-df-quickchart-complete:disabled,\n",
              "  .colab-df-quickchart-complete:disabled:hover {\n",
              "    background-color: var(--disabled-bg-color);\n",
              "    fill: var(--disabled-fill-color);\n",
              "    box-shadow: none;\n",
              "  }\n",
              "\n",
              "  .colab-df-spinner {\n",
              "    border: 2px solid var(--fill-color);\n",
              "    border-color: transparent;\n",
              "    border-bottom-color: var(--fill-color);\n",
              "    animation:\n",
              "      spin 1s steps(1) infinite;\n",
              "  }\n",
              "\n",
              "  @keyframes spin {\n",
              "    0% {\n",
              "      border-color: transparent;\n",
              "      border-bottom-color: var(--fill-color);\n",
              "      border-left-color: var(--fill-color);\n",
              "    }\n",
              "    20% {\n",
              "      border-color: transparent;\n",
              "      border-left-color: var(--fill-color);\n",
              "      border-top-color: var(--fill-color);\n",
              "    }\n",
              "    30% {\n",
              "      border-color: transparent;\n",
              "      border-left-color: var(--fill-color);\n",
              "      border-top-color: var(--fill-color);\n",
              "      border-right-color: var(--fill-color);\n",
              "    }\n",
              "    40% {\n",
              "      border-color: transparent;\n",
              "      border-right-color: var(--fill-color);\n",
              "      border-top-color: var(--fill-color);\n",
              "    }\n",
              "    60% {\n",
              "      border-color: transparent;\n",
              "      border-right-color: var(--fill-color);\n",
              "    }\n",
              "    80% {\n",
              "      border-color: transparent;\n",
              "      border-right-color: var(--fill-color);\n",
              "      border-bottom-color: var(--fill-color);\n",
              "    }\n",
              "    90% {\n",
              "      border-color: transparent;\n",
              "      border-bottom-color: var(--fill-color);\n",
              "    }\n",
              "  }\n",
              "</style>\n",
              "\n",
              "  <script>\n",
              "    async function quickchart(key) {\n",
              "      const quickchartButtonEl =\n",
              "        document.querySelector('#' + key + ' button');\n",
              "      quickchartButtonEl.disabled = true;  // To prevent multiple clicks.\n",
              "      quickchartButtonEl.classList.add('colab-df-spinner');\n",
              "      try {\n",
              "        const charts = await google.colab.kernel.invokeFunction(\n",
              "            'suggestCharts', [key], {});\n",
              "      } catch (error) {\n",
              "        console.error('Error during call to suggestCharts:', error);\n",
              "      }\n",
              "      quickchartButtonEl.classList.remove('colab-df-spinner');\n",
              "      quickchartButtonEl.classList.add('colab-df-quickchart-complete');\n",
              "    }\n",
              "    (() => {\n",
              "      let quickchartButtonEl =\n",
              "        document.querySelector('#df-b7ec7ef1-20b4-4032-8277-4ba5fae3320a button');\n",
              "      quickchartButtonEl.style.display =\n",
              "        google.colab.kernel.accessAllowed ? 'block' : 'none';\n",
              "    })();\n",
              "  </script>\n",
              "</div>\n",
              "\n",
              "    </div>\n",
              "  </div>\n"
            ],
            "application/vnd.google.colaboratory.intrinsic+json": {
              "type": "dataframe",
              "variable_name": "df"
            }
          },
          "metadata": {},
          "execution_count": 3
        }
      ],
      "source": [
        "df['Date Time'] = pd.to_datetime(df['Date Time'], format=\"%d.%m.%Y %H:%M:%S\")\n",
        "df.set_index(df['Date Time'], inplace=True)\n",
        "df = df.drop('Date Time', axis=1)\n",
        "df.head()"
      ]
    },
    {
      "cell_type": "code",
      "execution_count": 4,
      "metadata": {
        "colab": {
          "base_uri": "https://localhost:8080/",
          "height": 488
        },
        "id": "1odw_7ACMxKr",
        "outputId": "7eb74f81-2430-43cf-be7f-11f7b9146a55"
      },
      "outputs": [
        {
          "output_type": "execute_result",
          "data": {
            "text/plain": [
              "                    count         mean        std      min      25%      50%  \\\n",
              "p (mbar)         420551.0   989.212776   8.358481   913.60   984.20   989.58   \n",
              "T (degC)         420551.0     9.450147   8.423365   -23.01     3.36     9.42   \n",
              "Tpot (K)         420551.0   283.492743   8.504471   250.60   277.43   283.47   \n",
              "Tdew (degC)      420551.0     4.955854   6.730674   -25.01     0.24     5.22   \n",
              "rh (%)           420551.0    76.008259  16.476175    12.95    65.21    79.30   \n",
              "VPmax (mbar)     420551.0    13.576251   7.739020     0.95     7.78    11.82   \n",
              "VPact (mbar)     420551.0     9.533756   4.184164     0.79     6.21     8.86   \n",
              "VPdef (mbar)     420551.0     4.042412   4.896851     0.00     0.87     2.19   \n",
              "sh (g/kg)        420551.0     6.022408   2.656139     0.50     3.92     5.59   \n",
              "H2OC (mmol/mol)  420551.0     9.640223   4.235395     0.80     6.29     8.96   \n",
              "rho (g/m**3)     420551.0  1216.062748  39.975208  1059.45  1187.49  1213.79   \n",
              "wv (m/s)         420551.0     1.702224  65.446714 -9999.00     0.99     1.76   \n",
              "max. wv (m/s)    420551.0     3.056555  69.016932 -9999.00     1.76     2.96   \n",
              "wd (deg)         420551.0   174.743738  86.681693     0.00   124.90   198.10   \n",
              "\n",
              "                     75%      max  \n",
              "p (mbar)          994.72  1015.35  \n",
              "T (degC)           15.47    37.28  \n",
              "Tpot (K)          289.53   311.34  \n",
              "Tdew (degC)        10.07    23.11  \n",
              "rh (%)             89.40   100.00  \n",
              "VPmax (mbar)       17.60    63.77  \n",
              "VPact (mbar)       12.35    28.32  \n",
              "VPdef (mbar)        5.30    46.01  \n",
              "sh (g/kg)           7.80    18.13  \n",
              "H2OC (mmol/mol)    12.49    28.82  \n",
              "rho (g/m**3)     1242.77  1393.54  \n",
              "wv (m/s)            2.86    28.49  \n",
              "max. wv (m/s)       4.74    23.50  \n",
              "wd (deg)          234.10   360.00  "
            ],
            "text/html": [
              "\n",
              "  <div id=\"df-e7df5779-ee6f-4027-8ade-46f02ca204f6\" class=\"colab-df-container\">\n",
              "    <div>\n",
              "<style scoped>\n",
              "    .dataframe tbody tr th:only-of-type {\n",
              "        vertical-align: middle;\n",
              "    }\n",
              "\n",
              "    .dataframe tbody tr th {\n",
              "        vertical-align: top;\n",
              "    }\n",
              "\n",
              "    .dataframe thead th {\n",
              "        text-align: right;\n",
              "    }\n",
              "</style>\n",
              "<table border=\"1\" class=\"dataframe\">\n",
              "  <thead>\n",
              "    <tr style=\"text-align: right;\">\n",
              "      <th></th>\n",
              "      <th>count</th>\n",
              "      <th>mean</th>\n",
              "      <th>std</th>\n",
              "      <th>min</th>\n",
              "      <th>25%</th>\n",
              "      <th>50%</th>\n",
              "      <th>75%</th>\n",
              "      <th>max</th>\n",
              "    </tr>\n",
              "  </thead>\n",
              "  <tbody>\n",
              "    <tr>\n",
              "      <th>p (mbar)</th>\n",
              "      <td>420551.0</td>\n",
              "      <td>989.212776</td>\n",
              "      <td>8.358481</td>\n",
              "      <td>913.60</td>\n",
              "      <td>984.20</td>\n",
              "      <td>989.58</td>\n",
              "      <td>994.72</td>\n",
              "      <td>1015.35</td>\n",
              "    </tr>\n",
              "    <tr>\n",
              "      <th>T (degC)</th>\n",
              "      <td>420551.0</td>\n",
              "      <td>9.450147</td>\n",
              "      <td>8.423365</td>\n",
              "      <td>-23.01</td>\n",
              "      <td>3.36</td>\n",
              "      <td>9.42</td>\n",
              "      <td>15.47</td>\n",
              "      <td>37.28</td>\n",
              "    </tr>\n",
              "    <tr>\n",
              "      <th>Tpot (K)</th>\n",
              "      <td>420551.0</td>\n",
              "      <td>283.492743</td>\n",
              "      <td>8.504471</td>\n",
              "      <td>250.60</td>\n",
              "      <td>277.43</td>\n",
              "      <td>283.47</td>\n",
              "      <td>289.53</td>\n",
              "      <td>311.34</td>\n",
              "    </tr>\n",
              "    <tr>\n",
              "      <th>Tdew (degC)</th>\n",
              "      <td>420551.0</td>\n",
              "      <td>4.955854</td>\n",
              "      <td>6.730674</td>\n",
              "      <td>-25.01</td>\n",
              "      <td>0.24</td>\n",
              "      <td>5.22</td>\n",
              "      <td>10.07</td>\n",
              "      <td>23.11</td>\n",
              "    </tr>\n",
              "    <tr>\n",
              "      <th>rh (%)</th>\n",
              "      <td>420551.0</td>\n",
              "      <td>76.008259</td>\n",
              "      <td>16.476175</td>\n",
              "      <td>12.95</td>\n",
              "      <td>65.21</td>\n",
              "      <td>79.30</td>\n",
              "      <td>89.40</td>\n",
              "      <td>100.00</td>\n",
              "    </tr>\n",
              "    <tr>\n",
              "      <th>VPmax (mbar)</th>\n",
              "      <td>420551.0</td>\n",
              "      <td>13.576251</td>\n",
              "      <td>7.739020</td>\n",
              "      <td>0.95</td>\n",
              "      <td>7.78</td>\n",
              "      <td>11.82</td>\n",
              "      <td>17.60</td>\n",
              "      <td>63.77</td>\n",
              "    </tr>\n",
              "    <tr>\n",
              "      <th>VPact (mbar)</th>\n",
              "      <td>420551.0</td>\n",
              "      <td>9.533756</td>\n",
              "      <td>4.184164</td>\n",
              "      <td>0.79</td>\n",
              "      <td>6.21</td>\n",
              "      <td>8.86</td>\n",
              "      <td>12.35</td>\n",
              "      <td>28.32</td>\n",
              "    </tr>\n",
              "    <tr>\n",
              "      <th>VPdef (mbar)</th>\n",
              "      <td>420551.0</td>\n",
              "      <td>4.042412</td>\n",
              "      <td>4.896851</td>\n",
              "      <td>0.00</td>\n",
              "      <td>0.87</td>\n",
              "      <td>2.19</td>\n",
              "      <td>5.30</td>\n",
              "      <td>46.01</td>\n",
              "    </tr>\n",
              "    <tr>\n",
              "      <th>sh (g/kg)</th>\n",
              "      <td>420551.0</td>\n",
              "      <td>6.022408</td>\n",
              "      <td>2.656139</td>\n",
              "      <td>0.50</td>\n",
              "      <td>3.92</td>\n",
              "      <td>5.59</td>\n",
              "      <td>7.80</td>\n",
              "      <td>18.13</td>\n",
              "    </tr>\n",
              "    <tr>\n",
              "      <th>H2OC (mmol/mol)</th>\n",
              "      <td>420551.0</td>\n",
              "      <td>9.640223</td>\n",
              "      <td>4.235395</td>\n",
              "      <td>0.80</td>\n",
              "      <td>6.29</td>\n",
              "      <td>8.96</td>\n",
              "      <td>12.49</td>\n",
              "      <td>28.82</td>\n",
              "    </tr>\n",
              "    <tr>\n",
              "      <th>rho (g/m**3)</th>\n",
              "      <td>420551.0</td>\n",
              "      <td>1216.062748</td>\n",
              "      <td>39.975208</td>\n",
              "      <td>1059.45</td>\n",
              "      <td>1187.49</td>\n",
              "      <td>1213.79</td>\n",
              "      <td>1242.77</td>\n",
              "      <td>1393.54</td>\n",
              "    </tr>\n",
              "    <tr>\n",
              "      <th>wv (m/s)</th>\n",
              "      <td>420551.0</td>\n",
              "      <td>1.702224</td>\n",
              "      <td>65.446714</td>\n",
              "      <td>-9999.00</td>\n",
              "      <td>0.99</td>\n",
              "      <td>1.76</td>\n",
              "      <td>2.86</td>\n",
              "      <td>28.49</td>\n",
              "    </tr>\n",
              "    <tr>\n",
              "      <th>max. wv (m/s)</th>\n",
              "      <td>420551.0</td>\n",
              "      <td>3.056555</td>\n",
              "      <td>69.016932</td>\n",
              "      <td>-9999.00</td>\n",
              "      <td>1.76</td>\n",
              "      <td>2.96</td>\n",
              "      <td>4.74</td>\n",
              "      <td>23.50</td>\n",
              "    </tr>\n",
              "    <tr>\n",
              "      <th>wd (deg)</th>\n",
              "      <td>420551.0</td>\n",
              "      <td>174.743738</td>\n",
              "      <td>86.681693</td>\n",
              "      <td>0.00</td>\n",
              "      <td>124.90</td>\n",
              "      <td>198.10</td>\n",
              "      <td>234.10</td>\n",
              "      <td>360.00</td>\n",
              "    </tr>\n",
              "  </tbody>\n",
              "</table>\n",
              "</div>\n",
              "    <div class=\"colab-df-buttons\">\n",
              "\n",
              "  <div class=\"colab-df-container\">\n",
              "    <button class=\"colab-df-convert\" onclick=\"convertToInteractive('df-e7df5779-ee6f-4027-8ade-46f02ca204f6')\"\n",
              "            title=\"Convert this dataframe to an interactive table.\"\n",
              "            style=\"display:none;\">\n",
              "\n",
              "  <svg xmlns=\"http://www.w3.org/2000/svg\" height=\"24px\" viewBox=\"0 -960 960 960\">\n",
              "    <path d=\"M120-120v-720h720v720H120Zm60-500h600v-160H180v160Zm220 220h160v-160H400v160Zm0 220h160v-160H400v160ZM180-400h160v-160H180v160Zm440 0h160v-160H620v160ZM180-180h160v-160H180v160Zm440 0h160v-160H620v160Z\"/>\n",
              "  </svg>\n",
              "    </button>\n",
              "\n",
              "  <style>\n",
              "    .colab-df-container {\n",
              "      display:flex;\n",
              "      gap: 12px;\n",
              "    }\n",
              "\n",
              "    .colab-df-convert {\n",
              "      background-color: #E8F0FE;\n",
              "      border: none;\n",
              "      border-radius: 50%;\n",
              "      cursor: pointer;\n",
              "      display: none;\n",
              "      fill: #1967D2;\n",
              "      height: 32px;\n",
              "      padding: 0 0 0 0;\n",
              "      width: 32px;\n",
              "    }\n",
              "\n",
              "    .colab-df-convert:hover {\n",
              "      background-color: #E2EBFA;\n",
              "      box-shadow: 0px 1px 2px rgba(60, 64, 67, 0.3), 0px 1px 3px 1px rgba(60, 64, 67, 0.15);\n",
              "      fill: #174EA6;\n",
              "    }\n",
              "\n",
              "    .colab-df-buttons div {\n",
              "      margin-bottom: 4px;\n",
              "    }\n",
              "\n",
              "    [theme=dark] .colab-df-convert {\n",
              "      background-color: #3B4455;\n",
              "      fill: #D2E3FC;\n",
              "    }\n",
              "\n",
              "    [theme=dark] .colab-df-convert:hover {\n",
              "      background-color: #434B5C;\n",
              "      box-shadow: 0px 1px 3px 1px rgba(0, 0, 0, 0.15);\n",
              "      filter: drop-shadow(0px 1px 2px rgba(0, 0, 0, 0.3));\n",
              "      fill: #FFFFFF;\n",
              "    }\n",
              "  </style>\n",
              "\n",
              "    <script>\n",
              "      const buttonEl =\n",
              "        document.querySelector('#df-e7df5779-ee6f-4027-8ade-46f02ca204f6 button.colab-df-convert');\n",
              "      buttonEl.style.display =\n",
              "        google.colab.kernel.accessAllowed ? 'block' : 'none';\n",
              "\n",
              "      async function convertToInteractive(key) {\n",
              "        const element = document.querySelector('#df-e7df5779-ee6f-4027-8ade-46f02ca204f6');\n",
              "        const dataTable =\n",
              "          await google.colab.kernel.invokeFunction('convertToInteractive',\n",
              "                                                    [key], {});\n",
              "        if (!dataTable) return;\n",
              "\n",
              "        const docLinkHtml = 'Like what you see? Visit the ' +\n",
              "          '<a target=\"_blank\" href=https://colab.research.google.com/notebooks/data_table.ipynb>data table notebook</a>'\n",
              "          + ' to learn more about interactive tables.';\n",
              "        element.innerHTML = '';\n",
              "        dataTable['output_type'] = 'display_data';\n",
              "        await google.colab.output.renderOutput(dataTable, element);\n",
              "        const docLink = document.createElement('div');\n",
              "        docLink.innerHTML = docLinkHtml;\n",
              "        element.appendChild(docLink);\n",
              "      }\n",
              "    </script>\n",
              "  </div>\n",
              "\n",
              "\n",
              "<div id=\"df-e4ffcee3-2a06-4d70-9a46-b22a87d49bcb\">\n",
              "  <button class=\"colab-df-quickchart\" onclick=\"quickchart('df-e4ffcee3-2a06-4d70-9a46-b22a87d49bcb')\"\n",
              "            title=\"Suggest charts\"\n",
              "            style=\"display:none;\">\n",
              "\n",
              "<svg xmlns=\"http://www.w3.org/2000/svg\" height=\"24px\"viewBox=\"0 0 24 24\"\n",
              "     width=\"24px\">\n",
              "    <g>\n",
              "        <path d=\"M19 3H5c-1.1 0-2 .9-2 2v14c0 1.1.9 2 2 2h14c1.1 0 2-.9 2-2V5c0-1.1-.9-2-2-2zM9 17H7v-7h2v7zm4 0h-2V7h2v10zm4 0h-2v-4h2v4z\"/>\n",
              "    </g>\n",
              "</svg>\n",
              "  </button>\n",
              "\n",
              "<style>\n",
              "  .colab-df-quickchart {\n",
              "      --bg-color: #E8F0FE;\n",
              "      --fill-color: #1967D2;\n",
              "      --hover-bg-color: #E2EBFA;\n",
              "      --hover-fill-color: #174EA6;\n",
              "      --disabled-fill-color: #AAA;\n",
              "      --disabled-bg-color: #DDD;\n",
              "  }\n",
              "\n",
              "  [theme=dark] .colab-df-quickchart {\n",
              "      --bg-color: #3B4455;\n",
              "      --fill-color: #D2E3FC;\n",
              "      --hover-bg-color: #434B5C;\n",
              "      --hover-fill-color: #FFFFFF;\n",
              "      --disabled-bg-color: #3B4455;\n",
              "      --disabled-fill-color: #666;\n",
              "  }\n",
              "\n",
              "  .colab-df-quickchart {\n",
              "    background-color: var(--bg-color);\n",
              "    border: none;\n",
              "    border-radius: 50%;\n",
              "    cursor: pointer;\n",
              "    display: none;\n",
              "    fill: var(--fill-color);\n",
              "    height: 32px;\n",
              "    padding: 0;\n",
              "    width: 32px;\n",
              "  }\n",
              "\n",
              "  .colab-df-quickchart:hover {\n",
              "    background-color: var(--hover-bg-color);\n",
              "    box-shadow: 0 1px 2px rgba(60, 64, 67, 0.3), 0 1px 3px 1px rgba(60, 64, 67, 0.15);\n",
              "    fill: var(--button-hover-fill-color);\n",
              "  }\n",
              "\n",
              "  .colab-df-quickchart-complete:disabled,\n",
              "  .colab-df-quickchart-complete:disabled:hover {\n",
              "    background-color: var(--disabled-bg-color);\n",
              "    fill: var(--disabled-fill-color);\n",
              "    box-shadow: none;\n",
              "  }\n",
              "\n",
              "  .colab-df-spinner {\n",
              "    border: 2px solid var(--fill-color);\n",
              "    border-color: transparent;\n",
              "    border-bottom-color: var(--fill-color);\n",
              "    animation:\n",
              "      spin 1s steps(1) infinite;\n",
              "  }\n",
              "\n",
              "  @keyframes spin {\n",
              "    0% {\n",
              "      border-color: transparent;\n",
              "      border-bottom-color: var(--fill-color);\n",
              "      border-left-color: var(--fill-color);\n",
              "    }\n",
              "    20% {\n",
              "      border-color: transparent;\n",
              "      border-left-color: var(--fill-color);\n",
              "      border-top-color: var(--fill-color);\n",
              "    }\n",
              "    30% {\n",
              "      border-color: transparent;\n",
              "      border-left-color: var(--fill-color);\n",
              "      border-top-color: var(--fill-color);\n",
              "      border-right-color: var(--fill-color);\n",
              "    }\n",
              "    40% {\n",
              "      border-color: transparent;\n",
              "      border-right-color: var(--fill-color);\n",
              "      border-top-color: var(--fill-color);\n",
              "    }\n",
              "    60% {\n",
              "      border-color: transparent;\n",
              "      border-right-color: var(--fill-color);\n",
              "    }\n",
              "    80% {\n",
              "      border-color: transparent;\n",
              "      border-right-color: var(--fill-color);\n",
              "      border-bottom-color: var(--fill-color);\n",
              "    }\n",
              "    90% {\n",
              "      border-color: transparent;\n",
              "      border-bottom-color: var(--fill-color);\n",
              "    }\n",
              "  }\n",
              "</style>\n",
              "\n",
              "  <script>\n",
              "    async function quickchart(key) {\n",
              "      const quickchartButtonEl =\n",
              "        document.querySelector('#' + key + ' button');\n",
              "      quickchartButtonEl.disabled = true;  // To prevent multiple clicks.\n",
              "      quickchartButtonEl.classList.add('colab-df-spinner');\n",
              "      try {\n",
              "        const charts = await google.colab.kernel.invokeFunction(\n",
              "            'suggestCharts', [key], {});\n",
              "      } catch (error) {\n",
              "        console.error('Error during call to suggestCharts:', error);\n",
              "      }\n",
              "      quickchartButtonEl.classList.remove('colab-df-spinner');\n",
              "      quickchartButtonEl.classList.add('colab-df-quickchart-complete');\n",
              "    }\n",
              "    (() => {\n",
              "      let quickchartButtonEl =\n",
              "        document.querySelector('#df-e4ffcee3-2a06-4d70-9a46-b22a87d49bcb button');\n",
              "      quickchartButtonEl.style.display =\n",
              "        google.colab.kernel.accessAllowed ? 'block' : 'none';\n",
              "    })();\n",
              "  </script>\n",
              "</div>\n",
              "\n",
              "    </div>\n",
              "  </div>\n"
            ],
            "application/vnd.google.colaboratory.intrinsic+json": {
              "type": "dataframe",
              "summary": "{\n  \"name\": \"df\",\n  \"rows\": 14,\n  \"fields\": [\n    {\n      \"column\": \"count\",\n      \"properties\": {\n        \"dtype\": \"number\",\n        \"std\": 0.0,\n        \"min\": 420551.0,\n        \"max\": 420551.0,\n        \"num_unique_values\": 1,\n        \"samples\": [\n          420551.0\n        ],\n        \"semantic_type\": \"\",\n        \"description\": \"\"\n      }\n    },\n    {\n      \"column\": \"mean\",\n      \"properties\": {\n        \"dtype\": \"number\",\n        \"std\": 393.60053422304003,\n        \"min\": 1.7022238444326607,\n        \"max\": 1216.0627478950232,\n        \"num_unique_values\": 14,\n        \"samples\": [\n          9.64022311206013\n        ],\n        \"semantic_type\": \"\",\n        \"description\": \"\"\n      }\n    },\n    {\n      \"column\": \"std\",\n      \"properties\": {\n        \"dtype\": \"number\",\n        \"std\": 28.92762837484462,\n        \"min\": 2.6561390257682693,\n        \"max\": 86.6816927461442,\n        \"num_unique_values\": 14,\n        \"samples\": [\n          4.235394815093321\n        ],\n        \"semantic_type\": \"\",\n        \"description\": \"\"\n      }\n    },\n    {\n      \"column\": \"min\",\n      \"properties\": {\n        \"dtype\": \"number\",\n        \"std\": 3714.147296221082,\n        \"min\": -9999.0,\n        \"max\": 1059.45,\n        \"num_unique_values\": 12,\n        \"samples\": [\n          1059.45\n        ],\n        \"semantic_type\": \"\",\n        \"description\": \"\"\n      }\n    },\n    {\n      \"column\": \"25%\",\n      \"properties\": {\n        \"dtype\": \"number\",\n        \"std\": 388.91535585847913,\n        \"min\": 0.24,\n        \"max\": 1187.49,\n        \"num_unique_values\": 14,\n        \"samples\": [\n          6.29\n        ],\n        \"semantic_type\": \"\",\n        \"description\": \"\"\n      }\n    },\n    {\n      \"column\": \"50%\",\n      \"properties\": {\n        \"dtype\": \"number\",\n        \"std\": 393.2570996152545,\n        \"min\": 1.76,\n        \"max\": 1213.79,\n        \"num_unique_values\": 14,\n        \"samples\": [\n          8.96\n        ],\n        \"semantic_type\": \"\",\n        \"description\": \"\"\n      }\n    },\n    {\n      \"column\": \"75%\",\n      \"properties\": {\n        \"dtype\": \"number\",\n        \"std\": 398.5147890399006,\n        \"min\": 2.86,\n        \"max\": 1242.77,\n        \"num_unique_values\": 14,\n        \"samples\": [\n          12.49\n        ],\n        \"semantic_type\": \"\",\n        \"description\": \"\"\n      }\n    },\n    {\n      \"column\": \"max\",\n      \"properties\": {\n        \"dtype\": \"number\",\n        \"std\": 425.8014115255407,\n        \"min\": 18.13,\n        \"max\": 1393.54,\n        \"num_unique_values\": 14,\n        \"samples\": [\n          28.82\n        ],\n        \"semantic_type\": \"\",\n        \"description\": \"\"\n      }\n    }\n  ]\n}"
            }
          },
          "metadata": {},
          "execution_count": 4
        }
      ],
      "source": [
        "df.describe().transpose()"
      ]
    },
    {
      "cell_type": "code",
      "execution_count": 5,
      "metadata": {
        "colab": {
          "base_uri": "https://localhost:8080/"
        },
        "id": "XXE889GVMxKr",
        "outputId": "eb7bd21c-ec6c-4606-f18d-57e0cb4224c3"
      },
      "outputs": [
        {
          "output_type": "stream",
          "name": "stdout",
          "text": [
            "New min of wv : 0.0\n",
            "New min of max wv : 0.0\n"
          ]
        }
      ],
      "source": [
        "df['wv (m/s)'] = df['wv (m/s)'].replace(to_replace=-9999.0, value=0.0)\n",
        "df['max. wv (m/s)'] = df['max. wv (m/s)'].replace(to_replace=-9999.0, value=0.0)\n",
        "print('New min of wv : {}\\nNew min of max wv : {}'.format(df['wv (m/s)'].min(), df['max. wv (m/s)'].min()))"
      ]
    },
    {
      "cell_type": "code",
      "source": [
        "plt.figure(figsize=(12, 4))\n",
        "plt.plot(df.index, df['T (degC)'], label='Temperature')\n",
        "plt.xlabel('years')\n",
        "plt.ylabel('Temperature (C)')\n",
        "plt.legend()\n",
        "plt.show();"
      ],
      "metadata": {
        "colab": {
          "base_uri": "https://localhost:8080/",
          "height": 396
        },
        "id": "rT4d1mWNX9O2",
        "outputId": "f3be76b4-0865-46f1-c37b-649393034493"
      },
      "execution_count": 6,
      "outputs": [
        {
          "output_type": "display_data",
          "data": {
            "text/plain": [
              "<Figure size 1200x400 with 1 Axes>"
            ],
            "image/png": "[encoded data removed]"
          },
          "metadata": {}
        }
      ]
    },
    {
      "cell_type": "markdown",
      "metadata": {
        "id": "MfG_SUMVMxKr"
      },
      "source": [
        "# 2.0 Train and Test Data Split"
      ]
    },
    {
      "cell_type": "markdown",
      "metadata": {
        "id": "qmMGdDEPMxKr"
      },
      "source": [
        "*Important point:*\n",
        "- Only a subset of features are used for simplicity.\n",
        "- Hourly data for a year is taken for train and test split instead of per 10 mins measured in dataset."
      ]
    },
    {
      "cell_type": "code",
      "execution_count": 7,
      "metadata": {
        "colab": {
          "base_uri": "https://localhost:8080/"
        },
        "id": "8o-OB85dMxKr",
        "outputId": "a89c39b1-c534-462d-e97f-dde2b72874c5"
      },
      "outputs": [
        {
          "output_type": "stream",
          "name": "stdout",
          "text": [
            "Train Data Shape : (17532, 3)\n",
            "Test Data shape : (17532, 3)\n"
          ]
        }
      ],
      "source": [
        "features = ['T (degC)', 'p (mbar)', 'rho (g/m**3)']\n",
        "yearly_sample = 365.25 * 24 * 6\n",
        "\n",
        "\n",
        "train_data = df[features][:int(yearly_sample * 2):6].to_numpy()\n",
        "test_data = df[features][int(yearly_sample*2) : int(yearly_sample * 4):6].to_numpy()\n",
        "print(f'Train Data Shape : {train_data.shape}\\nTest Data shape : {test_data.shape}')"
      ]
    },
    {
      "cell_type": "markdown",
      "metadata": {
        "id": "tMiQV3VoMxKr"
      },
      "source": [
        "## 2.1 Visualising Splitted Data"
      ]
    },
    {
      "cell_type": "code",
      "execution_count": 8,
      "metadata": {
        "colab": {
          "base_uri": "https://localhost:8080/",
          "height": 0
        },
        "id": "Y-2lItfCMxKr",
        "outputId": "1bd4348b-65e0-4b41-d52c-1a851f0c3a17"
      },
      "outputs": [
        {
          "output_type": "display_data",
          "data": {
            "text/plain": [
              "<Figure size 1200x900 with 3 Axes>"
            ],
            "image/png": "[encoded data removed]"
          },
          "metadata": {}
        }
      ],
      "source": [
        "fig, axs = plt.subplots(nrows=3, ncols=1, figsize=(12, 9), sharex=True)\n",
        "titles = ['Temeprature (C)', 'Pressure (mBar)', 'Density (g/m**3)']\n",
        "\n",
        "for i in range(3):\n",
        "    axs[i].plot(df.index[:int(yearly_sample*2):6], train_data[:,i], label='train_data')\n",
        "    axs[i].plot(df.index[int(yearly_sample*2):int(yearly_sample*4):6], test_data[:,i], label = 'test_data')\n",
        "    axs[i].legend(loc=\"upper right\")\n",
        "    axs[i].set_title(titles[i])\n",
        "plt.show()"
      ]
    },
    {
      "cell_type": "markdown",
      "metadata": {
        "id": "s1ZFeHA4MxKs"
      },
      "source": [
        "# 3.0 Utilities"
      ]
    },
    {
      "cell_type": "markdown",
      "metadata": {
        "id": "EpEypE2iMxKs"
      },
      "source": [
        "## 3.1 Standard Scaler"
      ]
    },
    {
      "cell_type": "code",
      "execution_count": 9,
      "metadata": {
        "colab": {
          "base_uri": "https://localhost:8080/"
        },
        "id": "7Xvqp-9PMxKs",
        "outputId": "b58a7e7a-58db-47bf-ccd3-cdec4f337b89"
      },
      "outputs": [
        {
          "output_type": "stream",
          "name": "stdout",
          "text": [
            "Mean values of features : [   8.17252453  987.38820386 1219.70650867]\n",
            "Standard deviation values of features : [ 9.03325185  8.52346058 41.73386411]\n"
          ]
        }
      ],
      "source": [
        "class StandardScaler:\n",
        "    def fit(self, x, axis):\n",
        "        self.mean = np.mean(x, axis=axis)\n",
        "        self.std = np.std(x, axis=axis)\n",
        "\n",
        "    def transform(self, x):\n",
        "        return (x - self.mean) / self.std\n",
        "\n",
        "    def inverse_transform(self, x):\n",
        "        return x * self.std + self.mean\n",
        "\n",
        "scaler = StandardScaler()\n",
        "scaler.fit(train_data, axis=0)\n",
        "sc_data = scaler.transform(train_data)\n",
        "print(f'Mean values of features : {scaler.mean}\\nStandard deviation values of features : {scaler.std}')"
      ]
    },
    {
      "cell_type": "code",
      "execution_count": 10,
      "metadata": {
        "colab": {
          "base_uri": "https://localhost:8080/",
          "height": 0
        },
        "id": "uFqEt9P5MxKs",
        "outputId": "42cbec20-1052-487b-c724-fd223c2f8346"
      },
      "outputs": [
        {
          "output_type": "display_data",
          "data": {
            "text/plain": [
              "<Figure size 1200x400 with 1 Axes>"
            ],
            "image/png": "[encoded data removed]"
          },
          "metadata": {}
        }
      ],
      "source": [
        "fig, axs = plt.subplots(nrows=1, ncols=1, figsize = (12, 4), sharex=True)\n",
        "\n",
        "sns.violinplot(data=sc_data, ax=axs)\n",
        "axs.xaxis.set_ticks(np.arange(0, train_data.shape[-1]))\n",
        "axs.xaxis.set_ticklabels(features, rotation=90)\n",
        "axs.set_title('Normalized Data')\n",
        "plt.show();"
      ]
    },
    {
      "cell_type": "markdown",
      "metadata": {
        "id": "87r75blbMxKs"
      },
      "source": [
        "## 3.2 Custom Dataset"
      ]
    },
    {
      "cell_type": "code",
      "execution_count": 11,
      "metadata": {
        "colab": {
          "base_uri": "https://localhost:8080/"
        },
        "id": "7BKBKR0RMxKs",
        "outputId": "c1370629-3625-4bac-a70a-49880b9995f0"
      },
      "outputs": [
        {
          "output_type": "stream",
          "name": "stdout",
          "text": [
            "Input shape : torch.Size([24, 1])\n",
            "Label shape : torch.Size([24, 1])\n"
          ]
        }
      ],
      "source": [
        "class CustomDataset(Dataset):\n",
        "    def __init__(self, data, in_seq_len, out_seq_len, offset, in_features, out_features, scaler):\n",
        "        super().__init__()\n",
        "        self.data = data\n",
        "        self.in_seq_len = in_seq_len\n",
        "        self.out_seq_len = out_seq_len\n",
        "        self.offset = offset\n",
        "        self.in_features = in_features\n",
        "        self.out_features = out_features\n",
        "        self.scaler = scaler\n",
        "\n",
        "        if self.in_seq_len > self.offset + self.out_seq_len:\n",
        "            raise ValueError('Invalid input ouput mapping provided')\n",
        "\n",
        "    def __len__(self):\n",
        "        return len(self.data) - self.in_seq_len - self.offset\n",
        "\n",
        "    def __getitem__(self, index):\n",
        "        data = self.data[index : index + self.in_seq_len + self.offset]\n",
        "        data = self.scaler.transform(data)\n",
        "        x = torch.tensor(data[:self.in_seq_len, self.in_features], dtype=torch.float32)\n",
        "        y = torch.tensor(data[self.offset: self.offset + self.out_seq_len, self.out_features], dtype=torch.float32)\n",
        "\n",
        "        if x.ndim == 1:\n",
        "            x = x.view(-1, 1)\n",
        "        if y.ndim == 1:\n",
        "            y = y.view(-1, 1)\n",
        "        return x, y\n",
        "\n",
        "dataset = CustomDataset(train_data, in_seq_len=24, out_seq_len=24, offset=24, in_features=0, out_features=0, scaler=scaler)\n",
        "print(f'Input shape : {dataset[0][0].shape}\\nLabel shape : {dataset[0][1].shape}')"
      ]
    },
    {
      "cell_type": "code",
      "execution_count": 12,
      "metadata": {
        "colab": {
          "base_uri": "https://localhost:8080/",
          "height": 0
        },
        "id": "fPsiemABMxKs",
        "outputId": "deb2a077-921c-4640-b0d4-cca93ff56d04"
      },
      "outputs": [
        {
          "output_type": "display_data",
          "data": {
            "text/plain": [
              "<Figure size 1000x300 with 1 Axes>"
            ],
            "image/png": "[encoded data removed]"
          },
          "metadata": {}
        }
      ],
      "source": [
        "plt.figure(figsize=(10, 3))\n",
        "plt.plot(range(0, 24), dataset[0][0].numpy(), label='input_sequence')\n",
        "plt.scatter(range(0, 24), dataset[0][0].numpy(), label='inputs', color='darkgreen')\n",
        "plt.scatter(range(24, 48), dataset[0][1].numpy(), color='slateblue', label = 'label',marker='x')\n",
        "plt.plot(range(24, 48), dataset[0][1].numpy(), color='slateblue', label = 'label')\n",
        "plt.xlabel('Time (h)')\n",
        "plt.ylabel('Temperature (C)')\n",
        "plt.legend()\n",
        "plt.show();"
      ]
    },
    {
      "cell_type": "markdown",
      "metadata": {
        "id": "MsLNYQZ2MxKt"
      },
      "source": [
        "## 3.3 Training Pipeline"
      ]
    },
    {
      "cell_type": "code",
      "execution_count": 13,
      "metadata": {
        "id": "YNpjzXL5MxKt"
      },
      "outputs": [],
      "source": [
        "class Trainer:\n",
        "    def __init__(self, model, optimizer, dataset, batch_size, epochs):\n",
        "        self.model = model\n",
        "        self.optimizer = optimizer\n",
        "        self.dataset = dataset\n",
        "        self.batch_size = batch_size\n",
        "        self.epochs = epochs\n",
        "        self.device = next(self.model.parameters()).device\n",
        "\n",
        "    def get_dataloader(self, split):\n",
        "        train_dataset, val_dataset, test_dataset = random_split(self.dataset, [0.6, 0.2, 0.2])\n",
        "        if split == 'train':\n",
        "            return DataLoader(train_dataset, self.batch_size, True, drop_last=True)\n",
        "        elif split == 'val':\n",
        "            return DataLoader(val_dataset, self.batch_size, False, drop_last=True)\n",
        "        elif split == 'test':\n",
        "            return DataLoader(test_dataset, self.batch_size, False, drop_last=True)\n",
        "\n",
        "    def train_model(self):\n",
        "        hx = self.model._init_state(self.batch_size)\n",
        "        loader = self.get_dataloader('train')\n",
        "        total_loss = []\n",
        "        self.model.train()\n",
        "        for x, y in loader:\n",
        "            x, y = x.to(self.device), y.to(self.device)\n",
        "            self.optimizer.zero_grad()\n",
        "            y_pred, hx = self.model(x, hx)\n",
        "            hx = hx.detach()\n",
        "            loss = F.mse_loss(y, y_pred)\n",
        "            loss.backward()\n",
        "            self.optimizer.step()\n",
        "            total_loss.append(loss.detach().cpu().numpy())\n",
        "        return np.mean(total_loss)\n",
        "\n",
        "    def eval_model(self, split):\n",
        "        loader = self.get_dataloader(split)\n",
        "        total_loss = []\n",
        "        self.model.eval()\n",
        "        hx = self.model._init_state(self.batch_size)\n",
        "        for x, y in loader:\n",
        "            with torch.no_grad():\n",
        "                x, y = x.to(self.device), y.to(self.device)\n",
        "                self.model.eval()\n",
        "                y_pred, hx = self.model(x, hx)\n",
        "                loss = F.mse_loss(y, y_pred)\n",
        "                total_loss.append(loss.detach().cpu().numpy())\n",
        "        return np.mean(total_loss)\n",
        "\n",
        "    def train(self):\n",
        "        for epoch in tqdm(range(self.epochs)):\n",
        "            train_loss = self.train_model()\n",
        "            val_loss = self.eval_model('val')\n",
        "\n",
        "            if epoch % (self.epochs /10) == 0:\n",
        "                gpu_usage = round(torch.cuda.memory_reserved(0)/1024**3,1)\n",
        "                print(f'Epochs : {epoch} | train loss : {train_loss:.4f} | val loss : {val_loss:.4f} | gpu usage : {gpu_usage}')"
      ]
    },
    {
      "cell_type": "markdown",
      "metadata": {
        "id": "Rh9oipbyMxKt"
      },
      "source": [
        "## 3.4 Inference Pipeline"
      ]
    },
    {
      "cell_type": "code",
      "execution_count": 14,
      "metadata": {
        "id": "Dr4P01p6MxKt"
      },
      "outputs": [],
      "source": [
        "class Inference:\n",
        "    def __init__(\n",
        "        self,\n",
        "        model,\n",
        "        data,\n",
        "        scaler,\n",
        "        in_seq_len,\n",
        "        out_seq_len,\n",
        "        offset,\n",
        "        in_feats,\n",
        "        out_feats,\n",
        "        prediction_style\n",
        "        ):\n",
        "        self.model = model\n",
        "        self.data = data\n",
        "        self.scaler = scaler\n",
        "        self.in_seq_len = in_seq_len\n",
        "        self.out_seq_len = out_seq_len\n",
        "        self.offset = offset\n",
        "        self.in_feats = in_feats\n",
        "        self.out_feats = out_feats\n",
        "        self.prediction_style = prediction_style\n",
        "        self.device = next(self.model.parameters()).device\n",
        "\n",
        "    def get_random_sample(self):\n",
        "        self.idx = np.random.randint(len(self.data) - self.in_seq_len - self.offset)\n",
        "        x = self.data[self.idx : self.idx + self.in_seq_len, self.in_feats]\n",
        "        x = self.scaler.transform(x)\n",
        "        x = torch.tensor(x, dtype = torch.float32, device = self.device)\n",
        "        if x.ndim == 1:\n",
        "            x = x.unsqueeze(0).unsqueeze(-1)\n",
        "        elif x.ndim == 2:\n",
        "            x = x.unsqueeze(0)\n",
        "        return x\n",
        "\n",
        "    def ar_generation(self, x, hx):\n",
        "        for _ in range(self.out_seq_len):\n",
        "            x_trunc = x[:, -self.out_seq_len:, :]\n",
        "            y_pred, hx = self.model(x_trunc, hx)\n",
        "            x = torch.cat((x_trunc, y_pred), dim=1)\n",
        "        return x[:,-self.out_seq_len:, :]\n",
        "\n",
        "    def predict(self):\n",
        "        x = self.get_random_sample()\n",
        "        self.model.eval()\n",
        "        with torch.inference_mode():\n",
        "            hx = self.model._init_state(x.shape[0])\n",
        "            if self.prediction_style == 'zs':\n",
        "                y_pred, _ = self.model(x, hx)\n",
        "            elif self.prediction_style == 'ar':\n",
        "                y_pred = self.ar_generation(x, hx)\n",
        "        y_pred = self.scaler.inverse_transform(y_pred.cpu().detach().numpy())[:, :,self.out_feats]\n",
        "        return y_pred.reshape(-1)\n",
        "\n",
        "    def plot(self, **title):\n",
        "        y_pred = self.predict()\n",
        "\n",
        "        x = self.data[self.idx : self.idx + self.in_seq_len,self.out_feats]\n",
        "        y = self.data[self.idx + self.in_seq_len : self.idx + self.in_seq_len + self.out_seq_len, self.out_feats]\n",
        "        plt.figure(figsize=(12, 5))\n",
        "\n",
        "        if len(x) == 1:\n",
        "            plt.scatter(range(0, self.in_seq_len), x, label='inputs', color='darkgreen')\n",
        "        else:\n",
        "            plt.plot(range(0, self.in_seq_len), x, label='inputs', color='darkgreen')\n",
        "            plt.plot(range(self.in_seq_len, self.in_seq_len+ self.out_seq_len), y, label = 'true')\n",
        "            plt.plot(range(self.in_seq_len, self.in_seq_len + self.out_seq_len), y_pred, color='slateblue', label ='predictions')\n",
        "\n",
        "        plt.scatter(range(self.in_seq_len, self.in_seq_len+ self.out_seq_len), y, edgecolors='black', label = 'true')\n",
        "        plt.scatter(range(self.in_seq_len, self.in_seq_len + self.out_seq_len), y_pred, marker='X', edgecolors='black', color='slateblue', label ='predictions')\n",
        "        plt.legend()\n",
        "        plt.xlabel('Time (h)')\n",
        "        plt.ylabel('Temeprature (C)')\n",
        "\n",
        "        title = title.get('title')\n",
        "        if title is not None:\n",
        "            plt.title(title)\n",
        "        plt.show()\n",
        "\n",
        "    def test_model(self, data, batch_size, in_feats, out_feats):\n",
        "        dataset = CustomDataset(data, self.in_seq_len, self.out_seq_len, self.offset, in_feats, out_feats, self.scaler)\n",
        "        dataloader = DataLoader(dataset, batch_size, drop_last=True)\n",
        "        total_loss = []\n",
        "        hx = self.model._init_state(batch_size)\n",
        "        self.model.eval()\n",
        "        with torch.inference_mode():\n",
        "            for x, y in dataloader:\n",
        "                x, y = x.to(self.device), y.to(self.device)\n",
        "                y_pred , hx = self.model(x, hx)\n",
        "                loss = F.mse_loss(y_pred, y)\n",
        "                total_loss.append(loss.cpu().detach().numpy())\n",
        "        return np.mean(total_loss)"
      ]
    },
    {
      "cell_type": "markdown",
      "metadata": {
        "id": "2aW-BF4tMxKt"
      },
      "source": [
        "# 4.0 Modelling"
      ]
    },
    {
      "cell_type": "code",
      "execution_count": 15,
      "metadata": {
        "id": "vpt61kEXMxKt"
      },
      "outputs": [],
      "source": [
        "performance_log = {'baseline':[],'siso':[], 'miso':[], 'mimo_zs': [], 'mimo_ar': []}"
      ]
    },
    {
      "cell_type": "markdown",
      "metadata": {
        "id": "TbwkDy4VMxKt"
      },
      "source": [
        "Baseline model predicts next day's prediction as the previous days temperature values sicne, it is logical to assume that the deviation in tempeature pattern with subsequent days would not be drastic."
      ]
    },
    {
      "cell_type": "code",
      "execution_count": 16,
      "metadata": {
        "colab": {
          "base_uri": "https://localhost:8080/"
        },
        "id": "LmlNAIPqMxKt",
        "outputId": "ea1893dc-811d-47e5-8b40-3726f3eb513e"
      },
      "outputs": [
        {
          "output_type": "stream",
          "name": "stdout",
          "text": [
            "0.15699112\n"
          ]
        }
      ],
      "source": [
        "def test_base_model(data, in_seq_len, out_seq_len, offset, in_feats, out_feats, scaler, batch_size):\n",
        "    dataset = CustomDataset(data, in_seq_len, out_seq_len, offset, in_feats, out_feats, scaler)\n",
        "    dataloader = DataLoader(dataset, batch_size)\n",
        "    total_loss = []\n",
        "    with torch.inference_mode():\n",
        "        for x, y in dataloader:\n",
        "            loss = F.mse_loss(y, x)\n",
        "            total_loss.append(loss.numpy())\n",
        "    return np.mean(total_loss)\n",
        "\n",
        "loss = test_base_model(test_data, 24, 24, 24, 0, 0, scaler, 32)\n",
        "performance_log['baseline'].append(loss)\n",
        "print(loss)"
      ]
    },
    {
      "cell_type": "code",
      "execution_count": 17,
      "metadata": {
        "colab": {
          "base_uri": "https://localhost:8080/",
          "height": 338
        },
        "id": "lTL10tYpMxKt",
        "outputId": "529fc810-1b82-44de-cdd5-5c48938a026a"
      },
      "outputs": [
        {
          "output_type": "display_data",
          "data": {
            "text/plain": [
              "<Figure size 1200x300 with 1 Axes>"
            ],
            "image/png": "[encoded data removed]"
          },
          "metadata": {}
        }
      ],
      "source": [
        "def baseline_gen(data, in_seq_len, out_seq_len, offset):\n",
        "    idx = np.random.randint(0, len(data)- in_seq_len - offset)\n",
        "    x = data[idx : idx + in_seq_len]\n",
        "    y = data[idx + offset : idx + offset + in_seq_len]\n",
        "    plt.figure(figsize=(12, 3))\n",
        "    plt.plot(range(0, in_seq_len), x, marker='.', label='input')\n",
        "    plt.plot(range(offset, offset + out_seq_len), y, marker='.', label='true labels')\n",
        "    plt.plot(range(offset, offset + out_seq_len), x, marker='.',  label='prediction')\n",
        "    plt.title('Base Model')\n",
        "    plt.xlabel('Time')\n",
        "    plt.ylabel('Temperature (C)')\n",
        "    plt.legend()\n",
        "    plt.show();\n",
        "\n",
        "baseline_gen(test_data[:,0], 24, 24, 24)"
      ]
    },
    {
      "cell_type": "markdown",
      "metadata": {
        "id": "cGuaNk6kMxKu"
      },
      "source": [
        "## 4.1 Base Model"
      ]
    },
    {
      "cell_type": "code",
      "execution_count": 18,
      "metadata": {
        "id": "JZ72tR-IMxKu"
      },
      "outputs": [],
      "source": [
        "class GRUModel(nn.Module):\n",
        "    def __init__(self, input_features, hidden_dim, output_features, num_layers, dropout, out_seq_len):\n",
        "        super(GRUModel, self).__init__()\n",
        "        self.gru = nn.GRU(input_features, hidden_dim, num_layers, batch_first=True)\n",
        "        self.dropout = nn.Dropout(dropout)\n",
        "        self.ffwd = nn.Sequential(\n",
        "            nn.Linear(hidden_dim, hidden_dim * 2),\n",
        "            nn.GELU(),\n",
        "            nn.Linear(hidden_dim * 2, output_features)\n",
        "        )\n",
        "\n",
        "        self.num_layers = num_layers\n",
        "        self.hidden_dim = hidden_dim\n",
        "        self.out_seq_len = out_seq_len\n",
        "\n",
        "    def forward(self, x, hx):\n",
        "        if hx.device != x.device:\n",
        "            hx = hx.to(x.device)\n",
        "        x, hx = self.gru(x, hx)\n",
        "        x = self.dropout(x)\n",
        "        x = self.ffwd(x)\n",
        "        if self.out_seq_len == 1:\n",
        "            x = x[:,-1, :].unsqueeze(1)\n",
        "        elif self.out_seq_len < x.shape[1]:\n",
        "            x = x[:,-self.out_seq_len,:]\n",
        "        return x, hx\n",
        "\n",
        "    def _init_state(self, batch_size):\n",
        "        return torch.zeros(self.num_layers, batch_size, self.hidden_dim)"
      ]
    },
    {
      "cell_type": "markdown",
      "metadata": {
        "id": "LnG4UWRyMxKu"
      },
      "source": [
        "## 4.2 Single Output models"
      ]
    },
    {
      "cell_type": "markdown",
      "metadata": {
        "id": "aOALzHv0MxKu"
      },
      "source": [
        "### 4.2.1 Single Step Input - Single Step Output"
      ]
    },
    {
      "cell_type": "markdown",
      "metadata": {
        "id": "VirTpPiSMxKu"
      },
      "source": [
        "This model tries to find correlation in successive values, and not on a long term basis."
      ]
    },
    {
      "cell_type": "code",
      "execution_count": 19,
      "metadata": {
        "colab": {
          "base_uri": "https://localhost:8080/"
        },
        "id": "svLGoJbEMxKu",
        "outputId": "89f7a01a-3d34-4ff7-9238-37d2d4e4e48a"
      },
      "outputs": [
        {
          "output_type": "stream",
          "name": "stdout",
          "text": [
            "Input shape : torch.Size([1, 3])\n",
            "Label shape : torch.Size([1, 1])\n"
          ]
        }
      ],
      "source": [
        "dataset = CustomDataset(train_data, in_seq_len=1, out_seq_len=1, offset=1, in_features=slice(0,3), out_features=0, scaler = scaler)\n",
        "print(f'Input shape : {dataset[0][0].shape}\\nLabel shape : {dataset[0][1].shape}')"
      ]
    },
    {
      "cell_type": "code",
      "execution_count": 20,
      "metadata": {
        "colab": {
          "base_uri": "https://localhost:8080/"
        },
        "id": "Sfezr5nRMxKu",
        "outputId": "0a7d3acc-445e-4155-eb1f-f3cd8c0474f3"
      },
      "outputs": [
        {
          "output_type": "stream",
          "name": "stdout",
          "text": [
            "prediction shape: torch.Size([1, 1, 1]) \n",
            "label shape: torch.Size([1, 1, 1])\n",
            "num parameters : 21697\n"
          ]
        }
      ],
      "source": [
        "model = GRUModel(input_features=3, hidden_dim=64, output_features=1, num_layers=1, dropout=0.1, out_seq_len=1)\n",
        "hx = model._init_state(1)\n",
        "print(f'prediction shape: {model(dataset[0][0].unsqueeze(0), hx)[0].shape}',\n",
        "      f'\\nlabel shape: {dataset[0][1].unsqueeze(0).shape}')\n",
        "print(f'num parameters : {sum(p.numel() for p in model.parameters())}')"
      ]
    },
    {
      "cell_type": "code",
      "execution_count": 21,
      "metadata": {
        "id": "rY4n9WvrMxKu"
      },
      "outputs": [],
      "source": [
        "model.to(device)\n",
        "optimizer = torch.optim.AdamW(model.parameters(), lr=3e-4)"
      ]
    },
    {
      "cell_type": "code",
      "execution_count": 22,
      "metadata": {
        "colab": {
          "base_uri": "https://localhost:8080/",
          "height": 223,
          "referenced_widgets": [
            "d6dedbd8c6de4f62b77274003cd53a9c",
            "5eb0b5c37da040cd8c274010f85f7556",
            "c8757f9a1d5f40d08eb9418d90d1b7db",
            "a08f27b8866a4913936203bca1d92247",
            "d02aed25d0c24105be1741bbd993d827",
            "0c5c4f7366c54804876b0112d6de0334",
            "070bfe60ee0b4c20ad5ff756b9ee59ba",
            "d12d1218076c4903aa5e3768999a2169",
            "8042b529366c48feb3a432bcb4647906",
            "47dce59a4cdd4565ae5a43da8447b8e7",
            "efd670e1919d4a6589e9c165d79cb18f"
          ]
        },
        "id": "hmUQ9b-uMxKu",
        "outputId": "61155e40-bcbd-442f-a5b9-1dce5b4ebf4a"
      },
      "outputs": [
        {
          "output_type": "display_data",
          "data": {
            "text/plain": [
              "  0%|          | 0/10 [00:00<?, ?it/s]"
            ],
            "application/vnd.jupyter.widget-view+json": {
              "version_major": 2,
              "version_minor": 0,
              "model_id": "d6dedbd8c6de4f62b77274003cd53a9c"
            }
          },
          "metadata": {}
        },
        {
          "output_type": "stream",
          "name": "stdout",
          "text": [
            "Epochs : 0 | train loss : 0.3905 | val loss : 0.0170 | gpu usage : 0.0\n",
            "Epochs : 1 | train loss : 0.0193 | val loss : 0.0146 | gpu usage : 0.0\n",
            "Epochs : 2 | train loss : 0.0180 | val loss : 0.0145 | gpu usage : 0.0\n",
            "Epochs : 3 | train loss : 0.0175 | val loss : 0.0131 | gpu usage : 0.0\n",
            "Epochs : 4 | train loss : 0.0167 | val loss : 0.0140 | gpu usage : 0.0\n",
            "Epochs : 5 | train loss : 0.0167 | val loss : 0.0131 | gpu usage : 0.0\n",
            "Epochs : 6 | train loss : 0.0163 | val loss : 0.0127 | gpu usage : 0.0\n",
            "Epochs : 7 | train loss : 0.0160 | val loss : 0.0131 | gpu usage : 0.0\n",
            "Epochs : 8 | train loss : 0.0158 | val loss : 0.0129 | gpu usage : 0.0\n",
            "Epochs : 9 | train loss : 0.0156 | val loss : 0.0127 | gpu usage : 0.0\n"
          ]
        }
      ],
      "source": [
        "trainer = Trainer(model, optimizer, dataset, batch_size=64, epochs=10)\n",
        "trainer.train()"
      ]
    },
    {
      "cell_type": "code",
      "execution_count": 23,
      "metadata": {
        "colab": {
          "base_uri": "https://localhost:8080/",
          "height": 305
        },
        "id": "4opf0pqbMxKu",
        "outputId": "e8a4f4f9-0f72-40f5-b66d-a207047a1c59"
      },
      "outputs": [
        {
          "output_type": "display_data",
          "data": {
            "text/plain": [
              "<Figure size 1200x500 with 1 Axes>"
            ],
            "image/png": "[encoded data removed]"
          },
          "metadata": {}
        }
      ],
      "source": [
        "inference = Inference(model, test_data, scaler, in_seq_len=1, out_seq_len=1, offset=1, in_feats=slice(0, 3), out_feats=0, prediction_style='zs')\n",
        "inference.plot()"
      ]
    },
    {
      "cell_type": "code",
      "execution_count": 24,
      "metadata": {
        "colab": {
          "base_uri": "https://localhost:8080/"
        },
        "id": "D0x5Ds97MxKv",
        "outputId": "fc801568-cb4f-48e7-d9ff-421e2dc23c38"
      },
      "outputs": [
        {
          "output_type": "stream",
          "name": "stdout",
          "text": [
            "Test Loss : 0.014057508669793606\n"
          ]
        }
      ],
      "source": [
        "test_loss = inference.test_model(test_data, 32, in_feats=slice(0, 3), out_feats=0)\n",
        "performance_log['siso'].append(test_loss)\n",
        "print(f'Test Loss : {test_loss}')"
      ]
    },
    {
      "cell_type": "code",
      "execution_count": 25,
      "metadata": {
        "id": "PdHg1GBxMxKx"
      },
      "outputs": [],
      "source": [
        "del model"
      ]
    },
    {
      "cell_type": "markdown",
      "metadata": {
        "id": "JrOJcXC8MxKx"
      },
      "source": [
        "### 4.2.2 Multi Step Input - Single Step Output"
      ]
    },
    {
      "cell_type": "code",
      "execution_count": 26,
      "metadata": {
        "colab": {
          "base_uri": "https://localhost:8080/"
        },
        "id": "8JGbFtx-MxKx",
        "outputId": "b6bb908f-77a2-4001-d677-3970674ec439"
      },
      "outputs": [
        {
          "output_type": "stream",
          "name": "stdout",
          "text": [
            "Input shape : torch.Size([24, 3])\n",
            "Label shape : torch.Size([1, 1])\n"
          ]
        }
      ],
      "source": [
        "dataset = CustomDataset(train_data, in_seq_len=24, out_seq_len=1, offset=24, in_features=slice(0,3), out_features=0, scaler = scaler)\n",
        "print(f'Input shape : {dataset[0][0].shape}\\nLabel shape : {dataset[0][1].shape}')"
      ]
    },
    {
      "cell_type": "code",
      "execution_count": 27,
      "metadata": {
        "colab": {
          "base_uri": "https://localhost:8080/"
        },
        "id": "oaeaH0xNMxKy",
        "outputId": "1f4eb37e-ed17-41a7-b118-7a849c41c54c"
      },
      "outputs": [
        {
          "output_type": "stream",
          "name": "stdout",
          "text": [
            "prediction shape: torch.Size([1, 1, 1]) \n",
            "label shape: torch.Size([1, 1, 1])\n",
            "num parameters : 21697\n"
          ]
        }
      ],
      "source": [
        "model = GRUModel(input_features=3, hidden_dim=64, output_features=1, num_layers=1, dropout=0.1, out_seq_len=1)\n",
        "hx = model._init_state(1)\n",
        "print(f'prediction shape: {model(dataset[0][0].unsqueeze(0), hx)[0].shape}',\n",
        "      f'\\nlabel shape: {dataset[0][1].unsqueeze(0).shape}')\n",
        "print(f'num parameters : {sum(p.numel() for p in model.parameters())}')"
      ]
    },
    {
      "cell_type": "code",
      "execution_count": 28,
      "metadata": {
        "id": "gMAkXgDrMxKy"
      },
      "outputs": [],
      "source": [
        "model.to(device)\n",
        "optimizer = torch.optim.AdamW(model.parameters(), lr=3e-4)"
      ]
    },
    {
      "cell_type": "code",
      "execution_count": 29,
      "metadata": {
        "colab": {
          "base_uri": "https://localhost:8080/",
          "height": 223,
          "referenced_widgets": [
            "85e6b3d245de41d8a76bbb95e18f15cc",
            "b6f5b5eec1d548f19df4707cb9ccb154",
            "827e64b804054518849d6726c82c8e44",
            "5c84a3e9f511491fa924f582b3e81f75",
            "61a18b7c270c4a0c8bc8a603a1dd50b9",
            "db7f9c315f39475d84d2cc5d813065d0",
            "4d2ae27b559b4e8f83e07e702182df46",
            "706271e7d6534f8f8f08af8d4d944213",
            "95f7e7c4efc84cd39259cda707ae191a",
            "108ad1b0dcf6442091141f511518083a",
            "4bc7937031d24a0fbc669f7f03f15ee0"
          ]
        },
        "id": "elzYOQOiMxKy",
        "outputId": "c777a523-bdad-4cfa-fa95-cf7e1a55addb"
      },
      "outputs": [
        {
          "output_type": "display_data",
          "data": {
            "text/plain": [
              "  0%|          | 0/10 [00:00<?, ?it/s]"
            ],
            "application/vnd.jupyter.widget-view+json": {
              "version_major": 2,
              "version_minor": 0,
              "model_id": "85e6b3d245de41d8a76bbb95e18f15cc"
            }
          },
          "metadata": {}
        },
        {
          "output_type": "stream",
          "name": "stdout",
          "text": [
            "Epochs : 0 | train loss : 0.2325 | val loss : 0.0456 | gpu usage : 0.0\n",
            "Epochs : 1 | train loss : 0.0355 | val loss : 0.0203 | gpu usage : 0.0\n",
            "Epochs : 2 | train loss : 0.0201 | val loss : 0.0138 | gpu usage : 0.0\n",
            "Epochs : 3 | train loss : 0.0159 | val loss : 0.0102 | gpu usage : 0.0\n",
            "Epochs : 4 | train loss : 0.0146 | val loss : 0.0103 | gpu usage : 0.0\n",
            "Epochs : 5 | train loss : 0.0135 | val loss : 0.0099 | gpu usage : 0.0\n",
            "Epochs : 6 | train loss : 0.0132 | val loss : 0.0086 | gpu usage : 0.0\n",
            "Epochs : 7 | train loss : 0.0118 | val loss : 0.0083 | gpu usage : 0.0\n",
            "Epochs : 8 | train loss : 0.0115 | val loss : 0.0084 | gpu usage : 0.0\n",
            "Epochs : 9 | train loss : 0.0113 | val loss : 0.0083 | gpu usage : 0.0\n"
          ]
        }
      ],
      "source": [
        "trainer = Trainer(model, optimizer, dataset, batch_size=64, epochs=10)\n",
        "trainer.train()"
      ]
    },
    {
      "cell_type": "code",
      "execution_count": 30,
      "metadata": {
        "colab": {
          "base_uri": "https://localhost:8080/",
          "height": 308
        },
        "id": "98_bkvmXMxKy",
        "outputId": "55ee10a7-689f-4cd2-f5d3-4e365028ce7a"
      },
      "outputs": [
        {
          "output_type": "display_data",
          "data": {
            "text/plain": [
              "<Figure size 1200x500 with 1 Axes>"
            ],
            "image/png": "[encoded data removed]"
          },
          "metadata": {}
        }
      ],
      "source": [
        "inference = Inference(model, test_data, scaler, in_seq_len=24, out_seq_len=1, offset=24, in_feats=slice(0, 3), out_feats=0, prediction_style='zs')\n",
        "inference.plot()"
      ]
    },
    {
      "cell_type": "code",
      "execution_count": 31,
      "metadata": {
        "colab": {
          "base_uri": "https://localhost:8080/"
        },
        "id": "vYwTrersMxKy",
        "outputId": "207bd491-9a99-4b90-c10b-b064c5a7a719"
      },
      "outputs": [
        {
          "output_type": "stream",
          "name": "stdout",
          "text": [
            "Test Loss : 0.008859917521476746\n"
          ]
        }
      ],
      "source": [
        "test_loss = inference.test_model(test_data, 32, in_feats=slice(0, 3), out_feats=0)\n",
        "performance_log['miso'].append(test_loss)\n",
        "print(f'Test Loss : {test_loss}')"
      ]
    },
    {
      "cell_type": "code",
      "execution_count": 32,
      "metadata": {
        "id": "rl6v9oONMxKy"
      },
      "outputs": [],
      "source": [
        "del model"
      ]
    },
    {
      "cell_type": "markdown",
      "metadata": {
        "id": "l0Xwz5a3MxKy"
      },
      "source": [
        "## 4.3 Multi Output"
      ]
    },
    {
      "cell_type": "markdown",
      "metadata": {
        "id": "QrlidkElMxKy"
      },
      "source": [
        "### 4.3.1 Zero-Shot"
      ]
    },
    {
      "cell_type": "code",
      "execution_count": 33,
      "metadata": {
        "colab": {
          "base_uri": "https://localhost:8080/"
        },
        "id": "vaS3JDxUMxKy",
        "outputId": "f82b5eca-5647-4519-fb65-50019eb5a604"
      },
      "outputs": [
        {
          "output_type": "stream",
          "name": "stdout",
          "text": [
            "Input shape : torch.Size([24, 3])\n",
            "Label shape : torch.Size([24, 1])\n"
          ]
        }
      ],
      "source": [
        "dataset = CustomDataset(train_data, in_seq_len=24, out_seq_len=24,offset=24, in_features=slice(0,3), out_features=0, scaler = scaler)\n",
        "print(f'Input shape : {dataset[0][0].shape}\\nLabel shape : {dataset[0][1].shape}')"
      ]
    },
    {
      "cell_type": "code",
      "execution_count": 34,
      "metadata": {
        "colab": {
          "base_uri": "https://localhost:8080/"
        },
        "id": "klT4A_fOMxKz",
        "outputId": "65d9d9d7-3039-41c7-afd2-04fe80a66f04"
      },
      "outputs": [
        {
          "output_type": "stream",
          "name": "stdout",
          "text": [
            "prediction shape: torch.Size([1, 24, 1]) \n",
            "label shape: torch.Size([1, 24, 1])\n",
            "num parameters : 21697\n"
          ]
        }
      ],
      "source": [
        "model = GRUModel(input_features=3, hidden_dim=64, output_features=1, num_layers=1, dropout=0.1, out_seq_len=24)\n",
        "hx = model._init_state(1)\n",
        "print(f'prediction shape: {model(dataset[0][0].unsqueeze(0), hx)[0].shape}',\n",
        "      f'\\nlabel shape: {dataset[0][1].unsqueeze(0).shape}')\n",
        "print(f'num parameters : {sum(p.numel() for p in model.parameters())}')"
      ]
    },
    {
      "cell_type": "code",
      "execution_count": 35,
      "metadata": {
        "id": "X2RhWsItMxKz"
      },
      "outputs": [],
      "source": [
        "model.to(device)\n",
        "optimizer = torch.optim.AdamW(model.parameters(), lr=3e-4)"
      ]
    },
    {
      "cell_type": "code",
      "execution_count": 36,
      "metadata": {
        "colab": {
          "base_uri": "https://localhost:8080/",
          "height": 223,
          "referenced_widgets": [
            "171299bc92ae4469b51f474ba2a50c88",
            "54d9ecf49ff44ceea6bf301dd31d2bf4",
            "6d2ed6b420634271b0ab5552ebe61dab",
            "5cbaba9df8774ee79a67a1bd599b8d55",
            "9e1a5a152d034a10912998bae677e654",
            "63cb52e0ac3b41008edb5476bacb1f66",
            "c525c8171286414d84b3a0d2d904cc6a",
            "1807355808db4707827b9a5871eed0b2",
            "1a4476bc2b5f4a5dac101a86be80bc79",
            "72491d0a49604f40a3245f2c41d9b609",
            "c0bdc3dfeee9471482435570693583ce"
          ]
        },
        "id": "_kMhYjDBMxKz",
        "outputId": "3e836df9-8350-4284-eab4-8288be165668"
      },
      "outputs": [
        {
          "output_type": "display_data",
          "data": {
            "text/plain": [
              "  0%|          | 0/10 [00:00<?, ?it/s]"
            ],
            "application/vnd.jupyter.widget-view+json": {
              "version_major": 2,
              "version_minor": 0,
              "model_id": "171299bc92ae4469b51f474ba2a50c88"
            }
          },
          "metadata": {}
        },
        {
          "output_type": "stream",
          "name": "stdout",
          "text": [
            "Epochs : 0 | train loss : 0.3217 | val loss : 0.1605 | gpu usage : 0.0\n",
            "Epochs : 1 | train loss : 0.1488 | val loss : 0.1379 | gpu usage : 0.0\n",
            "Epochs : 2 | train loss : 0.1380 | val loss : 0.1325 | gpu usage : 0.0\n",
            "Epochs : 3 | train loss : 0.1345 | val loss : 0.1315 | gpu usage : 0.0\n",
            "Epochs : 4 | train loss : 0.1322 | val loss : 0.1323 | gpu usage : 0.0\n",
            "Epochs : 5 | train loss : 0.1319 | val loss : 0.1295 | gpu usage : 0.0\n",
            "Epochs : 6 | train loss : 0.1306 | val loss : 0.1216 | gpu usage : 0.0\n",
            "Epochs : 7 | train loss : 0.1315 | val loss : 0.1218 | gpu usage : 0.0\n",
            "Epochs : 8 | train loss : 0.1294 | val loss : 0.1257 | gpu usage : 0.0\n",
            "Epochs : 9 | train loss : 0.1291 | val loss : 0.1236 | gpu usage : 0.0\n"
          ]
        }
      ],
      "source": [
        "trainer = Trainer(model, optimizer, dataset, batch_size=64, epochs=10)\n",
        "trainer.train()"
      ]
    },
    {
      "cell_type": "code",
      "execution_count": 37,
      "metadata": {
        "colab": {
          "base_uri": "https://localhost:8080/",
          "height": 309
        },
        "id": "dwCqZNrCMxKz",
        "outputId": "799f0bf4-6dd5-4808-db7b-0c423815eee1"
      },
      "outputs": [
        {
          "output_type": "display_data",
          "data": {
            "text/plain": [
              "<Figure size 1200x500 with 1 Axes>"
            ],
            "image/png": "[encoded data removed]"
          },
          "metadata": {}
        }
      ],
      "source": [
        "inference = Inference(model, test_data, scaler, in_seq_len=24, out_seq_len=24, offset=24, in_feats=slice(0, 3), out_feats=0, prediction_style='zs')\n",
        "inference.plot()"
      ]
    },
    {
      "cell_type": "code",
      "execution_count": 38,
      "metadata": {
        "colab": {
          "base_uri": "https://localhost:8080/"
        },
        "id": "VT4C1vTqMxKz",
        "outputId": "52ffc0ad-96e1-41d2-ea72-8abda25883c9"
      },
      "outputs": [
        {
          "output_type": "stream",
          "name": "stdout",
          "text": [
            "Test Loss : 0.14452582597732544\n"
          ]
        }
      ],
      "source": [
        "test_loss = inference.test_model(test_data, 32, in_feats=slice(0,3), out_feats=0)\n",
        "performance_log['mimo_zs'].append(test_loss)\n",
        "print(f'Test Loss : {test_loss}')"
      ]
    },
    {
      "cell_type": "code",
      "execution_count": 39,
      "metadata": {
        "id": "h76M3Y2pMxKz"
      },
      "outputs": [],
      "source": [
        "del model"
      ]
    },
    {
      "cell_type": "markdown",
      "metadata": {
        "id": "5aujlMR1MxKz"
      },
      "source": [
        "### 4.3.2 AutoRegressive"
      ]
    },
    {
      "cell_type": "code",
      "execution_count": 40,
      "metadata": {
        "id": "NaU8ChVOMxKz"
      },
      "outputs": [],
      "source": [
        "scaler = StandardScaler()\n",
        "scaler.fit(train_data, axis=0)"
      ]
    },
    {
      "cell_type": "code",
      "execution_count": 41,
      "metadata": {
        "colab": {
          "base_uri": "https://localhost:8080/"
        },
        "id": "6HGamPC5MxK0",
        "outputId": "abc071da-0ce1-41c2-979c-c0fb2f159939"
      },
      "outputs": [
        {
          "output_type": "stream",
          "name": "stdout",
          "text": [
            "Input shape : torch.Size([24, 3])\n",
            "Label shape : torch.Size([24, 3])\n"
          ]
        }
      ],
      "source": [
        "dataset = CustomDataset(train_data, in_seq_len=24, out_seq_len=24, offset=1, in_features=slice(0,3), out_features=slice(0,3), scaler=scaler)\n",
        "print(f'Input shape : {dataset[0][0].shape}\\nLabel shape : {dataset[0][1].shape}')"
      ]
    },
    {
      "cell_type": "code",
      "execution_count": 42,
      "metadata": {
        "colab": {
          "base_uri": "https://localhost:8080/"
        },
        "id": "hia7EDS6MxK0",
        "outputId": "d2269a82-e0b3-4c32-b52f-bd1a67d17481"
      },
      "outputs": [
        {
          "output_type": "stream",
          "name": "stdout",
          "text": [
            "prediction shape: torch.Size([1, 24, 3]) \n",
            "label shape: torch.Size([1, 24, 3])\n",
            "num parameters : 21955\n"
          ]
        }
      ],
      "source": [
        "model = GRUModel(input_features=3, hidden_dim=64, output_features=3, num_layers=1, dropout=0.3, out_seq_len=24)\n",
        "hx = model._init_state(1)\n",
        "print(f'prediction shape: {model(dataset[0][0].unsqueeze(0), hx)[0].shape}',\n",
        "      f'\\nlabel shape: {dataset[0][1].unsqueeze(0).shape}')\n",
        "print(f'num parameters : {sum(p.numel() for p in model.parameters())}')"
      ]
    },
    {
      "cell_type": "code",
      "execution_count": 43,
      "metadata": {
        "id": "pRY1MP2jMxK0"
      },
      "outputs": [],
      "source": [
        "model.to(device)\n",
        "optimizer = torch.optim.AdamW(model.parameters(), lr=3e-4)"
      ]
    },
    {
      "cell_type": "code",
      "execution_count": 44,
      "metadata": {
        "colab": {
          "base_uri": "https://localhost:8080/",
          "height": 223,
          "referenced_widgets": [
            "29976d8930a1491c95a097891d06873a",
            "25e38a778d46410d9f1da42ff9bdc904",
            "766f46a3f7284c598a6f53872c7338f1",
            "6278508ac1b24bc8bbc35c20c3dd7820",
            "67403cfaf06e4563a68983e5ab4f5de9",
            "527684a1eceb4e628789bafbb2cae346",
            "2cd9df41288e4fa8a447048112cf61f1",
            "a383634aa29a488cbc0f3469ce0a6939",
            "7cc0fb483fdf43fbbf07ae42f0997d5f",
            "1c655511b42849269e248568b7361898",
            "2a1aa62e41c944aa915636da8abdfe26"
          ]
        },
        "id": "oMrRnIm0MxK0",
        "outputId": "5533a5b8-6afe-40d0-fec5-e0d5d727786f"
      },
      "outputs": [
        {
          "output_type": "display_data",
          "data": {
            "text/plain": [
              "  0%|          | 0/10 [00:00<?, ?it/s]"
            ],
            "application/vnd.jupyter.widget-view+json": {
              "version_major": 2,
              "version_minor": 0,
              "model_id": "29976d8930a1491c95a097891d06873a"
            }
          },
          "metadata": {}
        },
        {
          "output_type": "stream",
          "name": "stdout",
          "text": [
            "Epochs : 0 | train loss : 0.3509 | val loss : 0.0686 | gpu usage : 0.0\n",
            "Epochs : 1 | train loss : 0.0595 | val loss : 0.0253 | gpu usage : 0.0\n",
            "Epochs : 2 | train loss : 0.0366 | val loss : 0.0156 | gpu usage : 0.0\n",
            "Epochs : 3 | train loss : 0.0287 | val loss : 0.0117 | gpu usage : 0.0\n",
            "Epochs : 4 | train loss : 0.0251 | val loss : 0.0102 | gpu usage : 0.0\n",
            "Epochs : 5 | train loss : 0.0235 | val loss : 0.0092 | gpu usage : 0.0\n",
            "Epochs : 6 | train loss : 0.0221 | val loss : 0.0087 | gpu usage : 0.0\n",
            "Epochs : 7 | train loss : 0.0214 | val loss : 0.0084 | gpu usage : 0.0\n",
            "Epochs : 8 | train loss : 0.0211 | val loss : 0.0081 | gpu usage : 0.0\n",
            "Epochs : 9 | train loss : 0.0209 | val loss : 0.0081 | gpu usage : 0.0\n"
          ]
        }
      ],
      "source": [
        "trainer = Trainer(model, optimizer, dataset, batch_size=64, epochs=10)\n",
        "trainer.train()"
      ]
    },
    {
      "cell_type": "code",
      "execution_count": 45,
      "metadata": {
        "colab": {
          "base_uri": "https://localhost:8080/",
          "height": 306
        },
        "id": "34gACbj3MxK0",
        "outputId": "ad58edca-861f-411e-f041-754588b4032b"
      },
      "outputs": [
        {
          "output_type": "display_data",
          "data": {
            "text/plain": [
              "<Figure size 1200x500 with 1 Axes>"
            ],
            "image/png": "[encoded data removed]"
          },
          "metadata": {}
        }
      ],
      "source": [
        "inference = Inference(model, test_data, scaler, in_seq_len=24, out_seq_len=24, offset=1, in_feats=slice(0,3), out_feats=0, prediction_style='ar')\n",
        "inference.plot()"
      ]
    },
    {
      "cell_type": "code",
      "execution_count": 46,
      "metadata": {
        "colab": {
          "base_uri": "https://localhost:8080/"
        },
        "id": "drsfKslcMxK0",
        "outputId": "7b4267b8-4e48-4c2f-a1bf-2c03ae828e11"
      },
      "outputs": [
        {
          "output_type": "stream",
          "name": "stdout",
          "text": [
            "Test Loss : 0.010305187664926052\n"
          ]
        }
      ],
      "source": [
        "test_loss = inference.test_model(test_data, 32, in_feats=slice(0,3), out_feats=slice(0,3))\n",
        "performance_log['mimo_ar'].append(test_loss)\n",
        "print(f'Test Loss : {test_loss}')"
      ]
    },
    {
      "cell_type": "code",
      "execution_count": 47,
      "metadata": {
        "id": "yJjFQYO7MxK0"
      },
      "outputs": [],
      "source": [
        "del model"
      ]
    },
    {
      "cell_type": "markdown",
      "metadata": {
        "id": "9bSSMG_0MxK0"
      },
      "source": [
        "### 4.3.3 AutoRegressive Classifier"
      ]
    },
    {
      "cell_type": "markdown",
      "metadata": {
        "id": "95ZpUKJmMxK0"
      },
      "source": [
        "This architecture draws inspiration from LLMs.\n",
        "- The continuous range is divided into **fixed** number of **classes**.\n",
        "- **Min-Max scaling** to a **[0, vocab_size]** range is done to discretize the data.\n",
        "- For multivariate the array/tensor has to be flattened across seq_len and features dimension,i.e increasing seq_len of model by factor of features.\n",
        "- Model is trained with cross entropy loss."
      ]
    },
    {
      "cell_type": "markdown",
      "source": [
        "#### 4.3.3.1 Min-Max Scaler"
      ],
      "metadata": {
        "id": "beDxj-SxYy41"
      }
    },
    {
      "cell_type": "code",
      "execution_count": 48,
      "metadata": {
        "id": "T4aVaWa9MxK0"
      },
      "outputs": [],
      "source": [
        "class MinMaxScaler:\n",
        "    def __init__(self, vocab_size):\n",
        "        self.new_min = 0\n",
        "        self.new_max = vocab_size - 1\n",
        "\n",
        "    def fit(self, data, axis):\n",
        "        self.data_min  = np.min(data, axis=axis)\n",
        "        self.data_max = np.max(data, axis=axis)\n",
        "\n",
        "    def transform(self, data):\n",
        "        data =  (data - self.data_min) / (self.data_max - self.data_min) * (self.new_max - self.new_min) + self.new_min\n",
        "        return np.round(data).astype(np.int32)\n",
        "\n",
        "    def inverse_transform(self, scaled_data):\n",
        "        return (scaled_data - self.new_min) / (self.new_max - self.new_min) * (self.data_max - self.data_min) + self.data_min"
      ]
    },
    {
      "cell_type": "code",
      "execution_count": 49,
      "metadata": {
        "id": "Ji71ftL2MxK1"
      },
      "outputs": [],
      "source": [
        "scaler = MinMaxScaler(128)\n",
        "scaler.fit(train_data[:,0], axis=0)\n",
        "sc_data = scaler.transform(train_data[:,0])"
      ]
    },
    {
      "cell_type": "code",
      "execution_count": 50,
      "metadata": {
        "colab": {
          "base_uri": "https://localhost:8080/",
          "height": 231
        },
        "id": "UJoRJgyoMxK1",
        "outputId": "011c640f-124b-4e0b-86a3-aaab5de67afd"
      },
      "outputs": [
        {
          "output_type": "stream",
          "name": "stdout",
          "text": [
            "Data max : 127 \n",
            "Data min : 0\n"
          ]
        },
        {
          "output_type": "display_data",
          "data": {
            "text/plain": [
              "<Figure size 1200x300 with 1 Axes>"
            ],
            "image/png": "[encoded data removed]"
          },
          "metadata": {}
        }
      ],
      "source": [
        "print(f'Data max : {np.max(sc_data)} \\nData min : {np.min(sc_data)}')\n",
        "\n",
        "plt.figure(figsize=(12, 3))\n",
        "plt.plot(sc_data)\n",
        "plt.show();"
      ]
    },
    {
      "cell_type": "markdown",
      "source": [
        "#### 4.3.3.2 Dataset"
      ],
      "metadata": {
        "id": "Q9ETvn5cY6Or"
      }
    },
    {
      "cell_type": "code",
      "execution_count": 51,
      "metadata": {
        "colab": {
          "base_uri": "https://localhost:8080/"
        },
        "id": "GqXA8CjOMxK1",
        "outputId": "135a39a9-be22-42e6-f7ed-873fb1784106"
      },
      "outputs": [
        {
          "output_type": "stream",
          "name": "stdout",
          "text": [
            "Input shape : torch.Size([24])\n",
            "Label shape : torch.Size([24])\n"
          ]
        }
      ],
      "source": [
        "class CustomDataset(Dataset):\n",
        "    def __init__(self, data, in_seq_len, out_seq_len, offset, scaler):\n",
        "        super().__init__()\n",
        "        self.data = data\n",
        "        self.in_seq_len = in_seq_len\n",
        "        self.out_seq_len = out_seq_len\n",
        "        self.offset = offset\n",
        "        self.scaler = scaler\n",
        "        self.scaler.fit(data, axis=0)\n",
        "\n",
        "        if self.in_seq_len > self.offset + self.out_seq_len:\n",
        "            raise ValueError('Invalid input ouput mapping provided')\n",
        "\n",
        "    def __len__(self):\n",
        "        return len(self.data) - self.in_seq_len - self.offset\n",
        "\n",
        "    def __getitem__(self, index):\n",
        "        data = self.data[index : index + self.in_seq_len + self.offset]\n",
        "        data = self.scaler.transform(data)\n",
        "        x = torch.tensor(data[:self.in_seq_len], dtype=torch.long)\n",
        "        y = torch.tensor(data[self.offset: self.offset + self.out_seq_len], dtype=torch.long)\n",
        "        return x, y\n",
        "\n",
        "dataset = CustomDataset(train_data[:,0], in_seq_len=24, out_seq_len=24, offset=24, scaler=scaler)\n",
        "print(f'Input shape : {dataset[0][0].shape}\\nLabel shape : {dataset[0][1].shape}')"
      ]
    },
    {
      "cell_type": "code",
      "execution_count": 52,
      "metadata": {
        "colab": {
          "base_uri": "https://localhost:8080/"
        },
        "id": "oAUL6qaRMxK1",
        "outputId": "25150984-446d-4ab5-a8a0-e5fb1d220612"
      },
      "outputs": [
        {
          "output_type": "stream",
          "name": "stdout",
          "text": [
            "torch.Size([1, 24, 128])\n"
          ]
        }
      ],
      "source": [
        "class GRUModel(nn.Module):\n",
        "    def __init__(self, vocab_size, embed_dim, hidden_dim, num_layers, dropout):\n",
        "        super(GRUModel, self).__init__()\n",
        "        self.emb = nn.Embedding(vocab_size, embed_dim)\n",
        "        self.gru = nn.GRU(embed_dim, hidden_dim, num_layers, batch_first=True)\n",
        "        self.dropout = nn.Dropout(dropout)\n",
        "        self.ffwd = nn.Sequential(\n",
        "            nn.Linear(hidden_dim, hidden_dim * 2),\n",
        "            nn.GELU(),\n",
        "            nn.Linear(hidden_dim * 2, hidden_dim)\n",
        "        )\n",
        "        self.lin_out = nn.Linear(hidden_dim, vocab_size)\n",
        "        self.num_layers = num_layers\n",
        "        self.hidden_dim = hidden_dim\n",
        "\n",
        "    def forward(self, x, hx):\n",
        "        if hx.device != x.device:\n",
        "            hx = hx.to(x.device)\n",
        "        x = self.emb(x)\n",
        "        x, hx = self.gru(x, hx)\n",
        "        x = self.dropout(x)\n",
        "        x = self.ffwd(x)\n",
        "        x = self.lin_out(x)\n",
        "        return x, hx\n",
        "\n",
        "    def _init_state(self, batch_size):\n",
        "        return torch.zeros(self.num_layers, batch_size, self.hidden_dim)\n",
        "\n",
        "model = GRUModel(vocab_size=128, embed_dim=128, hidden_dim=128, num_layers=2, dropout=0.2)\n",
        "hx = model._init_state(1)\n",
        "x = torch.randint(0, 128, (1, 24))\n",
        "print(model(x, hx)[0].shape)\n",
        "del model"
      ]
    },
    {
      "cell_type": "code",
      "execution_count": 53,
      "metadata": {
        "colab": {
          "base_uri": "https://localhost:8080/"
        },
        "id": "JzxkRJD0MxK1",
        "outputId": "ffd4afe2-7a62-429c-e27b-507d620e18fe"
      },
      "outputs": [
        {
          "output_type": "stream",
          "name": "stdout",
          "text": [
            "prediction shape: torch.Size([1, 24, 128]) \n",
            "label shape: torch.Size([1, 24])\n",
            "num parameters : 296960\n"
          ]
        }
      ],
      "source": [
        "model = GRUModel(vocab_size=128, embed_dim=128, hidden_dim=128, num_layers=2, dropout=0.2)\n",
        "hx = model._init_state(1)\n",
        "print(f'prediction shape: {model(dataset[0][0].unsqueeze(0), hx)[0].shape}',\n",
        "      f'\\nlabel shape: {dataset[0][1].unsqueeze(0).shape}')\n",
        "print(f'num parameters : {sum(p.numel() for p in model.parameters())}')"
      ]
    },
    {
      "cell_type": "code",
      "execution_count": 54,
      "metadata": {
        "id": "QmVtweIIMxK1"
      },
      "outputs": [],
      "source": [
        "class Trainer:\n",
        "    def __init__(self, model, optimizer, dataset, batch_size, epochs):\n",
        "        self.model = model\n",
        "        self.optimizer = optimizer\n",
        "        self.dataset = dataset\n",
        "        self.batch_size = batch_size\n",
        "        self.epochs = epochs\n",
        "        self.device = next(self.model.parameters()).device\n",
        "\n",
        "    def get_dataloader(self, split):\n",
        "        train_dataset, val_dataset, test_dataset = random_split(self.dataset, [0.6, 0.2, 0.2])\n",
        "        if split == 'train':\n",
        "            return DataLoader(train_dataset, self.batch_size, True, drop_last=True)\n",
        "        elif split == 'val':\n",
        "            return DataLoader(val_dataset, self.batch_size, False, drop_last=True)\n",
        "        elif split == 'test':\n",
        "            return DataLoader(test_dataset, self.batch_size, False, drop_last=True)\n",
        "\n",
        "    def train_model(self):\n",
        "        hx = self.model._init_state(self.batch_size)\n",
        "        loader = self.get_dataloader('train')\n",
        "        total_loss = []\n",
        "        self.model.train()\n",
        "        for x, y in loader:\n",
        "            x, y = x.to(self.device), y.to(self.device)\n",
        "            self.optimizer.zero_grad()\n",
        "            y_pred, hx = self.model(x, hx)\n",
        "            hx = hx.detach()\n",
        "            loss = F.cross_entropy(y_pred.view(-1, y_pred.shape[-1]), y.view(-1))\n",
        "            loss.backward()\n",
        "            self.optimizer.step()\n",
        "            total_loss.append(loss.detach().cpu().numpy())\n",
        "        return np.mean(total_loss)\n",
        "\n",
        "    def eval_model(self, split):\n",
        "        loader = self.get_dataloader(split)\n",
        "        total_loss = []\n",
        "        self.model.eval()\n",
        "        hx = self.model._init_state(self.batch_size)\n",
        "        for x, y in loader:\n",
        "            with torch.no_grad():\n",
        "                x, y = x.to(self.device), y.to(self.device)\n",
        "                self.model.eval()\n",
        "                y_pred, hx = self.model(x, hx)\n",
        "                loss = F.cross_entropy(y_pred.view(-1, y_pred.shape[-1]), y.view(-1))\n",
        "                total_loss.append(loss.detach().cpu().numpy())\n",
        "        return np.mean(total_loss)\n",
        "\n",
        "    def train(self):\n",
        "        for epoch in tqdm(range(self.epochs)):\n",
        "            train_loss = self.train_model()\n",
        "            val_loss = self.eval_model('val')\n",
        "\n",
        "            if epoch % (self.epochs /10) == 0:\n",
        "                gpu_usage = round(torch.cuda.memory_reserved(0)/1024**3,1)\n",
        "                print(f'Epochs : {epoch} | train loss : {train_loss:.4f} | val loss : {val_loss:.4f} | gpu usage : {gpu_usage}')"
      ]
    },
    {
      "cell_type": "code",
      "execution_count": 55,
      "metadata": {
        "id": "LWig2wKvMxK2"
      },
      "outputs": [],
      "source": [
        "def save_chkpt(model, optimizer, path):\n",
        "    torch.save({\n",
        "        'model_state_dict': model.state_dict(),\n",
        "        'optimizer_state_dict': optimizer.state_dict()\n",
        "    }, path)\n",
        "\n",
        "def load_chkpt(model, optimizer, path):\n",
        "    device = next(model.parameters()).device\n",
        "    chkpt = torch.load(path, map_location=device, weights_only=True)\n",
        "    model.load_state_dict(chkpt['model_state_dict'])\n",
        "    optimizer.load_state_dict(chkpt['optimizer_state_dict'])\n",
        "    return model, optimizer"
      ]
    },
    {
      "cell_type": "code",
      "execution_count": 60,
      "metadata": {
        "id": "pW331bwjMxK2"
      },
      "outputs": [],
      "source": [
        "model.to(device)\n",
        "optimizer = torch.optim.AdamW(model.parameters(), lr=3e-4)"
      ]
    },
    {
      "cell_type": "code",
      "source": [
        "model, optimizer = load_chkpt(model, optimizer, 'temp_emb.pt')"
      ],
      "metadata": {
        "id": "nPWosoE_VObW"
      },
      "execution_count": 70,
      "outputs": []
    },
    {
      "cell_type": "markdown",
      "source": [
        "`Note`: GPU is recommended for training this model."
      ],
      "metadata": {
        "id": "Jsp84wtTVppI"
      }
    },
    {
      "cell_type": "code",
      "execution_count": 71,
      "metadata": {
        "colab": {
          "base_uri": "https://localhost:8080/",
          "height": 223,
          "referenced_widgets": [
            "14e7927bdf8a4c0d931522b0f353a33b",
            "37970be590b44534b634edead6348963",
            "c7cc3b8ecaf54ed58dbcd4e9523646aa",
            "d0bd32791a484fbe9549345c74f6ef7f",
            "02087e50e34c4f05bdab80bf7f464cea",
            "ffc602e0c1c846aeb67f04591d6fdb1f",
            "b825de17ef53404b9cd95be198cd88f9",
            "920d6847375944809a80c3dd85e968a1",
            "3bfe0d0ed28548909478458ce7950eee",
            "546a83b3d5dd4a6c8a90b196c12f3449",
            "bed0673324a8447ab040c560bb8af29b"
          ]
        },
        "id": "mHSzt1qQMxK2",
        "outputId": "9ecd8fab-f2e6-4a4f-a12d-d09d438568bf"
      },
      "outputs": [
        {
          "output_type": "display_data",
          "data": {
            "text/plain": [
              "  0%|          | 0/1000 [00:00<?, ?it/s]"
            ],
            "application/vnd.jupyter.widget-view+json": {
              "version_major": 2,
              "version_minor": 0,
              "model_id": "14e7927bdf8a4c0d931522b0f353a33b"
            }
          },
          "metadata": {}
        },
        {
          "output_type": "stream",
          "name": "stdout",
          "text": [
            "Epochs : 0 | train loss : 2.3849 | val loss : 2.2119 | gpu usage : 2.4\n",
            "Epochs : 100 | train loss : 1.9910 | val loss : 1.7347 | gpu usage : 2.4\n",
            "Epochs : 200 | train loss : 1.6697 | val loss : 1.3685 | gpu usage : 2.4\n",
            "Epochs : 300 | train loss : 1.4130 | val loss : 1.0741 | gpu usage : 2.4\n",
            "Epochs : 400 | train loss : 1.2236 | val loss : 0.8754 | gpu usage : 2.4\n",
            "Epochs : 500 | train loss : 1.0975 | val loss : 0.7611 | gpu usage : 2.4\n",
            "Epochs : 600 | train loss : 1.0052 | val loss : 0.6753 | gpu usage : 2.4\n",
            "Epochs : 700 | train loss : 0.9453 | val loss : 0.6451 | gpu usage : 2.4\n",
            "Epochs : 800 | train loss : 0.8923 | val loss : 0.6031 | gpu usage : 2.4\n",
            "Epochs : 900 | train loss : 0.8650 | val loss : 0.5892 | gpu usage : 2.4\n"
          ]
        }
      ],
      "source": [
        "trainer = Trainer(model, optimizer, dataset, batch_size=2048, epochs=1000)\n",
        "trainer.train()"
      ]
    },
    {
      "cell_type": "code",
      "execution_count": 72,
      "metadata": {
        "id": "WasySb9-MxK2"
      },
      "outputs": [],
      "source": [
        "save_chkpt(model, optimizer, 'temp_emb.pt')"
      ]
    },
    {
      "cell_type": "code",
      "execution_count": 77,
      "metadata": {
        "colab": {
          "base_uri": "https://localhost:8080/",
          "height": 492
        },
        "id": "rctEOLvZMxK2",
        "outputId": "c0f1e1ee-aa11-470d-f268-5264bf42d101"
      },
      "outputs": [
        {
          "output_type": "display_data",
          "data": {
            "text/plain": [
              "<Figure size 1200x500 with 1 Axes>"
            ],
            "image/png": "[encoded data removed]"
          },
          "metadata": {}
        }
      ],
      "source": [
        "class Inference:\n",
        "    def __init__(\n",
        "        self,\n",
        "        model,\n",
        "        data,\n",
        "        scaler,\n",
        "        in_seq_len,\n",
        "        out_seq_len,\n",
        "        offset,\n",
        "        prediction_style\n",
        "        ):\n",
        "        self.model = model\n",
        "        self.data = data\n",
        "        self.scaler = scaler\n",
        "        self.in_seq_len = in_seq_len\n",
        "        self.out_seq_len = out_seq_len\n",
        "        self.offset = offset\n",
        "        self.prediction_style = prediction_style\n",
        "        self.device = next(self.model.parameters()).device\n",
        "\n",
        "    def get_random_sample(self):\n",
        "        self.idx = np.random.randint(len(self.data) - self.in_seq_len - self.offset)\n",
        "        x = self.data[self.idx : self.idx + self.in_seq_len]\n",
        "        x = self.scaler.transform(x)\n",
        "        x = torch.tensor(x, dtype = torch.long, device = self.device)\n",
        "        if x.ndim == 1:\n",
        "            x = x.view(1, -1)\n",
        "        return x\n",
        "\n",
        "    def ar_generation(self, x, hx):\n",
        "        hx = self.model._init_state(x.shape[0])\n",
        "        self.model.eval()\n",
        "        with torch.inference_mode():\n",
        "            for _ in range(self.out_seq_len):\n",
        "                x_trunc = x[:, -self.out_seq_len:]\n",
        "                y_pred, hx = self.model(x_trunc, hx)\n",
        "                y_pred = F.softmax(y_pred[:,-1,:], dim=-1)\n",
        "                y_pred = torch.argmax(y_pred, dim=-1)\n",
        "                x = torch.cat((x_trunc, y_pred.view(1,-1)), dim=1)\n",
        "        return x[:,-self.out_seq_len:].cpu().detach().numpy()\n",
        "\n",
        "\n",
        "    def predict(self):\n",
        "        x = self.get_random_sample()\n",
        "\n",
        "        y_pred = self.ar_generation(x, hx)\n",
        "        y_pred = self.scaler.inverse_transform(y_pred).reshape(-1)\n",
        "\n",
        "        return y_pred\n",
        "\n",
        "    def plot(self):\n",
        "        y_pred = self.predict()\n",
        "        x = self.data[self.idx : self.idx + self.in_seq_len+1]\n",
        "        y = self.data[self.idx + self.in_seq_len : self.idx + self.in_seq_len + self.out_seq_len]\n",
        "\n",
        "        plt.figure(figsize=(12, 5))\n",
        "        plt.plot(range(0, self.in_seq_len+1), x, label='inputs', color='darkgreen')\n",
        "        plt.plot(range(self.in_seq_len, self.in_seq_len+ self.out_seq_len), y, label = 'true')\n",
        "        plt.plot(range(self.in_seq_len, self.in_seq_len + self.out_seq_len), y_pred, color='slateblue', label ='predictions')\n",
        "        plt.scatter(range(self.in_seq_len, self.in_seq_len+ self.out_seq_len), y, edgecolors='black', label = 'true')\n",
        "        plt.scatter(range(self.in_seq_len, self.in_seq_len + self.out_seq_len), y_pred, marker='X', edgecolors='black', color='slateblue', label ='predictions')\n",
        "        plt.legend()\n",
        "        plt.xlabel('Time (h)')\n",
        "        plt.ylabel('Temeprature (C)')\n",
        "        plt.title('Classification Style AutoRegression')\n",
        "        plt.show()\n",
        "\n",
        "    def test_model(self, data, batch_size):\n",
        "        self.scaler.fit(data, axis=0)\n",
        "        dataset = CustomDataset(data, self.in_seq_len, self.out_seq_len, self.offset, self.scaler)\n",
        "        dataloader = DataLoader(dataset, batch_size, drop_last=True)\n",
        "        total_loss = []\n",
        "        hx = self.model._init_state(batch_size)\n",
        "        self.model.eval()\n",
        "        with torch.inference_mode():\n",
        "            for x, y in dataloader:\n",
        "                x, y = x.to(self.device), y.to(self.device)\n",
        "                y_pred , hx = self.model(x, hx)\n",
        "                loss = F.cross_entropy(y_pred.view(-1, y_pred.shape[-1]), y.view(-1))\n",
        "                total_loss.append(loss.cpu().detach().numpy())\n",
        "        return np.mean(total_loss)\n",
        "\n",
        "inference = Inference(model, test_data[:,0], scaler, in_seq_len=24, out_seq_len=24, offset=1, prediction_style='ar')\n",
        "inference.plot()"
      ]
    },
    {
      "cell_type": "markdown",
      "metadata": {
        "id": "xIJ0ynyWMxK2"
      },
      "source": [
        "`Note`: Autoregressive model in the form of classification has to been trained longer to get good results and therefore is not compared."
      ]
    },
    {
      "cell_type": "markdown",
      "source": [
        "**Abbreviation guide:**\n",
        "- siso : single input single output.\n",
        "- miso : multiple input single output.\n",
        "- mimo_zs : multiple input multiple output with zero shot prediction.\n",
        "- mimio_ar : multiple input multiple output with autoregressive prediction."
      ],
      "metadata": {
        "id": "sZF8aGX_V3rD"
      }
    },
    {
      "cell_type": "code",
      "execution_count": 64,
      "metadata": {
        "colab": {
          "base_uri": "https://localhost:8080/",
          "height": 415
        },
        "id": "s5AZASE9MxK2",
        "outputId": "cb631cee-dcf5-4102-83bb-daba13e0f653"
      },
      "outputs": [
        {
          "output_type": "display_data",
          "data": {
            "text/plain": [
              "<Figure size 1000x400 with 1 Axes>"
            ],
            "image/png": "[encoded data removed]"
          },
          "metadata": {}
        }
      ],
      "source": [
        "plt.figure(figsize=(10, 4))\n",
        "plt.bar(list(performance_log.keys()), sum(list(performance_log.values()), []), width=0.3)\n",
        "plt.title('Test Loss over 10 epochs for different architectures')\n",
        "plt.xlabel('Architectures')\n",
        "plt.ylabel('MSE loss')\n",
        "plt.show();"
      ]
    }
  ],
  "metadata": {
    "kernelspec": {
      "display_name": "Python 3",
      "name": "python3"
    },
    "language_info": {
      "codemirror_mode": {
        "name": "ipython",
        "version": 3
      },
      "file_extension": ".py",
      "mimetype": "text/x-python",
      "name": "python",
      "nbconvert_exporter": "python",
      "pygments_lexer": "ipython3",
      "version": "3.12.6"
    },
    "colab": {
      "provenance": [],
      "collapsed_sections": [
        "yUgtHofyMxKo",
        "MfG_SUMVMxKr",
        "tMiQV3VoMxKr",
        "s1ZFeHA4MxKs",
        "EpEypE2iMxKs",
        "87r75blbMxKs",
        "MsLNYQZ2MxKt",
        "Rh9oipbyMxKt",
        "cGuaNk6kMxKu",
        "aOALzHv0MxKu",
        "JrOJcXC8MxKx",
        "QrlidkElMxKy",
        "5aujlMR1MxKz",
        "beDxj-SxYy41"
      ],
      "gpuType": "T4"
    },
    "accelerator": "GPU",
    "widgets": {
      "application/vnd.jupyter.widget-state+json": {
        "d6dedbd8c6de4f62b77274003cd53a9c": {
          "model_module": "@jupyter-widgets/controls",
          "model_name": "HBoxModel",
          "model_module_version": "1.5.0",
          "state": {
            "_dom_classes": [],
            "_model_module": "@jupyter-widgets/controls",
            "_model_module_version": "1.5.0",
            "_model_name": "HBoxModel",
            "_view_count": null,
            "_view_module": "@jupyter-widgets/controls",
            "_view_module_version": "1.5.0",
            "_view_name": "HBoxView",
            "box_style": "",
            "children": [
              "IPY_MODEL_5eb0b5c37da040cd8c274010f85f7556",
              "IPY_MODEL_c8757f9a1d5f40d08eb9418d90d1b7db",
              "IPY_MODEL_a08f27b8866a4913936203bca1d92247"
            ],
            "layout": "IPY_MODEL_d02aed25d0c24105be1741bbd993d827"
          }
        },
        "5eb0b5c37da040cd8c274010f85f7556": {
          "model_module": "@jupyter-widgets/controls",
          "model_name": "HTMLModel",
          "model_module_version": "1.5.0",
          "state": {
            "_dom_classes": [],
            "_model_module": "@jupyter-widgets/controls",
            "_model_module_version": "1.5.0",
            "_model_name": "HTMLModel",
            "_view_count": null,
            "_view_module": "@jupyter-widgets/controls",
            "_view_module_version": "1.5.0",
            "_view_name": "HTMLView",
            "description": "",
            "description_tooltip": null,
            "layout": "IPY_MODEL_0c5c4f7366c54804876b0112d6de0334",
            "placeholder": "​",
            "style": "IPY_MODEL_070bfe60ee0b4c20ad5ff756b9ee59ba",
            "value": "100%"
          }
        },
        "c8757f9a1d5f40d08eb9418d90d1b7db": {
          "model_module": "@jupyter-widgets/controls",
          "model_name": "FloatProgressModel",
          "model_module_version": "1.5.0",
          "state": {
            "_dom_classes": [],
            "_model_module": "@jupyter-widgets/controls",
            "_model_module_version": "1.5.0",
            "_model_name": "FloatProgressModel",
            "_view_count": null,
            "_view_module": "@jupyter-widgets/controls",
            "_view_module_version": "1.5.0",
            "_view_name": "ProgressView",
            "bar_style": "success",
            "description": "",
            "description_tooltip": null,
            "layout": "IPY_MODEL_d12d1218076c4903aa5e3768999a2169",
            "max": 10,
            "min": 0,
            "orientation": "horizontal",
            "style": "IPY_MODEL_8042b529366c48feb3a432bcb4647906",
            "value": 10
          }
        },
        "a08f27b8866a4913936203bca1d92247": {
          "model_module": "@jupyter-widgets/controls",
          "model_name": "HTMLModel",
          "model_module_version": "1.5.0",
          "state": {
            "_dom_classes": [],
            "_model_module": "@jupyter-widgets/controls",
            "_model_module_version": "1.5.0",
            "_model_name": "HTMLModel",
            "_view_count": null,
            "_view_module": "@jupyter-widgets/controls",
            "_view_module_version": "1.5.0",
            "_view_name": "HTMLView",
            "description": "",
            "description_tooltip": null,
            "layout": "IPY_MODEL_47dce59a4cdd4565ae5a43da8447b8e7",
            "placeholder": "​",
            "style": "IPY_MODEL_efd670e1919d4a6589e9c165d79cb18f",
            "value": " 10/10 [00:10&lt;00:00,  1.15it/s]"
          }
        },
        "d02aed25d0c24105be1741bbd993d827": {
          "model_module": "@jupyter-widgets/base",
          "model_name": "LayoutModel",
          "model_module_version": "1.2.0",
          "state": {
            "_model_module": "@jupyter-widgets/base",
            "_model_module_version": "1.2.0",
            "_model_name": "LayoutModel",
            "_view_count": null,
            "_view_module": "@jupyter-widgets/base",
            "_view_module_version": "1.2.0",
            "_view_name": "LayoutView",
            "align_content": null,
            "align_items": null,
            "align_self": null,
            "border": null,
            "bottom": null,
            "display": null,
            "flex": null,
            "flex_flow": null,
            "grid_area": null,
            "grid_auto_columns": null,
            "grid_auto_flow": null,
            "grid_auto_rows": null,
            "grid_column": null,
            "grid_gap": null,
            "grid_row": null,
            "grid_template_areas": null,
            "grid_template_columns": null,
            "grid_template_rows": null,
            "height": null,
            "justify_content": null,
            "justify_items": null,
            "left": null,
            "margin": null,
            "max_height": null,
            "max_width": null,
            "min_height": null,
            "min_width": null,
            "object_fit": null,
            "object_position": null,
            "order": null,
            "overflow": null,
            "overflow_x": null,
            "overflow_y": null,
            "padding": null,
            "right": null,
            "top": null,
            "visibility": null,
            "width": null
          }
        },
        "0c5c4f7366c54804876b0112d6de0334": {
          "model_module": "@jupyter-widgets/base",
          "model_name": "LayoutModel",
          "model_module_version": "1.2.0",
          "state": {
            "_model_module": "@jupyter-widgets/base",
            "_model_module_version": "1.2.0",
            "_model_name": "LayoutModel",
            "_view_count": null,
            "_view_module": "@jupyter-widgets/base",
            "_view_module_version": "1.2.0",
            "_view_name": "LayoutView",
            "align_content": null,
            "align_items": null,
            "align_self": null,
            "border": null,
            "bottom": null,
            "display": null,
            "flex": null,
            "flex_flow": null,
            "grid_area": null,
            "grid_auto_columns": null,
            "grid_auto_flow": null,
            "grid_auto_rows": null,
            "grid_column": null,
            "grid_gap": null,
            "grid_row": null,
            "grid_template_areas": null,
            "grid_template_columns": null,
            "grid_template_rows": null,
            "height": null,
            "justify_content": null,
            "justify_items": null,
            "left": null,
            "margin": null,
            "max_height": null,
            "max_width": null,
            "min_height": null,
            "min_width": null,
            "object_fit": null,
            "object_position": null,
            "order": null,
            "overflow": null,
            "overflow_x": null,
            "overflow_y": null,
            "padding": null,
            "right": null,
            "top": null,
            "visibility": null,
            "width": null
          }
        },
        "070bfe60ee0b4c20ad5ff756b9ee59ba": {
          "model_module": "@jupyter-widgets/controls",
          "model_name": "DescriptionStyleModel",
          "model_module_version": "1.5.0",
          "state": {
            "_model_module": "@jupyter-widgets/controls",
            "_model_module_version": "1.5.0",
            "_model_name": "DescriptionStyleModel",
            "_view_count": null,
            "_view_module": "@jupyter-widgets/base",
            "_view_module_version": "1.2.0",
            "_view_name": "StyleView",
            "description_width": ""
          }
        },
        "d12d1218076c4903aa5e3768999a2169": {
          "model_module": "@jupyter-widgets/base",
          "model_name": "LayoutModel",
          "model_module_version": "1.2.0",
          "state": {
            "_model_module": "@jupyter-widgets/base",
            "_model_module_version": "1.2.0",
            "_model_name": "LayoutModel",
            "_view_count": null,
            "_view_module": "@jupyter-widgets/base",
            "_view_module_version": "1.2.0",
            "_view_name": "LayoutView",
            "align_content": null,
            "align_items": null,
            "align_self": null,
            "border": null,
            "bottom": null,
            "display": null,
            "flex": null,
            "flex_flow": null,
            "grid_area": null,
            "grid_auto_columns": null,
            "grid_auto_flow": null,
            "grid_auto_rows": null,
            "grid_column": null,
            "grid_gap": null,
            "grid_row": null,
            "grid_template_areas": null,
            "grid_template_columns": null,
            "grid_template_rows": null,
            "height": null,
            "justify_content": null,
            "justify_items": null,
            "left": null,
            "margin": null,
            "max_height": null,
            "max_width": null,
            "min_height": null,
            "min_width": null,
            "object_fit": null,
            "object_position": null,
            "order": null,
            "overflow": null,
            "overflow_x": null,
            "overflow_y": null,
            "padding": null,
            "right": null,
            "top": null,
            "visibility": null,
            "width": null
          }
        },
        "8042b529366c48feb3a432bcb4647906": {
          "model_module": "@jupyter-widgets/controls",
          "model_name": "ProgressStyleModel",
          "model_module_version": "1.5.0",
          "state": {
            "_model_module": "@jupyter-widgets/controls",
            "_model_module_version": "1.5.0",
            "_model_name": "ProgressStyleModel",
            "_view_count": null,
            "_view_module": "@jupyter-widgets/base",
            "_view_module_version": "1.2.0",
            "_view_name": "StyleView",
            "bar_color": null,
            "description_width": ""
          }
        },
        "47dce59a4cdd4565ae5a43da8447b8e7": {
          "model_module": "@jupyter-widgets/base",
          "model_name": "LayoutModel",
          "model_module_version": "1.2.0",
          "state": {
            "_model_module": "@jupyter-widgets/base",
            "_model_module_version": "1.2.0",
            "_model_name": "LayoutModel",
            "_view_count": null,
            "_view_module": "@jupyter-widgets/base",
            "_view_module_version": "1.2.0",
            "_view_name": "LayoutView",
            "align_content": null,
            "align_items": null,
            "align_self": null,
            "border": null,
            "bottom": null,
            "display": null,
            "flex": null,
            "flex_flow": null,
            "grid_area": null,
            "grid_auto_columns": null,
            "grid_auto_flow": null,
            "grid_auto_rows": null,
            "grid_column": null,
            "grid_gap": null,
            "grid_row": null,
            "grid_template_areas": null,
            "grid_template_columns": null,
            "grid_template_rows": null,
            "height": null,
            "justify_content": null,
            "justify_items": null,
            "left": null,
            "margin": null,
            "max_height": null,
            "max_width": null,
            "min_height": null,
            "min_width": null,
            "object_fit": null,
            "object_position": null,
            "order": null,
            "overflow": null,
            "overflow_x": null,
            "overflow_y": null,
            "padding": null,
            "right": null,
            "top": null,
            "visibility": null,
            "width": null
          }
        },
        "efd670e1919d4a6589e9c165d79cb18f": {
          "model_module": "@jupyter-widgets/controls",
          "model_name": "DescriptionStyleModel",
          "model_module_version": "1.5.0",
          "state": {
            "_model_module": "@jupyter-widgets/controls",
            "_model_module_version": "1.5.0",
            "_model_name": "DescriptionStyleModel",
            "_view_count": null,
            "_view_module": "@jupyter-widgets/base",
            "_view_module_version": "1.2.0",
            "_view_name": "StyleView",
            "description_width": ""
          }
        },
        "85e6b3d245de41d8a76bbb95e18f15cc": {
          "model_module": "@jupyter-widgets/controls",
          "model_name": "HBoxModel",
          "model_module_version": "1.5.0",
          "state": {
            "_dom_classes": [],
            "_model_module": "@jupyter-widgets/controls",
            "_model_module_version": "1.5.0",
            "_model_name": "HBoxModel",
            "_view_count": null,
            "_view_module": "@jupyter-widgets/controls",
            "_view_module_version": "1.5.0",
            "_view_name": "HBoxView",
            "box_style": "",
            "children": [
              "IPY_MODEL_b6f5b5eec1d548f19df4707cb9ccb154",
              "IPY_MODEL_827e64b804054518849d6726c82c8e44",
              "IPY_MODEL_5c84a3e9f511491fa924f582b3e81f75"
            ],
            "layout": "IPY_MODEL_61a18b7c270c4a0c8bc8a603a1dd50b9"
          }
        },
        "b6f5b5eec1d548f19df4707cb9ccb154": {
          "model_module": "@jupyter-widgets/controls",
          "model_name": "HTMLModel",
          "model_module_version": "1.5.0",
          "state": {
            "_dom_classes": [],
            "_model_module": "@jupyter-widgets/controls",
            "_model_module_version": "1.5.0",
            "_model_name": "HTMLModel",
            "_view_count": null,
            "_view_module": "@jupyter-widgets/controls",
            "_view_module_version": "1.5.0",
            "_view_name": "HTMLView",
            "description": "",
            "description_tooltip": null,
            "layout": "IPY_MODEL_db7f9c315f39475d84d2cc5d813065d0",
            "placeholder": "​",
            "style": "IPY_MODEL_4d2ae27b559b4e8f83e07e702182df46",
            "value": "100%"
          }
        },
        "827e64b804054518849d6726c82c8e44": {
          "model_module": "@jupyter-widgets/controls",
          "model_name": "FloatProgressModel",
          "model_module_version": "1.5.0",
          "state": {
            "_dom_classes": [],
            "_model_module": "@jupyter-widgets/controls",
            "_model_module_version": "1.5.0",
            "_model_name": "FloatProgressModel",
            "_view_count": null,
            "_view_module": "@jupyter-widgets/controls",
            "_view_module_version": "1.5.0",
            "_view_name": "ProgressView",
            "bar_style": "success",
            "description": "",
            "description_tooltip": null,
            "layout": "IPY_MODEL_706271e7d6534f8f8f08af8d4d944213",
            "max": 10,
            "min": 0,
            "orientation": "horizontal",
            "style": "IPY_MODEL_95f7e7c4efc84cd39259cda707ae191a",
            "value": 10
          }
        },
        "5c84a3e9f511491fa924f582b3e81f75": {
          "model_module": "@jupyter-widgets/controls",
          "model_name": "HTMLModel",
          "model_module_version": "1.5.0",
          "state": {
            "_dom_classes": [],
            "_model_module": "@jupyter-widgets/controls",
            "_model_module_version": "1.5.0",
            "_model_name": "HTMLModel",
            "_view_count": null,
            "_view_module": "@jupyter-widgets/controls",
            "_view_module_version": "1.5.0",
            "_view_name": "HTMLView",
            "description": "",
            "description_tooltip": null,
            "layout": "IPY_MODEL_108ad1b0dcf6442091141f511518083a",
            "placeholder": "​",
            "style": "IPY_MODEL_4bc7937031d24a0fbc669f7f03f15ee0",
            "value": " 10/10 [00:09&lt;00:00,  1.12it/s]"
          }
        },
        "61a18b7c270c4a0c8bc8a603a1dd50b9": {
          "model_module": "@jupyter-widgets/base",
          "model_name": "LayoutModel",
          "model_module_version": "1.2.0",
          "state": {
            "_model_module": "@jupyter-widgets/base",
            "_model_module_version": "1.2.0",
            "_model_name": "LayoutModel",
            "_view_count": null,
            "_view_module": "@jupyter-widgets/base",
            "_view_module_version": "1.2.0",
            "_view_name": "LayoutView",
            "align_content": null,
            "align_items": null,
            "align_self": null,
            "border": null,
            "bottom": null,
            "display": null,
            "flex": null,
            "flex_flow": null,
            "grid_area": null,
            "grid_auto_columns": null,
            "grid_auto_flow": null,
            "grid_auto_rows": null,
            "grid_column": null,
            "grid_gap": null,
            "grid_row": null,
            "grid_template_areas": null,
            "grid_template_columns": null,
            "grid_template_rows": null,
            "height": null,
            "justify_content": null,
            "justify_items": null,
            "left": null,
            "margin": null,
            "max_height": null,
            "max_width": null,
            "min_height": null,
            "min_width": null,
            "object_fit": null,
            "object_position": null,
            "order": null,
            "overflow": null,
            "overflow_x": null,
            "overflow_y": null,
            "padding": null,
            "right": null,
            "top": null,
            "visibility": null,
            "width": null
          }
        },
        "db7f9c315f39475d84d2cc5d813065d0": {
          "model_module": "@jupyter-widgets/base",
          "model_name": "LayoutModel",
          "model_module_version": "1.2.0",
          "state": {
            "_model_module": "@jupyter-widgets/base",
            "_model_module_version": "1.2.0",
            "_model_name": "LayoutModel",
            "_view_count": null,
            "_view_module": "@jupyter-widgets/base",
            "_view_module_version": "1.2.0",
            "_view_name": "LayoutView",
            "align_content": null,
            "align_items": null,
            "align_self": null,
            "border": null,
            "bottom": null,
            "display": null,
            "flex": null,
            "flex_flow": null,
            "grid_area": null,
            "grid_auto_columns": null,
            "grid_auto_flow": null,
            "grid_auto_rows": null,
            "grid_column": null,
            "grid_gap": null,
            "grid_row": null,
            "grid_template_areas": null,
            "grid_template_columns": null,
            "grid_template_rows": null,
            "height": null,
            "justify_content": null,
            "justify_items": null,
            "left": null,
            "margin": null,
            "max_height": null,
            "max_width": null,
            "min_height": null,
            "min_width": null,
            "object_fit": null,
            "object_position": null,
            "order": null,
            "overflow": null,
            "overflow_x": null,
            "overflow_y": null,
            "padding": null,
            "right": null,
            "top": null,
            "visibility": null,
            "width": null
          }
        },
        "4d2ae27b559b4e8f83e07e702182df46": {
          "model_module": "@jupyter-widgets/controls",
          "model_name": "DescriptionStyleModel",
          "model_module_version": "1.5.0",
          "state": {
            "_model_module": "@jupyter-widgets/controls",
            "_model_module_version": "1.5.0",
            "_model_name": "DescriptionStyleModel",
            "_view_count": null,
            "_view_module": "@jupyter-widgets/base",
            "_view_module_version": "1.2.0",
            "_view_name": "StyleView",
            "description_width": ""
          }
        },
        "706271e7d6534f8f8f08af8d4d944213": {
          "model_module": "@jupyter-widgets/base",
          "model_name": "LayoutModel",
          "model_module_version": "1.2.0",
          "state": {
            "_model_module": "@jupyter-widgets/base",
            "_model_module_version": "1.2.0",
            "_model_name": "LayoutModel",
            "_view_count": null,
            "_view_module": "@jupyter-widgets/base",
            "_view_module_version": "1.2.0",
            "_view_name": "LayoutView",
            "align_content": null,
            "align_items": null,
            "align_self": null,
            "border": null,
            "bottom": null,
            "display": null,
            "flex": null,
            "flex_flow": null,
            "grid_area": null,
            "grid_auto_columns": null,
            "grid_auto_flow": null,
            "grid_auto_rows": null,
            "grid_column": null,
            "grid_gap": null,
            "grid_row": null,
            "grid_template_areas": null,
            "grid_template_columns": null,
            "grid_template_rows": null,
            "height": null,
            "justify_content": null,
            "justify_items": null,
            "left": null,
            "margin": null,
            "max_height": null,
            "max_width": null,
            "min_height": null,
            "min_width": null,
            "object_fit": null,
            "object_position": null,
            "order": null,
            "overflow": null,
            "overflow_x": null,
            "overflow_y": null,
            "padding": null,
            "right": null,
            "top": null,
            "visibility": null,
            "width": null
          }
        },
        "95f7e7c4efc84cd39259cda707ae191a": {
          "model_module": "@jupyter-widgets/controls",
          "model_name": "ProgressStyleModel",
          "model_module_version": "1.5.0",
          "state": {
            "_model_module": "@jupyter-widgets/controls",
            "_model_module_version": "1.5.0",
            "_model_name": "ProgressStyleModel",
            "_view_count": null,
            "_view_module": "@jupyter-widgets/base",
            "_view_module_version": "1.2.0",
            "_view_name": "StyleView",
            "bar_color": null,
            "description_width": ""
          }
        },
        "108ad1b0dcf6442091141f511518083a": {
          "model_module": "@jupyter-widgets/base",
          "model_name": "LayoutModel",
          "model_module_version": "1.2.0",
          "state": {
            "_model_module": "@jupyter-widgets/base",
            "_model_module_version": "1.2.0",
            "_model_name": "LayoutModel",
            "_view_count": null,
            "_view_module": "@jupyter-widgets/base",
            "_view_module_version": "1.2.0",
            "_view_name": "LayoutView",
            "align_content": null,
            "align_items": null,
            "align_self": null,
            "border": null,
            "bottom": null,
            "display": null,
            "flex": null,
            "flex_flow": null,
            "grid_area": null,
            "grid_auto_columns": null,
            "grid_auto_flow": null,
            "grid_auto_rows": null,
            "grid_column": null,
            "grid_gap": null,
            "grid_row": null,
            "grid_template_areas": null,
            "grid_template_columns": null,
            "grid_template_rows": null,
            "height": null,
            "justify_content": null,
            "justify_items": null,
            "left": null,
            "margin": null,
            "max_height": null,
            "max_width": null,
            "min_height": null,
            "min_width": null,
            "object_fit": null,
            "object_position": null,
            "order": null,
            "overflow": null,
            "overflow_x": null,
            "overflow_y": null,
            "padding": null,
            "right": null,
            "top": null,
            "visibility": null,
            "width": null
          }
        },
        "4bc7937031d24a0fbc669f7f03f15ee0": {
          "model_module": "@jupyter-widgets/controls",
          "model_name": "DescriptionStyleModel",
          "model_module_version": "1.5.0",
          "state": {
            "_model_module": "@jupyter-widgets/controls",
            "_model_module_version": "1.5.0",
            "_model_name": "DescriptionStyleModel",
            "_view_count": null,
            "_view_module": "@jupyter-widgets/base",
            "_view_module_version": "1.2.0",
            "_view_name": "StyleView",
            "description_width": ""
          }
        },
        "171299bc92ae4469b51f474ba2a50c88": {
          "model_module": "@jupyter-widgets/controls",
          "model_name": "HBoxModel",
          "model_module_version": "1.5.0",
          "state": {
            "_dom_classes": [],
            "_model_module": "@jupyter-widgets/controls",
            "_model_module_version": "1.5.0",
            "_model_name": "HBoxModel",
            "_view_count": null,
            "_view_module": "@jupyter-widgets/controls",
            "_view_module_version": "1.5.0",
            "_view_name": "HBoxView",
            "box_style": "",
            "children": [
              "IPY_MODEL_54d9ecf49ff44ceea6bf301dd31d2bf4",
              "IPY_MODEL_6d2ed6b420634271b0ab5552ebe61dab",
              "IPY_MODEL_5cbaba9df8774ee79a67a1bd599b8d55"
            ],
            "layout": "IPY_MODEL_9e1a5a152d034a10912998bae677e654"
          }
        },
        "54d9ecf49ff44ceea6bf301dd31d2bf4": {
          "model_module": "@jupyter-widgets/controls",
          "model_name": "HTMLModel",
          "model_module_version": "1.5.0",
          "state": {
            "_dom_classes": [],
            "_model_module": "@jupyter-widgets/controls",
            "_model_module_version": "1.5.0",
            "_model_name": "HTMLModel",
            "_view_count": null,
            "_view_module": "@jupyter-widgets/controls",
            "_view_module_version": "1.5.0",
            "_view_name": "HTMLView",
            "description": "",
            "description_tooltip": null,
            "layout": "IPY_MODEL_63cb52e0ac3b41008edb5476bacb1f66",
            "placeholder": "​",
            "style": "IPY_MODEL_c525c8171286414d84b3a0d2d904cc6a",
            "value": "100%"
          }
        },
        "6d2ed6b420634271b0ab5552ebe61dab": {
          "model_module": "@jupyter-widgets/controls",
          "model_name": "FloatProgressModel",
          "model_module_version": "1.5.0",
          "state": {
            "_dom_classes": [],
            "_model_module": "@jupyter-widgets/controls",
            "_model_module_version": "1.5.0",
            "_model_name": "FloatProgressModel",
            "_view_count": null,
            "_view_module": "@jupyter-widgets/controls",
            "_view_module_version": "1.5.0",
            "_view_name": "ProgressView",
            "bar_style": "success",
            "description": "",
            "description_tooltip": null,
            "layout": "IPY_MODEL_1807355808db4707827b9a5871eed0b2",
            "max": 10,
            "min": 0,
            "orientation": "horizontal",
            "style": "IPY_MODEL_1a4476bc2b5f4a5dac101a86be80bc79",
            "value": 10
          }
        },
        "5cbaba9df8774ee79a67a1bd599b8d55": {
          "model_module": "@jupyter-widgets/controls",
          "model_name": "HTMLModel",
          "model_module_version": "1.5.0",
          "state": {
            "_dom_classes": [],
            "_model_module": "@jupyter-widgets/controls",
            "_model_module_version": "1.5.0",
            "_model_name": "HTMLModel",
            "_view_count": null,
            "_view_module": "@jupyter-widgets/controls",
            "_view_module_version": "1.5.0",
            "_view_name": "HTMLView",
            "description": "",
            "description_tooltip": null,
            "layout": "IPY_MODEL_72491d0a49604f40a3245f2c41d9b609",
            "placeholder": "​",
            "style": "IPY_MODEL_c0bdc3dfeee9471482435570693583ce",
            "value": " 10/10 [00:09&lt;00:00,  1.08it/s]"
          }
        },
        "9e1a5a152d034a10912998bae677e654": {
          "model_module": "@jupyter-widgets/base",
          "model_name": "LayoutModel",
          "model_module_version": "1.2.0",
          "state": {
            "_model_module": "@jupyter-widgets/base",
            "_model_module_version": "1.2.0",
            "_model_name": "LayoutModel",
            "_view_count": null,
            "_view_module": "@jupyter-widgets/base",
            "_view_module_version": "1.2.0",
            "_view_name": "LayoutView",
            "align_content": null,
            "align_items": null,
            "align_self": null,
            "border": null,
            "bottom": null,
            "display": null,
            "flex": null,
            "flex_flow": null,
            "grid_area": null,
            "grid_auto_columns": null,
            "grid_auto_flow": null,
            "grid_auto_rows": null,
            "grid_column": null,
            "grid_gap": null,
            "grid_row": null,
            "grid_template_areas": null,
            "grid_template_columns": null,
            "grid_template_rows": null,
            "height": null,
            "justify_content": null,
            "justify_items": null,
            "left": null,
            "margin": null,
            "max_height": null,
            "max_width": null,
            "min_height": null,
            "min_width": null,
            "object_fit": null,
            "object_position": null,
            "order": null,
            "overflow": null,
            "overflow_x": null,
            "overflow_y": null,
            "padding": null,
            "right": null,
            "top": null,
            "visibility": null,
            "width": null
          }
        },
        "63cb52e0ac3b41008edb5476bacb1f66": {
          "model_module": "@jupyter-widgets/base",
          "model_name": "LayoutModel",
          "model_module_version": "1.2.0",
          "state": {
            "_model_module": "@jupyter-widgets/base",
            "_model_module_version": "1.2.0",
            "_model_name": "LayoutModel",
            "_view_count": null,
            "_view_module": "@jupyter-widgets/base",
            "_view_module_version": "1.2.0",
            "_view_name": "LayoutView",
            "align_content": null,
            "align_items": null,
            "align_self": null,
            "border": null,
            "bottom": null,
            "display": null,
            "flex": null,
            "flex_flow": null,
            "grid_area": null,
            "grid_auto_columns": null,
            "grid_auto_flow": null,
            "grid_auto_rows": null,
            "grid_column": null,
            "grid_gap": null,
            "grid_row": null,
            "grid_template_areas": null,
            "grid_template_columns": null,
            "grid_template_rows": null,
            "height": null,
            "justify_content": null,
            "justify_items": null,
            "left": null,
            "margin": null,
            "max_height": null,
            "max_width": null,
            "min_height": null,
            "min_width": null,
            "object_fit": null,
            "object_position": null,
            "order": null,
            "overflow": null,
            "overflow_x": null,
            "overflow_y": null,
            "padding": null,
            "right": null,
            "top": null,
            "visibility": null,
            "width": null
          }
        },
        "c525c8171286414d84b3a0d2d904cc6a": {
          "model_module": "@jupyter-widgets/controls",
          "model_name": "DescriptionStyleModel",
          "model_module_version": "1.5.0",
          "state": {
            "_model_module": "@jupyter-widgets/controls",
            "_model_module_version": "1.5.0",
            "_model_name": "DescriptionStyleModel",
            "_view_count": null,
            "_view_module": "@jupyter-widgets/base",
            "_view_module_version": "1.2.0",
            "_view_name": "StyleView",
            "description_width": ""
          }
        },
        "1807355808db4707827b9a5871eed0b2": {
          "model_module": "@jupyter-widgets/base",
          "model_name": "LayoutModel",
          "model_module_version": "1.2.0",
          "state": {
            "_model_module": "@jupyter-widgets/base",
            "_model_module_version": "1.2.0",
            "_model_name": "LayoutModel",
            "_view_count": null,
            "_view_module": "@jupyter-widgets/base",
            "_view_module_version": "1.2.0",
            "_view_name": "LayoutView",
            "align_content": null,
            "align_items": null,
            "align_self": null,
            "border": null,
            "bottom": null,
            "display": null,
            "flex": null,
            "flex_flow": null,
            "grid_area": null,
            "grid_auto_columns": null,
            "grid_auto_flow": null,
            "grid_auto_rows": null,
            "grid_column": null,
            "grid_gap": null,
            "grid_row": null,
            "grid_template_areas": null,
            "grid_template_columns": null,
            "grid_template_rows": null,
            "height": null,
            "justify_content": null,
            "justify_items": null,
            "left": null,
            "margin": null,
            "max_height": null,
            "max_width": null,
            "min_height": null,
            "min_width": null,
            "object_fit": null,
            "object_position": null,
            "order": null,
            "overflow": null,
            "overflow_x": null,
            "overflow_y": null,
            "padding": null,
            "right": null,
            "top": null,
            "visibility": null,
            "width": null
          }
        },
        "1a4476bc2b5f4a5dac101a86be80bc79": {
          "model_module": "@jupyter-widgets/controls",
          "model_name": "ProgressStyleModel",
          "model_module_version": "1.5.0",
          "state": {
            "_model_module": "@jupyter-widgets/controls",
            "_model_module_version": "1.5.0",
            "_model_name": "ProgressStyleModel",
            "_view_count": null,
            "_view_module": "@jupyter-widgets/base",
            "_view_module_version": "1.2.0",
            "_view_name": "StyleView",
            "bar_color": null,
            "description_width": ""
          }
        },
        "72491d0a49604f40a3245f2c41d9b609": {
          "model_module": "@jupyter-widgets/base",
          "model_name": "LayoutModel",
          "model_module_version": "1.2.0",
          "state": {
            "_model_module": "@jupyter-widgets/base",
            "_model_module_version": "1.2.0",
            "_model_name": "LayoutModel",
            "_view_count": null,
            "_view_module": "@jupyter-widgets/base",
            "_view_module_version": "1.2.0",
            "_view_name": "LayoutView",
            "align_content": null,
            "align_items": null,
            "align_self": null,
            "border": null,
            "bottom": null,
            "display": null,
            "flex": null,
            "flex_flow": null,
            "grid_area": null,
            "grid_auto_columns": null,
            "grid_auto_flow": null,
            "grid_auto_rows": null,
            "grid_column": null,
            "grid_gap": null,
            "grid_row": null,
            "grid_template_areas": null,
            "grid_template_columns": null,
            "grid_template_rows": null,
            "height": null,
            "justify_content": null,
            "justify_items": null,
            "left": null,
            "margin": null,
            "max_height": null,
            "max_width": null,
            "min_height": null,
            "min_width": null,
            "object_fit": null,
            "object_position": null,
            "order": null,
            "overflow": null,
            "overflow_x": null,
            "overflow_y": null,
            "padding": null,
            "right": null,
            "top": null,
            "visibility": null,
            "width": null
          }
        },
        "c0bdc3dfeee9471482435570693583ce": {
          "model_module": "@jupyter-widgets/controls",
          "model_name": "DescriptionStyleModel",
          "model_module_version": "1.5.0",
          "state": {
            "_model_module": "@jupyter-widgets/controls",
            "_model_module_version": "1.5.0",
            "_model_name": "DescriptionStyleModel",
            "_view_count": null,
            "_view_module": "@jupyter-widgets/base",
            "_view_module_version": "1.2.0",
            "_view_name": "StyleView",
            "description_width": ""
          }
        },
        "29976d8930a1491c95a097891d06873a": {
          "model_module": "@jupyter-widgets/controls",
          "model_name": "HBoxModel",
          "model_module_version": "1.5.0",
          "state": {
            "_dom_classes": [],
            "_model_module": "@jupyter-widgets/controls",
            "_model_module_version": "1.5.0",
            "_model_name": "HBoxModel",
            "_view_count": null,
            "_view_module": "@jupyter-widgets/controls",
            "_view_module_version": "1.5.0",
            "_view_name": "HBoxView",
            "box_style": "",
            "children": [
              "IPY_MODEL_25e38a778d46410d9f1da42ff9bdc904",
              "IPY_MODEL_766f46a3f7284c598a6f53872c7338f1",
              "IPY_MODEL_6278508ac1b24bc8bbc35c20c3dd7820"
            ],
            "layout": "IPY_MODEL_67403cfaf06e4563a68983e5ab4f5de9"
          }
        },
        "25e38a778d46410d9f1da42ff9bdc904": {
          "model_module": "@jupyter-widgets/controls",
          "model_name": "HTMLModel",
          "model_module_version": "1.5.0",
          "state": {
            "_dom_classes": [],
            "_model_module": "@jupyter-widgets/controls",
            "_model_module_version": "1.5.0",
            "_model_name": "HTMLModel",
            "_view_count": null,
            "_view_module": "@jupyter-widgets/controls",
            "_view_module_version": "1.5.0",
            "_view_name": "HTMLView",
            "description": "",
            "description_tooltip": null,
            "layout": "IPY_MODEL_527684a1eceb4e628789bafbb2cae346",
            "placeholder": "​",
            "style": "IPY_MODEL_2cd9df41288e4fa8a447048112cf61f1",
            "value": "100%"
          }
        },
        "766f46a3f7284c598a6f53872c7338f1": {
          "model_module": "@jupyter-widgets/controls",
          "model_name": "FloatProgressModel",
          "model_module_version": "1.5.0",
          "state": {
            "_dom_classes": [],
            "_model_module": "@jupyter-widgets/controls",
            "_model_module_version": "1.5.0",
            "_model_name": "FloatProgressModel",
            "_view_count": null,
            "_view_module": "@jupyter-widgets/controls",
            "_view_module_version": "1.5.0",
            "_view_name": "ProgressView",
            "bar_style": "success",
            "description": "",
            "description_tooltip": null,
            "layout": "IPY_MODEL_a383634aa29a488cbc0f3469ce0a6939",
            "max": 10,
            "min": 0,
            "orientation": "horizontal",
            "style": "IPY_MODEL_7cc0fb483fdf43fbbf07ae42f0997d5f",
            "value": 10
          }
        },
        "6278508ac1b24bc8bbc35c20c3dd7820": {
          "model_module": "@jupyter-widgets/controls",
          "model_name": "HTMLModel",
          "model_module_version": "1.5.0",
          "state": {
            "_dom_classes": [],
            "_model_module": "@jupyter-widgets/controls",
            "_model_module_version": "1.5.0",
            "_model_name": "HTMLModel",
            "_view_count": null,
            "_view_module": "@jupyter-widgets/controls",
            "_view_module_version": "1.5.0",
            "_view_name": "HTMLView",
            "description": "",
            "description_tooltip": null,
            "layout": "IPY_MODEL_1c655511b42849269e248568b7361898",
            "placeholder": "​",
            "style": "IPY_MODEL_2a1aa62e41c944aa915636da8abdfe26",
            "value": " 10/10 [00:08&lt;00:00,  1.16it/s]"
          }
        },
        "67403cfaf06e4563a68983e5ab4f5de9": {
          "model_module": "@jupyter-widgets/base",
          "model_name": "LayoutModel",
          "model_module_version": "1.2.0",
          "state": {
            "_model_module": "@jupyter-widgets/base",
            "_model_module_version": "1.2.0",
            "_model_name": "LayoutModel",
            "_view_count": null,
            "_view_module": "@jupyter-widgets/base",
            "_view_module_version": "1.2.0",
            "_view_name": "LayoutView",
            "align_content": null,
            "align_items": null,
            "align_self": null,
            "border": null,
            "bottom": null,
            "display": null,
            "flex": null,
            "flex_flow": null,
            "grid_area": null,
            "grid_auto_columns": null,
            "grid_auto_flow": null,
            "grid_auto_rows": null,
            "grid_column": null,
            "grid_gap": null,
            "grid_row": null,
            "grid_template_areas": null,
            "grid_template_columns": null,
            "grid_template_rows": null,
            "height": null,
            "justify_content": null,
            "justify_items": null,
            "left": null,
            "margin": null,
            "max_height": null,
            "max_width": null,
            "min_height": null,
            "min_width": null,
            "object_fit": null,
            "object_position": null,
            "order": null,
            "overflow": null,
            "overflow_x": null,
            "overflow_y": null,
            "padding": null,
            "right": null,
            "top": null,
            "visibility": null,
            "width": null
          }
        },
        "527684a1eceb4e628789bafbb2cae346": {
          "model_module": "@jupyter-widgets/base",
          "model_name": "LayoutModel",
          "model_module_version": "1.2.0",
          "state": {
            "_model_module": "@jupyter-widgets/base",
            "_model_module_version": "1.2.0",
            "_model_name": "LayoutModel",
            "_view_count": null,
            "_view_module": "@jupyter-widgets/base",
            "_view_module_version": "1.2.0",
            "_view_name": "LayoutView",
            "align_content": null,
            "align_items": null,
            "align_self": null,
            "border": null,
            "bottom": null,
            "display": null,
            "flex": null,
            "flex_flow": null,
            "grid_area": null,
            "grid_auto_columns": null,
            "grid_auto_flow": null,
            "grid_auto_rows": null,
            "grid_column": null,
            "grid_gap": null,
            "grid_row": null,
            "grid_template_areas": null,
            "grid_template_columns": null,
            "grid_template_rows": null,
            "height": null,
            "justify_content": null,
            "justify_items": null,
            "left": null,
            "margin": null,
            "max_height": null,
            "max_width": null,
            "min_height": null,
            "min_width": null,
            "object_fit": null,
            "object_position": null,
            "order": null,
            "overflow": null,
            "overflow_x": null,
            "overflow_y": null,
            "padding": null,
            "right": null,
            "top": null,
            "visibility": null,
            "width": null
          }
        },
        "2cd9df41288e4fa8a447048112cf61f1": {
          "model_module": "@jupyter-widgets/controls",
          "model_name": "DescriptionStyleModel",
          "model_module_version": "1.5.0",
          "state": {
            "_model_module": "@jupyter-widgets/controls",
            "_model_module_version": "1.5.0",
            "_model_name": "DescriptionStyleModel",
            "_view_count": null,
            "_view_module": "@jupyter-widgets/base",
            "_view_module_version": "1.2.0",
            "_view_name": "StyleView",
            "description_width": ""
          }
        },
        "a383634aa29a488cbc0f3469ce0a6939": {
          "model_module": "@jupyter-widgets/base",
          "model_name": "LayoutModel",
          "model_module_version": "1.2.0",
          "state": {
            "_model_module": "@jupyter-widgets/base",
            "_model_module_version": "1.2.0",
            "_model_name": "LayoutModel",
            "_view_count": null,
            "_view_module": "@jupyter-widgets/base",
            "_view_module_version": "1.2.0",
            "_view_name": "LayoutView",
            "align_content": null,
            "align_items": null,
            "align_self": null,
            "border": null,
            "bottom": null,
            "display": null,
            "flex": null,
            "flex_flow": null,
            "grid_area": null,
            "grid_auto_columns": null,
            "grid_auto_flow": null,
            "grid_auto_rows": null,
            "grid_column": null,
            "grid_gap": null,
            "grid_row": null,
            "grid_template_areas": null,
            "grid_template_columns": null,
            "grid_template_rows": null,
            "height": null,
            "justify_content": null,
            "justify_items": null,
            "left": null,
            "margin": null,
            "max_height": null,
            "max_width": null,
            "min_height": null,
            "min_width": null,
            "object_fit": null,
            "object_position": null,
            "order": null,
            "overflow": null,
            "overflow_x": null,
            "overflow_y": null,
            "padding": null,
            "right": null,
            "top": null,
            "visibility": null,
            "width": null
          }
        },
        "7cc0fb483fdf43fbbf07ae42f0997d5f": {
          "model_module": "@jupyter-widgets/controls",
          "model_name": "ProgressStyleModel",
          "model_module_version": "1.5.0",
          "state": {
            "_model_module": "@jupyter-widgets/controls",
            "_model_module_version": "1.5.0",
            "_model_name": "ProgressStyleModel",
            "_view_count": null,
            "_view_module": "@jupyter-widgets/base",
            "_view_module_version": "1.2.0",
            "_view_name": "StyleView",
            "bar_color": null,
            "description_width": ""
          }
        },
        "1c655511b42849269e248568b7361898": {
          "model_module": "@jupyter-widgets/base",
          "model_name": "LayoutModel",
          "model_module_version": "1.2.0",
          "state": {
            "_model_module": "@jupyter-widgets/base",
            "_model_module_version": "1.2.0",
            "_model_name": "LayoutModel",
            "_view_count": null,
            "_view_module": "@jupyter-widgets/base",
            "_view_module_version": "1.2.0",
            "_view_name": "LayoutView",
            "align_content": null,
            "align_items": null,
            "align_self": null,
            "border": null,
            "bottom": null,
            "display": null,
            "flex": null,
            "flex_flow": null,
            "grid_area": null,
            "grid_auto_columns": null,
            "grid_auto_flow": null,
            "grid_auto_rows": null,
            "grid_column": null,
            "grid_gap": null,
            "grid_row": null,
            "grid_template_areas": null,
            "grid_template_columns": null,
            "grid_template_rows": null,
            "height": null,
            "justify_content": null,
            "justify_items": null,
            "left": null,
            "margin": null,
            "max_height": null,
            "max_width": null,
            "min_height": null,
            "min_width": null,
            "object_fit": null,
            "object_position": null,
            "order": null,
            "overflow": null,
            "overflow_x": null,
            "overflow_y": null,
            "padding": null,
            "right": null,
            "top": null,
            "visibility": null,
            "width": null
          }
        },
        "2a1aa62e41c944aa915636da8abdfe26": {
          "model_module": "@jupyter-widgets/controls",
          "model_name": "DescriptionStyleModel",
          "model_module_version": "1.5.0",
          "state": {
            "_model_module": "@jupyter-widgets/controls",
            "_model_module_version": "1.5.0",
            "_model_name": "DescriptionStyleModel",
            "_view_count": null,
            "_view_module": "@jupyter-widgets/base",
            "_view_module_version": "1.2.0",
            "_view_name": "StyleView",
            "description_width": ""
          }
        },
        "14e7927bdf8a4c0d931522b0f353a33b": {
          "model_module": "@jupyter-widgets/controls",
          "model_name": "HBoxModel",
          "model_module_version": "1.5.0",
          "state": {
            "_dom_classes": [],
            "_model_module": "@jupyter-widgets/controls",
            "_model_module_version": "1.5.0",
            "_model_name": "HBoxModel",
            "_view_count": null,
            "_view_module": "@jupyter-widgets/controls",
            "_view_module_version": "1.5.0",
            "_view_name": "HBoxView",
            "box_style": "",
            "children": [
              "IPY_MODEL_37970be590b44534b634edead6348963",
              "IPY_MODEL_c7cc3b8ecaf54ed58dbcd4e9523646aa",
              "IPY_MODEL_d0bd32791a484fbe9549345c74f6ef7f"
            ],
            "layout": "IPY_MODEL_02087e50e34c4f05bdab80bf7f464cea"
          }
        },
        "37970be590b44534b634edead6348963": {
          "model_module": "@jupyter-widgets/controls",
          "model_name": "HTMLModel",
          "model_module_version": "1.5.0",
          "state": {
            "_dom_classes": [],
            "_model_module": "@jupyter-widgets/controls",
            "_model_module_version": "1.5.0",
            "_model_name": "HTMLModel",
            "_view_count": null,
            "_view_module": "@jupyter-widgets/controls",
            "_view_module_version": "1.5.0",
            "_view_name": "HTMLView",
            "description": "",
            "description_tooltip": null,
            "layout": "IPY_MODEL_ffc602e0c1c846aeb67f04591d6fdb1f",
            "placeholder": "​",
            "style": "IPY_MODEL_b825de17ef53404b9cd95be198cd88f9",
            "value": "100%"
          }
        },
        "c7cc3b8ecaf54ed58dbcd4e9523646aa": {
          "model_module": "@jupyter-widgets/controls",
          "model_name": "FloatProgressModel",
          "model_module_version": "1.5.0",
          "state": {
            "_dom_classes": [],
            "_model_module": "@jupyter-widgets/controls",
            "_model_module_version": "1.5.0",
            "_model_name": "FloatProgressModel",
            "_view_count": null,
            "_view_module": "@jupyter-widgets/controls",
            "_view_module_version": "1.5.0",
            "_view_name": "ProgressView",
            "bar_style": "success",
            "description": "",
            "description_tooltip": null,
            "layout": "IPY_MODEL_920d6847375944809a80c3dd85e968a1",
            "max": 1000,
            "min": 0,
            "orientation": "horizontal",
            "style": "IPY_MODEL_3bfe0d0ed28548909478458ce7950eee",
            "value": 1000
          }
        },
        "d0bd32791a484fbe9549345c74f6ef7f": {
          "model_module": "@jupyter-widgets/controls",
          "model_name": "HTMLModel",
          "model_module_version": "1.5.0",
          "state": {
            "_dom_classes": [],
            "_model_module": "@jupyter-widgets/controls",
            "_model_module_version": "1.5.0",
            "_model_name": "HTMLModel",
            "_view_count": null,
            "_view_module": "@jupyter-widgets/controls",
            "_view_module_version": "1.5.0",
            "_view_name": "HTMLView",
            "description": "",
            "description_tooltip": null,
            "layout": "IPY_MODEL_546a83b3d5dd4a6c8a90b196c12f3449",
            "placeholder": "​",
            "style": "IPY_MODEL_bed0673324a8447ab040c560bb8af29b",
            "value": " 1000/1000 [10:35&lt;00:00,  1.70it/s]"
          }
        },
        "02087e50e34c4f05bdab80bf7f464cea": {
          "model_module": "@jupyter-widgets/base",
          "model_name": "LayoutModel",
          "model_module_version": "1.2.0",
          "state": {
            "_model_module": "@jupyter-widgets/base",
            "_model_module_version": "1.2.0",
            "_model_name": "LayoutModel",
            "_view_count": null,
            "_view_module": "@jupyter-widgets/base",
            "_view_module_version": "1.2.0",
            "_view_name": "LayoutView",
            "align_content": null,
            "align_items": null,
            "align_self": null,
            "border": null,
            "bottom": null,
            "display": null,
            "flex": null,
            "flex_flow": null,
            "grid_area": null,
            "grid_auto_columns": null,
            "grid_auto_flow": null,
            "grid_auto_rows": null,
            "grid_column": null,
            "grid_gap": null,
            "grid_row": null,
            "grid_template_areas": null,
            "grid_template_columns": null,
            "grid_template_rows": null,
            "height": null,
            "justify_content": null,
            "justify_items": null,
            "left": null,
            "margin": null,
            "max_height": null,
            "max_width": null,
            "min_height": null,
            "min_width": null,
            "object_fit": null,
            "object_position": null,
            "order": null,
            "overflow": null,
            "overflow_x": null,
            "overflow_y": null,
            "padding": null,
            "right": null,
            "top": null,
            "visibility": null,
            "width": null
          }
        },
        "ffc602e0c1c846aeb67f04591d6fdb1f": {
          "model_module": "@jupyter-widgets/base",
          "model_name": "LayoutModel",
          "model_module_version": "1.2.0",
          "state": {
            "_model_module": "@jupyter-widgets/base",
            "_model_module_version": "1.2.0",
            "_model_name": "LayoutModel",
            "_view_count": null,
            "_view_module": "@jupyter-widgets/base",
            "_view_module_version": "1.2.0",
            "_view_name": "LayoutView",
            "align_content": null,
            "align_items": null,
            "align_self": null,
            "border": null,
            "bottom": null,
            "display": null,
            "flex": null,
            "flex_flow": null,
            "grid_area": null,
            "grid_auto_columns": null,
            "grid_auto_flow": null,
            "grid_auto_rows": null,
            "grid_column": null,
            "grid_gap": null,
            "grid_row": null,
            "grid_template_areas": null,
            "grid_template_columns": null,
            "grid_template_rows": null,
            "height": null,
            "justify_content": null,
            "justify_items": null,
            "left": null,
            "margin": null,
            "max_height": null,
            "max_width": null,
            "min_height": null,
            "min_width": null,
            "object_fit": null,
            "object_position": null,
            "order": null,
            "overflow": null,
            "overflow_x": null,
            "overflow_y": null,
            "padding": null,
            "right": null,
            "top": null,
            "visibility": null,
            "width": null
          }
        },
        "b825de17ef53404b9cd95be198cd88f9": {
          "model_module": "@jupyter-widgets/controls",
          "model_name": "DescriptionStyleModel",
          "model_module_version": "1.5.0",
          "state": {
            "_model_module": "@jupyter-widgets/controls",
            "_model_module_version": "1.5.0",
            "_model_name": "DescriptionStyleModel",
            "_view_count": null,
            "_view_module": "@jupyter-widgets/base",
            "_view_module_version": "1.2.0",
            "_view_name": "StyleView",
            "description_width": ""
          }
        },
        "920d6847375944809a80c3dd85e968a1": {
          "model_module": "@jupyter-widgets/base",
          "model_name": "LayoutModel",
          "model_module_version": "1.2.0",
          "state": {
            "_model_module": "@jupyter-widgets/base",
            "_model_module_version": "1.2.0",
            "_model_name": "LayoutModel",
            "_view_count": null,
            "_view_module": "@jupyter-widgets/base",
            "_view_module_version": "1.2.0",
            "_view_name": "LayoutView",
            "align_content": null,
            "align_items": null,
            "align_self": null,
            "border": null,
            "bottom": null,
            "display": null,
            "flex": null,
            "flex_flow": null,
            "grid_area": null,
            "grid_auto_columns": null,
            "grid_auto_flow": null,
            "grid_auto_rows": null,
            "grid_column": null,
            "grid_gap": null,
            "grid_row": null,
            "grid_template_areas": null,
            "grid_template_columns": null,
            "grid_template_rows": null,
            "height": null,
            "justify_content": null,
            "justify_items": null,
            "left": null,
            "margin": null,
            "max_height": null,
            "max_width": null,
            "min_height": null,
            "min_width": null,
            "object_fit": null,
            "object_position": null,
            "order": null,
            "overflow": null,
            "overflow_x": null,
            "overflow_y": null,
            "padding": null,
            "right": null,
            "top": null,
            "visibility": null,
            "width": null
          }
        },
        "3bfe0d0ed28548909478458ce7950eee": {
          "model_module": "@jupyter-widgets/controls",
          "model_name": "ProgressStyleModel",
          "model_module_version": "1.5.0",
          "state": {
            "_model_module": "@jupyter-widgets/controls",
            "_model_module_version": "1.5.0",
            "_model_name": "ProgressStyleModel",
            "_view_count": null,
            "_view_module": "@jupyter-widgets/base",
            "_view_module_version": "1.2.0",
            "_view_name": "StyleView",
            "bar_color": null,
            "description_width": ""
          }
        },
        "546a83b3d5dd4a6c8a90b196c12f3449": {
          "model_module": "@jupyter-widgets/base",
          "model_name": "LayoutModel",
          "model_module_version": "1.2.0",
          "state": {
            "_model_module": "@jupyter-widgets/base",
            "_model_module_version": "1.2.0",
            "_model_name": "LayoutModel",
            "_view_count": null,
            "_view_module": "@jupyter-widgets/base",
            "_view_module_version": "1.2.0",
            "_view_name": "LayoutView",
            "align_content": null,
            "align_items": null,
            "align_self": null,
            "border": null,
            "bottom": null,
            "display": null,
            "flex": null,
            "flex_flow": null,
            "grid_area": null,
            "grid_auto_columns": null,
            "grid_auto_flow": null,
            "grid_auto_rows": null,
            "grid_column": null,
            "grid_gap": null,
            "grid_row": null,
            "grid_template_areas": null,
            "grid_template_columns": null,
            "grid_template_rows": null,
            "height": null,
            "justify_content": null,
            "justify_items": null,
            "left": null,
            "margin": null,
            "max_height": null,
            "max_width": null,
            "min_height": null,
            "min_width": null,
            "object_fit": null,
            "object_position": null,
            "order": null,
            "overflow": null,
            "overflow_x": null,
            "overflow_y": null,
            "padding": null,
            "right": null,
            "top": null,
            "visibility": null,
            "width": null
          }
        },
        "bed0673324a8447ab040c560bb8af29b": {
          "model_module": "@jupyter-widgets/controls",
          "model_name": "DescriptionStyleModel",
          "model_module_version": "1.5.0",
          "state": {
            "_model_module": "@jupyter-widgets/controls",
            "_model_module_version": "1.5.0",
            "_model_name": "DescriptionStyleModel",
            "_view_count": null,
            "_view_module": "@jupyter-widgets/base",
            "_view_module_version": "1.2.0",
            "_view_name": "StyleView",
            "description_width": ""
          }
        }
      }
    }
  },
  "nbformat": 4,
  "nbformat_minor": 0
}