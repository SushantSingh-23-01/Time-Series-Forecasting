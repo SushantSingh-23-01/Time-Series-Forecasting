{
  "cells": [
    {
      "cell_type": "markdown",
      "metadata": {
        "id": "EVXTrHOa4uot"
      },
      "source": [
        "## 1.0 Loading Libraries & Data"
      ]
    },
    {
      "cell_type": "code",
      "execution_count": 1,
      "metadata": {
        "id": "uHJvD0FF3zeH"
      },
      "outputs": [],
      "source": [
        "import torch\n",
        "import torch.nn as nn\n",
        "import torch.nn.functional as F\n",
        "import numpy as np\n",
        "import pandas as pd\n",
        "import matplotlib.pyplot as plt\n",
        "import seaborn as sns\n",
        "from tqdm.auto import tqdm\n",
        "from torch.utils.data import DataLoader, Dataset, random_split\n",
        "from dataclasses import dataclass\n",
        "import os\n",
        "from typing import Union, List, Optional\n",
        "plt.style.use('ggplot')"
      ]
    },
    {
      "cell_type": "code",
      "execution_count": 2,
      "metadata": {
        "colab": {
          "base_uri": "https://localhost:8080/"
        },
        "id": "TIGMB97A6Sjh",
        "outputId": "b3be7875-df1e-4057-ed14-9de3b4eb9c06"
      },
      "outputs": [
        {
          "output_type": "stream",
          "name": "stdout",
          "text": [
            "Archive:  /content/Indian_stocks.zip\n",
            "   creating: /content/Indian_stocks/\n",
            "  inflating: /content/Indian_stocks/ADANIPORTS.csv  \n",
            "  inflating: /content/Indian_stocks/ASIANPAINT.csv  \n",
            "  inflating: /content/Indian_stocks/AXISBANK.csv  \n",
            "  inflating: /content/Indian_stocks/BAJAJ-AUTO.csv  \n",
            "  inflating: /content/Indian_stocks/BAJAJFINSV.csv  \n",
            "  inflating: /content/Indian_stocks/BAJFINANCE.csv  \n",
            "  inflating: /content/Indian_stocks/BHARTIARTL.csv  \n",
            "  inflating: /content/Indian_stocks/BPCL.csv  \n",
            "  inflating: /content/Indian_stocks/BRITANNIA.csv  \n",
            "  inflating: /content/Indian_stocks/CIPLA.csv  \n",
            "  inflating: /content/Indian_stocks/COALINDIA.csv  \n",
            "  inflating: /content/Indian_stocks/DRREDDY.csv  \n",
            "  inflating: /content/Indian_stocks/EICHERMOT.csv  \n",
            "  inflating: /content/Indian_stocks/GAIL.csv  \n",
            "  inflating: /content/Indian_stocks/GRASIM.csv  \n",
            "  inflating: /content/Indian_stocks/HCLTECH.csv  \n",
            "  inflating: /content/Indian_stocks/HDFC.csv  \n",
            "  inflating: /content/Indian_stocks/HDFCBANK.csv  \n",
            "  inflating: /content/Indian_stocks/HEROMOTOCO.csv  \n",
            "  inflating: /content/Indian_stocks/HINDALCO.csv  \n",
            "  inflating: /content/Indian_stocks/HINDUNILVR.csv  \n",
            "  inflating: /content/Indian_stocks/ICICIBANK.csv  \n",
            "  inflating: /content/Indian_stocks/INDUSINDBK.csv  \n",
            "  inflating: /content/Indian_stocks/INFRATEL.csv  \n",
            "  inflating: /content/Indian_stocks/INFY.csv  \n",
            "  inflating: /content/Indian_stocks/IOC.csv  \n",
            "  inflating: /content/Indian_stocks/ITC.csv  \n",
            "  inflating: /content/Indian_stocks/JSWSTEEL.csv  \n",
            "  inflating: /content/Indian_stocks/KOTAKBANK.csv  \n",
            "  inflating: /content/Indian_stocks/LT.csv  \n",
            "  inflating: /content/Indian_stocks/MARUTI.csv  \n",
            "  inflating: /content/Indian_stocks/MM.csv  \n",
            "  inflating: /content/Indian_stocks/NESTLEIND.csv  \n",
            "  inflating: /content/Indian_stocks/NIFTY50_all.csv  \n",
            "  inflating: /content/Indian_stocks/NTPC.csv  \n",
            "  inflating: /content/Indian_stocks/ONGC.csv  \n",
            "  inflating: /content/Indian_stocks/POWERGRID.csv  \n",
            "  inflating: /content/Indian_stocks/RELIANCE.csv  \n",
            "  inflating: /content/Indian_stocks/SBIN.csv  \n",
            "  inflating: /content/Indian_stocks/SHREECEM.csv  \n",
            "  inflating: /content/Indian_stocks/SUNPHARMA.csv  \n",
            "  inflating: /content/Indian_stocks/TATAMOTORS.csv  \n",
            "  inflating: /content/Indian_stocks/TATASTEEL.csv  \n",
            "  inflating: /content/Indian_stocks/TCS.csv  \n",
            "  inflating: /content/Indian_stocks/TECHM.csv  \n",
            "  inflating: /content/Indian_stocks/TITAN.csv  \n",
            "  inflating: /content/Indian_stocks/ULTRACEMCO.csv  \n",
            "  inflating: /content/Indian_stocks/UPL.csv  \n",
            "  inflating: /content/Indian_stocks/VEDL.csv  \n",
            "  inflating: /content/Indian_stocks/WIPRO.csv  \n",
            "  inflating: /content/Indian_stocks/ZEEL.csv  \n"
          ]
        }
      ],
      "source": [
        "!unzip '/content/Indian_stocks.zip' -d '/content'"
      ]
    },
    {
      "cell_type": "markdown",
      "metadata": {
        "id": "y0V2w5oD7lEu"
      },
      "source": [
        "### 1.0 CSV files Loading"
      ]
    },
    {
      "cell_type": "code",
      "execution_count": 3,
      "metadata": {
        "colab": {
          "base_uri": "https://localhost:8080/"
        },
        "id": "YMGpzZ_V7X9f",
        "outputId": "71a1e2e2-f56e-4ad6-c483-d436dfce6fee"
      },
      "outputs": [
        {
          "output_type": "stream",
          "name": "stdout",
          "text": [
            "Total Files : 51 \n",
            "Files used for training : 45\n"
          ]
        }
      ],
      "source": [
        "class CSVLoader:\n",
        "    \"\"\"Simple Wrapper for loading all csv files from a folder.\"\"\"\n",
        "    def __init__(self, filepath:str, feature:Union[List[str], str], split:float = 0.9)->None:\n",
        "        \"\"\"\n",
        "\n",
        "        Args:\n",
        "            filepath (str): path to folder containing csv files\n",
        "            feature (Union[List[str], str]): Target feature\n",
        "            split (float, optional): Number of csv files from folder to be used for training. Defaults to 0.9. Use 1.0 if test folder is seperate.\n",
        "        \"\"\"\n",
        "        self.feature = feature\n",
        "        self.split = split\n",
        "        self.get_file_paths(filepath)\n",
        "\n",
        "    def get_file_paths(self, filepath:str):\n",
        "        \"\"\"Get path of all csv files in folder.\"\"\"\n",
        "        self.file_paths = []\n",
        "        for root, dirs, folder in os.walk(filepath):\n",
        "            for file in folder:\n",
        "                if file.endswith('.csv'):\n",
        "                    self.file_paths.append(os.path.join(root, file))\n",
        "\n",
        "    def get_data_from_csv_files(self)->List[np.ndarray]:\n",
        "        \"\"\"Extracts data from all csv files using Pandas.\n",
        "\n",
        "        Returns:\n",
        "            List[np.ndarray]: List of data for in the form of numpy array for each file. *Concatenation* is *avoided* to enable processing on file basis,\n",
        "            such as differencing.\n",
        "        \"\"\"\n",
        "        total = []\n",
        "        for path in self.file_paths[:int(len(self.file_paths) * self.split)]:\n",
        "            df = pd.read_csv(path)\n",
        "            data = df[self.feature].to_numpy(np.float64)\n",
        "            total.append(data)\n",
        "        return total\n",
        "\n",
        "loader = CSVLoader(r'/content/Indian_stocks', ['Close'], split=0.9)\n",
        "data = loader.get_data_from_csv_files()\n",
        "print(\n",
        "    f'Total Files : {len(loader.file_paths)}',\n",
        "    f'\\nFiles used for training : {len(loader.file_paths[:int(len(loader.file_paths) * loader.split)])}'\n",
        "    )"
      ]
    },
    {
      "cell_type": "markdown",
      "source": [
        "**Why not concatenate entire data from all csv files?**\n",
        "- Any kind of processing like differencing makes more sense to applied per file basis.\n",
        "- For instance applying differencing to entire data may lead to abrupt changes at file boundaries. Assuming two consecutive files have data with positive trend, differencing may lead to a sudden negative value leading to unneccessary outliers."
      ],
      "metadata": {
        "id": "zR4qX_3CAjKf"
      }
    },
    {
      "cell_type": "code",
      "source": [
        "fig, axs = plt.subplots(nrows=2, ncols=2, figsize=(12, 6))\n",
        "\n",
        "for i, ax in enumerate(axs.flatten()):\n",
        "    ax.plot(data[i])\n",
        "    ax.set_xlabel('Date')\n",
        "    ax.set_ylabel('Close Price (Rs.)')\n",
        "plt.show();"
      ],
      "metadata": {
        "colab": {
          "base_uri": "https://localhost:8080/",
          "height": 546
        },
        "id": "ZWFyX2vYChnz",
        "outputId": "f6d33d22-4f59-4656-e1f1-f0a4aa8ac312"
      },
      "execution_count": 4,
      "outputs": [
        {
          "output_type": "display_data",
          "data": {
            "text/plain": [
              "<Figure size 1200x600 with 4 Axes>"
            ],
            "image/png": "[encoded data removed]"
          },
          "metadata": {}
        }
      ]
    },
    {
      "cell_type": "markdown",
      "metadata": {
        "id": "BxLld818UoWn"
      },
      "source": [
        "## 2.0 Building Intuition for developing Preprocessing Pipeline."
      ]
    },
    {
      "cell_type": "markdown",
      "metadata": {
        "id": "doR0qvfVZ51k"
      },
      "source": [
        "Before we develop a preprocessing pipleline, we try to build our intuition behind doing so.\n",
        "It is easier to train a model on stationary data so we perform preprocessing to make data stationary, that is remove trend and seasonality.  <br><br>\n",
        "We want to ensure that our data appears to be sampled from white noise at the end of preprocessing.\n",
        "<br> The intuition behind this is that we can have algorithms to artificially create seasonality and trend, but cannot do so for the random data obtained after processing. The model is trained to find patterns that we cannot find in this random data.\n",
        "<br><br>\n",
        "Steps involved:\n",
        "<ol>\n",
        "  <li>Detrending</li>\n",
        "  <li>Dealing with Outliers</li>\n",
        "  <li>Tokenization</li>\n",
        "</ol>"
      ]
    },
    {
      "cell_type": "markdown",
      "metadata": {
        "id": "YVev-4RsU41i"
      },
      "source": [
        "### 2.1 Detrending"
      ]
    },
    {
      "cell_type": "markdown",
      "source": [
        "##### 2.1.1 First Difference"
      ],
      "metadata": {
        "id": "qTa7XG3VFlCJ"
      }
    },
    {
      "cell_type": "markdown",
      "metadata": {
        "id": "iyhQTiGj_aiW"
      },
      "source": [
        "\n",
        "First Differencing:\n",
        "$$y_{t+1} = x_{t+1} - x_{t}$$"
      ]
    },
    {
      "cell_type": "markdown",
      "source": [
        "<b>Advantages</b>:\n",
        "<ul>\n",
        "    <li>It removes trend from data in most scenarios.</li>\n",
        "</ul><br>\n",
        "<b>Disadvantages</b>:\n",
        "<ul>\n",
        "    <li>There is high <b>variance</b> in the data.</li>\n",
        "    <li>Data does not have <b>universal trend</b>. </li>\n",
        "</ul>"
      ],
      "metadata": {
        "id": "poGb44KlFN3M"
      }
    },
    {
      "cell_type": "code",
      "execution_count": 5,
      "metadata": {
        "colab": {
          "base_uri": "https://localhost:8080/",
          "height": 0
        },
        "id": "4SX6vhxECvpm",
        "outputId": "5c14d22d-48a3-437b-c7cb-306c2206b35d"
      },
      "outputs": [
        {
          "output_type": "display_data",
          "data": {
            "text/plain": [
              "<Figure size 1200x300 with 1 Axes>"
            ],
            "image/png": "[encoded data removed]"
          },
          "metadata": {}
        }
      ],
      "source": [
        "plt.figure(figsize=(12, 3))\n",
        "plt.plot(np.diff(data[0], n=1, axis=0))\n",
        "plt.xlabel('Time')\n",
        "plt.ylabel('Returns')\n",
        "plt.show();"
      ]
    },
    {
      "cell_type": "markdown",
      "source": [
        "##### 2.1.2 Log Returns"
      ],
      "metadata": {
        "id": "LR0HwlzTFpk1"
      }
    },
    {
      "cell_type": "markdown",
      "source": [
        "Log Returns :\n",
        "$$z_t = ln(1 + r_t) =ln(\\frac{p_{t+1}}{p_t})\\\\[1em]\n",
        "where\\; r_t = \\frac{(p_{t+1} - p_t)}{p_t}\n",
        "$$\n",
        "<br><br>Advantages:\n",
        "- Reduces Variance.\n",
        "- Log returns have no bounds i.e $ln(r_t + 1) \\in (-\\infty,\\infty)$\n"
      ],
      "metadata": {
        "id": "M8_v5Q73Fxnw"
      }
    },
    {
      "cell_type": "code",
      "source": [
        "def compare_normal_log():\n",
        "    plt.figure(figsize=(12,3))\n",
        "    x = np.arange(-1, 5, 0.1)\n",
        "    plt.plot(x, x, label='f(x) = x')\n",
        "    plt.plot(x, np.log(x+1), label= 'f(x) = log(1+x)')\n",
        "    plt.xlabel('x')\n",
        "    plt.ylabel('f(x)')\n",
        "    plt.legend()\n",
        "    plt.show()\n",
        "\n",
        "compare_normal_log()"
      ],
      "metadata": {
        "colab": {
          "base_uri": "https://localhost:8080/",
          "height": 0
        },
        "id": "ZVZdRabpFtgz",
        "outputId": "b2f5a83a-a1ce-4bd2-d434-e06cfd37318d"
      },
      "execution_count": 6,
      "outputs": [
        {
          "output_type": "stream",
          "name": "stderr",
          "text": [
            "<ipython-input-6-b1c9e4d4823e>:5: RuntimeWarning: divide by zero encountered in log\n",
            "  plt.plot(x, np.log(x+1), label= 'f(x) = log(1+x)')\n"
          ]
        },
        {
          "output_type": "display_data",
          "data": {
            "text/plain": [
              "<Figure size 1200x300 with 1 Axes>"
            ],
            "image/png": "[encoded data removed]"
          },
          "metadata": {}
        }
      ]
    },
    {
      "cell_type": "markdown",
      "source": [
        "Log function suppresses big positive values while emphasizing small negative values, log returns are more symmetric than returns."
      ],
      "metadata": {
        "id": "BJgf1jPjF_8X"
      }
    },
    {
      "cell_type": "code",
      "source": [
        "plt.figure(figsize=(12, 3))\n",
        "plt.plot(np.diff(np.log(data[0]), n=1, axis=0))\n",
        "plt.xlabel('Time')\n",
        "plt.ylabel('Log Returns')\n",
        "plt.show();"
      ],
      "metadata": {
        "colab": {
          "base_uri": "https://localhost:8080/",
          "height": 0
        },
        "id": "TTPewGuxGB-N",
        "outputId": "5cfda53e-7bd5-4849-edaf-4ba11e2c5b00"
      },
      "execution_count": 7,
      "outputs": [
        {
          "output_type": "display_data",
          "data": {
            "text/plain": [
              "<Figure size 1200x300 with 1 Axes>"
            ],
            "image/png": "[encoded data removed]"
          },
          "metadata": {}
        }
      ]
    },
    {
      "cell_type": "markdown",
      "metadata": {
        "id": "opQ-h88QU-W3"
      },
      "source": [
        "### 2.2 Dealing with outliers"
      ]
    },
    {
      "cell_type": "markdown",
      "metadata": {
        "id": "SN6jJDiCDQAB"
      },
      "source": [
        "`Need for outlier removal:`\n",
        "- Since we will later process this data through a min-max scaler, outliers will make the minima and maxima of the data to be high causing the data to be squeezed to smaller range\n",
        "- In practise, beyond the theoretical reasoning, if the outliers were not removed the tokenizer did not perform as expected, as the scaler skewed data towards 0 or 1 depending on min and max bounds of orignal data."
      ]
    },
    {
      "cell_type": "code",
      "execution_count": 8,
      "metadata": {
        "colab": {
          "base_uri": "https://localhost:8080/"
        },
        "id": "E6p4deoRDHob",
        "outputId": "44a7d6cd-a12b-428a-b425-d0fb798b5f8e"
      },
      "outputs": [
        {
          "output_type": "stream",
          "name": "stdout",
          "text": [
            "Minimmum : -1.5219295489413227\n",
            "Maximum : 0.22798103346324883\n",
            "Mean : 2.136267431286695e-05\n",
            "Standard Deviation : 0.036787890380435936\n"
          ]
        }
      ],
      "source": [
        "temp = np.diff(np.log(data[0]), n=1, axis=0)\n",
        "print(f'Minimmum : {np.min(temp)}')\n",
        "print(f'Maximum : {np.max(temp)}')\n",
        "print(f'Mean : {np.mean(temp)}')\n",
        "print(f'Standard Deviation : {np.std(temp)}')"
      ]
    },
    {
      "cell_type": "markdown",
      "metadata": {
        "id": "S_GJpTauW9q2"
      },
      "source": [
        "<h3><u><a href = \"https://en.wikipedia.org/wiki/Standard_score\">Z-Score / Standard Score</u></h3>"
      ]
    },
    {
      "cell_type": "markdown",
      "metadata": {
        "id": "bGDtzY6HVUTd"
      },
      "source": [
        "The standard score is the number of standard deviations by which the value of a raw score (i.e., an observed value or data point) is above or below the mean value of what is being observed or measured.<br>\n",
        "$$ Z_{score} = \\frac {x - x_{mean}}{x_{std} + ϵ}$$"
      ]
    },
    {
      "cell_type": "code",
      "source": [
        "def reject_outliers(data, percentile):\n",
        "    z_score = abs(data - np.mean(data, axis=0)) / np.std(data, axis=0)\n",
        "    data = data[np.where(z_score < np.percentile(z_score, percentile))]\n",
        "    return data"
      ],
      "metadata": {
        "id": "GrBoOe8VGxsd"
      },
      "execution_count": 9,
      "outputs": []
    },
    {
      "cell_type": "code",
      "execution_count": 10,
      "metadata": {
        "colab": {
          "base_uri": "https://localhost:8080/",
          "height": 332
        },
        "id": "Qn5hQrsxEJlF",
        "outputId": "f6ddb50b-ab0a-4602-e21e-3cdada80d88a"
      },
      "outputs": [
        {
          "output_type": "stream",
          "name": "stdout",
          "text": [
            "Loss of data after removing outliers: 0.5365 %\n"
          ]
        },
        {
          "output_type": "display_data",
          "data": {
            "text/plain": [
              "<Figure size 1200x300 with 1 Axes>"
            ],
            "image/png": "[encoded data removed]"
          },
          "metadata": {}
        }
      ],
      "source": [
        "temp = reject_outliers(temp, 99.5)\n",
        "print(f'Loss of data after removing outliers: {(len(data[0])-len(temp))*100/len(data[0]):.4f} %')\n",
        "plt.figure(figsize=(12, 3))\n",
        "plt.xlabel('Date')\n",
        "plt.ylabel('Close Price (Rs.)')\n",
        "plt.plot(temp)\n",
        "plt.show();"
      ]
    },
    {
      "cell_type": "code",
      "execution_count": 11,
      "metadata": {
        "colab": {
          "base_uri": "https://localhost:8080/",
          "height": 368
        },
        "id": "uVnabzjeG0qn",
        "outputId": "090540bf-4001-4ba9-b348-64035d652111"
      },
      "outputs": [
        {
          "output_type": "display_data",
          "data": {
            "text/plain": [
              "<Figure size 1000x400 with 1 Axes>"
            ],
            "image/png": "[encoded data removed]"
          },
          "metadata": {}
        }
      ],
      "source": [
        "fig, ax = plt.subplots(nrows=1, ncols=1, figsize=(10, 4))\n",
        "sns.kdeplot(temp)\n",
        "plt.show();"
      ]
    },
    {
      "cell_type": "markdown",
      "metadata": {
        "id": "G12l3fhlZCFB"
      },
      "source": [
        "### 2.3 Tokenization"
      ]
    },
    {
      "cell_type": "markdown",
      "metadata": {
        "id": "bZKB9dUgSkFV"
      },
      "source": [
        "The point of tokenization is to convert this continuous data into discrete classes which can be mapped into n-unique tokens and fed to an embedding layer. <br><br>\n",
        "For a simplistic approach we just use a min-max scaler to map our data to a vocab range and than round the scaled outputs:<br>\n",
        "$ X \\in [-∞,∞] \\to MinMax(X) \\in[0,\\;vocab\\;size]$, and the range is continuous with native precision (float32 or float64).<br><br>\n",
        "Than we apply rounding to convert to integers to make data discrete with only vocab size classes"
      ]
    },
    {
      "cell_type": "code",
      "source": [
        "class Tokenizer:\n",
        "    \"\"\"Simple Tokenizer Implementation\"\"\"\n",
        "    def __init__(self, vocab_size:int)->None:\n",
        "        self.vocab_size = vocab_size\n",
        "        # To account for 0 indexing\n",
        "        self.new_max = vocab_size - 1\n",
        "        self.new_min = 0.0\n",
        "\n",
        "    def fit(self, data:np.ndarray):\n",
        "        \"\"\"Calculates data min and max.\"\"\"\n",
        "        self.min = np.min(data, axis=0)\n",
        "        self.max = np.max(data, axis=0)\n",
        "\n",
        "    def _check_if_fitted(self):\n",
        "        if not hasattr(self, 'min') and not hasattr(self, 'max'):\n",
        "            raise Exception('Tokenizer has not been fit on the data')\n",
        "\n",
        "    def transform(self, data:np.ndarray)->np.ndarray:\n",
        "        self._check_if_fitted()\n",
        "\n",
        "        data = (data - self.min) / (self.max - self.min) * (self.new_max - self.new_min) + self.new_min\n",
        "        # passing as long here ensures that later when converted to float32 precision\n",
        "        # there is no chance of going outside our embedding classes\n",
        "        return np.round(data).astype(np.longlong)\n",
        "\n",
        "    def fit_transform(self, data:np.ndarray) -> np.ndarray:\n",
        "        self._check_if_fitted()\n",
        "\n",
        "        self.fit(data)\n",
        "        return self.transform(data)\n",
        "\n",
        "    def inverse_transform(self, data:np.ndarray) -> np.ndarray:\n",
        "        self._check_if_fitted()\n",
        "        return (data - self.new_min) / (self.new_max - self.new_min) * (self.max - self.min) + self.min"
      ],
      "metadata": {
        "id": "seaWUB9JjY7b"
      },
      "execution_count": 12,
      "outputs": []
    },
    {
      "cell_type": "code",
      "source": [
        "scaler = Tokenizer(128)\n",
        "scaler.fit(temp)\n",
        "sc_temp = scaler.transform(temp)\n",
        "\n",
        "plt.figure(figsize=(12, 3))\n",
        "plt.plot(sc_temp)\n",
        "plt.show();"
      ],
      "metadata": {
        "colab": {
          "base_uri": "https://localhost:8080/",
          "height": 291
        },
        "id": "IJLXx8U78bnW",
        "outputId": "2167e52a-9a5a-4112-a67b-93ad4ffe30af"
      },
      "execution_count": 13,
      "outputs": [
        {
          "output_type": "display_data",
          "data": {
            "text/plain": [
              "<Figure size 1200x300 with 1 Axes>"
            ],
            "image/png": "[encoded data removed]"
          },
          "metadata": {}
        }
      ]
    },
    {
      "cell_type": "code",
      "execution_count": 14,
      "metadata": {
        "id": "9Sqfqi474039",
        "colab": {
          "base_uri": "https://localhost:8080/",
          "height": 291
        },
        "outputId": "9d3151be-5d67-4038-dc65-33f3b34165af"
      },
      "outputs": [
        {
          "output_type": "display_data",
          "data": {
            "text/plain": [
              "<Figure size 1200x300 with 1 Axes>"
            ],
            "image/png": "[encoded data removed]"
          },
          "metadata": {}
        }
      ],
      "source": [
        "plt.figure(figsize=(12,3))\n",
        "plt.hist(sc_temp, bins=100)\n",
        "plt.show()"
      ]
    },
    {
      "cell_type": "markdown",
      "metadata": {
        "id": "mzWoc3xhs3OA"
      },
      "source": [
        "### 2.4 Putting it all together"
      ]
    },
    {
      "cell_type": "code",
      "execution_count": 15,
      "metadata": {
        "id": "oBSTSKX_nXxu",
        "colab": {
          "base_uri": "https://localhost:8080/"
        },
        "outputId": "57ba3916-5848-4223-88fb-a5ec2282dcd2"
      },
      "outputs": [
        {
          "output_type": "stream",
          "name": "stdout",
          "text": [
            "Number of token_ids : 440654\n"
          ]
        }
      ],
      "source": [
        "class Preprocessor:\n",
        "    def __init__(self, vocab_size:int, drop_p:float):\n",
        "        \"\"\"Single class for transforming or inverse transforming data in and out from our model.\n",
        "\n",
        "        Args:\n",
        "            vocab_size (int): size of vocab\n",
        "            drop_p (float): percentile of outliers to be dropped. $$\\in[0,100]$$\n",
        "        \"\"\"\n",
        "        self.tokenizer = Tokenizer(vocab_size)\n",
        "        self.drop_p = drop_p\n",
        "\n",
        "    def reject_outliers(self, data:np.ndarray, percentile:float) -> np.ndarray:\n",
        "        \"\"\"Removes outliers based on z-score method. Instead of using threshold to match percentile of\n",
        "            data under normal distribution, direct threshold is used since orignal data and z-score\n",
        "            values have same size.\n",
        "\n",
        "        Args:\n",
        "            data (np.ndarray):\n",
        "            percentile (float):\n",
        "\n",
        "        Returns:\n",
        "            np.ndarray: _description_\n",
        "        \"\"\"\n",
        "        z_score = abs(data - np.mean(data, axis=0)) / np.std(data, axis=0)\n",
        "        data = data[np.where(z_score < np.percentile(z_score, percentile))]\n",
        "        return data\n",
        "\n",
        "    def detrend(self, data:np.ndarray) -> np.ndarray:\n",
        "        \"\"\"Detrend csv files. If list of data from files is provided detrending is done on each file indivually.\n",
        "            Uses log returns to detrend.\n",
        "        Args:\n",
        "            data (np.ndarray): data with trend.\n",
        "\n",
        "        Returns:\n",
        "            np.ndarray: data without trend.\n",
        "        \"\"\"\n",
        "\n",
        "        if type(data) == list:\n",
        "            detrended = []\n",
        "            for i in data:\n",
        "                detrended.append(\n",
        "                    np.diff(np.log(i), axis=0)\n",
        "                )\n",
        "            detrended = np.concatenate(detrended, axis=0)\n",
        "        elif type(data) == np.ndarray:\n",
        "            detrended = np.diff(np.log(data), axis=0)\n",
        "        return detrended\n",
        "\n",
        "    def fit(self, data:np.ndarray)->np.ndarray:\n",
        "        \"\"\"Steps involved:\n",
        "            - Trend Removal\n",
        "            - Outliers Removal\n",
        "            - Fitting Min-Max Scaler to compute minumum and maximum\n",
        "        Args:\n",
        "            data (np.ndarray): data with no preprocessing applied.\n",
        "\n",
        "        Returns:\n",
        "           np.ndarray: This fit model returns as it carries out detrending and outlier removal.\n",
        "        \"\"\"\n",
        "        detrended = self.detrend(data)\n",
        "        detrended = np.concatenate(detrended, axis=0)\n",
        "        detrended = self.reject_outliers(detrended, self.drop_p)\n",
        "        self.tokenizer.fit(detrended)\n",
        "        return detrended\n",
        "\n",
        "    def transform(self, data:np.ndarray) -> np.ndarray:\n",
        "        \"\"\"Tokenizes input data\"\"\"\n",
        "        token_ids = self.tokenizer.transform(data)\n",
        "        return token_ids\n",
        "\n",
        "    def inverse_transform(self, token_ids:np.ndarray, initial:np.ndarray) -> np.ndarray:\n",
        "        \"\"\"Steps involved:\n",
        "            1. Detokenizing model outputs\n",
        "            2. Retrend the data.\n",
        "\n",
        "        Args:\n",
        "            token_ids (np.ndarray):\n",
        "            initial (np.ndarray): Usually last value of unprocessed version of input.\n",
        "                                Necessary to have right level when carrying out cumsum.\n",
        "                                Otherwise, data will be shifted below if initial is zero.\n",
        "\n",
        "        Returns:\n",
        "            np.ndarray: _description_\n",
        "        \"\"\"\n",
        "        unscaled_data = self.tokenizer.inverse_transform(np.array(token_ids))\n",
        "        unscaled_data = np.insert(unscaled_data, 0, np.log(initial))\n",
        "        unscaled_data = np.cumsum(unscaled_data, axis=0)\n",
        "        trended_data = np.exp(unscaled_data)\n",
        "        return trended_data\n",
        "\n",
        "preprocessor = Preprocessor(vocab_size=256, drop_p=99.5)\n",
        "temp = preprocessor.fit(data)\n",
        "token_ids = preprocessor.transform(temp)\n",
        "print(f'Number of token_ids : {len(token_ids)}')"
      ]
    },
    {
      "cell_type": "code",
      "source": [
        "plt.figure(figsize=(12,3))\n",
        "plt.hist(token_ids, bins=100)\n",
        "plt.show()"
      ],
      "metadata": {
        "colab": {
          "base_uri": "https://localhost:8080/",
          "height": 291
        },
        "id": "2dma-NS_1MA7",
        "outputId": "9fcc7e93-954f-4f2e-ab1d-577ab9c572a8"
      },
      "execution_count": 16,
      "outputs": [
        {
          "output_type": "display_data",
          "data": {
            "text/plain": [
              "<Figure size 1200x300 with 1 Axes>"
            ],
            "image/png": "[encoded data removed]"
          },
          "metadata": {}
        }
      ]
    },
    {
      "cell_type": "code",
      "source": [
        "plt.figure(figsize=(12,3))\n",
        "plt.plot(np.concatenate(data, axis=0))\n",
        "plt.plot(preprocessor.inverse_transform(token_ids, data[0][0]))\n",
        "plt.show();"
      ],
      "metadata": {
        "colab": {
          "base_uri": "https://localhost:8080/",
          "height": 306
        },
        "id": "HvW3geUc1NcX",
        "outputId": "6bf9498b-6d04-4af9-9d17-13e658d68190"
      },
      "execution_count": 17,
      "outputs": [
        {
          "output_type": "display_data",
          "data": {
            "text/plain": [
              "<Figure size 1200x300 with 1 Axes>"
            ],
            "image/png": "[encoded data removed]"
          },
          "metadata": {}
        }
      ]
    },
    {
      "cell_type": "code",
      "source": [
        "temp = preprocessor.inverse_transform(token_ids[:len(data[0])], data[0][0])\n",
        "plt.figure(figsize=(12,3))\n",
        "plt.plot(data[0], label='orignal')\n",
        "plt.plot(temp, label='recovered')\n",
        "plt.legend()\n",
        "plt.show();"
      ],
      "metadata": {
        "colab": {
          "base_uri": "https://localhost:8080/",
          "height": 291
        },
        "id": "AZ5IAy3s1Qrb",
        "outputId": "be5d4e47-f287-4d59-f954-2143d99237c9"
      },
      "execution_count": 18,
      "outputs": [
        {
          "output_type": "display_data",
          "data": {
            "text/plain": [
              "<Figure size 1200x300 with 1 Axes>"
            ],
            "image/png": "[encoded data removed]"
          },
          "metadata": {}
        }
      ]
    },
    {
      "cell_type": "markdown",
      "metadata": {
        "id": "HiDZCafcsvcG"
      },
      "source": [
        "## 3.0 Custom Pytorch Dataset"
      ]
    },
    {
      "cell_type": "code",
      "execution_count": 19,
      "metadata": {
        "id": "r_amJNgUpOy6",
        "colab": {
          "base_uri": "https://localhost:8080/"
        },
        "outputId": "4ed7c7a8-67e7-4e62-83f9-9fa3bdc7e9fc"
      },
      "outputs": [
        {
          "output_type": "stream",
          "name": "stdout",
          "text": [
            "Length of Dataset : 440622\n",
            "Shape of x: torch.Size([32])\n",
            "Shape of y: torch.Size([32])\n"
          ]
        }
      ],
      "source": [
        "class CSVDataset(Dataset):\n",
        "    def __init__(self, data:np.ndarray, seq_len:int, preprocessor:Preprocessor)->None:\n",
        "        super().__init__()\n",
        "        self.data = data\n",
        "        self.seq_len = seq_len\n",
        "        self.preprocessor = preprocessor\n",
        "        self.data = self.preprocessor.fit(data)\n",
        "\n",
        "    def __len__(self)->int:\n",
        "        return self.data.shape[0] - self.seq_len\n",
        "\n",
        "    def __getitem__(self, index:int) -> tuple[torch.Tensor, torch.Tensor]:\n",
        "        data = self.data[index : index + self.seq_len + 1]\n",
        "        data = self.preprocessor.transform(data)\n",
        "        return torch.tensor(data[:-1], dtype=torch.long), torch.tensor(data[1:], dtype=torch.long)\n",
        "\n",
        "dataset = CSVDataset(data, 32, preprocessor)\n",
        "print(f'Length of Dataset : {len(dataset)}\\nShape of x: {dataset[0][0].shape}\\nShape of y: {dataset[0][1].shape}')"
      ]
    },
    {
      "cell_type": "code",
      "execution_count": 20,
      "metadata": {
        "id": "uqi3uyGJso5t",
        "colab": {
          "base_uri": "https://localhost:8080/",
          "height": 295
        },
        "outputId": "539a8861-347d-47a2-8bdf-d139b0895e38"
      },
      "outputs": [
        {
          "output_type": "display_data",
          "data": {
            "text/plain": [
              "<Figure size 1200x300 with 1 Axes>"
            ],
            "image/png": "[encoded data removed]"
          },
          "metadata": {}
        }
      ],
      "source": [
        "plt.figure(figsize=(12, 3))\n",
        "plt.plot(dataset[0][0].tolist())\n",
        "plt.show();"
      ]
    },
    {
      "cell_type": "markdown",
      "metadata": {
        "id": "g3ifuCgcBHrc"
      },
      "source": [
        "## 4.0 Model"
      ]
    },
    {
      "cell_type": "markdown",
      "metadata": {
        "id": "Ai9Ugy-cCM_2"
      },
      "source": [
        "<h3>Architecture Specifications</h3>\n",
        "The model follows the architecture used in Llama series of models. Its main features are:<br>\n",
        "<ol>\n",
        "<li><a href = \"https://arxiv.org/pdf/2104.09864v5\"> <u>Rotary Positional Embeddings</u></li>\n",
        "<li><a href = \"https://arxiv.org/pdf/2002.05202v1\"> <u>Swish Gated Linear unit</u></li>\n",
        "<li><a href = \"https://arxiv.org/pdf/2305.13245v3\"> <u>Grouped Quey Attention</u></li>\n",
        "<li><a href = \"https://arxiv.org/pdf/1910.07467\"> <u><s>Root Mean Square Normalisation</s></u></li>\n",
        "</ol>\n",
        "\n"
      ]
    },
    {
      "cell_type": "markdown",
      "metadata": {
        "id": "IjEm-VDkLUqX"
      },
      "source": [
        "In our model we use Layer Norm, since the computational benifit for our small model is negligible using RMS Norm. Also accuracy is of more importance, since our model is not large."
      ]
    },
    {
      "cell_type": "markdown",
      "metadata": {
        "id": "vDvIOw5EBlXt"
      },
      "source": [
        "### 4.1 SwiGLU"
      ]
    },
    {
      "cell_type": "code",
      "execution_count": 21,
      "metadata": {
        "id": "e1h8ZpD7AI8w"
      },
      "outputs": [],
      "source": [
        "class SwiGLU(nn.Module):\n",
        "    \"\"\"\n",
        "    swiglu = swish(B(W1x+b1)) * (W2x+b2) -> (W1x+b1) * sigmoid(B*(W1x+b1)) * (W2x+b2)\n",
        "    \"\"\"\n",
        "    def __init__(self, dim, beta=1) -> None:\n",
        "        super(SwiGLU, self).__init__()\n",
        "        self.linear_gate = nn.Linear(dim, dim)\n",
        "        self.linear = nn.Linear(dim, dim)\n",
        "        self.beta = nn.Parameter(torch.tensor(beta, dtype=torch.float))\n",
        "        self.register_parameter(\"beta\", self.beta)\n",
        "\n",
        "    def forward(self, x):\n",
        "        swish_gate = self.linear_gate(x) * F.sigmoid(self.beta*self.linear_gate(x))\n",
        "        out = swish_gate * self.linear(x)\n",
        "        return out"
      ]
    },
    {
      "cell_type": "markdown",
      "metadata": {
        "id": "qeVREL_0BpsR"
      },
      "source": [
        "### 4.2 RotaryPositionalEmbedding"
      ]
    },
    {
      "cell_type": "code",
      "execution_count": 22,
      "metadata": {
        "id": "DTpP6WieBpZa"
      },
      "outputs": [],
      "source": [
        "class RotaryPositionalEmbeddings(nn.Module):\n",
        "    def __init__(self, dim, base:float=10000):\n",
        "        super(RotaryPositionalEmbeddings, self).__init__()\n",
        "        inv_freq = 1.0 / (base ** (torch.arange(0, dim, 2).float() / dim))\n",
        "        self.register_buffer(\"inv_freq\", inv_freq)\n",
        "        self.seq_len_cached = None\n",
        "        self.cos_cached = None\n",
        "        self.sin_cached = None\n",
        "\n",
        "        self.dim, self.base = dim, base\n",
        "\n",
        "    def forward(self, x):\n",
        "        seq_len = x.shape[1]\n",
        "        if seq_len != self.seq_len_cached:\n",
        "            self.seq_len_cached = seq_len\n",
        "            t = torch.arange(seq_len, device=x.device).type_as(self.inv_freq)\n",
        "            # outer product -> seq_len, dim\n",
        "            freqs = torch.einsum(\"i,j->ij\", t, self.inv_freq)\n",
        "            emb = torch.repeat_interleave(freqs, 2, -1)\n",
        "            # cos, sin -> 1, 1, seq_len, dim\n",
        "            self.cos_cached = emb.cos().unsqueeze(0).unsqueeze(1)\n",
        "            self.sin_cached = emb.sin().unsqueeze(0).unsqueeze(1)\n",
        "        return self.cos_cached, self.sin_cached\n",
        "\n",
        "    def extra_repr(self) -> str:\n",
        "        return f'in_dimension={self.dim}, base_multiplier={self.base}'\n",
        "\n",
        "def rotate_half(x):\n",
        "    hdim = x.shape[-1]\n",
        "    x1, x2 = x[..., : hdim // 2], x[..., hdim // 2 :]\n",
        "    return torch.cat((-x2, x1), dim=-1)\n",
        "\n",
        "\n",
        "@torch.jit.script\n",
        "def apply_rotary_pos_emb(q, k, cos, sin):\n",
        "    return (q * cos) + (rotate_half(q) * sin), (k * cos) + (rotate_half(k) * sin)"
      ]
    },
    {
      "cell_type": "markdown",
      "metadata": {
        "id": "VsaLNUdEB17c"
      },
      "source": [
        "### 4.3 RoPE Multi-Head Attention"
      ]
    },
    {
      "cell_type": "code",
      "execution_count": 23,
      "metadata": {
        "id": "L8uhKiQ6B1sI"
      },
      "outputs": [],
      "source": [
        "class RoPEMultiHeadAttention(nn.Module):\n",
        "    def __init__(self, seq_len:int, d_model:int, head_dim:int, num_q_heads:int, num_kv_heads:int, dropout:float, rope_beta:float, use_flash_attn:bool=True):\n",
        "        super(RoPEMultiHeadAttention, self).__init__()\n",
        "        assert head_dim == d_model // num_q_heads\n",
        "        self.query = nn.Linear(d_model , head_dim * num_q_heads)\n",
        "        self.key = nn.Linear(d_model, head_dim * num_kv_heads)\n",
        "        self.value = nn.Linear(d_model, head_dim * num_kv_heads)\n",
        "\n",
        "        self.R = RotaryPositionalEmbeddings(head_dim, rope_beta)\n",
        "        # for debugging attention, mannual implementation\n",
        "        if use_flash_attn is False:\n",
        "            causal_mask = torch.tril(torch.ones(seq_len, seq_len).view(1,1,seq_len, seq_len))\n",
        "            self.register_buffer('causal_mask', causal_mask)\n",
        "            self.drop = nn.Dropout(dropout)\n",
        "\n",
        "        self.head_dim = head_dim\n",
        "        self.num_q_heads = num_q_heads\n",
        "        self.num_kv_heads = num_kv_heads\n",
        "        self.num_q_per_kv = num_q_heads // num_kv_heads\n",
        "        self.dropout = dropout\n",
        "        self.use_flash_attn = use_flash_attn\n",
        "\n",
        "    def forward(self, x):\n",
        "        batch, seq_len, d_model = x.shape\n",
        "        # q -> batch, seq_len, hdim * q_heads\n",
        "        # k, v -> batch, seq_len, hdim * kv_heads\n",
        "        q = self.query(x)\n",
        "        k = self.key(x)\n",
        "        v = self.value(x)\n",
        "        # for seperating heads for indivual head-attention calculation\n",
        "        # q -> batch, seq_len, num_q_heads, head_dim\n",
        "        # k,v -> batch, seq_len, num_kv_heads, head_dim\n",
        "        # transposing head numbers and sequence length dimension for dot product attention later\n",
        "        q = q.view(batch, seq_len, self.num_q_heads, self.head_dim).transpose(1,2)\n",
        "        k = k.view(batch, seq_len, self.num_kv_heads, self.head_dim).transpose(1,2)\n",
        "        v = v.view(batch, seq_len, self.num_kv_heads, self.head_dim).transpose(1,2)\n",
        "        # Grouped Query Attention, ,ight be useful.\n",
        "        if self.num_q_heads != self.num_kv_heads:\n",
        "            k = torch.repeat_interleave(k, repeats=self.num_q_per_kv, dim = 1)\n",
        "            v = torch.repeat_interleave(v, repeats=self.num_q_per_kv, dim = 1)\n",
        "\n",
        "        # applying rotary positional embedding\n",
        "        cos, sin = self.R(x)\n",
        "        qr, kr = apply_rotary_pos_emb(q, k, cos, sin)\n",
        "        if self.use_flash_attn is False:\n",
        "            # qr @ kr -> batch, num_kv_heads, seq_len, head_dim @ batch, num_kv_heads, head_dim, seq_len\n",
        "            # attn_score -> batch, num_q_head, seq_len, seq_len\n",
        "            attn_scores = qr @ kr.transpose(-2,-1) * torch.rsqrt(torch.tensor(self.head_dim))\n",
        "            # # Mask  future tokens\n",
        "            masked_scores = torch.masked_fill(attn_scores, self.causal_mask[:,:,:seq_len,:seq_len] == 0, float('-inf'))\n",
        "            # # normalise attention_scores\n",
        "            attn_weights = F.softmax(masked_scores, dim=-1)\n",
        "            attn_weights = self.drop(attn_weights)\n",
        "            # attn_out-> batch, num_q_heads, seq_len, head_dim\n",
        "            attn_out = attn_weights @ v\n",
        "        else:\n",
        "            # attn_out-> batch, num_q_heads, seq_len, head_dim\n",
        "            attn_out = F.scaled_dot_product_attention(qr, kr, v, dropout_p=self.dropout, is_causal=True)\n",
        "        # batch, seq_len, d_model\n",
        "        attn_out = attn_out.transpose(1,2).contiguous().view(batch, seq_len, d_model)\n",
        "        return attn_out"
      ]
    },
    {
      "cell_type": "markdown",
      "metadata": {
        "id": "eNkiYAl6CYdM"
      },
      "source": [
        "### 4.4 Model Block"
      ]
    },
    {
      "cell_type": "code",
      "execution_count": 24,
      "metadata": {
        "id": "cEeY1ZLVCKfc"
      },
      "outputs": [],
      "source": [
        "class RoPEModelBlock(nn.Module):\n",
        "    def __init__(self, seq_len:int, d_model:int, head_dim:int, num_q_heads:int, num_kv_heads:int, dropout:float, rope_beta:float, proj_fac:int=4, use_flash_attn:bool=True):\n",
        "        super(RoPEModelBlock, self).__init__()\n",
        "        self.pre_ln = nn.LayerNorm(d_model)\n",
        "        self.rmha = RoPEMultiHeadAttention(seq_len, d_model, head_dim, num_q_heads, num_kv_heads, dropout, rope_beta, use_flash_attn)\n",
        "        self.up_proj = nn.Linear(d_model, d_model * proj_fac)\n",
        "        self.swiglu = SwiGLU(d_model*proj_fac)\n",
        "        self.down_proj = nn.Linear(d_model * proj_fac, d_model)\n",
        "        self.post_ln = nn.LayerNorm(d_model)\n",
        "\n",
        "    def forward(self, x):\n",
        "        skip = x\n",
        "        x = self.pre_ln(x)\n",
        "        x = skip + self.rmha(x)\n",
        "        skip = x\n",
        "        x = self.post_ln(x)\n",
        "        x = self.down_proj(self.swiglu(self.up_proj(x)))\n",
        "        x += skip\n",
        "        return x"
      ]
    },
    {
      "cell_type": "markdown",
      "metadata": {
        "id": "iMgvrpHgCegO"
      },
      "source": [
        "### 4.5 Complete Model"
      ]
    },
    {
      "cell_type": "code",
      "execution_count": 25,
      "metadata": {
        "id": "DVt5U-W8CeQt"
      },
      "outputs": [],
      "source": [
        "class Model(nn.Module):\n",
        "    def __init__(self, vocab:int, seq_len:int, d_model:int, num_q_heads:int, num_kv_heads:int, dropout:float, num_layers:int, rope_beta:float, proj_fac:int, use_flash_attn:bool=True, initialise:bool=False):\n",
        "        super(Model, self).__init__()\n",
        "        head_dim = d_model // num_q_heads\n",
        "        self.Embedding_layer = nn.Embedding(vocab, d_model)\n",
        "        self.RoPE_Attention = nn.Sequential(*[RoPEModelBlock(seq_len, d_model, head_dim, num_q_heads, num_kv_heads, dropout, rope_beta, proj_fac, use_flash_attn) for _ in range(num_layers)])\n",
        "        self.Out_layer = nn.Linear(d_model, vocab)\n",
        "        self.Out_layer.weight = self.Embedding_layer.weight\n",
        "\n",
        "\n",
        "        self.vocab = vocab\n",
        "        self.seq_len = seq_len\n",
        "        self.d_model = d_model\n",
        "        self.head_dim = head_dim\n",
        "        self.num_q_heads = num_q_heads\n",
        "        self.num_kv_heads = num_kv_heads\n",
        "        self.dropout = dropout\n",
        "        self.num_layers = num_layers\n",
        "        self.proj_fac = proj_fac\n",
        "        if initialise is True:\n",
        "            self.init_weights()\n",
        "\n",
        "    def forward(self, x):\n",
        "        # x -> batch, seq_len\n",
        "        # embedings -> batch, seq_len, d_model\n",
        "        emb = self.Embedding_layer(x)\n",
        "        # attn_out -> batch, seq_len, d_model\n",
        "        attn_out = self.RoPE_Attention(emb)\n",
        "        # logits -> batch, seq_len, vocab_size\n",
        "        logits = self.Out_layer(attn_out)\n",
        "        return logits\n",
        "\n",
        "    def init_weights(self):\n",
        "        for m in self.modules():\n",
        "            if isinstance(m, nn.Linear):\n",
        "                nn.init.xavier_normal_(m.weight)\n",
        "                if m.bias is not None:\n",
        "                    nn.init.constant_(m.bias, 0.0)\n",
        "            elif isinstance(m, nn.Embedding):\n",
        "                nn.init.xavier_normal_(m.weight)"
      ]
    },
    {
      "cell_type": "code",
      "execution_count": 26,
      "metadata": {
        "id": "qcBr1kvQPN6v"
      },
      "outputs": [],
      "source": [
        "class WarmupScheduler:\n",
        "    def __init__(self, optimizer, min_lr:float, max_lr:float, smoothing_factor:float, warmup_steps:int|None=None, restart_steps:int|None=None):\n",
        "        self.optimizer = optimizer\n",
        "        self.min_lr = min_lr\n",
        "        self.max_lr = max_lr\n",
        "        self.warmup_steps = warmup_steps\n",
        "        self.restart_steps = restart_steps\n",
        "        self.smoothing_factor = smoothing_factor\n",
        "        self._step = 0\n",
        "        self._current_lr = self.optimizer.param_groups[0]['lr']\n",
        "        self._init_lr = self._current_lr\n",
        "\n",
        "\n",
        "    def state_dict(self):\n",
        "        return {key:value for key,value in self.__dict__.items() if key!= 'optimizer'}\n",
        "\n",
        "    def load_state_dict(self, state_dict):\n",
        "        self.__dict__.update(state_dict)\n",
        "\n",
        "    def set_warmup_restart_steps(self, warmup_steps, restart_steps):\n",
        "        self.warmup_steps = warmup_steps\n",
        "        self.restart_steps = restart_steps\n",
        "\n",
        "    def step(self):\n",
        "        assert self.warmup_steps and self.restart_steps is not None, 'Initialise warump steps with set_warmup_restart_steps function'\n",
        "\n",
        "\n",
        "        if self._step >= self.restart_steps:\n",
        "            self._step = 0\n",
        "            self._current_lr = self._init_lr\n",
        "        self._step += 1\n",
        "        rate = self.rate()\n",
        "        for p in self.optimizer.param_groups:\n",
        "            p['lr'] = rate\n",
        "        self._current_lr = rate\n",
        "\n",
        "    def rate(self):\n",
        "        assert self.warmup_steps and self.restart_steps is not None, 'Initialise warump steps with set_warmup_restart_steps function'\n",
        "        if self._step <= self.warmup_steps:\n",
        "            rate = self._step / self.warmup_steps * self.max_lr\n",
        "        else:\n",
        "            # (1-self._step/ self.restart_steps) -> decreasnig, raised by smoothing factor to higher polynomial,\n",
        "            # min lr is added to keep it above it\n",
        "            rate = (1 - (self._step / self.restart_steps)**self.smoothing_factor) * self._current_lr + self.min_lr\n",
        "\n",
        "        if rate < self.min_lr:\n",
        "                rate = self.min_lr\n",
        "        if rate > self.max_lr:\n",
        "            rate = self.max_lr\n",
        "        return rate\n",
        "\n",
        "    def get_last_lr(self):\n",
        "        return self._current_lr"
      ]
    },
    {
      "cell_type": "code",
      "execution_count": 27,
      "metadata": {
        "colab": {
          "base_uri": "https://localhost:8080/",
          "height": 415
        },
        "id": "L65uZrWPQlZA",
        "outputId": "a00d2e76-37ce-439a-8068-d6ae766f2551"
      },
      "outputs": [
        {
          "output_type": "display_data",
          "data": {
            "text/plain": [
              "<Figure size 800x400 with 1 Axes>"
            ],
            "image/png": "[encoded data removed]"
          },
          "metadata": {}
        }
      ],
      "source": [
        "def test():\n",
        "\n",
        "    model = torch.nn.Sequential(\n",
        "        torch.nn.Linear(4, 10)\n",
        "    )\n",
        "    optimizer = torch.optim.AdamW(model.parameters(), lr=1e-5)\n",
        "    scheduler = WarmupScheduler(optimizer, min_lr=1e-5, max_lr=1e-4, smoothing_factor=2)\n",
        "    scheduler.set_warmup_restart_steps(100*0.1, 100*0.5)\n",
        "    lrs = []\n",
        "    for i in range(0, 100):\n",
        "        optimizer.step()\n",
        "        lrs.append(optimizer.param_groups[0]['lr'])\n",
        "        scheduler.step()\n",
        "    plt.figure(figsize=(8,4))\n",
        "    plt.plot(lrs)\n",
        "    plt.title('custom scheduler learning rate')\n",
        "    plt.xlabel('steps')\n",
        "    plt.ylabel('learning rate')\n",
        "    plt.show()\n",
        "\n",
        "test()"
      ]
    },
    {
      "cell_type": "markdown",
      "metadata": {
        "id": "MwXMKBPRCr4_"
      },
      "source": [
        "## 5.0 Trainer"
      ]
    },
    {
      "cell_type": "code",
      "source": [
        "def save_checkpoint(model, optimizer, scheduler, model_save_path:str) -> None:\n",
        "    torch.save({\n",
        "        'model_state_dict': model.state_dict(),\n",
        "        'optimizer_state_dict': optimizer.state_dict(),\n",
        "        'scheduler_state_dict': scheduler.state_dict()\n",
        "    },model_save_path)\n",
        "\n",
        "def load_checkpoint(model, optimizer, scheduler,model_load_path:str):\n",
        "    device = next(model.parameters()).device\n",
        "    checkpoint = torch.load(model_load_path, map_location=device, weights_only=True)\n",
        "    model.load_state_dict(checkpoint['model_state_dict'])\n",
        "    optimizer.load_state_dict(checkpoint['optimizer_state_dict'])\n",
        "    scheduler.load_state_dict(checkpoint['scheduler_state_dict'])\n",
        "    return model, optimizer, scheduler"
      ],
      "metadata": {
        "id": "hqRGKmW83kjI"
      },
      "execution_count": 28,
      "outputs": []
    },
    {
      "cell_type": "code",
      "source": [
        "torch.cuda.is_bf16_supported(including_emulation=False)"
      ],
      "metadata": {
        "colab": {
          "base_uri": "https://localhost:8080/"
        },
        "id": "6M9H-86wDfQU",
        "outputId": "0ff729e8-f496-4f1d-b7cb-477f5b3e895c"
      },
      "execution_count": 29,
      "outputs": [
        {
          "output_type": "execute_result",
          "data": {
            "text/plain": [
              "False"
            ]
          },
          "metadata": {},
          "execution_count": 29
        }
      ]
    },
    {
      "cell_type": "code",
      "execution_count": 30,
      "metadata": {
        "id": "cbbQiJySMIs3"
      },
      "outputs": [],
      "source": [
        "class Trainer:\n",
        "    def __init__(\n",
        "        self,\n",
        "        model,\n",
        "        optimizer,\n",
        "        scheduler,\n",
        "        dataset,\n",
        "        batch_size: int,\n",
        "        epochs: int,\n",
        "        model_save_path: str,\n",
        "        model_load_path: str,\n",
        "        use_amp: bool=False,\n",
        "        train_val_split: tuple[float, float] = (0.8, 0.2)\n",
        "        ):\n",
        "        self.model = model\n",
        "        self.optimizer = optimizer\n",
        "        self.scheduler = scheduler\n",
        "        self.dataset = dataset\n",
        "        self.batch_size = batch_size\n",
        "        self.epochs = epochs\n",
        "        self.model_save_path = model_save_path\n",
        "        self.model_load_path = model_load_path\n",
        "        self.device = next(model.parameters()).device\n",
        "\n",
        "        self.use_amp = use_amp\n",
        "        self.train_val_split = train_val_split\n",
        "\n",
        "    def get_dataloaders(self, split) -> DataLoader:\n",
        "        train_dataset, val_dataset = random_split(self.dataset, self.train_val_split)\n",
        "        if split == 'train':\n",
        "            loader = DataLoader(train_dataset, self.batch_size, shuffle=True)\n",
        "        elif split == 'val':\n",
        "            loader = DataLoader(val_dataset, self.batch_size, shuffle=False)\n",
        "        return loader\n",
        "\n",
        "    def evaluate_accuracy(self, logits:torch.Tensor, real_labels:torch.Tensor)->torch.Tensor:\n",
        "        with torch.no_grad():\n",
        "            log_probs = F.softmax(logits, dim=-1)\n",
        "            pred_label = torch.argmax(log_probs, dim=-1)\n",
        "        return torch.mean((pred_label == real_labels).float()).item()\n",
        "\n",
        "    def train_model_with_amp(self):\n",
        "        \"\"\"Train with mixed precision.\"\"\"\n",
        "        train_loader = self.get_dataloaders('train')\n",
        "        loss_dict = {'loss': [], 'acc': []}\n",
        "        self.model.train()\n",
        "        loader = tqdm(train_loader, leave=True)\n",
        "        scaler = torch.amp.GradScaler()\n",
        "\n",
        "        self.scheduler.set_warmup_restart_steps(warmup_steps = int(len(train_loader)*0.1), restart_steps = len(train_loader))\n",
        "\n",
        "        for i, (x,y) in enumerate(loader):\n",
        "            x, y = x.to(self.device), y.to(self.device)\n",
        "            self.optimizer.zero_grad()\n",
        "\n",
        "            if torch.cuda.is_bf16_supported(including_emulation=False) is False:\n",
        "                dtype = torch.float16\n",
        "            else:\n",
        "                dtype = torch.bfloat16\n",
        "            with torch.autocast(device_type=str(self.device), dtype=dtype):\n",
        "                y_pred = self.model(x)\n",
        "                loss = F.cross_entropy(y_pred.view(-1, y_pred.shape[-1]), y.view(-1))\n",
        "\n",
        "            scaler.scale(loss).backward()\n",
        "            scaler.step(self.optimizer)\n",
        "            scaler.update()\n",
        "            self.scheduler.step()\n",
        "            accuracy = self.evaluate_accuracy(y_pred, y)\n",
        "            loss_dict['loss'].append(loss.cpu().item())\n",
        "            loss_dict['acc'].append(accuracy)\n",
        "            if self.epochs <= 10:\n",
        "                if i % (len(train_loader) // 5) == 0:\n",
        "                    gpu_usage = round(torch.cuda.memory_reserved(0)/1024**3,1)\n",
        "                    print(f'\\nTrain Loss : {loss:.4f} | Train Accuracy : {accuracy:.4f} | gpu usage: {gpu_usage}')\n",
        "        return np.mean(loss_dict['loss']), np.mean(loss_dict['acc'])\n",
        "\n",
        "    def train_model(self):\n",
        "        train_loader = self.get_dataloaders('train')\n",
        "        loss_dict = {'loss': [], 'acc': []}\n",
        "        loader = tqdm(train_loader, leave=True)\n",
        "        self.model.train()\n",
        "\n",
        "        self.scheduler.set_warmup_restart_steps(warmup_steps = int(len(train_loader)*0.1), restart_steps = len(train_loader))\n",
        "\n",
        "        for i, (x, y) in  enumerate(loader):\n",
        "            x, y = x.to(self.device), y.to(self.device)\n",
        "            self.optimizer.zero_grad()\n",
        "            y_pred = self.model(x)\n",
        "            loss = F.cross_entropy(y_pred.view(-1, y_pred.shape[-1]), y.view(-1))\n",
        "            accuracy = self.evaluate_accuracy(y_pred, y)\n",
        "            loss.backward()\n",
        "            self.optimizer.step()\n",
        "            self.scheduler.step()\n",
        "            loss_dict['loss'].append(loss.cpu().item())\n",
        "            loss_dict['acc'].append(accuracy)\n",
        "            if self.epochs <= 10:\n",
        "                if i % (len(train_loader) // 5) == 0:\n",
        "                    gpu_usage = round(torch.cuda.memory_reserved(0)/1024**3,1)\n",
        "                    print(f'\\nTrain Loss : {loss:.4f} | Train Accuracy : {accuracy:.4f} | GPU Usage: {gpu_usage}')\n",
        "        return np.mean(loss_dict['loss']), np.mean(loss_dict['acc'])\n",
        "\n",
        "    def eval_model(self):\n",
        "        val_loader = self.get_dataloaders('val')\n",
        "        loss_dict = {'loss': [], 'acc': []}\n",
        "        for x, y in val_loader:\n",
        "            with torch.no_grad():\n",
        "                x, y = x.to(self.device), y.to(self.device)\n",
        "                self.model.eval()\n",
        "                y_pred = self.model(x)\n",
        "                loss = F.cross_entropy(y_pred.view(-1, y_pred.shape[-1]), y.view(-1))\n",
        "                accuracy = self.evaluate_accuracy(y_pred, y)\n",
        "                loss_dict['loss'].append(loss.cpu().item())\n",
        "                loss_dict['acc'].append(accuracy)\n",
        "        return np.mean(loss_dict['loss']), np.mean(loss_dict['acc'])\n",
        "\n",
        "    def train(self):\n",
        "        if self.model_load_path is not None:\n",
        "            self.model, self.optimizer, self.scheduler = load_checkpoint(self.model, self.optimizer, self.scheduler, self.model_load_path)\n",
        "        try:\n",
        "            loader = tqdm(range(self.epochs), leave=True)\n",
        "            for epoch in loader:\n",
        "                if self.use_amp is True:\n",
        "                    train_loss, train_acc = self.train_model_with_amp()\n",
        "                else:\n",
        "                    train_loss, train_acc = self.train_model()\n",
        "                val_loss, val_acc = self.eval_model()\n",
        "\n",
        "                if epoch % (self.epochs / 10) == 0:\n",
        "                    gpu_usage = round(torch.cuda.memory_reserved(0)/1024**3,1)\n",
        "                    print(f'\\nEpochs: {epoch} | Train_loss : {train_loss:.4f} | val_loss: {val_loss:.4f}',\n",
        "                          f'| train_acc : {train_acc:.4f} | val_acc : {val_acc:.4f} | GPU usage : {gpu_usage}\\n',\n",
        "                          )\n",
        "        except KeyboardInterrupt:\n",
        "            save_checkpoint(self.model, self.optimizer, self.scheduler, self.model_save_path)\n",
        "        save_checkpoint(self.model, self.optimizer, self.scheduler, self.model_save_path)"
      ]
    },
    {
      "cell_type": "markdown",
      "source": [
        "## 6.0 Loading Model"
      ],
      "metadata": {
        "id": "dpSw3Tm73vMO"
      }
    },
    {
      "cell_type": "code",
      "source": [
        "@dataclass\n",
        "class mconfig:\n",
        "    vocab_size = 128\n",
        "    seq_len = 32\n",
        "    embed_dim = 128\n",
        "    num_q_heads = 4\n",
        "    num_kv_heads = 4\n",
        "    rope_beta = 1e4\n",
        "    dropout = 0.3\n",
        "    num_layers = 2\n",
        "    proj_fac = 4\n",
        "    use_flash_attn = True\n",
        "    initialise_parmas = False"
      ],
      "metadata": {
        "id": "jMR526NA3udF"
      },
      "execution_count": 113,
      "outputs": []
    },
    {
      "cell_type": "code",
      "source": [
        "@dataclass\n",
        "class tconfig:\n",
        "    features = ['Close']\n",
        "    batch_size = 4096\n",
        "    epochs = 10\n",
        "    min_lr = 1e-4\n",
        "    max_lr = 1e-3\n",
        "    smoothing_factor = 2\n",
        "    model_save_path = r'/content/model_small.pt'\n",
        "    model_load_path = model_save_path\n",
        "\n",
        "    device = torch.device('cuda' if torch.cuda.is_available() else 'cpu')\n",
        "    use_amp = True\n",
        "    train_path = r'/content/Indian_stocks'\n",
        "    test_path = r'/content/Indian_stocks/ZEEL.csv'"
      ],
      "metadata": {
        "id": "MIzNHQ8O341G"
      },
      "execution_count": 114,
      "outputs": []
    },
    {
      "cell_type": "code",
      "source": [
        "model = Model(mconfig.vocab_size,  mconfig.seq_len, mconfig.embed_dim, mconfig.num_q_heads, mconfig.num_kv_heads,\n",
        "              mconfig.dropout, mconfig.num_layers, mconfig.rope_beta, mconfig.proj_fac, mconfig.use_flash_attn, mconfig.initialise_parmas)\n",
        "model.to(tconfig.device)"
      ],
      "metadata": {
        "colab": {
          "base_uri": "https://localhost:8080/"
        },
        "id": "eEewJr8u36-Q",
        "outputId": "04c342fc-b921-4e82-fd9c-40ca1a825f5e"
      },
      "execution_count": 115,
      "outputs": [
        {
          "output_type": "execute_result",
          "data": {
            "text/plain": [
              "Model(\n",
              "  (Embedding_layer): Embedding(128, 128)\n",
              "  (RoPE_Attention): Sequential(\n",
              "    (0): RoPEModelBlock(\n",
              "      (pre_ln): LayerNorm((128,), eps=1e-05, elementwise_affine=True)\n",
              "      (rmha): RoPEMultiHeadAttention(\n",
              "        (query): Linear(in_features=128, out_features=128, bias=True)\n",
              "        (key): Linear(in_features=128, out_features=128, bias=True)\n",
              "        (value): Linear(in_features=128, out_features=128, bias=True)\n",
              "        (R): RotaryPositionalEmbeddings(in_dimension=32, base_multiplier=10000.0)\n",
              "      )\n",
              "      (up_proj): Linear(in_features=128, out_features=512, bias=True)\n",
              "      (swiglu): SwiGLU(\n",
              "        (linear_gate): Linear(in_features=512, out_features=512, bias=True)\n",
              "        (linear): Linear(in_features=512, out_features=512, bias=True)\n",
              "      )\n",
              "      (down_proj): Linear(in_features=512, out_features=128, bias=True)\n",
              "      (post_ln): LayerNorm((128,), eps=1e-05, elementwise_affine=True)\n",
              "    )\n",
              "    (1): RoPEModelBlock(\n",
              "      (pre_ln): LayerNorm((128,), eps=1e-05, elementwise_affine=True)\n",
              "      (rmha): RoPEMultiHeadAttention(\n",
              "        (query): Linear(in_features=128, out_features=128, bias=True)\n",
              "        (key): Linear(in_features=128, out_features=128, bias=True)\n",
              "        (value): Linear(in_features=128, out_features=128, bias=True)\n",
              "        (R): RotaryPositionalEmbeddings(in_dimension=32, base_multiplier=10000.0)\n",
              "      )\n",
              "      (up_proj): Linear(in_features=128, out_features=512, bias=True)\n",
              "      (swiglu): SwiGLU(\n",
              "        (linear_gate): Linear(in_features=512, out_features=512, bias=True)\n",
              "        (linear): Linear(in_features=512, out_features=512, bias=True)\n",
              "      )\n",
              "      (down_proj): Linear(in_features=512, out_features=128, bias=True)\n",
              "      (post_ln): LayerNorm((128,), eps=1e-05, elementwise_affine=True)\n",
              "    )\n",
              "  )\n",
              "  (Out_layer): Linear(in_features=128, out_features=128, bias=True)\n",
              ")"
            ]
          },
          "metadata": {},
          "execution_count": 115
        }
      ]
    },
    {
      "cell_type": "code",
      "source": [
        "print(f'Number of parameters in model: {sum(i.numel() for i in model.parameters()):.2e}')"
      ],
      "metadata": {
        "colab": {
          "base_uri": "https://localhost:8080/"
        },
        "id": "QXz_e1oc4nhZ",
        "outputId": "9476ccdc-538c-46ac-ea93-80d4df41a04d"
      },
      "execution_count": 116,
      "outputs": [
        {
          "output_type": "stream",
          "name": "stdout",
          "text": [
            "Number of parameters in model: 1.43e+06\n"
          ]
        }
      ]
    },
    {
      "cell_type": "markdown",
      "source": [
        "## 7.0 Training"
      ],
      "metadata": {
        "id": "klnsJrCi4p3v"
      }
    },
    {
      "cell_type": "code",
      "source": [
        "loader = CSVLoader(tconfig.train_path, ['Close'], split=0.9)\n",
        "data = loader.get_data_from_csv_files()\n",
        "preprocessor = Preprocessor(mconfig.vocab_size-1, drop_p=99.5)\n",
        "dataset = CSVDataset(data, mconfig.seq_len, preprocessor)"
      ],
      "metadata": {
        "id": "n0PxMh8Q4t4j"
      },
      "execution_count": 117,
      "outputs": []
    },
    {
      "cell_type": "code",
      "source": [
        "optimizer = torch.optim.AdamW(model.parameters(), tconfig.min_lr)\n",
        "scheduler = WarmupScheduler(optimizer, tconfig.min_lr, tconfig.max_lr, tconfig.smoothing_factor)"
      ],
      "metadata": {
        "id": "QPNT6PjP4v_s"
      },
      "execution_count": 118,
      "outputs": []
    },
    {
      "cell_type": "code",
      "source": [
        "trainer = Trainer(model, optimizer, scheduler, dataset, tconfig.batch_size, tconfig.epochs, tconfig.model_save_path, tconfig.model_load_path, use_amp = tconfig.use_amp).train()"
      ],
      "metadata": {
        "colab": {
          "base_uri": "https://localhost:8080/",
          "height": 1000,
          "referenced_widgets": [
            "cfac919770504924b28325077f86bc56",
            "76569779a9bc4916aa5605f4bdbcf7ba",
            "64f46e83818a4e6184a14c267570171d",
            "34c06d2a3078404a8bdd84b065d6c65b",
            "b113b16d789648b68cb72e26e16d7b72",
            "c46d4608094941babce27f18b465f51f",
            "e654c61c924a42249c11b0b11d05a5d4",
            "3e4f4e1fb1974958878b8331e2e87e15",
            "fa4c74278a464871afef072003378fac",
            "e08c755f530241a7bc104b5b7617af82",
            "7f23c7d55348490989cf655b16508eab",
            "c234b3f374a149b4aefc9a23083f2b9f",
            "98d25ee0cd374bfd869391af1a58d7ee",
            "830d7e07adce4a48b323a1214849d581",
            "aaed823513624085a4710c98e39cfd41",
            "0d68190b92d445aab5a20e4bd68e640b",
            "230b99eb1d0c4b7c85df5d30ca7b05b0",
            "fee2ec58769f4c469f571361bf36cc1f",
            "c4fbecab8ee649dfa0c3747ab9fe6b43",
            "77a94041302c4fe89ffc1880b9dbee42",
            "622183dfe8eb497983fed9ee6587750c",
            "b2d83c6a97e441299a4741163c729aed",
            "1ee9e6648d6a45608f8fde1536030d21",
            "7dc4142b46c24d1f8720722ca9e8fa2a",
            "d955f074b360479f94c606ac1e4a6c62",
            "f5fb429d799d4192ae26fa88921c0ae7",
            "00c09796b5584e7db058284c21cdf279",
            "1e9ec30776694f7b92fac3d8243cedf3",
            "f1e7792193d84f698442b433e81e2c5e",
            "08212cdeb06e40c0b55511c5d1cc6382",
            "ed8fd90b2b3d4a729592c8417504385e",
            "ddade009403f4fff9577d198f35d8a85",
            "dfd3f7e06df048cd82dd5994c2f1f6f6",
            "1066e5ccd049424a98ee902b670ca046",
            "b0abac94feaa4df3a99caff3c18c3f0d",
            "d864033c3c16426599a3fc5152c6bdd7",
            "ff49e41f4196407ca0aa288fce6f0eb2",
            "8daf5cc32b09401ca6c24abf13f59686",
            "5ef558dc687748508911c8d2f705ad79",
            "b87d076c15594dd785cb295573d2516d",
            "54a8ccac64964e72a8ef00a8d386e22a",
            "8ec02e86aa744fd69dc0a4675fedec7d",
            "79be304b566442809fab31ba43b1415f",
            "9135efd470b2492c815da05cf135877b",
            "34066dfa10364da28fbaa6525eae3e95",
            "0ba10fd848c941678b5097e3d2e031ee",
            "3dca0be3b6a24126ae9c64e167aaeb0e",
            "f42e3ac295fe4b1d88d5881e344d3ee0",
            "bfbd765238494b41bd709c1a54abb422",
            "a2669ebbb47c4ccda2eea804069f3911",
            "26451685b1074792a05a565780a518b1",
            "ba5fb9e640cd43d9b8d73fe6016a0169",
            "cae74564a3e345eb82d7943afec58bd7",
            "dc7d798247f6482e8f22756e1f19eb02",
            "d9684624da1c43cea43e32cc27e89ca4",
            "266081499aec43f691f5a773b8b2403c",
            "a26f787ecf2447b6940cc9199c430c7f",
            "bfc85a5b0bfc40ce8bb01456adb34008",
            "89b38378e9ef4f09bbb24cf74164ca71",
            "caaf348e25e843978a1da08e8fb8cee2",
            "44ac07aec27a47169752f71fb0db97e1",
            "c853c9134cd3452cae7b8abb72da8e83",
            "905bef5d79ce4230b12aa3919455ef2c",
            "95869673bceb419c992b65c397ac3d2b",
            "8732d567cc1d4e78a52d6d844e99c3b5",
            "91797c9d4f8e4e5db361282fe3a44646",
            "450ea9de8b794947aa125f01b07539b9",
            "51ae027a22fd46b8bb4f41da92ef1394",
            "a18364324b3c45f482de1495c4edeb24",
            "effaeca25ef14d22af4f831baed1f593",
            "06690502d43b417e8fb5c31c498eca40",
            "153644cd68e04772917a8d84b586fddb",
            "b47dba2c97264bdc835b8c1b773c461c",
            "6e754bfa093b49b783f6576da9d323a1",
            "2c442e48bf364434b88056b6162b4d6f",
            "3ed3901c4d044e7db66c0adb3bf811fc",
            "d3dd18c188d743de9054f79c2f1dd4b6",
            "3ad007e4090c4ba0a67d0042d24bf3de",
            "64cb3e7f1d73454e96ecb807ee9a95f2",
            "7acb73b117894e84957a6cc09f9848a6",
            "49aa5b4ea17648cc8a2050e45c130c6d",
            "4accb2839d27464b8594d196dfeaf6a7",
            "ce5f28bc4ed0408694eaf16c5e9d1d9f",
            "1817fa232f3c4fa6bbcf4e3c734ec74c",
            "7f355b9fbe614d06803f692f193dd6ea",
            "a8f8c45d34e74eb2925dbbda88c84557",
            "790caa7a9f1342e3a4f1d6367308ab78",
            "d7618a9649a44e5fb2189ea552a8d076",
            "acd1e036d4e74d5db2bfe9a5287f1562",
            "bbd18029b5404d0883760ac337b8b090",
            "52f166ac5c344b36b5e800dc02f232f3",
            "1078097e3bc54160b0bb9947dd3cf345",
            "c472c4e429144fa5a41a568d4c7ff548",
            "66e430104e56496db652b31ea40c1859",
            "83c262dd87ee4b9aba973f04ed7fb768",
            "415b2123b2964a22a5fb44a1c1b73f47",
            "b15d2c4a93044dd3be93ca8d72e6dcaf",
            "2cc34164f5ab4b43a83ac2b2693c3d4f",
            "6d9c48165c704bfcbb0ae1e5b9bf5518",
            "40483b9b5ea74627ab38f219b9a379f6",
            "8ee1888724a1466dab840036ddd17297",
            "c4a9df882dfd4b7087d10aa3a5115007",
            "9f200de9d8944d088d14c2f64dea8bd0",
            "1a8b6978ea314d2fb240005ede8cb503",
            "a149e64dda6048ee93d6218bc6eb4db5",
            "329e18c3b3cb42dbb3283b645557d656",
            "bd75f3a7657c44fb8ff6711b6b02729b",
            "317f8e5ec50b4a90874f3670afb8fc6c",
            "ace91344be8f49c0b910d74213548fb3",
            "8b76d83d4601409083766cca24fa2fc4",
            "013aa242a946466b8085bcc885de6023",
            "93e5fe87c0d44abaa20e87d86ab3b578",
            "7a3f6ad16e0443468d3538b44d6df81b",
            "3406d469b8b943ca88f9512ec38c5475",
            "7ba10d805af14466bd055fa1323453d2",
            "2ba9b6a4e1a84eeda16ece7f34952ec7",
            "eb23a97ede6d43d1984b2d9437ff1ead",
            "7692a1d41d734928a345baf2dde28bf8",
            "dca07d5275034967a3ed935f87b74de0",
            "81c360e84f2b47208c4d2cc9a1da333e",
            "09156029030b4ad18379da0274c76295"
          ]
        },
        "id": "sgzYzo014zDS",
        "outputId": "682fb6c3-4aff-4b17-ff65-f5c3e102d73d"
      },
      "execution_count": 119,
      "outputs": [
        {
          "output_type": "display_data",
          "data": {
            "text/plain": [
              "  0%|          | 0/10 [00:00<?, ?it/s]"
            ],
            "application/vnd.jupyter.widget-view+json": {
              "version_major": 2,
              "version_minor": 0,
              "model_id": "cfac919770504924b28325077f86bc56"
            }
          },
          "metadata": {}
        },
        {
          "output_type": "display_data",
          "data": {
            "text/plain": [
              "  0%|          | 0/87 [00:00<?, ?it/s]"
            ],
            "application/vnd.jupyter.widget-view+json": {
              "version_major": 2,
              "version_minor": 0,
              "model_id": "c234b3f374a149b4aefc9a23083f2b9f"
            }
          },
          "metadata": {}
        },
        {
          "output_type": "stream",
          "name": "stdout",
          "text": [
            "\n",
            "Train Loss : 3.8539 | Train Accuracy : 0.0555 | gpu usage: 5.9\n",
            "\n",
            "Train Loss : 3.8616 | Train Accuracy : 0.0536 | gpu usage: 5.9\n",
            "\n",
            "Train Loss : 3.8560 | Train Accuracy : 0.0550 | gpu usage: 5.9\n",
            "\n",
            "Train Loss : 3.8518 | Train Accuracy : 0.0546 | gpu usage: 5.9\n",
            "\n",
            "Train Loss : 3.8575 | Train Accuracy : 0.0563 | gpu usage: 5.9\n",
            "\n",
            "Train Loss : 3.8583 | Train Accuracy : 0.0564 | gpu usage: 5.9\n",
            "\n",
            "Epochs: 0 | Train_loss : 3.8539 | val_loss: 3.8488 | train_acc : 0.0552 | val_acc : 0.0567 | GPU usage : 5.9\n",
            "\n"
          ]
        },
        {
          "output_type": "display_data",
          "data": {
            "text/plain": [
              "  0%|          | 0/87 [00:00<?, ?it/s]"
            ],
            "application/vnd.jupyter.widget-view+json": {
              "version_major": 2,
              "version_minor": 0,
              "model_id": "1ee9e6648d6a45608f8fde1536030d21"
            }
          },
          "metadata": {}
        },
        {
          "output_type": "stream",
          "name": "stdout",
          "text": [
            "\n",
            "Train Loss : 3.8491 | Train Accuracy : 0.0569 | gpu usage: 5.9\n",
            "\n",
            "Train Loss : 3.8493 | Train Accuracy : 0.0546 | gpu usage: 5.9\n",
            "\n",
            "Train Loss : 3.8594 | Train Accuracy : 0.0548 | gpu usage: 5.9\n",
            "\n",
            "Train Loss : 3.8382 | Train Accuracy : 0.0574 | gpu usage: 5.9\n",
            "\n",
            "Train Loss : 3.8477 | Train Accuracy : 0.0580 | gpu usage: 5.9\n",
            "\n",
            "Train Loss : 3.8428 | Train Accuracy : 0.0573 | gpu usage: 5.9\n",
            "\n",
            "Epochs: 1 | Train_loss : 3.8502 | val_loss: 3.8446 | train_acc : 0.0560 | val_acc : 0.0575 | GPU usage : 5.9\n",
            "\n"
          ]
        },
        {
          "output_type": "display_data",
          "data": {
            "text/plain": [
              "  0%|          | 0/87 [00:00<?, ?it/s]"
            ],
            "application/vnd.jupyter.widget-view+json": {
              "version_major": 2,
              "version_minor": 0,
              "model_id": "1066e5ccd049424a98ee902b670ca046"
            }
          },
          "metadata": {}
        },
        {
          "output_type": "stream",
          "name": "stdout",
          "text": [
            "\n",
            "Train Loss : 3.8477 | Train Accuracy : 0.0580 | gpu usage: 5.9\n",
            "\n",
            "Train Loss : 3.8488 | Train Accuracy : 0.0570 | gpu usage: 5.9\n",
            "\n",
            "Train Loss : 3.8535 | Train Accuracy : 0.0560 | gpu usage: 5.9\n",
            "\n",
            "Train Loss : 3.8463 | Train Accuracy : 0.0571 | gpu usage: 5.9\n",
            "\n",
            "Train Loss : 3.8361 | Train Accuracy : 0.0581 | gpu usage: 5.9\n",
            "\n",
            "Train Loss : 3.8432 | Train Accuracy : 0.0586 | gpu usage: 5.9\n",
            "\n",
            "Epochs: 2 | Train_loss : 3.8463 | val_loss: 3.8422 | train_acc : 0.0568 | val_acc : 0.0582 | GPU usage : 5.9\n",
            "\n"
          ]
        },
        {
          "output_type": "display_data",
          "data": {
            "text/plain": [
              "  0%|          | 0/87 [00:00<?, ?it/s]"
            ],
            "application/vnd.jupyter.widget-view+json": {
              "version_major": 2,
              "version_minor": 0,
              "model_id": "34066dfa10364da28fbaa6525eae3e95"
            }
          },
          "metadata": {}
        },
        {
          "output_type": "stream",
          "name": "stdout",
          "text": [
            "\n",
            "Train Loss : 3.8351 | Train Accuracy : 0.0581 | gpu usage: 5.9\n",
            "\n",
            "Train Loss : 3.8465 | Train Accuracy : 0.0568 | gpu usage: 5.9\n",
            "\n",
            "Train Loss : 3.8439 | Train Accuracy : 0.0569 | gpu usage: 5.9\n",
            "\n",
            "Train Loss : 3.8343 | Train Accuracy : 0.0584 | gpu usage: 5.9\n",
            "\n",
            "Train Loss : 3.8318 | Train Accuracy : 0.0597 | gpu usage: 5.9\n",
            "\n",
            "Train Loss : 3.8291 | Train Accuracy : 0.0592 | gpu usage: 5.9\n",
            "\n",
            "Epochs: 3 | Train_loss : 3.8422 | val_loss: 3.8366 | train_acc : 0.0577 | val_acc : 0.0591 | GPU usage : 5.9\n",
            "\n"
          ]
        },
        {
          "output_type": "display_data",
          "data": {
            "text/plain": [
              "  0%|          | 0/87 [00:00<?, ?it/s]"
            ],
            "application/vnd.jupyter.widget-view+json": {
              "version_major": 2,
              "version_minor": 0,
              "model_id": "266081499aec43f691f5a773b8b2403c"
            }
          },
          "metadata": {}
        },
        {
          "output_type": "stream",
          "name": "stdout",
          "text": [
            "\n",
            "Train Loss : 3.8462 | Train Accuracy : 0.0590 | gpu usage: 5.9\n",
            "\n",
            "Train Loss : 3.8478 | Train Accuracy : 0.0576 | gpu usage: 5.9\n",
            "\n",
            "Train Loss : 3.8418 | Train Accuracy : 0.0582 | gpu usage: 5.9\n",
            "\n",
            "Train Loss : 3.8333 | Train Accuracy : 0.0600 | gpu usage: 5.9\n",
            "\n",
            "Train Loss : 3.8273 | Train Accuracy : 0.0600 | gpu usage: 5.9\n",
            "\n",
            "Train Loss : 3.8358 | Train Accuracy : 0.0578 | gpu usage: 5.9\n",
            "\n",
            "Epochs: 4 | Train_loss : 3.8375 | val_loss: 3.8318 | train_acc : 0.0584 | val_acc : 0.0599 | GPU usage : 5.9\n",
            "\n"
          ]
        },
        {
          "output_type": "display_data",
          "data": {
            "text/plain": [
              "  0%|          | 0/87 [00:00<?, ?it/s]"
            ],
            "application/vnd.jupyter.widget-view+json": {
              "version_major": 2,
              "version_minor": 0,
              "model_id": "450ea9de8b794947aa125f01b07539b9"
            }
          },
          "metadata": {}
        },
        {
          "output_type": "stream",
          "name": "stdout",
          "text": [
            "\n",
            "Train Loss : 3.8321 | Train Accuracy : 0.0610 | gpu usage: 5.9\n",
            "\n",
            "Train Loss : 3.8387 | Train Accuracy : 0.0582 | gpu usage: 5.9\n",
            "\n",
            "Train Loss : 3.8278 | Train Accuracy : 0.0587 | gpu usage: 5.9\n",
            "\n",
            "Train Loss : 3.8264 | Train Accuracy : 0.0601 | gpu usage: 5.9\n",
            "\n",
            "Train Loss : 3.8282 | Train Accuracy : 0.0598 | gpu usage: 5.9\n",
            "\n",
            "Train Loss : 3.8240 | Train Accuracy : 0.0611 | gpu usage: 5.9\n",
            "\n",
            "Epochs: 5 | Train_loss : 3.8334 | val_loss: 3.8243 | train_acc : 0.0593 | val_acc : 0.0615 | GPU usage : 5.9\n",
            "\n"
          ]
        },
        {
          "output_type": "display_data",
          "data": {
            "text/plain": [
              "  0%|          | 0/87 [00:00<?, ?it/s]"
            ],
            "application/vnd.jupyter.widget-view+json": {
              "version_major": 2,
              "version_minor": 0,
              "model_id": "3ad007e4090c4ba0a67d0042d24bf3de"
            }
          },
          "metadata": {}
        },
        {
          "output_type": "stream",
          "name": "stdout",
          "text": [
            "\n",
            "Train Loss : 3.8296 | Train Accuracy : 0.0606 | gpu usage: 5.9\n",
            "\n",
            "Train Loss : 3.8321 | Train Accuracy : 0.0593 | gpu usage: 5.9\n",
            "\n",
            "Train Loss : 3.8274 | Train Accuracy : 0.0610 | gpu usage: 5.9\n",
            "\n",
            "Train Loss : 3.8289 | Train Accuracy : 0.0605 | gpu usage: 5.9\n",
            "\n",
            "Train Loss : 3.8225 | Train Accuracy : 0.0618 | gpu usage: 5.9\n",
            "\n",
            "Train Loss : 3.8200 | Train Accuracy : 0.0620 | gpu usage: 5.9\n",
            "\n",
            "Epochs: 6 | Train_loss : 3.8269 | val_loss: 3.8191 | train_acc : 0.0606 | val_acc : 0.0625 | GPU usage : 5.9\n",
            "\n"
          ]
        },
        {
          "output_type": "display_data",
          "data": {
            "text/plain": [
              "  0%|          | 0/87 [00:00<?, ?it/s]"
            ],
            "application/vnd.jupyter.widget-view+json": {
              "version_major": 2,
              "version_minor": 0,
              "model_id": "acd1e036d4e74d5db2bfe9a5287f1562"
            }
          },
          "metadata": {}
        },
        {
          "output_type": "stream",
          "name": "stdout",
          "text": [
            "\n",
            "Train Loss : 3.8204 | Train Accuracy : 0.0630 | gpu usage: 5.9\n",
            "\n",
            "Train Loss : 3.8328 | Train Accuracy : 0.0596 | gpu usage: 5.9\n",
            "\n",
            "Train Loss : 3.8315 | Train Accuracy : 0.0595 | gpu usage: 5.9\n",
            "\n",
            "Train Loss : 3.8232 | Train Accuracy : 0.0628 | gpu usage: 5.9\n",
            "\n",
            "Train Loss : 3.8133 | Train Accuracy : 0.0638 | gpu usage: 5.9\n",
            "\n",
            "Train Loss : 3.8127 | Train Accuracy : 0.0642 | gpu usage: 5.9\n",
            "\n",
            "Epochs: 7 | Train_loss : 3.8215 | val_loss: 3.8124 | train_acc : 0.0618 | val_acc : 0.0637 | GPU usage : 5.9\n",
            "\n"
          ]
        },
        {
          "output_type": "display_data",
          "data": {
            "text/plain": [
              "  0%|          | 0/87 [00:00<?, ?it/s]"
            ],
            "application/vnd.jupyter.widget-view+json": {
              "version_major": 2,
              "version_minor": 0,
              "model_id": "40483b9b5ea74627ab38f219b9a379f6"
            }
          },
          "metadata": {}
        },
        {
          "output_type": "stream",
          "name": "stdout",
          "text": [
            "\n",
            "Train Loss : 3.8174 | Train Accuracy : 0.0634 | gpu usage: 5.9\n",
            "\n",
            "Train Loss : 3.8269 | Train Accuracy : 0.0611 | gpu usage: 5.9\n",
            "\n",
            "Train Loss : 3.8267 | Train Accuracy : 0.0606 | gpu usage: 5.9\n",
            "\n",
            "Train Loss : 3.8185 | Train Accuracy : 0.0629 | gpu usage: 5.9\n",
            "\n",
            "Train Loss : 3.7962 | Train Accuracy : 0.0650 | gpu usage: 5.9\n",
            "\n",
            "Train Loss : 3.8104 | Train Accuracy : 0.0651 | gpu usage: 5.9\n",
            "\n",
            "Epochs: 8 | Train_loss : 3.8143 | val_loss: 3.8032 | train_acc : 0.0631 | val_acc : 0.0653 | GPU usage : 5.9\n",
            "\n"
          ]
        },
        {
          "output_type": "display_data",
          "data": {
            "text/plain": [
              "  0%|          | 0/87 [00:00<?, ?it/s]"
            ],
            "application/vnd.jupyter.widget-view+json": {
              "version_major": 2,
              "version_minor": 0,
              "model_id": "013aa242a946466b8085bcc885de6023"
            }
          },
          "metadata": {}
        },
        {
          "output_type": "stream",
          "name": "stdout",
          "text": [
            "\n",
            "Train Loss : 3.8039 | Train Accuracy : 0.0639 | gpu usage: 5.9\n",
            "\n",
            "Train Loss : 3.8168 | Train Accuracy : 0.0625 | gpu usage: 5.9\n",
            "\n",
            "Train Loss : 3.8685 | Train Accuracy : 0.0545 | gpu usage: 5.9\n",
            "\n",
            "Train Loss : 3.8137 | Train Accuracy : 0.0629 | gpu usage: 5.9\n",
            "\n",
            "Train Loss : 3.7974 | Train Accuracy : 0.0655 | gpu usage: 5.9\n",
            "\n",
            "Train Loss : 3.8012 | Train Accuracy : 0.0659 | gpu usage: 5.9\n",
            "\n",
            "Epochs: 9 | Train_loss : 3.8283 | val_loss: 3.8012 | train_acc : 0.0614 | val_acc : 0.0657 | GPU usage : 5.9\n",
            "\n"
          ]
        }
      ]
    },
    {
      "cell_type": "code",
      "source": [
        "import locale\n",
        "def getpreferredencoding(do_setlocale = True):\n",
        "    return \"UTF-8\"\n",
        "locale.getpreferredencoding = getpreferredencoding"
      ],
      "metadata": {
        "id": "ReQrasMb_9Ld"
      },
      "execution_count": 122,
      "outputs": []
    },
    {
      "cell_type": "code",
      "source": [
        "!cp '/content/model_small.pt' '/content/drive/MyDrive/Models/ts_small.pt'"
      ],
      "metadata": {
        "id": "zitD2bde_7x0"
      },
      "execution_count": 123,
      "outputs": []
    },
    {
      "cell_type": "markdown",
      "metadata": {
        "id": "4OV9ZkWldpV5"
      },
      "source": [
        "## 8.0 Inference"
      ]
    },
    {
      "cell_type": "code",
      "source": [
        "def get_data(path, feature):\n",
        "    df = pd.read_csv(path)\n",
        "    df['Date'] = pd.to_datetime(df['Date'])\n",
        "    data = df[feature].to_numpy(np.float64)\n",
        "    return data, df['Date']\n",
        "\n",
        "test_data, date = get_data(tconfig.test_path, ['Close'])\n",
        "print(f'Shape test data: {test_data.shape}')"
      ],
      "metadata": {
        "colab": {
          "base_uri": "https://localhost:8080/"
        },
        "id": "rpu2kaWw5Nop",
        "outputId": "23a434ff-3693-4c1a-c222-829cea770145"
      },
      "execution_count": 124,
      "outputs": [
        {
          "output_type": "stream",
          "name": "stdout",
          "text": [
            "Shape test data: (5306, 1)\n"
          ]
        }
      ]
    },
    {
      "cell_type": "code",
      "source": [
        "model, _, _ = load_checkpoint(model, optimizer, scheduler, tconfig.model_save_path)"
      ],
      "metadata": {
        "id": "4cK_eagP5OUX"
      },
      "execution_count": 125,
      "outputs": []
    },
    {
      "cell_type": "code",
      "execution_count": 126,
      "metadata": {
        "id": "o-2AohOMbvMk",
        "colab": {
          "base_uri": "https://localhost:8080/",
          "height": 480
        },
        "outputId": "544623a4-71d0-4db1-c6ec-82f6868160a9"
      },
      "outputs": [
        {
          "output_type": "stream",
          "name": "stdout",
          "text": [
            "RMSE for generation: 34.912185957629895\n",
            "RMSE for random walk: 55.277700661465715 \n"
          ]
        },
        {
          "output_type": "display_data",
          "data": {
            "text/plain": [
              "<Figure size 1200x500 with 1 Axes>"
            ],
            "image/png": "[encoded data removed]"
          },
          "metadata": {}
        }
      ],
      "source": [
        "class CustomInference:\n",
        "    def __init__(\n",
        "        self,\n",
        "        model,\n",
        "        data: np.ndarray,\n",
        "        preprocessor,\n",
        "        gen_len: Optional[int]=None,\n",
        "        top_k : int = 50,\n",
        "        temperature: float = 1.0,\n",
        "        randomizer=True\n",
        "        ):\n",
        "        self.model = model\n",
        "        self.data = data\n",
        "        self.preprocessor = preprocessor\n",
        "        self.gen_len = gen_len\n",
        "        self.top_k = top_k\n",
        "        self.temperature = temperature\n",
        "\n",
        "        self.seq_len = model.seq_len\n",
        "        self.device = next(model.parameters()).device\n",
        "\n",
        "        if self.gen_len is None:\n",
        "            self.gen_len = self.seq_len\n",
        "\n",
        "        if randomizer is True:\n",
        "            self.idx = np.random.randint(0, self.data.shape[0] - self.seq_len - self.gen_len - 1)\n",
        "\n",
        "        if top_k > model.vocab:\n",
        "            raise ValueError(f'Value of top_k should be less than vocab size of model.')\n",
        "\n",
        "        if len(data) <= self.seq_len + self.gen_len:\n",
        "            raise Exception('Data provided cannot be splitted into input and true values.')\n",
        "\n",
        "    def top_k_pipline(self, token_ids:torch.Tensor)->np.ndarray:\n",
        "        if token_ids.ndim == 1:\n",
        "            token_ids = token_ids.unsqueeze(0)\n",
        "        self.model.eval()\n",
        "        with torch.inference_mode():\n",
        "            for _ in range(self.gen_len):\n",
        "                # pick last seq_len tokens\n",
        "                x_trunc = token_ids[:, -self.seq_len:]\n",
        "                # batch, seq_len -> batch, seq_len, vocab_size\n",
        "                logits = self.model(x_trunc)\n",
        "                # Pick last token as model is conditioned with sliding window at training,\n",
        "                # Take softmax on unnormalised output and divide by scaling factor to make probablities peaky or uniform.\n",
        "                # batch, seq_len, vocab_size -> batch, vocab_size\n",
        "                probs = F.softmax(logits[:,-1,:]/self.temperature, dim=-1)\n",
        "                # find top-k probabilites with there indices, indices are only relevant as we are concerned with token ids\n",
        "                # rather than the probability values of token_ids\n",
        "                topk_probs, topk_idx = torch.topk(probs, self.top_k)\n",
        "                # Sample from multinomial distribution\n",
        "                ix = torch.multinomial(topk_probs, num_samples=1)\n",
        "                # check documentation, picks values corresponding to indices (token_ids) and arange the in order.\n",
        "                next_tok = torch.gather(topk_idx,-1,ix)\n",
        "                # Concatenate New token generation : batch, seq_len -> batch, seq_len + gen_len\n",
        "                token_ids = torch.cat((x_trunc,next_tok),dim=1)\n",
        "        # Flatten : batch, seq_len -> batch x seq_len\n",
        "        return token_ids[:,-self.gen_len:].view(-1).cpu().numpy()\n",
        "\n",
        "    def run_random_walk(self):\n",
        "        rand_walk = np.zeros(self.gen_len)\n",
        "        noise = np.random.randn(self.gen_len)\n",
        "        rand_walk += noise\n",
        "        rand_walk = np.concatenate((self.data[self.idx + self.seq_len], rand_walk), axis=0)\n",
        "\n",
        "        drift = np.arange(-1.0, 1.0, 0.1)\n",
        "        drift = np.random.choice(drift)\n",
        "        rand_walk = np.cumsum(rand_walk  + drift)\n",
        "        return rand_walk[1:]\n",
        "\n",
        "    def predict(self):\n",
        "\n",
        "        detrended_data = self.preprocessor.fit(data)\n",
        "\n",
        "        input_ = detrended_data[self.idx : self.idx + self.seq_len]\n",
        "        token_ids = self.preprocessor.transform(input_)\n",
        "\n",
        "        token_ids = torch.tensor(token_ids, device=self.device)\n",
        "\n",
        "        out = self.top_k_pipline(token_ids)\n",
        "        preds = self.preprocessor.inverse_transform(out, self.data[self.idx + self.seq_len])\n",
        "        return preds[1:]\n",
        "\n",
        "    def compute_rmse(self, y_preds, y):\n",
        "        return np.sqrt(np.mean((y_preds - y)**2))\n",
        "\n",
        "\n",
        "    def visualise(self, **date):\n",
        "        input_ = self.data[self.idx : self.idx + self.seq_len]\n",
        "        true_ = self.data[self.idx + self.seq_len : self.idx + self.seq_len + self.gen_len]\n",
        "        preds = self.predict()\n",
        "        random_walk = self.run_random_walk()\n",
        "\n",
        "        error = np.sqrt(np.mean((preds - true_)**2))\n",
        "        error_ = np.sqrt(np.mean(((random_walk - true_)**2)))\n",
        "        print(f'RMSE for generation: {error}\\nRMSE for random walk: {error_} ')\n",
        "\n",
        "        date = date.get('date', None)\n",
        "        if date is not None:\n",
        "            date = date[self.idx : self.idx + self.seq_len + self.gen_len]\n",
        "        if date is None:\n",
        "            date = np.arange(0, self.seq_len + self.gen_len)\n",
        "\n",
        "        plt.figure(figsize=(12,5))\n",
        "        plt.plot(date[:self.seq_len], input_, label='input_values')\n",
        "        plt.plot(date[self.seq_len:], true_, label='true_values')\n",
        "        plt.plot(date[self.seq_len :], random_walk, label='random_walk', linestyle=':')\n",
        "        plt.plot(date[self.seq_len:],preds, label='predicted_values')\n",
        "        plt.legend()\n",
        "        plt.show();\n",
        "\n",
        "    def test_model(self, n_steps):\n",
        "        acc_dict = {'pred_acc':[], 'rand_acc':[]}\n",
        "        for _ in tqdm(range(n_steps)):\n",
        "            idx = np.random.randint(0, self.data.shape[0] - self.seq_len - self.gen_len)\n",
        "            true_ = self.data[idx + self.seq_len : idx + self.seq_len + self.gen_len]\n",
        "            preds = self.predict()\n",
        "            random_walk = self.run_random_walk()\n",
        "            acc_dict['pred_acc'].append(self.compute_rmse(preds, true_))\n",
        "            acc_dict['rand_acc'].append(self.compute_rmse(random_walk, true_))\n",
        "        return np.mean(acc_dict['pred_acc']), np.mean(acc_dict['rand_acc'])\n",
        "pipeline = CustomInference(model, test_data, preprocessor, 32, 50, 1.0)\n",
        "\n",
        "pipeline.visualise(date=date)"
      ]
    },
    {
      "cell_type": "code",
      "source": [
        "n_steps = 100\n",
        "preds_avg_rmse, randwalk_avg_rmse = pipeline.test_model(n_steps)\n",
        "print(f'Over {n_steps} steps:\\nAverage RMSE from predictions : {preds_avg_rmse}',\n",
        "      f'\\nAverage RMSE for random walk : {randwalk_avg_rmse}')"
      ],
      "metadata": {
        "id": "Z8uwk3sb-_MF",
        "colab": {
          "base_uri": "https://localhost:8080/",
          "height": 101,
          "referenced_widgets": [
            "c2664114f9264229a92722fd1269f726",
            "239a5a56ff034a4aa1436aa19978b9d9",
            "548dfb4e00f142f295462ad83451d914",
            "ec100f5cca814d1cbdba37493618fd9d",
            "26255b84967e4520809a7f93ce186f74",
            "8320da65e108494eb0ecf5a8e6e0317d",
            "dc1294d194ec42c99949aaaf883c407c",
            "3fb2ef49900b44e3af4ab47d06e9f123",
            "bf69ef2e7c944c6b8921093a84198844",
            "63caaa2c91f14f7783f3f7e5a5a0bdb7",
            "c79f8e9c53cc4ce5a236e4960fd0e22b"
          ]
        },
        "outputId": "cb6b549f-e746-4ac0-9571-099934fab640"
      },
      "execution_count": 127,
      "outputs": [
        {
          "output_type": "display_data",
          "data": {
            "text/plain": [
              "  0%|          | 0/100 [00:00<?, ?it/s]"
            ],
            "application/vnd.jupyter.widget-view+json": {
              "version_major": 2,
              "version_minor": 0,
              "model_id": "c2664114f9264229a92722fd1269f726"
            }
          },
          "metadata": {}
        },
        {
          "output_type": "stream",
          "name": "stdout",
          "text": [
            "Over 100 steps:\n",
            "Average RMSE from predictions : 265.63172524546275 \n",
            "Average RMSE for random walk : 262.4135720985648\n"
          ]
        }
      ]
    },
    {
      "cell_type": "code",
      "source": [],
      "metadata": {
        "id": "oc2XOzCpXLeg"
      },
      "execution_count": null,
      "outputs": []
    }
  ],
  "metadata": {
    "colab": {
      "collapsed_sections": [
        "BxLld818UoWn",
        "YVev-4RsU41i"
      ],
      "provenance": [],
      "gpuType": "T4"
    },
    "kernelspec": {
      "display_name": "Python 3",
      "name": "python3"
    },
    "language_info": {
      "name": "python"
    },
    "widgets": {
      "application/vnd.jupyter.widget-state+json": {
        "cfac919770504924b28325077f86bc56": {
          "model_module": "@jupyter-widgets/controls",
          "model_name": "HBoxModel",
          "model_module_version": "1.5.0",
          "state": {
            "_dom_classes": [],
            "_model_module": "@jupyter-widgets/controls",
            "_model_module_version": "1.5.0",
            "_model_name": "HBoxModel",
            "_view_count": null,
            "_view_module": "@jupyter-widgets/controls",
            "_view_module_version": "1.5.0",
            "_view_name": "HBoxView",
            "box_style": "",
            "children": [
              "IPY_MODEL_76569779a9bc4916aa5605f4bdbcf7ba",
              "IPY_MODEL_64f46e83818a4e6184a14c267570171d",
              "IPY_MODEL_34c06d2a3078404a8bdd84b065d6c65b"
            ],
            "layout": "IPY_MODEL_b113b16d789648b68cb72e26e16d7b72"
          }
        },
        "76569779a9bc4916aa5605f4bdbcf7ba": {
          "model_module": "@jupyter-widgets/controls",
          "model_name": "HTMLModel",
          "model_module_version": "1.5.0",
          "state": {
            "_dom_classes": [],
            "_model_module": "@jupyter-widgets/controls",
            "_model_module_version": "1.5.0",
            "_model_name": "HTMLModel",
            "_view_count": null,
            "_view_module": "@jupyter-widgets/controls",
            "_view_module_version": "1.5.0",
            "_view_name": "HTMLView",
            "description": "",
            "description_tooltip": null,
            "layout": "IPY_MODEL_c46d4608094941babce27f18b465f51f",
            "placeholder": "​",
            "style": "IPY_MODEL_e654c61c924a42249c11b0b11d05a5d4",
            "value": "100%"
          }
        },
        "64f46e83818a4e6184a14c267570171d": {
          "model_module": "@jupyter-widgets/controls",
          "model_name": "FloatProgressModel",
          "model_module_version": "1.5.0",
          "state": {
            "_dom_classes": [],
            "_model_module": "@jupyter-widgets/controls",
            "_model_module_version": "1.5.0",
            "_model_name": "FloatProgressModel",
            "_view_count": null,
            "_view_module": "@jupyter-widgets/controls",
            "_view_module_version": "1.5.0",
            "_view_name": "ProgressView",
            "bar_style": "success",
            "description": "",
            "description_tooltip": null,
            "layout": "IPY_MODEL_3e4f4e1fb1974958878b8331e2e87e15",
            "max": 10,
            "min": 0,
            "orientation": "horizontal",
            "style": "IPY_MODEL_fa4c74278a464871afef072003378fac",
            "value": 10
          }
        },
        "34c06d2a3078404a8bdd84b065d6c65b": {
          "model_module": "@jupyter-widgets/controls",
          "model_name": "HTMLModel",
          "model_module_version": "1.5.0",
          "state": {
            "_dom_classes": [],
            "_model_module": "@jupyter-widgets/controls",
            "_model_module_version": "1.5.0",
            "_model_name": "HTMLModel",
            "_view_count": null,
            "_view_module": "@jupyter-widgets/controls",
            "_view_module_version": "1.5.0",
            "_view_name": "HTMLView",
            "description": "",
            "description_tooltip": null,
            "layout": "IPY_MODEL_e08c755f530241a7bc104b5b7617af82",
            "placeholder": "​",
            "style": "IPY_MODEL_7f23c7d55348490989cf655b16508eab",
            "value": " 10/10 [06:25&lt;00:00, 38.76s/it]"
          }
        },
        "b113b16d789648b68cb72e26e16d7b72": {
          "model_module": "@jupyter-widgets/base",
          "model_name": "LayoutModel",
          "model_module_version": "1.2.0",
          "state": {
            "_model_module": "@jupyter-widgets/base",
            "_model_module_version": "1.2.0",
            "_model_name": "LayoutModel",
            "_view_count": null,
            "_view_module": "@jupyter-widgets/base",
            "_view_module_version": "1.2.0",
            "_view_name": "LayoutView",
            "align_content": null,
            "align_items": null,
            "align_self": null,
            "border": null,
            "bottom": null,
            "display": null,
            "flex": null,
            "flex_flow": null,
            "grid_area": null,
            "grid_auto_columns": null,
            "grid_auto_flow": null,
            "grid_auto_rows": null,
            "grid_column": null,
            "grid_gap": null,
            "grid_row": null,
            "grid_template_areas": null,
            "grid_template_columns": null,
            "grid_template_rows": null,
            "height": null,
            "justify_content": null,
            "justify_items": null,
            "left": null,
            "margin": null,
            "max_height": null,
            "max_width": null,
            "min_height": null,
            "min_width": null,
            "object_fit": null,
            "object_position": null,
            "order": null,
            "overflow": null,
            "overflow_x": null,
            "overflow_y": null,
            "padding": null,
            "right": null,
            "top": null,
            "visibility": null,
            "width": null
          }
        },
        "c46d4608094941babce27f18b465f51f": {
          "model_module": "@jupyter-widgets/base",
          "model_name": "LayoutModel",
          "model_module_version": "1.2.0",
          "state": {
            "_model_module": "@jupyter-widgets/base",
            "_model_module_version": "1.2.0",
            "_model_name": "LayoutModel",
            "_view_count": null,
            "_view_module": "@jupyter-widgets/base",
            "_view_module_version": "1.2.0",
            "_view_name": "LayoutView",
            "align_content": null,
            "align_items": null,
            "align_self": null,
            "border": null,
            "bottom": null,
            "display": null,
            "flex": null,
            "flex_flow": null,
            "grid_area": null,
            "grid_auto_columns": null,
            "grid_auto_flow": null,
            "grid_auto_rows": null,
            "grid_column": null,
            "grid_gap": null,
            "grid_row": null,
            "grid_template_areas": null,
            "grid_template_columns": null,
            "grid_template_rows": null,
            "height": null,
            "justify_content": null,
            "justify_items": null,
            "left": null,
            "margin": null,
            "max_height": null,
            "max_width": null,
            "min_height": null,
            "min_width": null,
            "object_fit": null,
            "object_position": null,
            "order": null,
            "overflow": null,
            "overflow_x": null,
            "overflow_y": null,
            "padding": null,
            "right": null,
            "top": null,
            "visibility": null,
            "width": null
          }
        },
        "e654c61c924a42249c11b0b11d05a5d4": {
          "model_module": "@jupyter-widgets/controls",
          "model_name": "DescriptionStyleModel",
          "model_module_version": "1.5.0",
          "state": {
            "_model_module": "@jupyter-widgets/controls",
            "_model_module_version": "1.5.0",
            "_model_name": "DescriptionStyleModel",
            "_view_count": null,
            "_view_module": "@jupyter-widgets/base",
            "_view_module_version": "1.2.0",
            "_view_name": "StyleView",
            "description_width": ""
          }
        },
        "3e4f4e1fb1974958878b8331e2e87e15": {
          "model_module": "@jupyter-widgets/base",
          "model_name": "LayoutModel",
          "model_module_version": "1.2.0",
          "state": {
            "_model_module": "@jupyter-widgets/base",
            "_model_module_version": "1.2.0",
            "_model_name": "LayoutModel",
            "_view_count": null,
            "_view_module": "@jupyter-widgets/base",
            "_view_module_version": "1.2.0",
            "_view_name": "LayoutView",
            "align_content": null,
            "align_items": null,
            "align_self": null,
            "border": null,
            "bottom": null,
            "display": null,
            "flex": null,
            "flex_flow": null,
            "grid_area": null,
            "grid_auto_columns": null,
            "grid_auto_flow": null,
            "grid_auto_rows": null,
            "grid_column": null,
            "grid_gap": null,
            "grid_row": null,
            "grid_template_areas": null,
            "grid_template_columns": null,
            "grid_template_rows": null,
            "height": null,
            "justify_content": null,
            "justify_items": null,
            "left": null,
            "margin": null,
            "max_height": null,
            "max_width": null,
            "min_height": null,
            "min_width": null,
            "object_fit": null,
            "object_position": null,
            "order": null,
            "overflow": null,
            "overflow_x": null,
            "overflow_y": null,
            "padding": null,
            "right": null,
            "top": null,
            "visibility": null,
            "width": null
          }
        },
        "fa4c74278a464871afef072003378fac": {
          "model_module": "@jupyter-widgets/controls",
          "model_name": "ProgressStyleModel",
          "model_module_version": "1.5.0",
          "state": {
            "_model_module": "@jupyter-widgets/controls",
            "_model_module_version": "1.5.0",
            "_model_name": "ProgressStyleModel",
            "_view_count": null,
            "_view_module": "@jupyter-widgets/base",
            "_view_module_version": "1.2.0",
            "_view_name": "StyleView",
            "bar_color": null,
            "description_width": ""
          }
        },
        "e08c755f530241a7bc104b5b7617af82": {
          "model_module": "@jupyter-widgets/base",
          "model_name": "LayoutModel",
          "model_module_version": "1.2.0",
          "state": {
            "_model_module": "@jupyter-widgets/base",
            "_model_module_version": "1.2.0",
            "_model_name": "LayoutModel",
            "_view_count": null,
            "_view_module": "@jupyter-widgets/base",
            "_view_module_version": "1.2.0",
            "_view_name": "LayoutView",
            "align_content": null,
            "align_items": null,
            "align_self": null,
            "border": null,
            "bottom": null,
            "display": null,
            "flex": null,
            "flex_flow": null,
            "grid_area": null,
            "grid_auto_columns": null,
            "grid_auto_flow": null,
            "grid_auto_rows": null,
            "grid_column": null,
            "grid_gap": null,
            "grid_row": null,
            "grid_template_areas": null,
            "grid_template_columns": null,
            "grid_template_rows": null,
            "height": null,
            "justify_content": null,
            "justify_items": null,
            "left": null,
            "margin": null,
            "max_height": null,
            "max_width": null,
            "min_height": null,
            "min_width": null,
            "object_fit": null,
            "object_position": null,
            "order": null,
            "overflow": null,
            "overflow_x": null,
            "overflow_y": null,
            "padding": null,
            "right": null,
            "top": null,
            "visibility": null,
            "width": null
          }
        },
        "7f23c7d55348490989cf655b16508eab": {
          "model_module": "@jupyter-widgets/controls",
          "model_name": "DescriptionStyleModel",
          "model_module_version": "1.5.0",
          "state": {
            "_model_module": "@jupyter-widgets/controls",
            "_model_module_version": "1.5.0",
            "_model_name": "DescriptionStyleModel",
            "_view_count": null,
            "_view_module": "@jupyter-widgets/base",
            "_view_module_version": "1.2.0",
            "_view_name": "StyleView",
            "description_width": ""
          }
        },
        "c234b3f374a149b4aefc9a23083f2b9f": {
          "model_module": "@jupyter-widgets/controls",
          "model_name": "HBoxModel",
          "model_module_version": "1.5.0",
          "state": {
            "_dom_classes": [],
            "_model_module": "@jupyter-widgets/controls",
            "_model_module_version": "1.5.0",
            "_model_name": "HBoxModel",
            "_view_count": null,
            "_view_module": "@jupyter-widgets/controls",
            "_view_module_version": "1.5.0",
            "_view_name": "HBoxView",
            "box_style": "",
            "children": [
              "IPY_MODEL_98d25ee0cd374bfd869391af1a58d7ee",
              "IPY_MODEL_830d7e07adce4a48b323a1214849d581",
              "IPY_MODEL_aaed823513624085a4710c98e39cfd41"
            ],
            "layout": "IPY_MODEL_0d68190b92d445aab5a20e4bd68e640b"
          }
        },
        "98d25ee0cd374bfd869391af1a58d7ee": {
          "model_module": "@jupyter-widgets/controls",
          "model_name": "HTMLModel",
          "model_module_version": "1.5.0",
          "state": {
            "_dom_classes": [],
            "_model_module": "@jupyter-widgets/controls",
            "_model_module_version": "1.5.0",
            "_model_name": "HTMLModel",
            "_view_count": null,
            "_view_module": "@jupyter-widgets/controls",
            "_view_module_version": "1.5.0",
            "_view_name": "HTMLView",
            "description": "",
            "description_tooltip": null,
            "layout": "IPY_MODEL_230b99eb1d0c4b7c85df5d30ca7b05b0",
            "placeholder": "​",
            "style": "IPY_MODEL_fee2ec58769f4c469f571361bf36cc1f",
            "value": "100%"
          }
        },
        "830d7e07adce4a48b323a1214849d581": {
          "model_module": "@jupyter-widgets/controls",
          "model_name": "FloatProgressModel",
          "model_module_version": "1.5.0",
          "state": {
            "_dom_classes": [],
            "_model_module": "@jupyter-widgets/controls",
            "_model_module_version": "1.5.0",
            "_model_name": "FloatProgressModel",
            "_view_count": null,
            "_view_module": "@jupyter-widgets/controls",
            "_view_module_version": "1.5.0",
            "_view_name": "ProgressView",
            "bar_style": "success",
            "description": "",
            "description_tooltip": null,
            "layout": "IPY_MODEL_c4fbecab8ee649dfa0c3747ab9fe6b43",
            "max": 87,
            "min": 0,
            "orientation": "horizontal",
            "style": "IPY_MODEL_77a94041302c4fe89ffc1880b9dbee42",
            "value": 87
          }
        },
        "aaed823513624085a4710c98e39cfd41": {
          "model_module": "@jupyter-widgets/controls",
          "model_name": "HTMLModel",
          "model_module_version": "1.5.0",
          "state": {
            "_dom_classes": [],
            "_model_module": "@jupyter-widgets/controls",
            "_model_module_version": "1.5.0",
            "_model_name": "HTMLModel",
            "_view_count": null,
            "_view_module": "@jupyter-widgets/controls",
            "_view_module_version": "1.5.0",
            "_view_name": "HTMLView",
            "description": "",
            "description_tooltip": null,
            "layout": "IPY_MODEL_622183dfe8eb497983fed9ee6587750c",
            "placeholder": "​",
            "style": "IPY_MODEL_b2d83c6a97e441299a4741163c729aed",
            "value": " 87/87 [00:31&lt;00:00,  2.95it/s]"
          }
        },
        "0d68190b92d445aab5a20e4bd68e640b": {
          "model_module": "@jupyter-widgets/base",
          "model_name": "LayoutModel",
          "model_module_version": "1.2.0",
          "state": {
            "_model_module": "@jupyter-widgets/base",
            "_model_module_version": "1.2.0",
            "_model_name": "LayoutModel",
            "_view_count": null,
            "_view_module": "@jupyter-widgets/base",
            "_view_module_version": "1.2.0",
            "_view_name": "LayoutView",
            "align_content": null,
            "align_items": null,
            "align_self": null,
            "border": null,
            "bottom": null,
            "display": null,
            "flex": null,
            "flex_flow": null,
            "grid_area": null,
            "grid_auto_columns": null,
            "grid_auto_flow": null,
            "grid_auto_rows": null,
            "grid_column": null,
            "grid_gap": null,
            "grid_row": null,
            "grid_template_areas": null,
            "grid_template_columns": null,
            "grid_template_rows": null,
            "height": null,
            "justify_content": null,
            "justify_items": null,
            "left": null,
            "margin": null,
            "max_height": null,
            "max_width": null,
            "min_height": null,
            "min_width": null,
            "object_fit": null,
            "object_position": null,
            "order": null,
            "overflow": null,
            "overflow_x": null,
            "overflow_y": null,
            "padding": null,
            "right": null,
            "top": null,
            "visibility": null,
            "width": null
          }
        },
        "230b99eb1d0c4b7c85df5d30ca7b05b0": {
          "model_module": "@jupyter-widgets/base",
          "model_name": "LayoutModel",
          "model_module_version": "1.2.0",
          "state": {
            "_model_module": "@jupyter-widgets/base",
            "_model_module_version": "1.2.0",
            "_model_name": "LayoutModel",
            "_view_count": null,
            "_view_module": "@jupyter-widgets/base",
            "_view_module_version": "1.2.0",
            "_view_name": "LayoutView",
            "align_content": null,
            "align_items": null,
            "align_self": null,
            "border": null,
            "bottom": null,
            "display": null,
            "flex": null,
            "flex_flow": null,
            "grid_area": null,
            "grid_auto_columns": null,
            "grid_auto_flow": null,
            "grid_auto_rows": null,
            "grid_column": null,
            "grid_gap": null,
            "grid_row": null,
            "grid_template_areas": null,
            "grid_template_columns": null,
            "grid_template_rows": null,
            "height": null,
            "justify_content": null,
            "justify_items": null,
            "left": null,
            "margin": null,
            "max_height": null,
            "max_width": null,
            "min_height": null,
            "min_width": null,
            "object_fit": null,
            "object_position": null,
            "order": null,
            "overflow": null,
            "overflow_x": null,
            "overflow_y": null,
            "padding": null,
            "right": null,
            "top": null,
            "visibility": null,
            "width": null
          }
        },
        "fee2ec58769f4c469f571361bf36cc1f": {
          "model_module": "@jupyter-widgets/controls",
          "model_name": "DescriptionStyleModel",
          "model_module_version": "1.5.0",
          "state": {
            "_model_module": "@jupyter-widgets/controls",
            "_model_module_version": "1.5.0",
            "_model_name": "DescriptionStyleModel",
            "_view_count": null,
            "_view_module": "@jupyter-widgets/base",
            "_view_module_version": "1.2.0",
            "_view_name": "StyleView",
            "description_width": ""
          }
        },
        "c4fbecab8ee649dfa0c3747ab9fe6b43": {
          "model_module": "@jupyter-widgets/base",
          "model_name": "LayoutModel",
          "model_module_version": "1.2.0",
          "state": {
            "_model_module": "@jupyter-widgets/base",
            "_model_module_version": "1.2.0",
            "_model_name": "LayoutModel",
            "_view_count": null,
            "_view_module": "@jupyter-widgets/base",
            "_view_module_version": "1.2.0",
            "_view_name": "LayoutView",
            "align_content": null,
            "align_items": null,
            "align_self": null,
            "border": null,
            "bottom": null,
            "display": null,
            "flex": null,
            "flex_flow": null,
            "grid_area": null,
            "grid_auto_columns": null,
            "grid_auto_flow": null,
            "grid_auto_rows": null,
            "grid_column": null,
            "grid_gap": null,
            "grid_row": null,
            "grid_template_areas": null,
            "grid_template_columns": null,
            "grid_template_rows": null,
            "height": null,
            "justify_content": null,
            "justify_items": null,
            "left": null,
            "margin": null,
            "max_height": null,
            "max_width": null,
            "min_height": null,
            "min_width": null,
            "object_fit": null,
            "object_position": null,
            "order": null,
            "overflow": null,
            "overflow_x": null,
            "overflow_y": null,
            "padding": null,
            "right": null,
            "top": null,
            "visibility": null,
            "width": null
          }
        },
        "77a94041302c4fe89ffc1880b9dbee42": {
          "model_module": "@jupyter-widgets/controls",
          "model_name": "ProgressStyleModel",
          "model_module_version": "1.5.0",
          "state": {
            "_model_module": "@jupyter-widgets/controls",
            "_model_module_version": "1.5.0",
            "_model_name": "ProgressStyleModel",
            "_view_count": null,
            "_view_module": "@jupyter-widgets/base",
            "_view_module_version": "1.2.0",
            "_view_name": "StyleView",
            "bar_color": null,
            "description_width": ""
          }
        },
        "622183dfe8eb497983fed9ee6587750c": {
          "model_module": "@jupyter-widgets/base",
          "model_name": "LayoutModel",
          "model_module_version": "1.2.0",
          "state": {
            "_model_module": "@jupyter-widgets/base",
            "_model_module_version": "1.2.0",
            "_model_name": "LayoutModel",
            "_view_count": null,
            "_view_module": "@jupyter-widgets/base",
            "_view_module_version": "1.2.0",
            "_view_name": "LayoutView",
            "align_content": null,
            "align_items": null,
            "align_self": null,
            "border": null,
            "bottom": null,
            "display": null,
            "flex": null,
            "flex_flow": null,
            "grid_area": null,
            "grid_auto_columns": null,
            "grid_auto_flow": null,
            "grid_auto_rows": null,
            "grid_column": null,
            "grid_gap": null,
            "grid_row": null,
            "grid_template_areas": null,
            "grid_template_columns": null,
            "grid_template_rows": null,
            "height": null,
            "justify_content": null,
            "justify_items": null,
            "left": null,
            "margin": null,
            "max_height": null,
            "max_width": null,
            "min_height": null,
            "min_width": null,
            "object_fit": null,
            "object_position": null,
            "order": null,
            "overflow": null,
            "overflow_x": null,
            "overflow_y": null,
            "padding": null,
            "right": null,
            "top": null,
            "visibility": null,
            "width": null
          }
        },
        "b2d83c6a97e441299a4741163c729aed": {
          "model_module": "@jupyter-widgets/controls",
          "model_name": "DescriptionStyleModel",
          "model_module_version": "1.5.0",
          "state": {
            "_model_module": "@jupyter-widgets/controls",
            "_model_module_version": "1.5.0",
            "_model_name": "DescriptionStyleModel",
            "_view_count": null,
            "_view_module": "@jupyter-widgets/base",
            "_view_module_version": "1.2.0",
            "_view_name": "StyleView",
            "description_width": ""
          }
        },
        "1ee9e6648d6a45608f8fde1536030d21": {
          "model_module": "@jupyter-widgets/controls",
          "model_name": "HBoxModel",
          "model_module_version": "1.5.0",
          "state": {
            "_dom_classes": [],
            "_model_module": "@jupyter-widgets/controls",
            "_model_module_version": "1.5.0",
            "_model_name": "HBoxModel",
            "_view_count": null,
            "_view_module": "@jupyter-widgets/controls",
            "_view_module_version": "1.5.0",
            "_view_name": "HBoxView",
            "box_style": "",
            "children": [
              "IPY_MODEL_7dc4142b46c24d1f8720722ca9e8fa2a",
              "IPY_MODEL_d955f074b360479f94c606ac1e4a6c62",
              "IPY_MODEL_f5fb429d799d4192ae26fa88921c0ae7"
            ],
            "layout": "IPY_MODEL_00c09796b5584e7db058284c21cdf279"
          }
        },
        "7dc4142b46c24d1f8720722ca9e8fa2a": {
          "model_module": "@jupyter-widgets/controls",
          "model_name": "HTMLModel",
          "model_module_version": "1.5.0",
          "state": {
            "_dom_classes": [],
            "_model_module": "@jupyter-widgets/controls",
            "_model_module_version": "1.5.0",
            "_model_name": "HTMLModel",
            "_view_count": null,
            "_view_module": "@jupyter-widgets/controls",
            "_view_module_version": "1.5.0",
            "_view_name": "HTMLView",
            "description": "",
            "description_tooltip": null,
            "layout": "IPY_MODEL_1e9ec30776694f7b92fac3d8243cedf3",
            "placeholder": "​",
            "style": "IPY_MODEL_f1e7792193d84f698442b433e81e2c5e",
            "value": "100%"
          }
        },
        "d955f074b360479f94c606ac1e4a6c62": {
          "model_module": "@jupyter-widgets/controls",
          "model_name": "FloatProgressModel",
          "model_module_version": "1.5.0",
          "state": {
            "_dom_classes": [],
            "_model_module": "@jupyter-widgets/controls",
            "_model_module_version": "1.5.0",
            "_model_name": "FloatProgressModel",
            "_view_count": null,
            "_view_module": "@jupyter-widgets/controls",
            "_view_module_version": "1.5.0",
            "_view_name": "ProgressView",
            "bar_style": "success",
            "description": "",
            "description_tooltip": null,
            "layout": "IPY_MODEL_08212cdeb06e40c0b55511c5d1cc6382",
            "max": 87,
            "min": 0,
            "orientation": "horizontal",
            "style": "IPY_MODEL_ed8fd90b2b3d4a729592c8417504385e",
            "value": 87
          }
        },
        "f5fb429d799d4192ae26fa88921c0ae7": {
          "model_module": "@jupyter-widgets/controls",
          "model_name": "HTMLModel",
          "model_module_version": "1.5.0",
          "state": {
            "_dom_classes": [],
            "_model_module": "@jupyter-widgets/controls",
            "_model_module_version": "1.5.0",
            "_model_name": "HTMLModel",
            "_view_count": null,
            "_view_module": "@jupyter-widgets/controls",
            "_view_module_version": "1.5.0",
            "_view_name": "HTMLView",
            "description": "",
            "description_tooltip": null,
            "layout": "IPY_MODEL_ddade009403f4fff9577d198f35d8a85",
            "placeholder": "​",
            "style": "IPY_MODEL_dfd3f7e06df048cd82dd5994c2f1f6f6",
            "value": " 87/87 [00:30&lt;00:00,  3.02it/s]"
          }
        },
        "00c09796b5584e7db058284c21cdf279": {
          "model_module": "@jupyter-widgets/base",
          "model_name": "LayoutModel",
          "model_module_version": "1.2.0",
          "state": {
            "_model_module": "@jupyter-widgets/base",
            "_model_module_version": "1.2.0",
            "_model_name": "LayoutModel",
            "_view_count": null,
            "_view_module": "@jupyter-widgets/base",
            "_view_module_version": "1.2.0",
            "_view_name": "LayoutView",
            "align_content": null,
            "align_items": null,
            "align_self": null,
            "border": null,
            "bottom": null,
            "display": null,
            "flex": null,
            "flex_flow": null,
            "grid_area": null,
            "grid_auto_columns": null,
            "grid_auto_flow": null,
            "grid_auto_rows": null,
            "grid_column": null,
            "grid_gap": null,
            "grid_row": null,
            "grid_template_areas": null,
            "grid_template_columns": null,
            "grid_template_rows": null,
            "height": null,
            "justify_content": null,
            "justify_items": null,
            "left": null,
            "margin": null,
            "max_height": null,
            "max_width": null,
            "min_height": null,
            "min_width": null,
            "object_fit": null,
            "object_position": null,
            "order": null,
            "overflow": null,
            "overflow_x": null,
            "overflow_y": null,
            "padding": null,
            "right": null,
            "top": null,
            "visibility": null,
            "width": null
          }
        },
        "1e9ec30776694f7b92fac3d8243cedf3": {
          "model_module": "@jupyter-widgets/base",
          "model_name": "LayoutModel",
          "model_module_version": "1.2.0",
          "state": {
            "_model_module": "@jupyter-widgets/base",
            "_model_module_version": "1.2.0",
            "_model_name": "LayoutModel",
            "_view_count": null,
            "_view_module": "@jupyter-widgets/base",
            "_view_module_version": "1.2.0",
            "_view_name": "LayoutView",
            "align_content": null,
            "align_items": null,
            "align_self": null,
            "border": null,
            "bottom": null,
            "display": null,
            "flex": null,
            "flex_flow": null,
            "grid_area": null,
            "grid_auto_columns": null,
            "grid_auto_flow": null,
            "grid_auto_rows": null,
            "grid_column": null,
            "grid_gap": null,
            "grid_row": null,
            "grid_template_areas": null,
            "grid_template_columns": null,
            "grid_template_rows": null,
            "height": null,
            "justify_content": null,
            "justify_items": null,
            "left": null,
            "margin": null,
            "max_height": null,
            "max_width": null,
            "min_height": null,
            "min_width": null,
            "object_fit": null,
            "object_position": null,
            "order": null,
            "overflow": null,
            "overflow_x": null,
            "overflow_y": null,
            "padding": null,
            "right": null,
            "top": null,
            "visibility": null,
            "width": null
          }
        },
        "f1e7792193d84f698442b433e81e2c5e": {
          "model_module": "@jupyter-widgets/controls",
          "model_name": "DescriptionStyleModel",
          "model_module_version": "1.5.0",
          "state": {
            "_model_module": "@jupyter-widgets/controls",
            "_model_module_version": "1.5.0",
            "_model_name": "DescriptionStyleModel",
            "_view_count": null,
            "_view_module": "@jupyter-widgets/base",
            "_view_module_version": "1.2.0",
            "_view_name": "StyleView",
            "description_width": ""
          }
        },
        "08212cdeb06e40c0b55511c5d1cc6382": {
          "model_module": "@jupyter-widgets/base",
          "model_name": "LayoutModel",
          "model_module_version": "1.2.0",
          "state": {
            "_model_module": "@jupyter-widgets/base",
            "_model_module_version": "1.2.0",
            "_model_name": "LayoutModel",
            "_view_count": null,
            "_view_module": "@jupyter-widgets/base",
            "_view_module_version": "1.2.0",
            "_view_name": "LayoutView",
            "align_content": null,
            "align_items": null,
            "align_self": null,
            "border": null,
            "bottom": null,
            "display": null,
            "flex": null,
            "flex_flow": null,
            "grid_area": null,
            "grid_auto_columns": null,
            "grid_auto_flow": null,
            "grid_auto_rows": null,
            "grid_column": null,
            "grid_gap": null,
            "grid_row": null,
            "grid_template_areas": null,
            "grid_template_columns": null,
            "grid_template_rows": null,
            "height": null,
            "justify_content": null,
            "justify_items": null,
            "left": null,
            "margin": null,
            "max_height": null,
            "max_width": null,
            "min_height": null,
            "min_width": null,
            "object_fit": null,
            "object_position": null,
            "order": null,
            "overflow": null,
            "overflow_x": null,
            "overflow_y": null,
            "padding": null,
            "right": null,
            "top": null,
            "visibility": null,
            "width": null
          }
        },
        "ed8fd90b2b3d4a729592c8417504385e": {
          "model_module": "@jupyter-widgets/controls",
          "model_name": "ProgressStyleModel",
          "model_module_version": "1.5.0",
          "state": {
            "_model_module": "@jupyter-widgets/controls",
            "_model_module_version": "1.5.0",
            "_model_name": "ProgressStyleModel",
            "_view_count": null,
            "_view_module": "@jupyter-widgets/base",
            "_view_module_version": "1.2.0",
            "_view_name": "StyleView",
            "bar_color": null,
            "description_width": ""
          }
        },
        "ddade009403f4fff9577d198f35d8a85": {
          "model_module": "@jupyter-widgets/base",
          "model_name": "LayoutModel",
          "model_module_version": "1.2.0",
          "state": {
            "_model_module": "@jupyter-widgets/base",
            "_model_module_version": "1.2.0",
            "_model_name": "LayoutModel",
            "_view_count": null,
            "_view_module": "@jupyter-widgets/base",
            "_view_module_version": "1.2.0",
            "_view_name": "LayoutView",
            "align_content": null,
            "align_items": null,
            "align_self": null,
            "border": null,
            "bottom": null,
            "display": null,
            "flex": null,
            "flex_flow": null,
            "grid_area": null,
            "grid_auto_columns": null,
            "grid_auto_flow": null,
            "grid_auto_rows": null,
            "grid_column": null,
            "grid_gap": null,
            "grid_row": null,
            "grid_template_areas": null,
            "grid_template_columns": null,
            "grid_template_rows": null,
            "height": null,
            "justify_content": null,
            "justify_items": null,
            "left": null,
            "margin": null,
            "max_height": null,
            "max_width": null,
            "min_height": null,
            "min_width": null,
            "object_fit": null,
            "object_position": null,
            "order": null,
            "overflow": null,
            "overflow_x": null,
            "overflow_y": null,
            "padding": null,
            "right": null,
            "top": null,
            "visibility": null,
            "width": null
          }
        },
        "dfd3f7e06df048cd82dd5994c2f1f6f6": {
          "model_module": "@jupyter-widgets/controls",
          "model_name": "DescriptionStyleModel",
          "model_module_version": "1.5.0",
          "state": {
            "_model_module": "@jupyter-widgets/controls",
            "_model_module_version": "1.5.0",
            "_model_name": "DescriptionStyleModel",
            "_view_count": null,
            "_view_module": "@jupyter-widgets/base",
            "_view_module_version": "1.2.0",
            "_view_name": "StyleView",
            "description_width": ""
          }
        },
        "1066e5ccd049424a98ee902b670ca046": {
          "model_module": "@jupyter-widgets/controls",
          "model_name": "HBoxModel",
          "model_module_version": "1.5.0",
          "state": {
            "_dom_classes": [],
            "_model_module": "@jupyter-widgets/controls",
            "_model_module_version": "1.5.0",
            "_model_name": "HBoxModel",
            "_view_count": null,
            "_view_module": "@jupyter-widgets/controls",
            "_view_module_version": "1.5.0",
            "_view_name": "HBoxView",
            "box_style": "",
            "children": [
              "IPY_MODEL_b0abac94feaa4df3a99caff3c18c3f0d",
              "IPY_MODEL_d864033c3c16426599a3fc5152c6bdd7",
              "IPY_MODEL_ff49e41f4196407ca0aa288fce6f0eb2"
            ],
            "layout": "IPY_MODEL_8daf5cc32b09401ca6c24abf13f59686"
          }
        },
        "b0abac94feaa4df3a99caff3c18c3f0d": {
          "model_module": "@jupyter-widgets/controls",
          "model_name": "HTMLModel",
          "model_module_version": "1.5.0",
          "state": {
            "_dom_classes": [],
            "_model_module": "@jupyter-widgets/controls",
            "_model_module_version": "1.5.0",
            "_model_name": "HTMLModel",
            "_view_count": null,
            "_view_module": "@jupyter-widgets/controls",
            "_view_module_version": "1.5.0",
            "_view_name": "HTMLView",
            "description": "",
            "description_tooltip": null,
            "layout": "IPY_MODEL_5ef558dc687748508911c8d2f705ad79",
            "placeholder": "​",
            "style": "IPY_MODEL_b87d076c15594dd785cb295573d2516d",
            "value": "100%"
          }
        },
        "d864033c3c16426599a3fc5152c6bdd7": {
          "model_module": "@jupyter-widgets/controls",
          "model_name": "FloatProgressModel",
          "model_module_version": "1.5.0",
          "state": {
            "_dom_classes": [],
            "_model_module": "@jupyter-widgets/controls",
            "_model_module_version": "1.5.0",
            "_model_name": "FloatProgressModel",
            "_view_count": null,
            "_view_module": "@jupyter-widgets/controls",
            "_view_module_version": "1.5.0",
            "_view_name": "ProgressView",
            "bar_style": "success",
            "description": "",
            "description_tooltip": null,
            "layout": "IPY_MODEL_54a8ccac64964e72a8ef00a8d386e22a",
            "max": 87,
            "min": 0,
            "orientation": "horizontal",
            "style": "IPY_MODEL_8ec02e86aa744fd69dc0a4675fedec7d",
            "value": 87
          }
        },
        "ff49e41f4196407ca0aa288fce6f0eb2": {
          "model_module": "@jupyter-widgets/controls",
          "model_name": "HTMLModel",
          "model_module_version": "1.5.0",
          "state": {
            "_dom_classes": [],
            "_model_module": "@jupyter-widgets/controls",
            "_model_module_version": "1.5.0",
            "_model_name": "HTMLModel",
            "_view_count": null,
            "_view_module": "@jupyter-widgets/controls",
            "_view_module_version": "1.5.0",
            "_view_name": "HTMLView",
            "description": "",
            "description_tooltip": null,
            "layout": "IPY_MODEL_79be304b566442809fab31ba43b1415f",
            "placeholder": "​",
            "style": "IPY_MODEL_9135efd470b2492c815da05cf135877b",
            "value": " 87/87 [00:31&lt;00:00,  2.43it/s]"
          }
        },
        "8daf5cc32b09401ca6c24abf13f59686": {
          "model_module": "@jupyter-widgets/base",
          "model_name": "LayoutModel",
          "model_module_version": "1.2.0",
          "state": {
            "_model_module": "@jupyter-widgets/base",
            "_model_module_version": "1.2.0",
            "_model_name": "LayoutModel",
            "_view_count": null,
            "_view_module": "@jupyter-widgets/base",
            "_view_module_version": "1.2.0",
            "_view_name": "LayoutView",
            "align_content": null,
            "align_items": null,
            "align_self": null,
            "border": null,
            "bottom": null,
            "display": null,
            "flex": null,
            "flex_flow": null,
            "grid_area": null,
            "grid_auto_columns": null,
            "grid_auto_flow": null,
            "grid_auto_rows": null,
            "grid_column": null,
            "grid_gap": null,
            "grid_row": null,
            "grid_template_areas": null,
            "grid_template_columns": null,
            "grid_template_rows": null,
            "height": null,
            "justify_content": null,
            "justify_items": null,
            "left": null,
            "margin": null,
            "max_height": null,
            "max_width": null,
            "min_height": null,
            "min_width": null,
            "object_fit": null,
            "object_position": null,
            "order": null,
            "overflow": null,
            "overflow_x": null,
            "overflow_y": null,
            "padding": null,
            "right": null,
            "top": null,
            "visibility": null,
            "width": null
          }
        },
        "5ef558dc687748508911c8d2f705ad79": {
          "model_module": "@jupyter-widgets/base",
          "model_name": "LayoutModel",
          "model_module_version": "1.2.0",
          "state": {
            "_model_module": "@jupyter-widgets/base",
            "_model_module_version": "1.2.0",
            "_model_name": "LayoutModel",
            "_view_count": null,
            "_view_module": "@jupyter-widgets/base",
            "_view_module_version": "1.2.0",
            "_view_name": "LayoutView",
            "align_content": null,
            "align_items": null,
            "align_self": null,
            "border": null,
            "bottom": null,
            "display": null,
            "flex": null,
            "flex_flow": null,
            "grid_area": null,
            "grid_auto_columns": null,
            "grid_auto_flow": null,
            "grid_auto_rows": null,
            "grid_column": null,
            "grid_gap": null,
            "grid_row": null,
            "grid_template_areas": null,
            "grid_template_columns": null,
            "grid_template_rows": null,
            "height": null,
            "justify_content": null,
            "justify_items": null,
            "left": null,
            "margin": null,
            "max_height": null,
            "max_width": null,
            "min_height": null,
            "min_width": null,
            "object_fit": null,
            "object_position": null,
            "order": null,
            "overflow": null,
            "overflow_x": null,
            "overflow_y": null,
            "padding": null,
            "right": null,
            "top": null,
            "visibility": null,
            "width": null
          }
        },
        "b87d076c15594dd785cb295573d2516d": {
          "model_module": "@jupyter-widgets/controls",
          "model_name": "DescriptionStyleModel",
          "model_module_version": "1.5.0",
          "state": {
            "_model_module": "@jupyter-widgets/controls",
            "_model_module_version": "1.5.0",
            "_model_name": "DescriptionStyleModel",
            "_view_count": null,
            "_view_module": "@jupyter-widgets/base",
            "_view_module_version": "1.2.0",
            "_view_name": "StyleView",
            "description_width": ""
          }
        },
        "54a8ccac64964e72a8ef00a8d386e22a": {
          "model_module": "@jupyter-widgets/base",
          "model_name": "LayoutModel",
          "model_module_version": "1.2.0",
          "state": {
            "_model_module": "@jupyter-widgets/base",
            "_model_module_version": "1.2.0",
            "_model_name": "LayoutModel",
            "_view_count": null,
            "_view_module": "@jupyter-widgets/base",
            "_view_module_version": "1.2.0",
            "_view_name": "LayoutView",
            "align_content": null,
            "align_items": null,
            "align_self": null,
            "border": null,
            "bottom": null,
            "display": null,
            "flex": null,
            "flex_flow": null,
            "grid_area": null,
            "grid_auto_columns": null,
            "grid_auto_flow": null,
            "grid_auto_rows": null,
            "grid_column": null,
            "grid_gap": null,
            "grid_row": null,
            "grid_template_areas": null,
            "grid_template_columns": null,
            "grid_template_rows": null,
            "height": null,
            "justify_content": null,
            "justify_items": null,
            "left": null,
            "margin": null,
            "max_height": null,
            "max_width": null,
            "min_height": null,
            "min_width": null,
            "object_fit": null,
            "object_position": null,
            "order": null,
            "overflow": null,
            "overflow_x": null,
            "overflow_y": null,
            "padding": null,
            "right": null,
            "top": null,
            "visibility": null,
            "width": null
          }
        },
        "8ec02e86aa744fd69dc0a4675fedec7d": {
          "model_module": "@jupyter-widgets/controls",
          "model_name": "ProgressStyleModel",
          "model_module_version": "1.5.0",
          "state": {
            "_model_module": "@jupyter-widgets/controls",
            "_model_module_version": "1.5.0",
            "_model_name": "ProgressStyleModel",
            "_view_count": null,
            "_view_module": "@jupyter-widgets/base",
            "_view_module_version": "1.2.0",
            "_view_name": "StyleView",
            "bar_color": null,
            "description_width": ""
          }
        },
        "79be304b566442809fab31ba43b1415f": {
          "model_module": "@jupyter-widgets/base",
          "model_name": "LayoutModel",
          "model_module_version": "1.2.0",
          "state": {
            "_model_module": "@jupyter-widgets/base",
            "_model_module_version": "1.2.0",
            "_model_name": "LayoutModel",
            "_view_count": null,
            "_view_module": "@jupyter-widgets/base",
            "_view_module_version": "1.2.0",
            "_view_name": "LayoutView",
            "align_content": null,
            "align_items": null,
            "align_self": null,
            "border": null,
            "bottom": null,
            "display": null,
            "flex": null,
            "flex_flow": null,
            "grid_area": null,
            "grid_auto_columns": null,
            "grid_auto_flow": null,
            "grid_auto_rows": null,
            "grid_column": null,
            "grid_gap": null,
            "grid_row": null,
            "grid_template_areas": null,
            "grid_template_columns": null,
            "grid_template_rows": null,
            "height": null,
            "justify_content": null,
            "justify_items": null,
            "left": null,
            "margin": null,
            "max_height": null,
            "max_width": null,
            "min_height": null,
            "min_width": null,
            "object_fit": null,
            "object_position": null,
            "order": null,
            "overflow": null,
            "overflow_x": null,
            "overflow_y": null,
            "padding": null,
            "right": null,
            "top": null,
            "visibility": null,
            "width": null
          }
        },
        "9135efd470b2492c815da05cf135877b": {
          "model_module": "@jupyter-widgets/controls",
          "model_name": "DescriptionStyleModel",
          "model_module_version": "1.5.0",
          "state": {
            "_model_module": "@jupyter-widgets/controls",
            "_model_module_version": "1.5.0",
            "_model_name": "DescriptionStyleModel",
            "_view_count": null,
            "_view_module": "@jupyter-widgets/base",
            "_view_module_version": "1.2.0",
            "_view_name": "StyleView",
            "description_width": ""
          }
        },
        "34066dfa10364da28fbaa6525eae3e95": {
          "model_module": "@jupyter-widgets/controls",
          "model_name": "HBoxModel",
          "model_module_version": "1.5.0",
          "state": {
            "_dom_classes": [],
            "_model_module": "@jupyter-widgets/controls",
            "_model_module_version": "1.5.0",
            "_model_name": "HBoxModel",
            "_view_count": null,
            "_view_module": "@jupyter-widgets/controls",
            "_view_module_version": "1.5.0",
            "_view_name": "HBoxView",
            "box_style": "",
            "children": [
              "IPY_MODEL_0ba10fd848c941678b5097e3d2e031ee",
              "IPY_MODEL_3dca0be3b6a24126ae9c64e167aaeb0e",
              "IPY_MODEL_f42e3ac295fe4b1d88d5881e344d3ee0"
            ],
            "layout": "IPY_MODEL_bfbd765238494b41bd709c1a54abb422"
          }
        },
        "0ba10fd848c941678b5097e3d2e031ee": {
          "model_module": "@jupyter-widgets/controls",
          "model_name": "HTMLModel",
          "model_module_version": "1.5.0",
          "state": {
            "_dom_classes": [],
            "_model_module": "@jupyter-widgets/controls",
            "_model_module_version": "1.5.0",
            "_model_name": "HTMLModel",
            "_view_count": null,
            "_view_module": "@jupyter-widgets/controls",
            "_view_module_version": "1.5.0",
            "_view_name": "HTMLView",
            "description": "",
            "description_tooltip": null,
            "layout": "IPY_MODEL_a2669ebbb47c4ccda2eea804069f3911",
            "placeholder": "​",
            "style": "IPY_MODEL_26451685b1074792a05a565780a518b1",
            "value": "100%"
          }
        },
        "3dca0be3b6a24126ae9c64e167aaeb0e": {
          "model_module": "@jupyter-widgets/controls",
          "model_name": "FloatProgressModel",
          "model_module_version": "1.5.0",
          "state": {
            "_dom_classes": [],
            "_model_module": "@jupyter-widgets/controls",
            "_model_module_version": "1.5.0",
            "_model_name": "FloatProgressModel",
            "_view_count": null,
            "_view_module": "@jupyter-widgets/controls",
            "_view_module_version": "1.5.0",
            "_view_name": "ProgressView",
            "bar_style": "success",
            "description": "",
            "description_tooltip": null,
            "layout": "IPY_MODEL_ba5fb9e640cd43d9b8d73fe6016a0169",
            "max": 87,
            "min": 0,
            "orientation": "horizontal",
            "style": "IPY_MODEL_cae74564a3e345eb82d7943afec58bd7",
            "value": 87
          }
        },
        "f42e3ac295fe4b1d88d5881e344d3ee0": {
          "model_module": "@jupyter-widgets/controls",
          "model_name": "HTMLModel",
          "model_module_version": "1.5.0",
          "state": {
            "_dom_classes": [],
            "_model_module": "@jupyter-widgets/controls",
            "_model_module_version": "1.5.0",
            "_model_name": "HTMLModel",
            "_view_count": null,
            "_view_module": "@jupyter-widgets/controls",
            "_view_module_version": "1.5.0",
            "_view_name": "HTMLView",
            "description": "",
            "description_tooltip": null,
            "layout": "IPY_MODEL_dc7d798247f6482e8f22756e1f19eb02",
            "placeholder": "​",
            "style": "IPY_MODEL_d9684624da1c43cea43e32cc27e89ca4",
            "value": " 87/87 [00:31&lt;00:00,  3.01it/s]"
          }
        },
        "bfbd765238494b41bd709c1a54abb422": {
          "model_module": "@jupyter-widgets/base",
          "model_name": "LayoutModel",
          "model_module_version": "1.2.0",
          "state": {
            "_model_module": "@jupyter-widgets/base",
            "_model_module_version": "1.2.0",
            "_model_name": "LayoutModel",
            "_view_count": null,
            "_view_module": "@jupyter-widgets/base",
            "_view_module_version": "1.2.0",
            "_view_name": "LayoutView",
            "align_content": null,
            "align_items": null,
            "align_self": null,
            "border": null,
            "bottom": null,
            "display": null,
            "flex": null,
            "flex_flow": null,
            "grid_area": null,
            "grid_auto_columns": null,
            "grid_auto_flow": null,
            "grid_auto_rows": null,
            "grid_column": null,
            "grid_gap": null,
            "grid_row": null,
            "grid_template_areas": null,
            "grid_template_columns": null,
            "grid_template_rows": null,
            "height": null,
            "justify_content": null,
            "justify_items": null,
            "left": null,
            "margin": null,
            "max_height": null,
            "max_width": null,
            "min_height": null,
            "min_width": null,
            "object_fit": null,
            "object_position": null,
            "order": null,
            "overflow": null,
            "overflow_x": null,
            "overflow_y": null,
            "padding": null,
            "right": null,
            "top": null,
            "visibility": null,
            "width": null
          }
        },
        "a2669ebbb47c4ccda2eea804069f3911": {
          "model_module": "@jupyter-widgets/base",
          "model_name": "LayoutModel",
          "model_module_version": "1.2.0",
          "state": {
            "_model_module": "@jupyter-widgets/base",
            "_model_module_version": "1.2.0",
            "_model_name": "LayoutModel",
            "_view_count": null,
            "_view_module": "@jupyter-widgets/base",
            "_view_module_version": "1.2.0",
            "_view_name": "LayoutView",
            "align_content": null,
            "align_items": null,
            "align_self": null,
            "border": null,
            "bottom": null,
            "display": null,
            "flex": null,
            "flex_flow": null,
            "grid_area": null,
            "grid_auto_columns": null,
            "grid_auto_flow": null,
            "grid_auto_rows": null,
            "grid_column": null,
            "grid_gap": null,
            "grid_row": null,
            "grid_template_areas": null,
            "grid_template_columns": null,
            "grid_template_rows": null,
            "height": null,
            "justify_content": null,
            "justify_items": null,
            "left": null,
            "margin": null,
            "max_height": null,
            "max_width": null,
            "min_height": null,
            "min_width": null,
            "object_fit": null,
            "object_position": null,
            "order": null,
            "overflow": null,
            "overflow_x": null,
            "overflow_y": null,
            "padding": null,
            "right": null,
            "top": null,
            "visibility": null,
            "width": null
          }
        },
        "26451685b1074792a05a565780a518b1": {
          "model_module": "@jupyter-widgets/controls",
          "model_name": "DescriptionStyleModel",
          "model_module_version": "1.5.0",
          "state": {
            "_model_module": "@jupyter-widgets/controls",
            "_model_module_version": "1.5.0",
            "_model_name": "DescriptionStyleModel",
            "_view_count": null,
            "_view_module": "@jupyter-widgets/base",
            "_view_module_version": "1.2.0",
            "_view_name": "StyleView",
            "description_width": ""
          }
        },
        "ba5fb9e640cd43d9b8d73fe6016a0169": {
          "model_module": "@jupyter-widgets/base",
          "model_name": "LayoutModel",
          "model_module_version": "1.2.0",
          "state": {
            "_model_module": "@jupyter-widgets/base",
            "_model_module_version": "1.2.0",
            "_model_name": "LayoutModel",
            "_view_count": null,
            "_view_module": "@jupyter-widgets/base",
            "_view_module_version": "1.2.0",
            "_view_name": "LayoutView",
            "align_content": null,
            "align_items": null,
            "align_self": null,
            "border": null,
            "bottom": null,
            "display": null,
            "flex": null,
            "flex_flow": null,
            "grid_area": null,
            "grid_auto_columns": null,
            "grid_auto_flow": null,
            "grid_auto_rows": null,
            "grid_column": null,
            "grid_gap": null,
            "grid_row": null,
            "grid_template_areas": null,
            "grid_template_columns": null,
            "grid_template_rows": null,
            "height": null,
            "justify_content": null,
            "justify_items": null,
            "left": null,
            "margin": null,
            "max_height": null,
            "max_width": null,
            "min_height": null,
            "min_width": null,
            "object_fit": null,
            "object_position": null,
            "order": null,
            "overflow": null,
            "overflow_x": null,
            "overflow_y": null,
            "padding": null,
            "right": null,
            "top": null,
            "visibility": null,
            "width": null
          }
        },
        "cae74564a3e345eb82d7943afec58bd7": {
          "model_module": "@jupyter-widgets/controls",
          "model_name": "ProgressStyleModel",
          "model_module_version": "1.5.0",
          "state": {
            "_model_module": "@jupyter-widgets/controls",
            "_model_module_version": "1.5.0",
            "_model_name": "ProgressStyleModel",
            "_view_count": null,
            "_view_module": "@jupyter-widgets/base",
            "_view_module_version": "1.2.0",
            "_view_name": "StyleView",
            "bar_color": null,
            "description_width": ""
          }
        },
        "dc7d798247f6482e8f22756e1f19eb02": {
          "model_module": "@jupyter-widgets/base",
          "model_name": "LayoutModel",
          "model_module_version": "1.2.0",
          "state": {
            "_model_module": "@jupyter-widgets/base",
            "_model_module_version": "1.2.0",
            "_model_name": "LayoutModel",
            "_view_count": null,
            "_view_module": "@jupyter-widgets/base",
            "_view_module_version": "1.2.0",
            "_view_name": "LayoutView",
            "align_content": null,
            "align_items": null,
            "align_self": null,
            "border": null,
            "bottom": null,
            "display": null,
            "flex": null,
            "flex_flow": null,
            "grid_area": null,
            "grid_auto_columns": null,
            "grid_auto_flow": null,
            "grid_auto_rows": null,
            "grid_column": null,
            "grid_gap": null,
            "grid_row": null,
            "grid_template_areas": null,
            "grid_template_columns": null,
            "grid_template_rows": null,
            "height": null,
            "justify_content": null,
            "justify_items": null,
            "left": null,
            "margin": null,
            "max_height": null,
            "max_width": null,
            "min_height": null,
            "min_width": null,
            "object_fit": null,
            "object_position": null,
            "order": null,
            "overflow": null,
            "overflow_x": null,
            "overflow_y": null,
            "padding": null,
            "right": null,
            "top": null,
            "visibility": null,
            "width": null
          }
        },
        "d9684624da1c43cea43e32cc27e89ca4": {
          "model_module": "@jupyter-widgets/controls",
          "model_name": "DescriptionStyleModel",
          "model_module_version": "1.5.0",
          "state": {
            "_model_module": "@jupyter-widgets/controls",
            "_model_module_version": "1.5.0",
            "_model_name": "DescriptionStyleModel",
            "_view_count": null,
            "_view_module": "@jupyter-widgets/base",
            "_view_module_version": "1.2.0",
            "_view_name": "StyleView",
            "description_width": ""
          }
        },
        "266081499aec43f691f5a773b8b2403c": {
          "model_module": "@jupyter-widgets/controls",
          "model_name": "HBoxModel",
          "model_module_version": "1.5.0",
          "state": {
            "_dom_classes": [],
            "_model_module": "@jupyter-widgets/controls",
            "_model_module_version": "1.5.0",
            "_model_name": "HBoxModel",
            "_view_count": null,
            "_view_module": "@jupyter-widgets/controls",
            "_view_module_version": "1.5.0",
            "_view_name": "HBoxView",
            "box_style": "",
            "children": [
              "IPY_MODEL_a26f787ecf2447b6940cc9199c430c7f",
              "IPY_MODEL_bfc85a5b0bfc40ce8bb01456adb34008",
              "IPY_MODEL_89b38378e9ef4f09bbb24cf74164ca71"
            ],
            "layout": "IPY_MODEL_caaf348e25e843978a1da08e8fb8cee2"
          }
        },
        "a26f787ecf2447b6940cc9199c430c7f": {
          "model_module": "@jupyter-widgets/controls",
          "model_name": "HTMLModel",
          "model_module_version": "1.5.0",
          "state": {
            "_dom_classes": [],
            "_model_module": "@jupyter-widgets/controls",
            "_model_module_version": "1.5.0",
            "_model_name": "HTMLModel",
            "_view_count": null,
            "_view_module": "@jupyter-widgets/controls",
            "_view_module_version": "1.5.0",
            "_view_name": "HTMLView",
            "description": "",
            "description_tooltip": null,
            "layout": "IPY_MODEL_44ac07aec27a47169752f71fb0db97e1",
            "placeholder": "​",
            "style": "IPY_MODEL_c853c9134cd3452cae7b8abb72da8e83",
            "value": "100%"
          }
        },
        "bfc85a5b0bfc40ce8bb01456adb34008": {
          "model_module": "@jupyter-widgets/controls",
          "model_name": "FloatProgressModel",
          "model_module_version": "1.5.0",
          "state": {
            "_dom_classes": [],
            "_model_module": "@jupyter-widgets/controls",
            "_model_module_version": "1.5.0",
            "_model_name": "FloatProgressModel",
            "_view_count": null,
            "_view_module": "@jupyter-widgets/controls",
            "_view_module_version": "1.5.0",
            "_view_name": "ProgressView",
            "bar_style": "success",
            "description": "",
            "description_tooltip": null,
            "layout": "IPY_MODEL_905bef5d79ce4230b12aa3919455ef2c",
            "max": 87,
            "min": 0,
            "orientation": "horizontal",
            "style": "IPY_MODEL_95869673bceb419c992b65c397ac3d2b",
            "value": 87
          }
        },
        "89b38378e9ef4f09bbb24cf74164ca71": {
          "model_module": "@jupyter-widgets/controls",
          "model_name": "HTMLModel",
          "model_module_version": "1.5.0",
          "state": {
            "_dom_classes": [],
            "_model_module": "@jupyter-widgets/controls",
            "_model_module_version": "1.5.0",
            "_model_name": "HTMLModel",
            "_view_count": null,
            "_view_module": "@jupyter-widgets/controls",
            "_view_module_version": "1.5.0",
            "_view_name": "HTMLView",
            "description": "",
            "description_tooltip": null,
            "layout": "IPY_MODEL_8732d567cc1d4e78a52d6d844e99c3b5",
            "placeholder": "​",
            "style": "IPY_MODEL_91797c9d4f8e4e5db361282fe3a44646",
            "value": " 87/87 [00:31&lt;00:00,  2.72it/s]"
          }
        },
        "caaf348e25e843978a1da08e8fb8cee2": {
          "model_module": "@jupyter-widgets/base",
          "model_name": "LayoutModel",
          "model_module_version": "1.2.0",
          "state": {
            "_model_module": "@jupyter-widgets/base",
            "_model_module_version": "1.2.0",
            "_model_name": "LayoutModel",
            "_view_count": null,
            "_view_module": "@jupyter-widgets/base",
            "_view_module_version": "1.2.0",
            "_view_name": "LayoutView",
            "align_content": null,
            "align_items": null,
            "align_self": null,
            "border": null,
            "bottom": null,
            "display": null,
            "flex": null,
            "flex_flow": null,
            "grid_area": null,
            "grid_auto_columns": null,
            "grid_auto_flow": null,
            "grid_auto_rows": null,
            "grid_column": null,
            "grid_gap": null,
            "grid_row": null,
            "grid_template_areas": null,
            "grid_template_columns": null,
            "grid_template_rows": null,
            "height": null,
            "justify_content": null,
            "justify_items": null,
            "left": null,
            "margin": null,
            "max_height": null,
            "max_width": null,
            "min_height": null,
            "min_width": null,
            "object_fit": null,
            "object_position": null,
            "order": null,
            "overflow": null,
            "overflow_x": null,
            "overflow_y": null,
            "padding": null,
            "right": null,
            "top": null,
            "visibility": null,
            "width": null
          }
        },
        "44ac07aec27a47169752f71fb0db97e1": {
          "model_module": "@jupyter-widgets/base",
          "model_name": "LayoutModel",
          "model_module_version": "1.2.0",
          "state": {
            "_model_module": "@jupyter-widgets/base",
            "_model_module_version": "1.2.0",
            "_model_name": "LayoutModel",
            "_view_count": null,
            "_view_module": "@jupyter-widgets/base",
            "_view_module_version": "1.2.0",
            "_view_name": "LayoutView",
            "align_content": null,
            "align_items": null,
            "align_self": null,
            "border": null,
            "bottom": null,
            "display": null,
            "flex": null,
            "flex_flow": null,
            "grid_area": null,
            "grid_auto_columns": null,
            "grid_auto_flow": null,
            "grid_auto_rows": null,
            "grid_column": null,
            "grid_gap": null,
            "grid_row": null,
            "grid_template_areas": null,
            "grid_template_columns": null,
            "grid_template_rows": null,
            "height": null,
            "justify_content": null,
            "justify_items": null,
            "left": null,
            "margin": null,
            "max_height": null,
            "max_width": null,
            "min_height": null,
            "min_width": null,
            "object_fit": null,
            "object_position": null,
            "order": null,
            "overflow": null,
            "overflow_x": null,
            "overflow_y": null,
            "padding": null,
            "right": null,
            "top": null,
            "visibility": null,
            "width": null
          }
        },
        "c853c9134cd3452cae7b8abb72da8e83": {
          "model_module": "@jupyter-widgets/controls",
          "model_name": "DescriptionStyleModel",
          "model_module_version": "1.5.0",
          "state": {
            "_model_module": "@jupyter-widgets/controls",
            "_model_module_version": "1.5.0",
            "_model_name": "DescriptionStyleModel",
            "_view_count": null,
            "_view_module": "@jupyter-widgets/base",
            "_view_module_version": "1.2.0",
            "_view_name": "StyleView",
            "description_width": ""
          }
        },
        "905bef5d79ce4230b12aa3919455ef2c": {
          "model_module": "@jupyter-widgets/base",
          "model_name": "LayoutModel",
          "model_module_version": "1.2.0",
          "state": {
            "_model_module": "@jupyter-widgets/base",
            "_model_module_version": "1.2.0",
            "_model_name": "LayoutModel",
            "_view_count": null,
            "_view_module": "@jupyter-widgets/base",
            "_view_module_version": "1.2.0",
            "_view_name": "LayoutView",
            "align_content": null,
            "align_items": null,
            "align_self": null,
            "border": null,
            "bottom": null,
            "display": null,
            "flex": null,
            "flex_flow": null,
            "grid_area": null,
            "grid_auto_columns": null,
            "grid_auto_flow": null,
            "grid_auto_rows": null,
            "grid_column": null,
            "grid_gap": null,
            "grid_row": null,
            "grid_template_areas": null,
            "grid_template_columns": null,
            "grid_template_rows": null,
            "height": null,
            "justify_content": null,
            "justify_items": null,
            "left": null,
            "margin": null,
            "max_height": null,
            "max_width": null,
            "min_height": null,
            "min_width": null,
            "object_fit": null,
            "object_position": null,
            "order": null,
            "overflow": null,
            "overflow_x": null,
            "overflow_y": null,
            "padding": null,
            "right": null,
            "top": null,
            "visibility": null,
            "width": null
          }
        },
        "95869673bceb419c992b65c397ac3d2b": {
          "model_module": "@jupyter-widgets/controls",
          "model_name": "ProgressStyleModel",
          "model_module_version": "1.5.0",
          "state": {
            "_model_module": "@jupyter-widgets/controls",
            "_model_module_version": "1.5.0",
            "_model_name": "ProgressStyleModel",
            "_view_count": null,
            "_view_module": "@jupyter-widgets/base",
            "_view_module_version": "1.2.0",
            "_view_name": "StyleView",
            "bar_color": null,
            "description_width": ""
          }
        },
        "8732d567cc1d4e78a52d6d844e99c3b5": {
          "model_module": "@jupyter-widgets/base",
          "model_name": "LayoutModel",
          "model_module_version": "1.2.0",
          "state": {
            "_model_module": "@jupyter-widgets/base",
            "_model_module_version": "1.2.0",
            "_model_name": "LayoutModel",
            "_view_count": null,
            "_view_module": "@jupyter-widgets/base",
            "_view_module_version": "1.2.0",
            "_view_name": "LayoutView",
            "align_content": null,
            "align_items": null,
            "align_self": null,
            "border": null,
            "bottom": null,
            "display": null,
            "flex": null,
            "flex_flow": null,
            "grid_area": null,
            "grid_auto_columns": null,
            "grid_auto_flow": null,
            "grid_auto_rows": null,
            "grid_column": null,
            "grid_gap": null,
            "grid_row": null,
            "grid_template_areas": null,
            "grid_template_columns": null,
            "grid_template_rows": null,
            "height": null,
            "justify_content": null,
            "justify_items": null,
            "left": null,
            "margin": null,
            "max_height": null,
            "max_width": null,
            "min_height": null,
            "min_width": null,
            "object_fit": null,
            "object_position": null,
            "order": null,
            "overflow": null,
            "overflow_x": null,
            "overflow_y": null,
            "padding": null,
            "right": null,
            "top": null,
            "visibility": null,
            "width": null
          }
        },
        "91797c9d4f8e4e5db361282fe3a44646": {
          "model_module": "@jupyter-widgets/controls",
          "model_name": "DescriptionStyleModel",
          "model_module_version": "1.5.0",
          "state": {
            "_model_module": "@jupyter-widgets/controls",
            "_model_module_version": "1.5.0",
            "_model_name": "DescriptionStyleModel",
            "_view_count": null,
            "_view_module": "@jupyter-widgets/base",
            "_view_module_version": "1.2.0",
            "_view_name": "StyleView",
            "description_width": ""
          }
        },
        "450ea9de8b794947aa125f01b07539b9": {
          "model_module": "@jupyter-widgets/controls",
          "model_name": "HBoxModel",
          "model_module_version": "1.5.0",
          "state": {
            "_dom_classes": [],
            "_model_module": "@jupyter-widgets/controls",
            "_model_module_version": "1.5.0",
            "_model_name": "HBoxModel",
            "_view_count": null,
            "_view_module": "@jupyter-widgets/controls",
            "_view_module_version": "1.5.0",
            "_view_name": "HBoxView",
            "box_style": "",
            "children": [
              "IPY_MODEL_51ae027a22fd46b8bb4f41da92ef1394",
              "IPY_MODEL_a18364324b3c45f482de1495c4edeb24",
              "IPY_MODEL_effaeca25ef14d22af4f831baed1f593"
            ],
            "layout": "IPY_MODEL_06690502d43b417e8fb5c31c498eca40"
          }
        },
        "51ae027a22fd46b8bb4f41da92ef1394": {
          "model_module": "@jupyter-widgets/controls",
          "model_name": "HTMLModel",
          "model_module_version": "1.5.0",
          "state": {
            "_dom_classes": [],
            "_model_module": "@jupyter-widgets/controls",
            "_model_module_version": "1.5.0",
            "_model_name": "HTMLModel",
            "_view_count": null,
            "_view_module": "@jupyter-widgets/controls",
            "_view_module_version": "1.5.0",
            "_view_name": "HTMLView",
            "description": "",
            "description_tooltip": null,
            "layout": "IPY_MODEL_153644cd68e04772917a8d84b586fddb",
            "placeholder": "​",
            "style": "IPY_MODEL_b47dba2c97264bdc835b8c1b773c461c",
            "value": "100%"
          }
        },
        "a18364324b3c45f482de1495c4edeb24": {
          "model_module": "@jupyter-widgets/controls",
          "model_name": "FloatProgressModel",
          "model_module_version": "1.5.0",
          "state": {
            "_dom_classes": [],
            "_model_module": "@jupyter-widgets/controls",
            "_model_module_version": "1.5.0",
            "_model_name": "FloatProgressModel",
            "_view_count": null,
            "_view_module": "@jupyter-widgets/controls",
            "_view_module_version": "1.5.0",
            "_view_name": "ProgressView",
            "bar_style": "success",
            "description": "",
            "description_tooltip": null,
            "layout": "IPY_MODEL_6e754bfa093b49b783f6576da9d323a1",
            "max": 87,
            "min": 0,
            "orientation": "horizontal",
            "style": "IPY_MODEL_2c442e48bf364434b88056b6162b4d6f",
            "value": 87
          }
        },
        "effaeca25ef14d22af4f831baed1f593": {
          "model_module": "@jupyter-widgets/controls",
          "model_name": "HTMLModel",
          "model_module_version": "1.5.0",
          "state": {
            "_dom_classes": [],
            "_model_module": "@jupyter-widgets/controls",
            "_model_module_version": "1.5.0",
            "_model_name": "HTMLModel",
            "_view_count": null,
            "_view_module": "@jupyter-widgets/controls",
            "_view_module_version": "1.5.0",
            "_view_name": "HTMLView",
            "description": "",
            "description_tooltip": null,
            "layout": "IPY_MODEL_3ed3901c4d044e7db66c0adb3bf811fc",
            "placeholder": "​",
            "style": "IPY_MODEL_d3dd18c188d743de9054f79c2f1dd4b6",
            "value": " 87/87 [00:31&lt;00:00,  3.00it/s]"
          }
        },
        "06690502d43b417e8fb5c31c498eca40": {
          "model_module": "@jupyter-widgets/base",
          "model_name": "LayoutModel",
          "model_module_version": "1.2.0",
          "state": {
            "_model_module": "@jupyter-widgets/base",
            "_model_module_version": "1.2.0",
            "_model_name": "LayoutModel",
            "_view_count": null,
            "_view_module": "@jupyter-widgets/base",
            "_view_module_version": "1.2.0",
            "_view_name": "LayoutView",
            "align_content": null,
            "align_items": null,
            "align_self": null,
            "border": null,
            "bottom": null,
            "display": null,
            "flex": null,
            "flex_flow": null,
            "grid_area": null,
            "grid_auto_columns": null,
            "grid_auto_flow": null,
            "grid_auto_rows": null,
            "grid_column": null,
            "grid_gap": null,
            "grid_row": null,
            "grid_template_areas": null,
            "grid_template_columns": null,
            "grid_template_rows": null,
            "height": null,
            "justify_content": null,
            "justify_items": null,
            "left": null,
            "margin": null,
            "max_height": null,
            "max_width": null,
            "min_height": null,
            "min_width": null,
            "object_fit": null,
            "object_position": null,
            "order": null,
            "overflow": null,
            "overflow_x": null,
            "overflow_y": null,
            "padding": null,
            "right": null,
            "top": null,
            "visibility": null,
            "width": null
          }
        },
        "153644cd68e04772917a8d84b586fddb": {
          "model_module": "@jupyter-widgets/base",
          "model_name": "LayoutModel",
          "model_module_version": "1.2.0",
          "state": {
            "_model_module": "@jupyter-widgets/base",
            "_model_module_version": "1.2.0",
            "_model_name": "LayoutModel",
            "_view_count": null,
            "_view_module": "@jupyter-widgets/base",
            "_view_module_version": "1.2.0",
            "_view_name": "LayoutView",
            "align_content": null,
            "align_items": null,
            "align_self": null,
            "border": null,
            "bottom": null,
            "display": null,
            "flex": null,
            "flex_flow": null,
            "grid_area": null,
            "grid_auto_columns": null,
            "grid_auto_flow": null,
            "grid_auto_rows": null,
            "grid_column": null,
            "grid_gap": null,
            "grid_row": null,
            "grid_template_areas": null,
            "grid_template_columns": null,
            "grid_template_rows": null,
            "height": null,
            "justify_content": null,
            "justify_items": null,
            "left": null,
            "margin": null,
            "max_height": null,
            "max_width": null,
            "min_height": null,
            "min_width": null,
            "object_fit": null,
            "object_position": null,
            "order": null,
            "overflow": null,
            "overflow_x": null,
            "overflow_y": null,
            "padding": null,
            "right": null,
            "top": null,
            "visibility": null,
            "width": null
          }
        },
        "b47dba2c97264bdc835b8c1b773c461c": {
          "model_module": "@jupyter-widgets/controls",
          "model_name": "DescriptionStyleModel",
          "model_module_version": "1.5.0",
          "state": {
            "_model_module": "@jupyter-widgets/controls",
            "_model_module_version": "1.5.0",
            "_model_name": "DescriptionStyleModel",
            "_view_count": null,
            "_view_module": "@jupyter-widgets/base",
            "_view_module_version": "1.2.0",
            "_view_name": "StyleView",
            "description_width": ""
          }
        },
        "6e754bfa093b49b783f6576da9d323a1": {
          "model_module": "@jupyter-widgets/base",
          "model_name": "LayoutModel",
          "model_module_version": "1.2.0",
          "state": {
            "_model_module": "@jupyter-widgets/base",
            "_model_module_version": "1.2.0",
            "_model_name": "LayoutModel",
            "_view_count": null,
            "_view_module": "@jupyter-widgets/base",
            "_view_module_version": "1.2.0",
            "_view_name": "LayoutView",
            "align_content": null,
            "align_items": null,
            "align_self": null,
            "border": null,
            "bottom": null,
            "display": null,
            "flex": null,
            "flex_flow": null,
            "grid_area": null,
            "grid_auto_columns": null,
            "grid_auto_flow": null,
            "grid_auto_rows": null,
            "grid_column": null,
            "grid_gap": null,
            "grid_row": null,
            "grid_template_areas": null,
            "grid_template_columns": null,
            "grid_template_rows": null,
            "height": null,
            "justify_content": null,
            "justify_items": null,
            "left": null,
            "margin": null,
            "max_height": null,
            "max_width": null,
            "min_height": null,
            "min_width": null,
            "object_fit": null,
            "object_position": null,
            "order": null,
            "overflow": null,
            "overflow_x": null,
            "overflow_y": null,
            "padding": null,
            "right": null,
            "top": null,
            "visibility": null,
            "width": null
          }
        },
        "2c442e48bf364434b88056b6162b4d6f": {
          "model_module": "@jupyter-widgets/controls",
          "model_name": "ProgressStyleModel",
          "model_module_version": "1.5.0",
          "state": {
            "_model_module": "@jupyter-widgets/controls",
            "_model_module_version": "1.5.0",
            "_model_name": "ProgressStyleModel",
            "_view_count": null,
            "_view_module": "@jupyter-widgets/base",
            "_view_module_version": "1.2.0",
            "_view_name": "StyleView",
            "bar_color": null,
            "description_width": ""
          }
        },
        "3ed3901c4d044e7db66c0adb3bf811fc": {
          "model_module": "@jupyter-widgets/base",
          "model_name": "LayoutModel",
          "model_module_version": "1.2.0",
          "state": {
            "_model_module": "@jupyter-widgets/base",
            "_model_module_version": "1.2.0",
            "_model_name": "LayoutModel",
            "_view_count": null,
            "_view_module": "@jupyter-widgets/base",
            "_view_module_version": "1.2.0",
            "_view_name": "LayoutView",
            "align_content": null,
            "align_items": null,
            "align_self": null,
            "border": null,
            "bottom": null,
            "display": null,
            "flex": null,
            "flex_flow": null,
            "grid_area": null,
            "grid_auto_columns": null,
            "grid_auto_flow": null,
            "grid_auto_rows": null,
            "grid_column": null,
            "grid_gap": null,
            "grid_row": null,
            "grid_template_areas": null,
            "grid_template_columns": null,
            "grid_template_rows": null,
            "height": null,
            "justify_content": null,
            "justify_items": null,
            "left": null,
            "margin": null,
            "max_height": null,
            "max_width": null,
            "min_height": null,
            "min_width": null,
            "object_fit": null,
            "object_position": null,
            "order": null,
            "overflow": null,
            "overflow_x": null,
            "overflow_y": null,
            "padding": null,
            "right": null,
            "top": null,
            "visibility": null,
            "width": null
          }
        },
        "d3dd18c188d743de9054f79c2f1dd4b6": {
          "model_module": "@jupyter-widgets/controls",
          "model_name": "DescriptionStyleModel",
          "model_module_version": "1.5.0",
          "state": {
            "_model_module": "@jupyter-widgets/controls",
            "_model_module_version": "1.5.0",
            "_model_name": "DescriptionStyleModel",
            "_view_count": null,
            "_view_module": "@jupyter-widgets/base",
            "_view_module_version": "1.2.0",
            "_view_name": "StyleView",
            "description_width": ""
          }
        },
        "3ad007e4090c4ba0a67d0042d24bf3de": {
          "model_module": "@jupyter-widgets/controls",
          "model_name": "HBoxModel",
          "model_module_version": "1.5.0",
          "state": {
            "_dom_classes": [],
            "_model_module": "@jupyter-widgets/controls",
            "_model_module_version": "1.5.0",
            "_model_name": "HBoxModel",
            "_view_count": null,
            "_view_module": "@jupyter-widgets/controls",
            "_view_module_version": "1.5.0",
            "_view_name": "HBoxView",
            "box_style": "",
            "children": [
              "IPY_MODEL_64cb3e7f1d73454e96ecb807ee9a95f2",
              "IPY_MODEL_7acb73b117894e84957a6cc09f9848a6",
              "IPY_MODEL_49aa5b4ea17648cc8a2050e45c130c6d"
            ],
            "layout": "IPY_MODEL_4accb2839d27464b8594d196dfeaf6a7"
          }
        },
        "64cb3e7f1d73454e96ecb807ee9a95f2": {
          "model_module": "@jupyter-widgets/controls",
          "model_name": "HTMLModel",
          "model_module_version": "1.5.0",
          "state": {
            "_dom_classes": [],
            "_model_module": "@jupyter-widgets/controls",
            "_model_module_version": "1.5.0",
            "_model_name": "HTMLModel",
            "_view_count": null,
            "_view_module": "@jupyter-widgets/controls",
            "_view_module_version": "1.5.0",
            "_view_name": "HTMLView",
            "description": "",
            "description_tooltip": null,
            "layout": "IPY_MODEL_ce5f28bc4ed0408694eaf16c5e9d1d9f",
            "placeholder": "​",
            "style": "IPY_MODEL_1817fa232f3c4fa6bbcf4e3c734ec74c",
            "value": "100%"
          }
        },
        "7acb73b117894e84957a6cc09f9848a6": {
          "model_module": "@jupyter-widgets/controls",
          "model_name": "FloatProgressModel",
          "model_module_version": "1.5.0",
          "state": {
            "_dom_classes": [],
            "_model_module": "@jupyter-widgets/controls",
            "_model_module_version": "1.5.0",
            "_model_name": "FloatProgressModel",
            "_view_count": null,
            "_view_module": "@jupyter-widgets/controls",
            "_view_module_version": "1.5.0",
            "_view_name": "ProgressView",
            "bar_style": "success",
            "description": "",
            "description_tooltip": null,
            "layout": "IPY_MODEL_7f355b9fbe614d06803f692f193dd6ea",
            "max": 87,
            "min": 0,
            "orientation": "horizontal",
            "style": "IPY_MODEL_a8f8c45d34e74eb2925dbbda88c84557",
            "value": 87
          }
        },
        "49aa5b4ea17648cc8a2050e45c130c6d": {
          "model_module": "@jupyter-widgets/controls",
          "model_name": "HTMLModel",
          "model_module_version": "1.5.0",
          "state": {
            "_dom_classes": [],
            "_model_module": "@jupyter-widgets/controls",
            "_model_module_version": "1.5.0",
            "_model_name": "HTMLModel",
            "_view_count": null,
            "_view_module": "@jupyter-widgets/controls",
            "_view_module_version": "1.5.0",
            "_view_name": "HTMLView",
            "description": "",
            "description_tooltip": null,
            "layout": "IPY_MODEL_790caa7a9f1342e3a4f1d6367308ab78",
            "placeholder": "​",
            "style": "IPY_MODEL_d7618a9649a44e5fb2189ea552a8d076",
            "value": " 87/87 [00:31&lt;00:00,  2.88it/s]"
          }
        },
        "4accb2839d27464b8594d196dfeaf6a7": {
          "model_module": "@jupyter-widgets/base",
          "model_name": "LayoutModel",
          "model_module_version": "1.2.0",
          "state": {
            "_model_module": "@jupyter-widgets/base",
            "_model_module_version": "1.2.0",
            "_model_name": "LayoutModel",
            "_view_count": null,
            "_view_module": "@jupyter-widgets/base",
            "_view_module_version": "1.2.0",
            "_view_name": "LayoutView",
            "align_content": null,
            "align_items": null,
            "align_self": null,
            "border": null,
            "bottom": null,
            "display": null,
            "flex": null,
            "flex_flow": null,
            "grid_area": null,
            "grid_auto_columns": null,
            "grid_auto_flow": null,
            "grid_auto_rows": null,
            "grid_column": null,
            "grid_gap": null,
            "grid_row": null,
            "grid_template_areas": null,
            "grid_template_columns": null,
            "grid_template_rows": null,
            "height": null,
            "justify_content": null,
            "justify_items": null,
            "left": null,
            "margin": null,
            "max_height": null,
            "max_width": null,
            "min_height": null,
            "min_width": null,
            "object_fit": null,
            "object_position": null,
            "order": null,
            "overflow": null,
            "overflow_x": null,
            "overflow_y": null,
            "padding": null,
            "right": null,
            "top": null,
            "visibility": null,
            "width": null
          }
        },
        "ce5f28bc4ed0408694eaf16c5e9d1d9f": {
          "model_module": "@jupyter-widgets/base",
          "model_name": "LayoutModel",
          "model_module_version": "1.2.0",
          "state": {
            "_model_module": "@jupyter-widgets/base",
            "_model_module_version": "1.2.0",
            "_model_name": "LayoutModel",
            "_view_count": null,
            "_view_module": "@jupyter-widgets/base",
            "_view_module_version": "1.2.0",
            "_view_name": "LayoutView",
            "align_content": null,
            "align_items": null,
            "align_self": null,
            "border": null,
            "bottom": null,
            "display": null,
            "flex": null,
            "flex_flow": null,
            "grid_area": null,
            "grid_auto_columns": null,
            "grid_auto_flow": null,
            "grid_auto_rows": null,
            "grid_column": null,
            "grid_gap": null,
            "grid_row": null,
            "grid_template_areas": null,
            "grid_template_columns": null,
            "grid_template_rows": null,
            "height": null,
            "justify_content": null,
            "justify_items": null,
            "left": null,
            "margin": null,
            "max_height": null,
            "max_width": null,
            "min_height": null,
            "min_width": null,
            "object_fit": null,
            "object_position": null,
            "order": null,
            "overflow": null,
            "overflow_x": null,
            "overflow_y": null,
            "padding": null,
            "right": null,
            "top": null,
            "visibility": null,
            "width": null
          }
        },
        "1817fa232f3c4fa6bbcf4e3c734ec74c": {
          "model_module": "@jupyter-widgets/controls",
          "model_name": "DescriptionStyleModel",
          "model_module_version": "1.5.0",
          "state": {
            "_model_module": "@jupyter-widgets/controls",
            "_model_module_version": "1.5.0",
            "_model_name": "DescriptionStyleModel",
            "_view_count": null,
            "_view_module": "@jupyter-widgets/base",
            "_view_module_version": "1.2.0",
            "_view_name": "StyleView",
            "description_width": ""
          }
        },
        "7f355b9fbe614d06803f692f193dd6ea": {
          "model_module": "@jupyter-widgets/base",
          "model_name": "LayoutModel",
          "model_module_version": "1.2.0",
          "state": {
            "_model_module": "@jupyter-widgets/base",
            "_model_module_version": "1.2.0",
            "_model_name": "LayoutModel",
            "_view_count": null,
            "_view_module": "@jupyter-widgets/base",
            "_view_module_version": "1.2.0",
            "_view_name": "LayoutView",
            "align_content": null,
            "align_items": null,
            "align_self": null,
            "border": null,
            "bottom": null,
            "display": null,
            "flex": null,
            "flex_flow": null,
            "grid_area": null,
            "grid_auto_columns": null,
            "grid_auto_flow": null,
            "grid_auto_rows": null,
            "grid_column": null,
            "grid_gap": null,
            "grid_row": null,
            "grid_template_areas": null,
            "grid_template_columns": null,
            "grid_template_rows": null,
            "height": null,
            "justify_content": null,
            "justify_items": null,
            "left": null,
            "margin": null,
            "max_height": null,
            "max_width": null,
            "min_height": null,
            "min_width": null,
            "object_fit": null,
            "object_position": null,
            "order": null,
            "overflow": null,
            "overflow_x": null,
            "overflow_y": null,
            "padding": null,
            "right": null,
            "top": null,
            "visibility": null,
            "width": null
          }
        },
        "a8f8c45d34e74eb2925dbbda88c84557": {
          "model_module": "@jupyter-widgets/controls",
          "model_name": "ProgressStyleModel",
          "model_module_version": "1.5.0",
          "state": {
            "_model_module": "@jupyter-widgets/controls",
            "_model_module_version": "1.5.0",
            "_model_name": "ProgressStyleModel",
            "_view_count": null,
            "_view_module": "@jupyter-widgets/base",
            "_view_module_version": "1.2.0",
            "_view_name": "StyleView",
            "bar_color": null,
            "description_width": ""
          }
        },
        "790caa7a9f1342e3a4f1d6367308ab78": {
          "model_module": "@jupyter-widgets/base",
          "model_name": "LayoutModel",
          "model_module_version": "1.2.0",
          "state": {
            "_model_module": "@jupyter-widgets/base",
            "_model_module_version": "1.2.0",
            "_model_name": "LayoutModel",
            "_view_count": null,
            "_view_module": "@jupyter-widgets/base",
            "_view_module_version": "1.2.0",
            "_view_name": "LayoutView",
            "align_content": null,
            "align_items": null,
            "align_self": null,
            "border": null,
            "bottom": null,
            "display": null,
            "flex": null,
            "flex_flow": null,
            "grid_area": null,
            "grid_auto_columns": null,
            "grid_auto_flow": null,
            "grid_auto_rows": null,
            "grid_column": null,
            "grid_gap": null,
            "grid_row": null,
            "grid_template_areas": null,
            "grid_template_columns": null,
            "grid_template_rows": null,
            "height": null,
            "justify_content": null,
            "justify_items": null,
            "left": null,
            "margin": null,
            "max_height": null,
            "max_width": null,
            "min_height": null,
            "min_width": null,
            "object_fit": null,
            "object_position": null,
            "order": null,
            "overflow": null,
            "overflow_x": null,
            "overflow_y": null,
            "padding": null,
            "right": null,
            "top": null,
            "visibility": null,
            "width": null
          }
        },
        "d7618a9649a44e5fb2189ea552a8d076": {
          "model_module": "@jupyter-widgets/controls",
          "model_name": "DescriptionStyleModel",
          "model_module_version": "1.5.0",
          "state": {
            "_model_module": "@jupyter-widgets/controls",
            "_model_module_version": "1.5.0",
            "_model_name": "DescriptionStyleModel",
            "_view_count": null,
            "_view_module": "@jupyter-widgets/base",
            "_view_module_version": "1.2.0",
            "_view_name": "StyleView",
            "description_width": ""
          }
        },
        "acd1e036d4e74d5db2bfe9a5287f1562": {
          "model_module": "@jupyter-widgets/controls",
          "model_name": "HBoxModel",
          "model_module_version": "1.5.0",
          "state": {
            "_dom_classes": [],
            "_model_module": "@jupyter-widgets/controls",
            "_model_module_version": "1.5.0",
            "_model_name": "HBoxModel",
            "_view_count": null,
            "_view_module": "@jupyter-widgets/controls",
            "_view_module_version": "1.5.0",
            "_view_name": "HBoxView",
            "box_style": "",
            "children": [
              "IPY_MODEL_bbd18029b5404d0883760ac337b8b090",
              "IPY_MODEL_52f166ac5c344b36b5e800dc02f232f3",
              "IPY_MODEL_1078097e3bc54160b0bb9947dd3cf345"
            ],
            "layout": "IPY_MODEL_c472c4e429144fa5a41a568d4c7ff548"
          }
        },
        "bbd18029b5404d0883760ac337b8b090": {
          "model_module": "@jupyter-widgets/controls",
          "model_name": "HTMLModel",
          "model_module_version": "1.5.0",
          "state": {
            "_dom_classes": [],
            "_model_module": "@jupyter-widgets/controls",
            "_model_module_version": "1.5.0",
            "_model_name": "HTMLModel",
            "_view_count": null,
            "_view_module": "@jupyter-widgets/controls",
            "_view_module_version": "1.5.0",
            "_view_name": "HTMLView",
            "description": "",
            "description_tooltip": null,
            "layout": "IPY_MODEL_66e430104e56496db652b31ea40c1859",
            "placeholder": "​",
            "style": "IPY_MODEL_83c262dd87ee4b9aba973f04ed7fb768",
            "value": "100%"
          }
        },
        "52f166ac5c344b36b5e800dc02f232f3": {
          "model_module": "@jupyter-widgets/controls",
          "model_name": "FloatProgressModel",
          "model_module_version": "1.5.0",
          "state": {
            "_dom_classes": [],
            "_model_module": "@jupyter-widgets/controls",
            "_model_module_version": "1.5.0",
            "_model_name": "FloatProgressModel",
            "_view_count": null,
            "_view_module": "@jupyter-widgets/controls",
            "_view_module_version": "1.5.0",
            "_view_name": "ProgressView",
            "bar_style": "success",
            "description": "",
            "description_tooltip": null,
            "layout": "IPY_MODEL_415b2123b2964a22a5fb44a1c1b73f47",
            "max": 87,
            "min": 0,
            "orientation": "horizontal",
            "style": "IPY_MODEL_b15d2c4a93044dd3be93ca8d72e6dcaf",
            "value": 87
          }
        },
        "1078097e3bc54160b0bb9947dd3cf345": {
          "model_module": "@jupyter-widgets/controls",
          "model_name": "HTMLModel",
          "model_module_version": "1.5.0",
          "state": {
            "_dom_classes": [],
            "_model_module": "@jupyter-widgets/controls",
            "_model_module_version": "1.5.0",
            "_model_name": "HTMLModel",
            "_view_count": null,
            "_view_module": "@jupyter-widgets/controls",
            "_view_module_version": "1.5.0",
            "_view_name": "HTMLView",
            "description": "",
            "description_tooltip": null,
            "layout": "IPY_MODEL_2cc34164f5ab4b43a83ac2b2693c3d4f",
            "placeholder": "​",
            "style": "IPY_MODEL_6d9c48165c704bfcbb0ae1e5b9bf5518",
            "value": " 87/87 [00:31&lt;00:00,  2.54it/s]"
          }
        },
        "c472c4e429144fa5a41a568d4c7ff548": {
          "model_module": "@jupyter-widgets/base",
          "model_name": "LayoutModel",
          "model_module_version": "1.2.0",
          "state": {
            "_model_module": "@jupyter-widgets/base",
            "_model_module_version": "1.2.0",
            "_model_name": "LayoutModel",
            "_view_count": null,
            "_view_module": "@jupyter-widgets/base",
            "_view_module_version": "1.2.0",
            "_view_name": "LayoutView",
            "align_content": null,
            "align_items": null,
            "align_self": null,
            "border": null,
            "bottom": null,
            "display": null,
            "flex": null,
            "flex_flow": null,
            "grid_area": null,
            "grid_auto_columns": null,
            "grid_auto_flow": null,
            "grid_auto_rows": null,
            "grid_column": null,
            "grid_gap": null,
            "grid_row": null,
            "grid_template_areas": null,
            "grid_template_columns": null,
            "grid_template_rows": null,
            "height": null,
            "justify_content": null,
            "justify_items": null,
            "left": null,
            "margin": null,
            "max_height": null,
            "max_width": null,
            "min_height": null,
            "min_width": null,
            "object_fit": null,
            "object_position": null,
            "order": null,
            "overflow": null,
            "overflow_x": null,
            "overflow_y": null,
            "padding": null,
            "right": null,
            "top": null,
            "visibility": null,
            "width": null
          }
        },
        "66e430104e56496db652b31ea40c1859": {
          "model_module": "@jupyter-widgets/base",
          "model_name": "LayoutModel",
          "model_module_version": "1.2.0",
          "state": {
            "_model_module": "@jupyter-widgets/base",
            "_model_module_version": "1.2.0",
            "_model_name": "LayoutModel",
            "_view_count": null,
            "_view_module": "@jupyter-widgets/base",
            "_view_module_version": "1.2.0",
            "_view_name": "LayoutView",
            "align_content": null,
            "align_items": null,
            "align_self": null,
            "border": null,
            "bottom": null,
            "display": null,
            "flex": null,
            "flex_flow": null,
            "grid_area": null,
            "grid_auto_columns": null,
            "grid_auto_flow": null,
            "grid_auto_rows": null,
            "grid_column": null,
            "grid_gap": null,
            "grid_row": null,
            "grid_template_areas": null,
            "grid_template_columns": null,
            "grid_template_rows": null,
            "height": null,
            "justify_content": null,
            "justify_items": null,
            "left": null,
            "margin": null,
            "max_height": null,
            "max_width": null,
            "min_height": null,
            "min_width": null,
            "object_fit": null,
            "object_position": null,
            "order": null,
            "overflow": null,
            "overflow_x": null,
            "overflow_y": null,
            "padding": null,
            "right": null,
            "top": null,
            "visibility": null,
            "width": null
          }
        },
        "83c262dd87ee4b9aba973f04ed7fb768": {
          "model_module": "@jupyter-widgets/controls",
          "model_name": "DescriptionStyleModel",
          "model_module_version": "1.5.0",
          "state": {
            "_model_module": "@jupyter-widgets/controls",
            "_model_module_version": "1.5.0",
            "_model_name": "DescriptionStyleModel",
            "_view_count": null,
            "_view_module": "@jupyter-widgets/base",
            "_view_module_version": "1.2.0",
            "_view_name": "StyleView",
            "description_width": ""
          }
        },
        "415b2123b2964a22a5fb44a1c1b73f47": {
          "model_module": "@jupyter-widgets/base",
          "model_name": "LayoutModel",
          "model_module_version": "1.2.0",
          "state": {
            "_model_module": "@jupyter-widgets/base",
            "_model_module_version": "1.2.0",
            "_model_name": "LayoutModel",
            "_view_count": null,
            "_view_module": "@jupyter-widgets/base",
            "_view_module_version": "1.2.0",
            "_view_name": "LayoutView",
            "align_content": null,
            "align_items": null,
            "align_self": null,
            "border": null,
            "bottom": null,
            "display": null,
            "flex": null,
            "flex_flow": null,
            "grid_area": null,
            "grid_auto_columns": null,
            "grid_auto_flow": null,
            "grid_auto_rows": null,
            "grid_column": null,
            "grid_gap": null,
            "grid_row": null,
            "grid_template_areas": null,
            "grid_template_columns": null,
            "grid_template_rows": null,
            "height": null,
            "justify_content": null,
            "justify_items": null,
            "left": null,
            "margin": null,
            "max_height": null,
            "max_width": null,
            "min_height": null,
            "min_width": null,
            "object_fit": null,
            "object_position": null,
            "order": null,
            "overflow": null,
            "overflow_x": null,
            "overflow_y": null,
            "padding": null,
            "right": null,
            "top": null,
            "visibility": null,
            "width": null
          }
        },
        "b15d2c4a93044dd3be93ca8d72e6dcaf": {
          "model_module": "@jupyter-widgets/controls",
          "model_name": "ProgressStyleModel",
          "model_module_version": "1.5.0",
          "state": {
            "_model_module": "@jupyter-widgets/controls",
            "_model_module_version": "1.5.0",
            "_model_name": "ProgressStyleModel",
            "_view_count": null,
            "_view_module": "@jupyter-widgets/base",
            "_view_module_version": "1.2.0",
            "_view_name": "StyleView",
            "bar_color": null,
            "description_width": ""
          }
        },
        "2cc34164f5ab4b43a83ac2b2693c3d4f": {
          "model_module": "@jupyter-widgets/base",
          "model_name": "LayoutModel",
          "model_module_version": "1.2.0",
          "state": {
            "_model_module": "@jupyter-widgets/base",
            "_model_module_version": "1.2.0",
            "_model_name": "LayoutModel",
            "_view_count": null,
            "_view_module": "@jupyter-widgets/base",
            "_view_module_version": "1.2.0",
            "_view_name": "LayoutView",
            "align_content": null,
            "align_items": null,
            "align_self": null,
            "border": null,
            "bottom": null,
            "display": null,
            "flex": null,
            "flex_flow": null,
            "grid_area": null,
            "grid_auto_columns": null,
            "grid_auto_flow": null,
            "grid_auto_rows": null,
            "grid_column": null,
            "grid_gap": null,
            "grid_row": null,
            "grid_template_areas": null,
            "grid_template_columns": null,
            "grid_template_rows": null,
            "height": null,
            "justify_content": null,
            "justify_items": null,
            "left": null,
            "margin": null,
            "max_height": null,
            "max_width": null,
            "min_height": null,
            "min_width": null,
            "object_fit": null,
            "object_position": null,
            "order": null,
            "overflow": null,
            "overflow_x": null,
            "overflow_y": null,
            "padding": null,
            "right": null,
            "top": null,
            "visibility": null,
            "width": null
          }
        },
        "6d9c48165c704bfcbb0ae1e5b9bf5518": {
          "model_module": "@jupyter-widgets/controls",
          "model_name": "DescriptionStyleModel",
          "model_module_version": "1.5.0",
          "state": {
            "_model_module": "@jupyter-widgets/controls",
            "_model_module_version": "1.5.0",
            "_model_name": "DescriptionStyleModel",
            "_view_count": null,
            "_view_module": "@jupyter-widgets/base",
            "_view_module_version": "1.2.0",
            "_view_name": "StyleView",
            "description_width": ""
          }
        },
        "40483b9b5ea74627ab38f219b9a379f6": {
          "model_module": "@jupyter-widgets/controls",
          "model_name": "HBoxModel",
          "model_module_version": "1.5.0",
          "state": {
            "_dom_classes": [],
            "_model_module": "@jupyter-widgets/controls",
            "_model_module_version": "1.5.0",
            "_model_name": "HBoxModel",
            "_view_count": null,
            "_view_module": "@jupyter-widgets/controls",
            "_view_module_version": "1.5.0",
            "_view_name": "HBoxView",
            "box_style": "",
            "children": [
              "IPY_MODEL_8ee1888724a1466dab840036ddd17297",
              "IPY_MODEL_c4a9df882dfd4b7087d10aa3a5115007",
              "IPY_MODEL_9f200de9d8944d088d14c2f64dea8bd0"
            ],
            "layout": "IPY_MODEL_1a8b6978ea314d2fb240005ede8cb503"
          }
        },
        "8ee1888724a1466dab840036ddd17297": {
          "model_module": "@jupyter-widgets/controls",
          "model_name": "HTMLModel",
          "model_module_version": "1.5.0",
          "state": {
            "_dom_classes": [],
            "_model_module": "@jupyter-widgets/controls",
            "_model_module_version": "1.5.0",
            "_model_name": "HTMLModel",
            "_view_count": null,
            "_view_module": "@jupyter-widgets/controls",
            "_view_module_version": "1.5.0",
            "_view_name": "HTMLView",
            "description": "",
            "description_tooltip": null,
            "layout": "IPY_MODEL_a149e64dda6048ee93d6218bc6eb4db5",
            "placeholder": "​",
            "style": "IPY_MODEL_329e18c3b3cb42dbb3283b645557d656",
            "value": "100%"
          }
        },
        "c4a9df882dfd4b7087d10aa3a5115007": {
          "model_module": "@jupyter-widgets/controls",
          "model_name": "FloatProgressModel",
          "model_module_version": "1.5.0",
          "state": {
            "_dom_classes": [],
            "_model_module": "@jupyter-widgets/controls",
            "_model_module_version": "1.5.0",
            "_model_name": "FloatProgressModel",
            "_view_count": null,
            "_view_module": "@jupyter-widgets/controls",
            "_view_module_version": "1.5.0",
            "_view_name": "ProgressView",
            "bar_style": "success",
            "description": "",
            "description_tooltip": null,
            "layout": "IPY_MODEL_bd75f3a7657c44fb8ff6711b6b02729b",
            "max": 87,
            "min": 0,
            "orientation": "horizontal",
            "style": "IPY_MODEL_317f8e5ec50b4a90874f3670afb8fc6c",
            "value": 87
          }
        },
        "9f200de9d8944d088d14c2f64dea8bd0": {
          "model_module": "@jupyter-widgets/controls",
          "model_name": "HTMLModel",
          "model_module_version": "1.5.0",
          "state": {
            "_dom_classes": [],
            "_model_module": "@jupyter-widgets/controls",
            "_model_module_version": "1.5.0",
            "_model_name": "HTMLModel",
            "_view_count": null,
            "_view_module": "@jupyter-widgets/controls",
            "_view_module_version": "1.5.0",
            "_view_name": "HTMLView",
            "description": "",
            "description_tooltip": null,
            "layout": "IPY_MODEL_ace91344be8f49c0b910d74213548fb3",
            "placeholder": "​",
            "style": "IPY_MODEL_8b76d83d4601409083766cca24fa2fc4",
            "value": " 87/87 [00:31&lt;00:00,  3.02it/s]"
          }
        },
        "1a8b6978ea314d2fb240005ede8cb503": {
          "model_module": "@jupyter-widgets/base",
          "model_name": "LayoutModel",
          "model_module_version": "1.2.0",
          "state": {
            "_model_module": "@jupyter-widgets/base",
            "_model_module_version": "1.2.0",
            "_model_name": "LayoutModel",
            "_view_count": null,
            "_view_module": "@jupyter-widgets/base",
            "_view_module_version": "1.2.0",
            "_view_name": "LayoutView",
            "align_content": null,
            "align_items": null,
            "align_self": null,
            "border": null,
            "bottom": null,
            "display": null,
            "flex": null,
            "flex_flow": null,
            "grid_area": null,
            "grid_auto_columns": null,
            "grid_auto_flow": null,
            "grid_auto_rows": null,
            "grid_column": null,
            "grid_gap": null,
            "grid_row": null,
            "grid_template_areas": null,
            "grid_template_columns": null,
            "grid_template_rows": null,
            "height": null,
            "justify_content": null,
            "justify_items": null,
            "left": null,
            "margin": null,
            "max_height": null,
            "max_width": null,
            "min_height": null,
            "min_width": null,
            "object_fit": null,
            "object_position": null,
            "order": null,
            "overflow": null,
            "overflow_x": null,
            "overflow_y": null,
            "padding": null,
            "right": null,
            "top": null,
            "visibility": null,
            "width": null
          }
        },
        "a149e64dda6048ee93d6218bc6eb4db5": {
          "model_module": "@jupyter-widgets/base",
          "model_name": "LayoutModel",
          "model_module_version": "1.2.0",
          "state": {
            "_model_module": "@jupyter-widgets/base",
            "_model_module_version": "1.2.0",
            "_model_name": "LayoutModel",
            "_view_count": null,
            "_view_module": "@jupyter-widgets/base",
            "_view_module_version": "1.2.0",
            "_view_name": "LayoutView",
            "align_content": null,
            "align_items": null,
            "align_self": null,
            "border": null,
            "bottom": null,
            "display": null,
            "flex": null,
            "flex_flow": null,
            "grid_area": null,
            "grid_auto_columns": null,
            "grid_auto_flow": null,
            "grid_auto_rows": null,
            "grid_column": null,
            "grid_gap": null,
            "grid_row": null,
            "grid_template_areas": null,
            "grid_template_columns": null,
            "grid_template_rows": null,
            "height": null,
            "justify_content": null,
            "justify_items": null,
            "left": null,
            "margin": null,
            "max_height": null,
            "max_width": null,
            "min_height": null,
            "min_width": null,
            "object_fit": null,
            "object_position": null,
            "order": null,
            "overflow": null,
            "overflow_x": null,
            "overflow_y": null,
            "padding": null,
            "right": null,
            "top": null,
            "visibility": null,
            "width": null
          }
        },
        "329e18c3b3cb42dbb3283b645557d656": {
          "model_module": "@jupyter-widgets/controls",
          "model_name": "DescriptionStyleModel",
          "model_module_version": "1.5.0",
          "state": {
            "_model_module": "@jupyter-widgets/controls",
            "_model_module_version": "1.5.0",
            "_model_name": "DescriptionStyleModel",
            "_view_count": null,
            "_view_module": "@jupyter-widgets/base",
            "_view_module_version": "1.2.0",
            "_view_name": "StyleView",
            "description_width": ""
          }
        },
        "bd75f3a7657c44fb8ff6711b6b02729b": {
          "model_module": "@jupyter-widgets/base",
          "model_name": "LayoutModel",
          "model_module_version": "1.2.0",
          "state": {
            "_model_module": "@jupyter-widgets/base",
            "_model_module_version": "1.2.0",
            "_model_name": "LayoutModel",
            "_view_count": null,
            "_view_module": "@jupyter-widgets/base",
            "_view_module_version": "1.2.0",
            "_view_name": "LayoutView",
            "align_content": null,
            "align_items": null,
            "align_self": null,
            "border": null,
            "bottom": null,
            "display": null,
            "flex": null,
            "flex_flow": null,
            "grid_area": null,
            "grid_auto_columns": null,
            "grid_auto_flow": null,
            "grid_auto_rows": null,
            "grid_column": null,
            "grid_gap": null,
            "grid_row": null,
            "grid_template_areas": null,
            "grid_template_columns": null,
            "grid_template_rows": null,
            "height": null,
            "justify_content": null,
            "justify_items": null,
            "left": null,
            "margin": null,
            "max_height": null,
            "max_width": null,
            "min_height": null,
            "min_width": null,
            "object_fit": null,
            "object_position": null,
            "order": null,
            "overflow": null,
            "overflow_x": null,
            "overflow_y": null,
            "padding": null,
            "right": null,
            "top": null,
            "visibility": null,
            "width": null
          }
        },
        "317f8e5ec50b4a90874f3670afb8fc6c": {
          "model_module": "@jupyter-widgets/controls",
          "model_name": "ProgressStyleModel",
          "model_module_version": "1.5.0",
          "state": {
            "_model_module": "@jupyter-widgets/controls",
            "_model_module_version": "1.5.0",
            "_model_name": "ProgressStyleModel",
            "_view_count": null,
            "_view_module": "@jupyter-widgets/base",
            "_view_module_version": "1.2.0",
            "_view_name": "StyleView",
            "bar_color": null,
            "description_width": ""
          }
        },
        "ace91344be8f49c0b910d74213548fb3": {
          "model_module": "@jupyter-widgets/base",
          "model_name": "LayoutModel",
          "model_module_version": "1.2.0",
          "state": {
            "_model_module": "@jupyter-widgets/base",
            "_model_module_version": "1.2.0",
            "_model_name": "LayoutModel",
            "_view_count": null,
            "_view_module": "@jupyter-widgets/base",
            "_view_module_version": "1.2.0",
            "_view_name": "LayoutView",
            "align_content": null,
            "align_items": null,
            "align_self": null,
            "border": null,
            "bottom": null,
            "display": null,
            "flex": null,
            "flex_flow": null,
            "grid_area": null,
            "grid_auto_columns": null,
            "grid_auto_flow": null,
            "grid_auto_rows": null,
            "grid_column": null,
            "grid_gap": null,
            "grid_row": null,
            "grid_template_areas": null,
            "grid_template_columns": null,
            "grid_template_rows": null,
            "height": null,
            "justify_content": null,
            "justify_items": null,
            "left": null,
            "margin": null,
            "max_height": null,
            "max_width": null,
            "min_height": null,
            "min_width": null,
            "object_fit": null,
            "object_position": null,
            "order": null,
            "overflow": null,
            "overflow_x": null,
            "overflow_y": null,
            "padding": null,
            "right": null,
            "top": null,
            "visibility": null,
            "width": null
          }
        },
        "8b76d83d4601409083766cca24fa2fc4": {
          "model_module": "@jupyter-widgets/controls",
          "model_name": "DescriptionStyleModel",
          "model_module_version": "1.5.0",
          "state": {
            "_model_module": "@jupyter-widgets/controls",
            "_model_module_version": "1.5.0",
            "_model_name": "DescriptionStyleModel",
            "_view_count": null,
            "_view_module": "@jupyter-widgets/base",
            "_view_module_version": "1.2.0",
            "_view_name": "StyleView",
            "description_width": ""
          }
        },
        "013aa242a946466b8085bcc885de6023": {
          "model_module": "@jupyter-widgets/controls",
          "model_name": "HBoxModel",
          "model_module_version": "1.5.0",
          "state": {
            "_dom_classes": [],
            "_model_module": "@jupyter-widgets/controls",
            "_model_module_version": "1.5.0",
            "_model_name": "HBoxModel",
            "_view_count": null,
            "_view_module": "@jupyter-widgets/controls",
            "_view_module_version": "1.5.0",
            "_view_name": "HBoxView",
            "box_style": "",
            "children": [
              "IPY_MODEL_93e5fe87c0d44abaa20e87d86ab3b578",
              "IPY_MODEL_7a3f6ad16e0443468d3538b44d6df81b",
              "IPY_MODEL_3406d469b8b943ca88f9512ec38c5475"
            ],
            "layout": "IPY_MODEL_7ba10d805af14466bd055fa1323453d2"
          }
        },
        "93e5fe87c0d44abaa20e87d86ab3b578": {
          "model_module": "@jupyter-widgets/controls",
          "model_name": "HTMLModel",
          "model_module_version": "1.5.0",
          "state": {
            "_dom_classes": [],
            "_model_module": "@jupyter-widgets/controls",
            "_model_module_version": "1.5.0",
            "_model_name": "HTMLModel",
            "_view_count": null,
            "_view_module": "@jupyter-widgets/controls",
            "_view_module_version": "1.5.0",
            "_view_name": "HTMLView",
            "description": "",
            "description_tooltip": null,
            "layout": "IPY_MODEL_2ba9b6a4e1a84eeda16ece7f34952ec7",
            "placeholder": "​",
            "style": "IPY_MODEL_eb23a97ede6d43d1984b2d9437ff1ead",
            "value": "100%"
          }
        },
        "7a3f6ad16e0443468d3538b44d6df81b": {
          "model_module": "@jupyter-widgets/controls",
          "model_name": "FloatProgressModel",
          "model_module_version": "1.5.0",
          "state": {
            "_dom_classes": [],
            "_model_module": "@jupyter-widgets/controls",
            "_model_module_version": "1.5.0",
            "_model_name": "FloatProgressModel",
            "_view_count": null,
            "_view_module": "@jupyter-widgets/controls",
            "_view_module_version": "1.5.0",
            "_view_name": "ProgressView",
            "bar_style": "success",
            "description": "",
            "description_tooltip": null,
            "layout": "IPY_MODEL_7692a1d41d734928a345baf2dde28bf8",
            "max": 87,
            "min": 0,
            "orientation": "horizontal",
            "style": "IPY_MODEL_dca07d5275034967a3ed935f87b74de0",
            "value": 87
          }
        },
        "3406d469b8b943ca88f9512ec38c5475": {
          "model_module": "@jupyter-widgets/controls",
          "model_name": "HTMLModel",
          "model_module_version": "1.5.0",
          "state": {
            "_dom_classes": [],
            "_model_module": "@jupyter-widgets/controls",
            "_model_module_version": "1.5.0",
            "_model_name": "HTMLModel",
            "_view_count": null,
            "_view_module": "@jupyter-widgets/controls",
            "_view_module_version": "1.5.0",
            "_view_name": "HTMLView",
            "description": "",
            "description_tooltip": null,
            "layout": "IPY_MODEL_81c360e84f2b47208c4d2cc9a1da333e",
            "placeholder": "​",
            "style": "IPY_MODEL_09156029030b4ad18379da0274c76295",
            "value": " 87/87 [00:31&lt;00:00,  2.59it/s]"
          }
        },
        "7ba10d805af14466bd055fa1323453d2": {
          "model_module": "@jupyter-widgets/base",
          "model_name": "LayoutModel",
          "model_module_version": "1.2.0",
          "state": {
            "_model_module": "@jupyter-widgets/base",
            "_model_module_version": "1.2.0",
            "_model_name": "LayoutModel",
            "_view_count": null,
            "_view_module": "@jupyter-widgets/base",
            "_view_module_version": "1.2.0",
            "_view_name": "LayoutView",
            "align_content": null,
            "align_items": null,
            "align_self": null,
            "border": null,
            "bottom": null,
            "display": null,
            "flex": null,
            "flex_flow": null,
            "grid_area": null,
            "grid_auto_columns": null,
            "grid_auto_flow": null,
            "grid_auto_rows": null,
            "grid_column": null,
            "grid_gap": null,
            "grid_row": null,
            "grid_template_areas": null,
            "grid_template_columns": null,
            "grid_template_rows": null,
            "height": null,
            "justify_content": null,
            "justify_items": null,
            "left": null,
            "margin": null,
            "max_height": null,
            "max_width": null,
            "min_height": null,
            "min_width": null,
            "object_fit": null,
            "object_position": null,
            "order": null,
            "overflow": null,
            "overflow_x": null,
            "overflow_y": null,
            "padding": null,
            "right": null,
            "top": null,
            "visibility": null,
            "width": null
          }
        },
        "2ba9b6a4e1a84eeda16ece7f34952ec7": {
          "model_module": "@jupyter-widgets/base",
          "model_name": "LayoutModel",
          "model_module_version": "1.2.0",
          "state": {
            "_model_module": "@jupyter-widgets/base",
            "_model_module_version": "1.2.0",
            "_model_name": "LayoutModel",
            "_view_count": null,
            "_view_module": "@jupyter-widgets/base",
            "_view_module_version": "1.2.0",
            "_view_name": "LayoutView",
            "align_content": null,
            "align_items": null,
            "align_self": null,
            "border": null,
            "bottom": null,
            "display": null,
            "flex": null,
            "flex_flow": null,
            "grid_area": null,
            "grid_auto_columns": null,
            "grid_auto_flow": null,
            "grid_auto_rows": null,
            "grid_column": null,
            "grid_gap": null,
            "grid_row": null,
            "grid_template_areas": null,
            "grid_template_columns": null,
            "grid_template_rows": null,
            "height": null,
            "justify_content": null,
            "justify_items": null,
            "left": null,
            "margin": null,
            "max_height": null,
            "max_width": null,
            "min_height": null,
            "min_width": null,
            "object_fit": null,
            "object_position": null,
            "order": null,
            "overflow": null,
            "overflow_x": null,
            "overflow_y": null,
            "padding": null,
            "right": null,
            "top": null,
            "visibility": null,
            "width": null
          }
        },
        "eb23a97ede6d43d1984b2d9437ff1ead": {
          "model_module": "@jupyter-widgets/controls",
          "model_name": "DescriptionStyleModel",
          "model_module_version": "1.5.0",
          "state": {
            "_model_module": "@jupyter-widgets/controls",
            "_model_module_version": "1.5.0",
            "_model_name": "DescriptionStyleModel",
            "_view_count": null,
            "_view_module": "@jupyter-widgets/base",
            "_view_module_version": "1.2.0",
            "_view_name": "StyleView",
            "description_width": ""
          }
        },
        "7692a1d41d734928a345baf2dde28bf8": {
          "model_module": "@jupyter-widgets/base",
          "model_name": "LayoutModel",
          "model_module_version": "1.2.0",
          "state": {
            "_model_module": "@jupyter-widgets/base",
            "_model_module_version": "1.2.0",
            "_model_name": "LayoutModel",
            "_view_count": null,
            "_view_module": "@jupyter-widgets/base",
            "_view_module_version": "1.2.0",
            "_view_name": "LayoutView",
            "align_content": null,
            "align_items": null,
            "align_self": null,
            "border": null,
            "bottom": null,
            "display": null,
            "flex": null,
            "flex_flow": null,
            "grid_area": null,
            "grid_auto_columns": null,
            "grid_auto_flow": null,
            "grid_auto_rows": null,
            "grid_column": null,
            "grid_gap": null,
            "grid_row": null,
            "grid_template_areas": null,
            "grid_template_columns": null,
            "grid_template_rows": null,
            "height": null,
            "justify_content": null,
            "justify_items": null,
            "left": null,
            "margin": null,
            "max_height": null,
            "max_width": null,
            "min_height": null,
            "min_width": null,
            "object_fit": null,
            "object_position": null,
            "order": null,
            "overflow": null,
            "overflow_x": null,
            "overflow_y": null,
            "padding": null,
            "right": null,
            "top": null,
            "visibility": null,
            "width": null
          }
        },
        "dca07d5275034967a3ed935f87b74de0": {
          "model_module": "@jupyter-widgets/controls",
          "model_name": "ProgressStyleModel",
          "model_module_version": "1.5.0",
          "state": {
            "_model_module": "@jupyter-widgets/controls",
            "_model_module_version": "1.5.0",
            "_model_name": "ProgressStyleModel",
            "_view_count": null,
            "_view_module": "@jupyter-widgets/base",
            "_view_module_version": "1.2.0",
            "_view_name": "StyleView",
            "bar_color": null,
            "description_width": ""
          }
        },
        "81c360e84f2b47208c4d2cc9a1da333e": {
          "model_module": "@jupyter-widgets/base",
          "model_name": "LayoutModel",
          "model_module_version": "1.2.0",
          "state": {
            "_model_module": "@jupyter-widgets/base",
            "_model_module_version": "1.2.0",
            "_model_name": "LayoutModel",
            "_view_count": null,
            "_view_module": "@jupyter-widgets/base",
            "_view_module_version": "1.2.0",
            "_view_name": "LayoutView",
            "align_content": null,
            "align_items": null,
            "align_self": null,
            "border": null,
            "bottom": null,
            "display": null,
            "flex": null,
            "flex_flow": null,
            "grid_area": null,
            "grid_auto_columns": null,
            "grid_auto_flow": null,
            "grid_auto_rows": null,
            "grid_column": null,
            "grid_gap": null,
            "grid_row": null,
            "grid_template_areas": null,
            "grid_template_columns": null,
            "grid_template_rows": null,
            "height": null,
            "justify_content": null,
            "justify_items": null,
            "left": null,
            "margin": null,
            "max_height": null,
            "max_width": null,
            "min_height": null,
            "min_width": null,
            "object_fit": null,
            "object_position": null,
            "order": null,
            "overflow": null,
            "overflow_x": null,
            "overflow_y": null,
            "padding": null,
            "right": null,
            "top": null,
            "visibility": null,
            "width": null
          }
        },
        "09156029030b4ad18379da0274c76295": {
          "model_module": "@jupyter-widgets/controls",
          "model_name": "DescriptionStyleModel",
          "model_module_version": "1.5.0",
          "state": {
            "_model_module": "@jupyter-widgets/controls",
            "_model_module_version": "1.5.0",
            "_model_name": "DescriptionStyleModel",
            "_view_count": null,
            "_view_module": "@jupyter-widgets/base",
            "_view_module_version": "1.2.0",
            "_view_name": "StyleView",
            "description_width": ""
          }
        },
        "c2664114f9264229a92722fd1269f726": {
          "model_module": "@jupyter-widgets/controls",
          "model_name": "HBoxModel",
          "model_module_version": "1.5.0",
          "state": {
            "_dom_classes": [],
            "_model_module": "@jupyter-widgets/controls",
            "_model_module_version": "1.5.0",
            "_model_name": "HBoxModel",
            "_view_count": null,
            "_view_module": "@jupyter-widgets/controls",
            "_view_module_version": "1.5.0",
            "_view_name": "HBoxView",
            "box_style": "",
            "children": [
              "IPY_MODEL_239a5a56ff034a4aa1436aa19978b9d9",
              "IPY_MODEL_548dfb4e00f142f295462ad83451d914",
              "IPY_MODEL_ec100f5cca814d1cbdba37493618fd9d"
            ],
            "layout": "IPY_MODEL_26255b84967e4520809a7f93ce186f74"
          }
        },
        "239a5a56ff034a4aa1436aa19978b9d9": {
          "model_module": "@jupyter-widgets/controls",
          "model_name": "HTMLModel",
          "model_module_version": "1.5.0",
          "state": {
            "_dom_classes": [],
            "_model_module": "@jupyter-widgets/controls",
            "_model_module_version": "1.5.0",
            "_model_name": "HTMLModel",
            "_view_count": null,
            "_view_module": "@jupyter-widgets/controls",
            "_view_module_version": "1.5.0",
            "_view_name": "HTMLView",
            "description": "",
            "description_tooltip": null,
            "layout": "IPY_MODEL_8320da65e108494eb0ecf5a8e6e0317d",
            "placeholder": "​",
            "style": "IPY_MODEL_dc1294d194ec42c99949aaaf883c407c",
            "value": "100%"
          }
        },
        "548dfb4e00f142f295462ad83451d914": {
          "model_module": "@jupyter-widgets/controls",
          "model_name": "FloatProgressModel",
          "model_module_version": "1.5.0",
          "state": {
            "_dom_classes": [],
            "_model_module": "@jupyter-widgets/controls",
            "_model_module_version": "1.5.0",
            "_model_name": "FloatProgressModel",
            "_view_count": null,
            "_view_module": "@jupyter-widgets/controls",
            "_view_module_version": "1.5.0",
            "_view_name": "ProgressView",
            "bar_style": "success",
            "description": "",
            "description_tooltip": null,
            "layout": "IPY_MODEL_3fb2ef49900b44e3af4ab47d06e9f123",
            "max": 100,
            "min": 0,
            "orientation": "horizontal",
            "style": "IPY_MODEL_bf69ef2e7c944c6b8921093a84198844",
            "value": 100
          }
        },
        "ec100f5cca814d1cbdba37493618fd9d": {
          "model_module": "@jupyter-widgets/controls",
          "model_name": "HTMLModel",
          "model_module_version": "1.5.0",
          "state": {
            "_dom_classes": [],
            "_model_module": "@jupyter-widgets/controls",
            "_model_module_version": "1.5.0",
            "_model_name": "HTMLModel",
            "_view_count": null,
            "_view_module": "@jupyter-widgets/controls",
            "_view_module_version": "1.5.0",
            "_view_name": "HTMLView",
            "description": "",
            "description_tooltip": null,
            "layout": "IPY_MODEL_63caaa2c91f14f7783f3f7e5a5a0bdb7",
            "placeholder": "​",
            "style": "IPY_MODEL_c79f8e9c53cc4ce5a236e4960fd0e22b",
            "value": " 100/100 [00:47&lt;00:00,  1.86it/s]"
          }
        },
        "26255b84967e4520809a7f93ce186f74": {
          "model_module": "@jupyter-widgets/base",
          "model_name": "LayoutModel",
          "model_module_version": "1.2.0",
          "state": {
            "_model_module": "@jupyter-widgets/base",
            "_model_module_version": "1.2.0",
            "_model_name": "LayoutModel",
            "_view_count": null,
            "_view_module": "@jupyter-widgets/base",
            "_view_module_version": "1.2.0",
            "_view_name": "LayoutView",
            "align_content": null,
            "align_items": null,
            "align_self": null,
            "border": null,
            "bottom": null,
            "display": null,
            "flex": null,
            "flex_flow": null,
            "grid_area": null,
            "grid_auto_columns": null,
            "grid_auto_flow": null,
            "grid_auto_rows": null,
            "grid_column": null,
            "grid_gap": null,
            "grid_row": null,
            "grid_template_areas": null,
            "grid_template_columns": null,
            "grid_template_rows": null,
            "height": null,
            "justify_content": null,
            "justify_items": null,
            "left": null,
            "margin": null,
            "max_height": null,
            "max_width": null,
            "min_height": null,
            "min_width": null,
            "object_fit": null,
            "object_position": null,
            "order": null,
            "overflow": null,
            "overflow_x": null,
            "overflow_y": null,
            "padding": null,
            "right": null,
            "top": null,
            "visibility": null,
            "width": null
          }
        },
        "8320da65e108494eb0ecf5a8e6e0317d": {
          "model_module": "@jupyter-widgets/base",
          "model_name": "LayoutModel",
          "model_module_version": "1.2.0",
          "state": {
            "_model_module": "@jupyter-widgets/base",
            "_model_module_version": "1.2.0",
            "_model_name": "LayoutModel",
            "_view_count": null,
            "_view_module": "@jupyter-widgets/base",
            "_view_module_version": "1.2.0",
            "_view_name": "LayoutView",
            "align_content": null,
            "align_items": null,
            "align_self": null,
            "border": null,
            "bottom": null,
            "display": null,
            "flex": null,
            "flex_flow": null,
            "grid_area": null,
            "grid_auto_columns": null,
            "grid_auto_flow": null,
            "grid_auto_rows": null,
            "grid_column": null,
            "grid_gap": null,
            "grid_row": null,
            "grid_template_areas": null,
            "grid_template_columns": null,
            "grid_template_rows": null,
            "height": null,
            "justify_content": null,
            "justify_items": null,
            "left": null,
            "margin": null,
            "max_height": null,
            "max_width": null,
            "min_height": null,
            "min_width": null,
            "object_fit": null,
            "object_position": null,
            "order": null,
            "overflow": null,
            "overflow_x": null,
            "overflow_y": null,
            "padding": null,
            "right": null,
            "top": null,
            "visibility": null,
            "width": null
          }
        },
        "dc1294d194ec42c99949aaaf883c407c": {
          "model_module": "@jupyter-widgets/controls",
          "model_name": "DescriptionStyleModel",
          "model_module_version": "1.5.0",
          "state": {
            "_model_module": "@jupyter-widgets/controls",
            "_model_module_version": "1.5.0",
            "_model_name": "DescriptionStyleModel",
            "_view_count": null,
            "_view_module": "@jupyter-widgets/base",
            "_view_module_version": "1.2.0",
            "_view_name": "StyleView",
            "description_width": ""
          }
        },
        "3fb2ef49900b44e3af4ab47d06e9f123": {
          "model_module": "@jupyter-widgets/base",
          "model_name": "LayoutModel",
          "model_module_version": "1.2.0",
          "state": {
            "_model_module": "@jupyter-widgets/base",
            "_model_module_version": "1.2.0",
            "_model_name": "LayoutModel",
            "_view_count": null,
            "_view_module": "@jupyter-widgets/base",
            "_view_module_version": "1.2.0",
            "_view_name": "LayoutView",
            "align_content": null,
            "align_items": null,
            "align_self": null,
            "border": null,
            "bottom": null,
            "display": null,
            "flex": null,
            "flex_flow": null,
            "grid_area": null,
            "grid_auto_columns": null,
            "grid_auto_flow": null,
            "grid_auto_rows": null,
            "grid_column": null,
            "grid_gap": null,
            "grid_row": null,
            "grid_template_areas": null,
            "grid_template_columns": null,
            "grid_template_rows": null,
            "height": null,
            "justify_content": null,
            "justify_items": null,
            "left": null,
            "margin": null,
            "max_height": null,
            "max_width": null,
            "min_height": null,
            "min_width": null,
            "object_fit": null,
            "object_position": null,
            "order": null,
            "overflow": null,
            "overflow_x": null,
            "overflow_y": null,
            "padding": null,
            "right": null,
            "top": null,
            "visibility": null,
            "width": null
          }
        },
        "bf69ef2e7c944c6b8921093a84198844": {
          "model_module": "@jupyter-widgets/controls",
          "model_name": "ProgressStyleModel",
          "model_module_version": "1.5.0",
          "state": {
            "_model_module": "@jupyter-widgets/controls",
            "_model_module_version": "1.5.0",
            "_model_name": "ProgressStyleModel",
            "_view_count": null,
            "_view_module": "@jupyter-widgets/base",
            "_view_module_version": "1.2.0",
            "_view_name": "StyleView",
            "bar_color": null,
            "description_width": ""
          }
        },
        "63caaa2c91f14f7783f3f7e5a5a0bdb7": {
          "model_module": "@jupyter-widgets/base",
          "model_name": "LayoutModel",
          "model_module_version": "1.2.0",
          "state": {
            "_model_module": "@jupyter-widgets/base",
            "_model_module_version": "1.2.0",
            "_model_name": "LayoutModel",
            "_view_count": null,
            "_view_module": "@jupyter-widgets/base",
            "_view_module_version": "1.2.0",
            "_view_name": "LayoutView",
            "align_content": null,
            "align_items": null,
            "align_self": null,
            "border": null,
            "bottom": null,
            "display": null,
            "flex": null,
            "flex_flow": null,
            "grid_area": null,
            "grid_auto_columns": null,
            "grid_auto_flow": null,
            "grid_auto_rows": null,
            "grid_column": null,
            "grid_gap": null,
            "grid_row": null,
            "grid_template_areas": null,
            "grid_template_columns": null,
            "grid_template_rows": null,
            "height": null,
            "justify_content": null,
            "justify_items": null,
            "left": null,
            "margin": null,
            "max_height": null,
            "max_width": null,
            "min_height": null,
            "min_width": null,
            "object_fit": null,
            "object_position": null,
            "order": null,
            "overflow": null,
            "overflow_x": null,
            "overflow_y": null,
            "padding": null,
            "right": null,
            "top": null,
            "visibility": null,
            "width": null
          }
        },
        "c79f8e9c53cc4ce5a236e4960fd0e22b": {
          "model_module": "@jupyter-widgets/controls",
          "model_name": "DescriptionStyleModel",
          "model_module_version": "1.5.0",
          "state": {
            "_model_module": "@jupyter-widgets/controls",
            "_model_module_version": "1.5.0",
            "_model_name": "DescriptionStyleModel",
            "_view_count": null,
            "_view_module": "@jupyter-widgets/base",
            "_view_module_version": "1.2.0",
            "_view_name": "StyleView",
            "description_width": ""
          }
        }
      }
    },
    "accelerator": "GPU"
  },
  "nbformat": 4,
  "nbformat_minor": 0
}